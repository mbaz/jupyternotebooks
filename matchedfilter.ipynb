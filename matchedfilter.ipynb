{
 "cells": [
  {
   "cell_type": "markdown",
   "metadata": {},
   "source": [
    "### An illustration of the matched filter's ability to detect pulses embedded in noise."
   ]
  },
  {
   "cell_type": "code",
   "execution_count": 1,
   "metadata": {},
   "outputs": [
    {
     "data": {
      "text/html": [
       "<script>\n",
       "// Immediately-invoked-function-expression to avoid global variables.\n",
       "(function() {\n",
       "    var warning_div = document.getElementById(\"webio-warning-8091353372289714856\");\n",
       "    var hide = function () {\n",
       "        var script = document.getElementById(\"webio-setup-9418636871025229777\");\n",
       "        var parent = script && script.parentElement;\n",
       "        var grandparent = parent && parent.parentElement;\n",
       "        if (grandparent) {\n",
       "            grandparent.style.display = \"none\";\n",
       "        }\n",
       "        warning_div.style.display = \"none\";\n",
       "    };\n",
       "    if (typeof Jupyter !== \"undefined\") {\n",
       "        console.log(\"WebIO detected Jupyter notebook environment.\");\n",
       "        // Jupyter notebook.\n",
       "        var extensions = (\n",
       "            Jupyter\n",
       "            && Jupyter.notebook.config.data\n",
       "            && Jupyter.notebook.config.data.load_extensions\n",
       "        );\n",
       "        if (extensions && extensions[\"webio-jupyter-notebook\"]) {\n",
       "            // Extension already loaded.\n",
       "            console.log(\"Jupyter WebIO nbextension detected; not loading ad-hoc.\");\n",
       "            hide();\n",
       "            return;\n",
       "        }\n",
       "    } else if (window.location.pathname.includes(\"/lab\")) {\n",
       "        // Guessing JupyterLa\n",
       "        console.log(\"Jupyter Lab detected; make sure the @webio/jupyter-lab-provider labextension is installed.\");\n",
       "        hide();\n",
       "        return;\n",
       "    }\n",
       "})();\n",
       "\n",
       "</script>\n",
       "<p\n",
       "    id=\"webio-warning-8091353372289714856\"\n",
       "    class=\"output_text output_stderr\"\n",
       "    style=\"padding: 1em; font-weight: bold;\"\n",
       ">\n",
       "    Unable to load WebIO. Please make sure WebIO works for your Jupyter client.\n",
       "    For troubleshooting, please see <a href=\"https://juliagizmos.github.io/WebIO.jl/latest/providers/ijulia/\">\n",
       "    the WebIO/IJulia documentation</a>.\n",
       "    <!-- TODO: link to installation docs. -->\n",
       "</p>\n"
      ],
      "text/plain": [
       "HTML{String}(\"<script>\\n// Immediately-invoked-function-expression to avoid global variables.\\n(function() {\\n    var warning_div = document.getElementById(\\\"webio-warning-8091353372289714856\\\");\\n    var hide = function () {\\n        var script = document.getElementById(\\\"webio-setup-9418636871025229777\\\");\\n        var parent = script && script.parentElement;\\n        var grandparent = parent && parent.parentElement;\\n        if (grandparent) {\\n            grandparent.style.display = \\\"none\\\";\\n        }\\n        warning_div.style.display = \\\"none\\\";\\n    };\\n    if (typeof Jupyter !== \\\"undefined\\\") {\\n        console.log(\\\"WebIO detected Jupyter notebook environment.\\\");\\n        // Jupyter notebook.\\n        var extensions = (\\n            Jupyter\\n            && Jupyter.notebook.config.data\\n            && Jupyter.notebook.config.data.load_extensions\\n        );\\n        if (extensions && extensions[\\\"webio-jupyter-notebook\\\"]) {\\n            // Extension already loaded.\\n            console.log(\\\"Jupyter WebIO nbextension detected; not loading ad-hoc.\\\");\\n            hide();\\n            return;\\n        }\\n    } else if (window.location.pathname.includes(\\\"/lab\\\")) {\\n        // Guessing JupyterLa\\n        console.log(\\\"Jupyter Lab detected; make sure the @webio/jupyter-lab-provider labextension is installed.\\\");\\n        hide();\\n        return;\\n    }\\n})();\\n\\n</script>\\n<p\\n    id=\\\"webio-warning-8091353372289714856\\\"\\n    class=\\\"output_text output_stderr\\\"\\n    style=\\\"padding: 1em; font-weight: bold;\\\"\\n>\\n    Unable to load WebIO. Please make sure WebIO works for your Jupyter client.\\n    For troubleshooting, please see <a href=\\\"https://juliagizmos.github.io/WebIO.jl/latest/providers/ijulia/\\\">\\n    the WebIO/IJulia documentation</a>.\\n    <!-- TODO: link to installation docs. -->\\n</p>\\n\")"
      ]
     },
     "metadata": {},
     "output_type": "display_data"
    }
   ],
   "source": [
    "using Gaston, Interact"
   ]
  },
  {
   "cell_type": "markdown",
   "metadata": {},
   "source": [
    "First, we define the pulse duration and the sampling frequency. Also, a function `timevec` that returns a time vector with specified start and end times."
   ]
  },
  {
   "cell_type": "code",
   "execution_count": 2,
   "metadata": {},
   "outputs": [
    {
     "data": {
      "text/plain": [
       "timevec (generic function with 2 methods)"
      ]
     },
     "execution_count": 2,
     "metadata": {},
     "output_type": "execute_result"
    }
   ],
   "source": [
    "Tp = 1.0\n",
    "fs = 200.0\n",
    "Δt = 1/fs  # This is `dt` in discrete-time\n",
    "timevec(start,finish,fs,margin) = start-margin:1/fs:finish+margin\n",
    "timevec(finish,fs) = timevec(0,finish,fs,0.1)"
   ]
  },
  {
   "cell_type": "markdown",
   "metadata": {},
   "source": [
    "Next, define the base pulse as a function. The amplitude is chosen so that the pulse energy is equal to 1."
   ]
  },
  {
   "cell_type": "code",
   "execution_count": 3,
   "metadata": {},
   "outputs": [
    {
     "data": {
      "text/plain": [
       "p (generic function with 1 method)"
      ]
     },
     "execution_count": 3,
     "metadata": {},
     "output_type": "execute_result"
    }
   ],
   "source": [
    "p(t) = 0.0 <= t < Tp ? (cos.(2*pi*(t-0.5)) .+ 1)./sqrt(1.5) : 0.0"
   ]
  },
  {
   "cell_type": "markdown",
   "metadata": {},
   "source": [
    "We now plot the base pulse."
   ]
  },
  {
   "cell_type": "code",
   "execution_count": 4,
   "metadata": {},
   "outputs": [
    {
     "data": {
      "image/svg+xml": [
       "<?xml version=\"1.0\" encoding=\"utf-8\"  standalone=\"no\"?>\n",
       "<svg \n",
       " width=\"640\" height=\"384\"\n",
       " viewBox=\"0 0 640 384\"\n",
       " xmlns=\"http://www.w3.org/2000/svg\"\n",
       " xmlns:xlink=\"http://www.w3.org/1999/xlink\"\n",
       ">\n",
       "\n",
       "<title>Gnuplot</title>\n",
       "<desc>Produced by GNUPLOT 5.2 patchlevel 8 </desc>\n",
       "\n",
       "<g id=\"gnuplot_canvas\">\n",
       "\n",
       "<rect x=\"0\" y=\"0\" width=\"640\" height=\"384\" fill=\"#ffffff\"/>\n",
       "<defs>\n",
       "\n",
       "\t<circle id='gpDot' r='0.5' stroke-width='0.5' stroke='currentColor'/>\n",
       "\t<path id='gpPt0' stroke-width='0.222' stroke='currentColor' d='M-1,0 h2 M0,-1 v2'/>\n",
       "\t<path id='gpPt1' stroke-width='0.222' stroke='currentColor' d='M-1,-1 L1,1 M1,-1 L-1,1'/>\n",
       "\t<path id='gpPt2' stroke-width='0.222' stroke='currentColor' d='M-1,0 L1,0 M0,-1 L0,1 M-1,-1 L1,1 M-1,1 L1,-1'/>\n",
       "\t<rect id='gpPt3' stroke-width='0.222' stroke='currentColor' x='-1' y='-1' width='2' height='2'/>\n",
       "\t<rect id='gpPt4' stroke-width='0.222' stroke='currentColor' fill='currentColor' x='-1' y='-1' width='2' height='2'/>\n",
       "\t<circle id='gpPt5' stroke-width='0.222' stroke='currentColor' cx='0' cy='0' r='1'/>\n",
       "\t<use xlink:href='#gpPt5' id='gpPt6' fill='currentColor' stroke='none'/>\n",
       "\t<path id='gpPt7' stroke-width='0.222' stroke='currentColor' d='M0,-1.33 L-1.33,0.67 L1.33,0.67 z'/>\n",
       "\t<use xlink:href='#gpPt7' id='gpPt8' fill='currentColor' stroke='none'/>\n",
       "\t<use xlink:href='#gpPt7' id='gpPt9' stroke='currentColor' transform='rotate(180)'/>\n",
       "\t<use xlink:href='#gpPt9' id='gpPt10' fill='currentColor' stroke='none'/>\n",
       "\t<use xlink:href='#gpPt3' id='gpPt11' stroke='currentColor' transform='rotate(45)'/>\n",
       "\t<use xlink:href='#gpPt11' id='gpPt12' fill='currentColor' stroke='none'/>\n",
       "\t<path id='gpPt13' stroke-width='0.222' stroke='currentColor' d='M0,1.330 L1.265,0.411 L0.782,-1.067 L-0.782,-1.076 L-1.265,0.411 z'/>\n",
       "\t<use xlink:href='#gpPt13' id='gpPt14' fill='currentColor' stroke='none'/>\n",
       "\t<filter id='textbox' filterUnits='objectBoundingBox' x='0' y='0' height='1' width='1'>\n",
       "\t  <feFlood flood-color='#FFFFFF' flood-opacity='1' result='bgnd'/>\n",
       "\t  <feComposite in='SourceGraphic' in2='bgnd' operator='atop'/>\n",
       "\t</filter>\n",
       "\t<filter id='greybox' filterUnits='objectBoundingBox' x='0' y='0' height='1' width='1'>\n",
       "\t  <feFlood flood-color='lightgrey' flood-opacity='1' result='grey'/>\n",
       "\t  <feComposite in='SourceGraphic' in2='grey' operator='atop'/>\n",
       "\t</filter>\n",
       "</defs>\n",
       "<g fill=\"none\" color=\"#FFFFFF\" stroke=\"currentColor\" stroke-width=\"1.00\" stroke-linecap=\"butt\" stroke-linejoin=\"miter\">\n",
       "</g>\n",
       "<g fill=\"none\" color=\"black\" stroke=\"currentColor\" stroke-width=\"1.00\" stroke-linecap=\"butt\" stroke-linejoin=\"miter\">\n",
       "\t<path stroke='black'  d='M53.9,334.6 L62.9,334.6 M615.0,334.6 L606.0,334.6  '/>\t<g transform=\"translate(45.6,338.5)\" stroke=\"none\" fill=\"black\" font-family=\"Arial\" font-size=\"12.00\"  text-anchor=\"end\">\n",
       "\t\t<text><tspan font-family=\"Arial\" > 0</tspan></text>\n",
       "\t</g>\n",
       "</g>\n",
       "<g fill=\"none\" color=\"black\" stroke=\"currentColor\" stroke-width=\"1.00\" stroke-linecap=\"butt\" stroke-linejoin=\"miter\">\n",
       "\t<path stroke='black'  d='M53.9,301.9 L62.9,301.9 M615.0,301.9 L606.0,301.9  '/>\t<g transform=\"translate(45.6,305.8)\" stroke=\"none\" fill=\"black\" font-family=\"Arial\" font-size=\"12.00\"  text-anchor=\"end\">\n",
       "\t\t<text><tspan font-family=\"Arial\" > 0.2</tspan></text>\n",
       "\t</g>\n",
       "</g>\n",
       "<g fill=\"none\" color=\"black\" stroke=\"currentColor\" stroke-width=\"1.00\" stroke-linecap=\"butt\" stroke-linejoin=\"miter\">\n",
       "\t<path stroke='black'  d='M53.9,269.2 L62.9,269.2 M615.0,269.2 L606.0,269.2  '/>\t<g transform=\"translate(45.6,273.1)\" stroke=\"none\" fill=\"black\" font-family=\"Arial\" font-size=\"12.00\"  text-anchor=\"end\">\n",
       "\t\t<text><tspan font-family=\"Arial\" > 0.4</tspan></text>\n",
       "\t</g>\n",
       "</g>\n",
       "<g fill=\"none\" color=\"black\" stroke=\"currentColor\" stroke-width=\"1.00\" stroke-linecap=\"butt\" stroke-linejoin=\"miter\">\n",
       "\t<path stroke='black'  d='M53.9,236.5 L62.9,236.5 M615.0,236.5 L606.0,236.5  '/>\t<g transform=\"translate(45.6,240.4)\" stroke=\"none\" fill=\"black\" font-family=\"Arial\" font-size=\"12.00\"  text-anchor=\"end\">\n",
       "\t\t<text><tspan font-family=\"Arial\" > 0.6</tspan></text>\n",
       "\t</g>\n",
       "</g>\n",
       "<g fill=\"none\" color=\"black\" stroke=\"currentColor\" stroke-width=\"1.00\" stroke-linecap=\"butt\" stroke-linejoin=\"miter\">\n",
       "\t<path stroke='black'  d='M53.9,203.7 L62.9,203.7 M615.0,203.7 L606.0,203.7  '/>\t<g transform=\"translate(45.6,207.6)\" stroke=\"none\" fill=\"black\" font-family=\"Arial\" font-size=\"12.00\"  text-anchor=\"end\">\n",
       "\t\t<text><tspan font-family=\"Arial\" > 0.8</tspan></text>\n",
       "\t</g>\n",
       "</g>\n",
       "<g fill=\"none\" color=\"black\" stroke=\"currentColor\" stroke-width=\"1.00\" stroke-linecap=\"butt\" stroke-linejoin=\"miter\">\n",
       "\t<path stroke='black'  d='M53.9,171.0 L62.9,171.0 M615.0,171.0 L606.0,171.0  '/>\t<g transform=\"translate(45.6,174.9)\" stroke=\"none\" fill=\"black\" font-family=\"Arial\" font-size=\"12.00\"  text-anchor=\"end\">\n",
       "\t\t<text><tspan font-family=\"Arial\" > 1</tspan></text>\n",
       "\t</g>\n",
       "</g>\n",
       "<g fill=\"none\" color=\"black\" stroke=\"currentColor\" stroke-width=\"1.00\" stroke-linecap=\"butt\" stroke-linejoin=\"miter\">\n",
       "\t<path stroke='black'  d='M53.9,138.3 L62.9,138.3 M615.0,138.3 L606.0,138.3  '/>\t<g transform=\"translate(45.6,142.2)\" stroke=\"none\" fill=\"black\" font-family=\"Arial\" font-size=\"12.00\"  text-anchor=\"end\">\n",
       "\t\t<text><tspan font-family=\"Arial\" > 1.2</tspan></text>\n",
       "\t</g>\n",
       "</g>\n",
       "<g fill=\"none\" color=\"black\" stroke=\"currentColor\" stroke-width=\"1.00\" stroke-linecap=\"butt\" stroke-linejoin=\"miter\">\n",
       "\t<path stroke='black'  d='M53.9,105.6 L62.9,105.6 M615.0,105.6 L606.0,105.6  '/>\t<g transform=\"translate(45.6,109.5)\" stroke=\"none\" fill=\"black\" font-family=\"Arial\" font-size=\"12.00\"  text-anchor=\"end\">\n",
       "\t\t<text><tspan font-family=\"Arial\" > 1.4</tspan></text>\n",
       "\t</g>\n",
       "</g>\n",
       "<g fill=\"none\" color=\"black\" stroke=\"currentColor\" stroke-width=\"1.00\" stroke-linecap=\"butt\" stroke-linejoin=\"miter\">\n",
       "\t<path stroke='black'  d='M53.9,72.9 L62.9,72.9 M615.0,72.9 L606.0,72.9  '/>\t<g transform=\"translate(45.6,76.8)\" stroke=\"none\" fill=\"black\" font-family=\"Arial\" font-size=\"12.00\"  text-anchor=\"end\">\n",
       "\t\t<text><tspan font-family=\"Arial\" > 1.6</tspan></text>\n",
       "\t</g>\n",
       "</g>\n",
       "<g fill=\"none\" color=\"black\" stroke=\"currentColor\" stroke-width=\"1.00\" stroke-linecap=\"butt\" stroke-linejoin=\"miter\">\n",
       "\t<path stroke='black'  d='M121.9,348.0 L121.9,339.0 M121.9,54.1 L121.9,63.1  '/>\t<g transform=\"translate(121.9,369.9)\" stroke=\"none\" fill=\"black\" font-family=\"Arial\" font-size=\"12.00\"  text-anchor=\"middle\">\n",
       "\t\t<text><tspan font-family=\"Arial\" > 0</tspan></text>\n",
       "\t</g>\n",
       "</g>\n",
       "<g fill=\"none\" color=\"black\" stroke=\"currentColor\" stroke-width=\"1.00\" stroke-linecap=\"butt\" stroke-linejoin=\"miter\">\n",
       "\t<path stroke='black'  d='M206.9,348.0 L206.9,339.0 M206.9,54.1 L206.9,63.1  '/>\t<g transform=\"translate(206.9,369.9)\" stroke=\"none\" fill=\"black\" font-family=\"Arial\" font-size=\"12.00\"  text-anchor=\"middle\">\n",
       "\t\t<text><tspan font-family=\"Arial\" > 0.2</tspan></text>\n",
       "\t</g>\n",
       "</g>\n",
       "<g fill=\"none\" color=\"black\" stroke=\"currentColor\" stroke-width=\"1.00\" stroke-linecap=\"butt\" stroke-linejoin=\"miter\">\n",
       "\t<path stroke='black'  d='M291.9,348.0 L291.9,339.0 M291.9,54.1 L291.9,63.1  '/>\t<g transform=\"translate(291.9,369.9)\" stroke=\"none\" fill=\"black\" font-family=\"Arial\" font-size=\"12.00\"  text-anchor=\"middle\">\n",
       "\t\t<text><tspan font-family=\"Arial\" > 0.4</tspan></text>\n",
       "\t</g>\n",
       "</g>\n",
       "<g fill=\"none\" color=\"black\" stroke=\"currentColor\" stroke-width=\"1.00\" stroke-linecap=\"butt\" stroke-linejoin=\"miter\">\n",
       "\t<path stroke='black'  d='M377.0,348.0 L377.0,339.0 M377.0,54.1 L377.0,63.1  '/>\t<g transform=\"translate(377.0,369.9)\" stroke=\"none\" fill=\"black\" font-family=\"Arial\" font-size=\"12.00\"  text-anchor=\"middle\">\n",
       "\t\t<text><tspan font-family=\"Arial\" > 0.6</tspan></text>\n",
       "\t</g>\n",
       "</g>\n",
       "<g fill=\"none\" color=\"black\" stroke=\"currentColor\" stroke-width=\"1.00\" stroke-linecap=\"butt\" stroke-linejoin=\"miter\">\n",
       "\t<path stroke='black'  d='M462.0,348.0 L462.0,339.0 M462.0,54.1 L462.0,63.1  '/>\t<g transform=\"translate(462.0,369.9)\" stroke=\"none\" fill=\"black\" font-family=\"Arial\" font-size=\"12.00\"  text-anchor=\"middle\">\n",
       "\t\t<text><tspan font-family=\"Arial\" > 0.8</tspan></text>\n",
       "\t</g>\n",
       "</g>\n",
       "<g fill=\"none\" color=\"black\" stroke=\"currentColor\" stroke-width=\"1.00\" stroke-linecap=\"butt\" stroke-linejoin=\"miter\">\n",
       "\t<path stroke='black'  d='M547.0,348.0 L547.0,339.0 M547.0,54.1 L547.0,63.1  '/>\t<g transform=\"translate(547.0,369.9)\" stroke=\"none\" fill=\"black\" font-family=\"Arial\" font-size=\"12.00\"  text-anchor=\"middle\">\n",
       "\t\t<text><tspan font-family=\"Arial\" > 1</tspan></text>\n",
       "\t</g>\n",
       "</g>\n",
       "<g fill=\"none\" color=\"black\" stroke=\"currentColor\" stroke-width=\"1.00\" stroke-linecap=\"butt\" stroke-linejoin=\"miter\">\n",
       "</g>\n",
       "<g fill=\"none\" color=\"black\" stroke=\"currentColor\" stroke-width=\"1.00\" stroke-linecap=\"butt\" stroke-linejoin=\"miter\">\n",
       "\t<path stroke='black'  d='M53.9,54.1 L53.9,348.0 L615.0,348.0 L615.0,54.1 L53.9,54.1 Z  '/></g>\n",
       "<g fill=\"none\" color=\"black\" stroke=\"currentColor\" stroke-width=\"1.00\" stroke-linecap=\"butt\" stroke-linejoin=\"miter\">\n",
       "\t<g transform=\"translate(334.4,31.0)\" stroke=\"none\" fill=\"black\" font-family=\"Arial\" font-size=\"12.00\"  text-anchor=\"middle\">\n",
       "\t\t<text><tspan font-family=\"Arial\" >Base Pulse</tspan></text>\n",
       "\t</g>\n",
       "</g>\n",
       "<g fill=\"none\" color=\"black\" stroke=\"currentColor\" stroke-width=\"1.00\" stroke-linecap=\"butt\" stroke-linejoin=\"miter\">\n",
       "</g>\n",
       "\t<g id=\"gnuplot_plot_1\" ><title>gnuplot_plot_1</title>\n",
       "<g fill=\"none\" color=\"black\" stroke=\"currentColor\" stroke-width=\"1.00\" stroke-linecap=\"butt\" stroke-linejoin=\"miter\">\n",
       "\t<path stroke='rgb( 55,  60, 255)'  d='M79.4,334.6 L81.5,334.6 L83.7,334.6 L85.8,334.6 L87.9,334.6 L90.0,334.6 L92.2,334.6 L94.3,334.6\n",
       "\t\tL96.4,334.6 L98.5,334.6 L100.7,334.6 L102.8,334.6 L104.9,334.6 L107.0,334.6 L109.2,334.6 L111.3,334.6\n",
       "\t\tL113.4,334.6 L115.5,334.6 L117.7,334.6 L119.8,334.6 L121.9,334.6 L124.0,334.6 L126.2,334.4 L128.3,334.0\n",
       "\t\tL130.4,333.6 L132.5,333.0 L134.7,332.3 L136.8,331.4 L138.9,330.4 L141.0,329.3 L143.2,328.1 L145.3,326.7\n",
       "\t\tL147.4,325.3 L149.5,323.7 L151.7,321.9 L153.8,320.1 L155.9,318.1 L158.0,316.0 L160.2,313.8 L162.3,311.5\n",
       "\t\tL164.4,309.1 L166.5,306.6 L168.7,304.0 L170.8,301.3 L172.9,298.4 L175.0,295.5 L177.2,292.5 L179.3,289.4\n",
       "\t\tL181.4,286.2 L183.5,282.9 L185.7,279.6 L187.8,276.1 L189.9,272.6 L192.0,269.1 L194.2,265.4 L196.3,261.7\n",
       "\t\tL198.4,257.9 L200.6,254.1 L202.7,250.2 L204.8,246.3 L206.9,242.3 L209.1,238.3 L211.2,234.3 L213.3,230.2\n",
       "\t\tL215.4,226.1 L217.6,221.9 L219.7,217.8 L221.8,213.6 L223.9,209.4 L226.1,205.2 L228.2,201.0 L230.3,196.9\n",
       "\t\tL232.4,192.7 L234.6,188.5 L236.7,184.3 L238.8,180.2 L240.9,176.0 L243.1,171.9 L245.2,167.8 L247.3,163.8\n",
       "\t\tL249.4,159.8 L251.6,155.8 L253.7,151.9 L255.8,148.0 L257.9,144.2 L260.1,140.4 L262.2,136.7 L264.3,133.0\n",
       "\t\tL266.4,129.5 L268.6,126.0 L270.7,122.5 L272.8,119.2 L274.9,115.9 L277.1,112.7 L279.2,109.6 L281.3,106.6\n",
       "\t\tL283.4,103.7 L285.6,100.8 L287.7,98.1 L289.8,95.5 L291.9,93.0 L294.1,90.6 L296.2,88.3 L298.3,86.1\n",
       "\t\tL300.4,84.0 L302.6,82.0 L304.7,80.2 L306.8,78.4 L308.9,76.8 L311.1,75.4 L313.2,74.0 L315.3,72.8\n",
       "\t\tL317.4,71.7 L319.6,70.7 L321.7,69.8 L323.8,69.1 L325.9,68.5 L328.1,68.1 L330.2,67.7 L332.3,67.5\n",
       "\t\tL334.4,67.5 L336.6,67.5 L338.7,67.7 L340.8,68.1 L343.0,68.5 L345.1,69.1 L347.2,69.8 L349.3,70.7\n",
       "\t\tL351.5,71.7 L353.6,72.8 L355.7,74.0 L357.8,75.4 L360.0,76.8 L362.1,78.4 L364.2,80.2 L366.3,82.0\n",
       "\t\tL368.5,84.0 L370.6,86.1 L372.7,88.3 L374.8,90.6 L377.0,93.0 L379.1,95.5 L381.2,98.1 L383.3,100.8\n",
       "\t\tL385.5,103.7 L387.6,106.6 L389.7,109.6 L391.8,112.7 L394.0,115.9 L396.1,119.2 L398.2,122.5 L400.3,126.0\n",
       "\t\tL402.5,129.5 L404.6,133.0 L406.7,136.7 L408.8,140.4 L411.0,144.2 L413.1,148.0 L415.2,151.9 L417.3,155.8\n",
       "\t\tL419.5,159.8 L421.6,163.8 L423.7,167.8 L425.8,171.9 L428.0,176.0 L430.1,180.2 L432.2,184.3 L434.3,188.5\n",
       "\t\tL436.5,192.7 L438.6,196.9 L440.7,201.0 L442.8,205.2 L445.0,209.4 L447.1,213.6 L449.2,217.8 L451.3,221.9\n",
       "\t\tL453.5,226.1 L455.6,230.2 L457.7,234.3 L459.8,238.3 L462.0,242.3 L464.1,246.3 L466.2,250.2 L468.3,254.1\n",
       "\t\tL470.5,257.9 L472.6,261.7 L474.7,265.4 L476.9,269.1 L479.0,272.6 L481.1,276.1 L483.2,279.6 L485.4,282.9\n",
       "\t\tL487.5,286.2 L489.6,289.4 L491.7,292.5 L493.9,295.5 L496.0,298.4 L498.1,301.3 L500.2,304.0 L502.4,306.6\n",
       "\t\tL504.5,309.1 L506.6,311.5 L508.7,313.8 L510.9,316.0 L513.0,318.1 L515.1,320.1 L517.2,321.9 L519.4,323.7\n",
       "\t\tL521.5,325.3 L523.6,326.7 L525.7,328.1 L527.9,329.3 L530.0,330.4 L532.1,331.4 L534.2,332.3 L536.4,333.0\n",
       "\t\tL538.5,333.6 L540.6,334.0 L542.7,334.4 L544.9,334.6 L547.0,334.6 L549.1,334.6 L551.2,334.6 L553.4,334.6\n",
       "\t\tL555.5,334.6 L557.6,334.6 L559.7,334.6 L561.9,334.6 L564.0,334.6 L566.1,334.6 L568.2,334.6 L570.4,334.6\n",
       "\t\tL572.5,334.6 L574.6,334.6 L576.7,334.6 L578.9,334.6 L581.0,334.6 L583.1,334.6 L585.2,334.6 L587.4,334.6\n",
       "\t\tL589.5,334.6  '/></g>\n",
       "\t</g>\n",
       "<g fill=\"none\" color=\"#FFFFFF\" stroke=\"rgb( 55,  60, 255)\" stroke-width=\"2.00\" stroke-linecap=\"butt\" stroke-linejoin=\"miter\">\n",
       "</g>\n",
       "<g fill=\"none\" color=\"black\" stroke=\"currentColor\" stroke-width=\"2.00\" stroke-linecap=\"butt\" stroke-linejoin=\"miter\">\n",
       "</g>\n",
       "<g fill=\"none\" color=\"black\" stroke=\"black\" stroke-width=\"1.00\" stroke-linecap=\"butt\" stroke-linejoin=\"miter\">\n",
       "</g>\n",
       "<g fill=\"none\" color=\"black\" stroke=\"currentColor\" stroke-width=\"1.00\" stroke-linecap=\"butt\" stroke-linejoin=\"miter\">\n",
       "\t<path stroke='black'  d='M53.9,54.1 L53.9,348.0 L615.0,348.0 L615.0,54.1 L53.9,54.1 Z  '/></g>\n",
       "<g fill=\"none\" color=\"black\" stroke=\"currentColor\" stroke-width=\"1.00\" stroke-linecap=\"butt\" stroke-linejoin=\"miter\">\n",
       "</g>\n",
       "</g>\n",
       "</svg>\n",
       "\n"
      ],
      "text/plain": []
     },
     "execution_count": 4,
     "metadata": {},
     "output_type": "execute_result"
    }
   ],
   "source": [
    "t = timevec(1,fs)\n",
    "plot(t, p.(t), title=\"Base Pulse\")"
   ]
  },
  {
   "cell_type": "markdown",
   "metadata": {},
   "source": [
    "Let us confirm that the pulse energy is one:"
   ]
  },
  {
   "cell_type": "code",
   "execution_count": 5,
   "metadata": {},
   "outputs": [
    {
     "name": "stdout",
     "output_type": "stream",
     "text": [
      "Pulse energy is 1.0000000000000002\n"
     ]
    }
   ],
   "source": [
    "Ep = sum(p.(t).*p.(t))*Δt\n",
    "println(\"Pulse energy is $Ep\")"
   ]
  },
  {
   "cell_type": "markdown",
   "metadata": {},
   "source": [
    "We now generate a signal transmitting two bits, with constellation $\\lbrace +0.5, -0.5 \\rbrace$. In other words, each bit is generated with energy $0.5^2 = 0.25$."
   ]
  },
  {
   "cell_type": "code",
   "execution_count": 6,
   "metadata": {},
   "outputs": [],
   "source": [
    "t = timevec(4,fs)\n",
    "s = @. 0.5p(t) + 0.5p(t-Tp) - 0.5p(t-2Tp) + 0.5p(t-3Tp);"
   ]
  },
  {
   "cell_type": "code",
   "execution_count": 7,
   "metadata": {},
   "outputs": [
    {
     "data": {
      "image/svg+xml": [
       "<?xml version=\"1.0\" encoding=\"utf-8\"  standalone=\"no\"?>\n",
       "<svg \n",
       " width=\"640\" height=\"384\"\n",
       " viewBox=\"0 0 640 384\"\n",
       " xmlns=\"http://www.w3.org/2000/svg\"\n",
       " xmlns:xlink=\"http://www.w3.org/1999/xlink\"\n",
       ">\n",
       "\n",
       "<title>Gnuplot</title>\n",
       "<desc>Produced by GNUPLOT 5.2 patchlevel 8 </desc>\n",
       "\n",
       "<g id=\"gnuplot_canvas\">\n",
       "\n",
       "<rect x=\"0\" y=\"0\" width=\"640\" height=\"384\" fill=\"#ffffff\"/>\n",
       "<defs>\n",
       "\n",
       "\t<circle id='gpDot' r='0.5' stroke-width='0.5' stroke='currentColor'/>\n",
       "\t<path id='gpPt0' stroke-width='0.222' stroke='currentColor' d='M-1,0 h2 M0,-1 v2'/>\n",
       "\t<path id='gpPt1' stroke-width='0.222' stroke='currentColor' d='M-1,-1 L1,1 M1,-1 L-1,1'/>\n",
       "\t<path id='gpPt2' stroke-width='0.222' stroke='currentColor' d='M-1,0 L1,0 M0,-1 L0,1 M-1,-1 L1,1 M-1,1 L1,-1'/>\n",
       "\t<rect id='gpPt3' stroke-width='0.222' stroke='currentColor' x='-1' y='-1' width='2' height='2'/>\n",
       "\t<rect id='gpPt4' stroke-width='0.222' stroke='currentColor' fill='currentColor' x='-1' y='-1' width='2' height='2'/>\n",
       "\t<circle id='gpPt5' stroke-width='0.222' stroke='currentColor' cx='0' cy='0' r='1'/>\n",
       "\t<use xlink:href='#gpPt5' id='gpPt6' fill='currentColor' stroke='none'/>\n",
       "\t<path id='gpPt7' stroke-width='0.222' stroke='currentColor' d='M0,-1.33 L-1.33,0.67 L1.33,0.67 z'/>\n",
       "\t<use xlink:href='#gpPt7' id='gpPt8' fill='currentColor' stroke='none'/>\n",
       "\t<use xlink:href='#gpPt7' id='gpPt9' stroke='currentColor' transform='rotate(180)'/>\n",
       "\t<use xlink:href='#gpPt9' id='gpPt10' fill='currentColor' stroke='none'/>\n",
       "\t<use xlink:href='#gpPt3' id='gpPt11' stroke='currentColor' transform='rotate(45)'/>\n",
       "\t<use xlink:href='#gpPt11' id='gpPt12' fill='currentColor' stroke='none'/>\n",
       "\t<path id='gpPt13' stroke-width='0.222' stroke='currentColor' d='M0,1.330 L1.265,0.411 L0.782,-1.067 L-0.782,-1.076 L-1.265,0.411 z'/>\n",
       "\t<use xlink:href='#gpPt13' id='gpPt14' fill='currentColor' stroke='none'/>\n",
       "\t<filter id='textbox' filterUnits='objectBoundingBox' x='0' y='0' height='1' width='1'>\n",
       "\t  <feFlood flood-color='#FFFFFF' flood-opacity='1' result='bgnd'/>\n",
       "\t  <feComposite in='SourceGraphic' in2='bgnd' operator='atop'/>\n",
       "\t</filter>\n",
       "\t<filter id='greybox' filterUnits='objectBoundingBox' x='0' y='0' height='1' width='1'>\n",
       "\t  <feFlood flood-color='lightgrey' flood-opacity='1' result='grey'/>\n",
       "\t  <feComposite in='SourceGraphic' in2='grey' operator='atop'/>\n",
       "\t</filter>\n",
       "</defs>\n",
       "<g fill=\"none\" color=\"#FFFFFF\" stroke=\"black\" stroke-width=\"1.00\" stroke-linecap=\"butt\" stroke-linejoin=\"miter\">\n",
       "</g>\n",
       "<g fill=\"none\" color=\"black\" stroke=\"currentColor\" stroke-width=\"1.00\" stroke-linecap=\"butt\" stroke-linejoin=\"miter\">\n",
       "\t<path stroke='black'  d='M53.9,330.0 L62.9,330.0 M615.0,330.0 L606.0,330.0  '/>\t<g transform=\"translate(45.6,333.9)\" stroke=\"none\" fill=\"black\" font-family=\"Arial\" font-size=\"12.00\"  text-anchor=\"end\">\n",
       "\t\t<text><tspan font-family=\"Arial\" >-0.8</tspan></text>\n",
       "\t</g>\n",
       "</g>\n",
       "<g fill=\"none\" color=\"black\" stroke=\"currentColor\" stroke-width=\"1.00\" stroke-linecap=\"butt\" stroke-linejoin=\"miter\">\n",
       "\t<path stroke='black'  d='M53.9,293.2 L62.9,293.2 M615.0,293.2 L606.0,293.2  '/>\t<g transform=\"translate(45.6,297.1)\" stroke=\"none\" fill=\"black\" font-family=\"Arial\" font-size=\"12.00\"  text-anchor=\"end\">\n",
       "\t\t<text><tspan font-family=\"Arial\" >-0.6</tspan></text>\n",
       "\t</g>\n",
       "</g>\n",
       "<g fill=\"none\" color=\"black\" stroke=\"currentColor\" stroke-width=\"1.00\" stroke-linecap=\"butt\" stroke-linejoin=\"miter\">\n",
       "\t<path stroke='black'  d='M53.9,256.5 L62.9,256.5 M615.0,256.5 L606.0,256.5  '/>\t<g transform=\"translate(45.6,260.4)\" stroke=\"none\" fill=\"black\" font-family=\"Arial\" font-size=\"12.00\"  text-anchor=\"end\">\n",
       "\t\t<text><tspan font-family=\"Arial\" >-0.4</tspan></text>\n",
       "\t</g>\n",
       "</g>\n",
       "<g fill=\"none\" color=\"black\" stroke=\"currentColor\" stroke-width=\"1.00\" stroke-linecap=\"butt\" stroke-linejoin=\"miter\">\n",
       "\t<path stroke='black'  d='M53.9,219.8 L62.9,219.8 M615.0,219.8 L606.0,219.8  '/>\t<g transform=\"translate(45.6,223.7)\" stroke=\"none\" fill=\"black\" font-family=\"Arial\" font-size=\"12.00\"  text-anchor=\"end\">\n",
       "\t\t<text><tspan font-family=\"Arial\" >-0.2</tspan></text>\n",
       "\t</g>\n",
       "</g>\n",
       "<g fill=\"none\" color=\"black\" stroke=\"currentColor\" stroke-width=\"1.00\" stroke-linecap=\"butt\" stroke-linejoin=\"miter\">\n",
       "\t<path stroke='black'  d='M53.9,183.1 L62.9,183.1 M615.0,183.1 L606.0,183.1  '/>\t<g transform=\"translate(45.6,187.0)\" stroke=\"none\" fill=\"black\" font-family=\"Arial\" font-size=\"12.00\"  text-anchor=\"end\">\n",
       "\t\t<text><tspan font-family=\"Arial\" > 0</tspan></text>\n",
       "\t</g>\n",
       "</g>\n",
       "<g fill=\"none\" color=\"black\" stroke=\"currentColor\" stroke-width=\"1.00\" stroke-linecap=\"butt\" stroke-linejoin=\"miter\">\n",
       "\t<path stroke='black'  d='M53.9,146.3 L62.9,146.3 M615.0,146.3 L606.0,146.3  '/>\t<g transform=\"translate(45.6,150.2)\" stroke=\"none\" fill=\"black\" font-family=\"Arial\" font-size=\"12.00\"  text-anchor=\"end\">\n",
       "\t\t<text><tspan font-family=\"Arial\" > 0.2</tspan></text>\n",
       "\t</g>\n",
       "</g>\n",
       "<g fill=\"none\" color=\"black\" stroke=\"currentColor\" stroke-width=\"1.00\" stroke-linecap=\"butt\" stroke-linejoin=\"miter\">\n",
       "\t<path stroke='black'  d='M53.9,109.6 L62.9,109.6 M615.0,109.6 L606.0,109.6  '/>\t<g transform=\"translate(45.6,113.5)\" stroke=\"none\" fill=\"black\" font-family=\"Arial\" font-size=\"12.00\"  text-anchor=\"end\">\n",
       "\t\t<text><tspan font-family=\"Arial\" > 0.4</tspan></text>\n",
       "\t</g>\n",
       "</g>\n",
       "<g fill=\"none\" color=\"black\" stroke=\"currentColor\" stroke-width=\"1.00\" stroke-linecap=\"butt\" stroke-linejoin=\"miter\">\n",
       "\t<path stroke='black'  d='M53.9,72.9 L62.9,72.9 M615.0,72.9 L606.0,72.9  '/>\t<g transform=\"translate(45.6,76.8)\" stroke=\"none\" fill=\"black\" font-family=\"Arial\" font-size=\"12.00\"  text-anchor=\"end\">\n",
       "\t\t<text><tspan font-family=\"Arial\" > 0.6</tspan></text>\n",
       "\t</g>\n",
       "</g>\n",
       "<g fill=\"none\" color=\"black\" stroke=\"currentColor\" stroke-width=\"1.00\" stroke-linecap=\"butt\" stroke-linejoin=\"miter\">\n",
       "\t<path stroke='black'  d='M53.9,36.1 L62.9,36.1 M615.0,36.1 L606.0,36.1  '/>\t<g transform=\"translate(45.6,40.0)\" stroke=\"none\" fill=\"black\" font-family=\"Arial\" font-size=\"12.00\"  text-anchor=\"end\">\n",
       "\t\t<text><tspan font-family=\"Arial\" > 0.8</tspan></text>\n",
       "\t</g>\n",
       "</g>\n",
       "<g fill=\"none\" color=\"black\" stroke=\"currentColor\" stroke-width=\"1.00\" stroke-linecap=\"butt\" stroke-linejoin=\"miter\">\n",
       "\t<path stroke='black'  d='M91.5,348.0 L91.5,339.0 M91.5,18.1 L91.5,27.1  '/>\t<g transform=\"translate(91.5,369.9)\" stroke=\"none\" fill=\"black\" font-family=\"Arial\" font-size=\"12.00\"  text-anchor=\"middle\">\n",
       "\t\t<text><tspan font-family=\"Arial\" > 0</tspan></text>\n",
       "\t</g>\n",
       "</g>\n",
       "<g fill=\"none\" color=\"black\" stroke=\"currentColor\" stroke-width=\"1.00\" stroke-linecap=\"butt\" stroke-linejoin=\"miter\">\n",
       "\t<path stroke='black'  d='M152.3,348.0 L152.3,339.0 M152.3,18.1 L152.3,27.1  '/>\t<g transform=\"translate(152.3,369.9)\" stroke=\"none\" fill=\"black\" font-family=\"Arial\" font-size=\"12.00\"  text-anchor=\"middle\">\n",
       "\t\t<text><tspan font-family=\"Arial\" > 0.5</tspan></text>\n",
       "\t</g>\n",
       "</g>\n",
       "<g fill=\"none\" color=\"black\" stroke=\"currentColor\" stroke-width=\"1.00\" stroke-linecap=\"butt\" stroke-linejoin=\"miter\">\n",
       "\t<path stroke='black'  d='M213.0,348.0 L213.0,339.0 M213.0,18.1 L213.0,27.1  '/>\t<g transform=\"translate(213.0,369.9)\" stroke=\"none\" fill=\"black\" font-family=\"Arial\" font-size=\"12.00\"  text-anchor=\"middle\">\n",
       "\t\t<text><tspan font-family=\"Arial\" > 1</tspan></text>\n",
       "\t</g>\n",
       "</g>\n",
       "<g fill=\"none\" color=\"black\" stroke=\"currentColor\" stroke-width=\"1.00\" stroke-linecap=\"butt\" stroke-linejoin=\"miter\">\n",
       "\t<path stroke='black'  d='M273.7,348.0 L273.7,339.0 M273.7,18.1 L273.7,27.1  '/>\t<g transform=\"translate(273.7,369.9)\" stroke=\"none\" fill=\"black\" font-family=\"Arial\" font-size=\"12.00\"  text-anchor=\"middle\">\n",
       "\t\t<text><tspan font-family=\"Arial\" > 1.5</tspan></text>\n",
       "\t</g>\n",
       "</g>\n",
       "<g fill=\"none\" color=\"black\" stroke=\"currentColor\" stroke-width=\"1.00\" stroke-linecap=\"butt\" stroke-linejoin=\"miter\">\n",
       "\t<path stroke='black'  d='M334.5,348.0 L334.5,339.0 M334.5,18.1 L334.5,27.1  '/>\t<g transform=\"translate(334.5,369.9)\" stroke=\"none\" fill=\"black\" font-family=\"Arial\" font-size=\"12.00\"  text-anchor=\"middle\">\n",
       "\t\t<text><tspan font-family=\"Arial\" > 2</tspan></text>\n",
       "\t</g>\n",
       "</g>\n",
       "<g fill=\"none\" color=\"black\" stroke=\"currentColor\" stroke-width=\"1.00\" stroke-linecap=\"butt\" stroke-linejoin=\"miter\">\n",
       "\t<path stroke='black'  d='M395.2,348.0 L395.2,339.0 M395.2,18.1 L395.2,27.1  '/>\t<g transform=\"translate(395.2,369.9)\" stroke=\"none\" fill=\"black\" font-family=\"Arial\" font-size=\"12.00\"  text-anchor=\"middle\">\n",
       "\t\t<text><tspan font-family=\"Arial\" > 2.5</tspan></text>\n",
       "\t</g>\n",
       "</g>\n",
       "<g fill=\"none\" color=\"black\" stroke=\"currentColor\" stroke-width=\"1.00\" stroke-linecap=\"butt\" stroke-linejoin=\"miter\">\n",
       "\t<path stroke='black'  d='M455.9,348.0 L455.9,339.0 M455.9,18.1 L455.9,27.1  '/>\t<g transform=\"translate(455.9,369.9)\" stroke=\"none\" fill=\"black\" font-family=\"Arial\" font-size=\"12.00\"  text-anchor=\"middle\">\n",
       "\t\t<text><tspan font-family=\"Arial\" > 3</tspan></text>\n",
       "\t</g>\n",
       "</g>\n",
       "<g fill=\"none\" color=\"black\" stroke=\"currentColor\" stroke-width=\"1.00\" stroke-linecap=\"butt\" stroke-linejoin=\"miter\">\n",
       "\t<path stroke='black'  d='M516.6,348.0 L516.6,339.0 M516.6,18.1 L516.6,27.1  '/>\t<g transform=\"translate(516.6,369.9)\" stroke=\"none\" fill=\"black\" font-family=\"Arial\" font-size=\"12.00\"  text-anchor=\"middle\">\n",
       "\t\t<text><tspan font-family=\"Arial\" > 3.5</tspan></text>\n",
       "\t</g>\n",
       "</g>\n",
       "<g fill=\"none\" color=\"black\" stroke=\"currentColor\" stroke-width=\"1.00\" stroke-linecap=\"butt\" stroke-linejoin=\"miter\">\n",
       "\t<path stroke='black'  d='M577.4,348.0 L577.4,339.0 M577.4,18.1 L577.4,27.1  '/>\t<g transform=\"translate(577.4,369.9)\" stroke=\"none\" fill=\"black\" font-family=\"Arial\" font-size=\"12.00\"  text-anchor=\"middle\">\n",
       "\t\t<text><tspan font-family=\"Arial\" > 4</tspan></text>\n",
       "\t</g>\n",
       "</g>\n",
       "<g fill=\"none\" color=\"black\" stroke=\"currentColor\" stroke-width=\"1.00\" stroke-linecap=\"butt\" stroke-linejoin=\"miter\">\n",
       "</g>\n",
       "<g fill=\"none\" color=\"black\" stroke=\"currentColor\" stroke-width=\"1.00\" stroke-linecap=\"butt\" stroke-linejoin=\"miter\">\n",
       "\t<path stroke='black'  d='M53.9,18.1 L53.9,348.0 L615.0,348.0 L615.0,18.1 L53.9,18.1 Z  '/></g>\n",
       "<g fill=\"none\" color=\"black\" stroke=\"currentColor\" stroke-width=\"1.00\" stroke-linecap=\"butt\" stroke-linejoin=\"miter\">\n",
       "</g>\n",
       "\t<g id=\"gnuplot_plot_1\" ><title>gnuplot_plot_1</title>\n",
       "<g fill=\"none\" color=\"black\" stroke=\"currentColor\" stroke-width=\"1.00\" stroke-linecap=\"butt\" stroke-linejoin=\"miter\">\n",
       "\t<path stroke='rgb( 55,  60, 255)'  d='M79.4,183.0 L80.0,183.0 L80.6,183.0 L81.2,183.0 L81.8,183.0 L82.4,183.0 L83.0,183.0 L83.7,183.0\n",
       "\t\tL84.3,183.0 L84.9,183.0 L85.5,183.0 L86.1,183.0 L86.7,183.0 L87.3,183.0 L87.9,183.0 L88.5,183.0\n",
       "\t\tL89.1,183.0 L89.7,183.0 L90.3,183.0 L90.9,183.0 L91.5,183.0 L92.2,183.0 L92.8,182.9 L93.4,182.7\n",
       "\t\tL94.0,182.5 L94.6,182.1 L95.2,181.7 L95.8,181.2 L96.4,180.7 L97.0,180.1 L97.6,179.4 L98.2,178.6\n",
       "\t\tL98.8,177.8 L99.4,176.9 L100.1,175.9 L100.7,174.9 L101.3,173.8 L101.9,172.6 L102.5,171.4 L103.1,170.1\n",
       "\t\tL103.7,168.7 L104.3,167.3 L104.9,165.8 L105.5,164.3 L106.1,162.7 L106.7,161.1 L107.3,159.4 L107.9,157.7\n",
       "\t\tL108.6,155.9 L109.2,154.0 L109.8,152.1 L110.4,150.2 L111.0,148.2 L111.6,146.2 L112.2,144.2 L112.8,142.1\n",
       "\t\tL113.4,140.0 L114.0,137.8 L114.6,135.7 L115.2,133.5 L115.8,131.2 L116.4,129.0 L117.1,126.7 L117.7,124.4\n",
       "\t\tL118.3,122.1 L118.9,119.8 L119.5,117.5 L120.1,115.1 L120.7,112.8 L121.3,110.4 L121.9,108.1 L122.5,105.7\n",
       "\t\tL123.1,103.4 L123.7,101.0 L124.3,98.7 L124.9,96.3 L125.6,94.0 L126.2,91.7 L126.8,89.4 L127.4,87.2\n",
       "\t\tL128.0,84.9 L128.6,82.7 L129.2,80.5 L129.8,78.3 L130.4,76.1 L131.0,74.0 L131.6,72.0 L132.2,69.9\n",
       "\t\tL132.8,67.9 L133.4,65.9 L134.1,64.0 L134.7,62.1 L135.3,60.3 L135.9,58.5 L136.5,56.7 L137.1,55.1\n",
       "\t\tL137.7,53.4 L138.3,51.8 L138.9,50.3 L139.5,48.8 L140.1,47.4 L140.7,46.1 L141.3,44.8 L142.0,43.5\n",
       "\t\tL142.6,42.4 L143.2,41.3 L143.8,40.2 L144.4,39.3 L145.0,38.4 L145.6,37.5 L146.2,36.8 L146.8,36.1\n",
       "\t\tL147.4,35.5 L148.0,34.9 L148.6,34.4 L149.2,34.0 L149.8,33.7 L150.5,33.4 L151.1,33.2 L151.7,33.1\n",
       "\t\tL152.3,33.1 L152.9,33.1 L153.5,33.2 L154.1,33.4 L154.7,33.7 L155.3,34.0 L155.9,34.4 L156.5,34.9\n",
       "\t\tL157.1,35.5 L157.7,36.1 L158.3,36.8 L159.0,37.5 L159.6,38.4 L160.2,39.3 L160.8,40.2 L161.4,41.3\n",
       "\t\tL162.0,42.4 L162.6,43.5 L163.2,44.8 L163.8,46.1 L164.4,47.4 L165.0,48.8 L165.6,50.3 L166.2,51.8\n",
       "\t\tL166.8,53.4 L167.5,55.1 L168.1,56.7 L168.7,58.5 L169.3,60.3 L169.9,62.1 L170.5,64.0 L171.1,65.9\n",
       "\t\tL171.7,67.9 L172.3,69.9 L172.9,72.0 L173.5,74.0 L174.1,76.1 L174.7,78.3 L175.4,80.5 L176.0,82.7\n",
       "\t\tL176.6,84.9 L177.2,87.2 L177.8,89.4 L178.4,91.7 L179.0,94.0 L179.6,96.3 L180.2,98.7 L180.8,101.0\n",
       "\t\tL181.4,103.4 L182.0,105.7 L182.6,108.1 L183.2,110.4 L183.9,112.8 L184.5,115.1 L185.1,117.5 L185.7,119.8\n",
       "\t\tL186.3,122.1 L186.9,124.4 L187.5,126.7 L188.1,129.0 L188.7,131.2 L189.3,133.5 L189.9,135.7 L190.5,137.8\n",
       "\t\tL191.1,140.0 L191.7,142.1 L192.4,144.2 L193.0,146.2 L193.6,148.2 L194.2,150.2 L194.8,152.1 L195.4,154.0\n",
       "\t\tL196.0,155.9 L196.6,157.7 L197.2,159.4 L197.8,161.1 L198.4,162.7 L199.0,164.3 L199.6,165.8 L200.2,167.3\n",
       "\t\tL200.9,168.7 L201.5,170.1 L202.1,171.4 L202.7,172.6 L203.3,173.8 L203.9,174.9 L204.5,175.9 L205.1,176.9\n",
       "\t\tL205.7,177.8 L206.3,178.6 L206.9,179.4 L207.5,180.1 L208.1,180.7 L208.7,181.2 L209.4,181.7 L210.0,182.1\n",
       "\t\tL210.6,182.5 L211.2,182.7 L211.8,182.9 L212.4,183.0 L213.0,183.0 L213.6,183.0 L214.2,182.9 L214.8,182.7\n",
       "\t\tL215.4,182.5 L216.0,182.1 L216.6,181.7 L217.3,181.2 L217.9,180.7 L218.5,180.1 L219.1,179.4 L219.7,178.6\n",
       "\t\tL220.3,177.8 L220.9,176.9 L221.5,175.9 L222.1,174.9 L222.7,173.8 L223.3,172.6 L223.9,171.4 L224.5,170.1\n",
       "\t\tL225.1,168.7 L225.8,167.3 L226.4,165.8 L227.0,164.3 L227.6,162.7 L228.2,161.1 L228.8,159.4 L229.4,157.7\n",
       "\t\tL230.0,155.9 L230.6,154.0 L231.2,152.1 L231.8,150.2 L232.4,148.2 L233.0,146.2 L233.6,144.2 L234.3,142.1\n",
       "\t\tL234.9,140.0 L235.5,137.8 L236.1,135.7 L236.7,133.5 L237.3,131.2 L237.9,129.0 L238.5,126.7 L239.1,124.4\n",
       "\t\tL239.7,122.1 L240.3,119.8 L240.9,117.5 L241.5,115.1 L242.1,112.8 L242.8,110.4 L243.4,108.1 L244.0,105.7\n",
       "\t\tL244.6,103.4 L245.2,101.0 L245.8,98.7 L246.4,96.3 L247.0,94.0 L247.6,91.7 L248.2,89.4 L248.8,87.2\n",
       "\t\tL249.4,84.9 L250.0,82.7 L250.6,80.5 L251.3,78.3 L251.9,76.1 L252.5,74.0 L253.1,72.0 L253.7,69.9\n",
       "\t\tL254.3,67.9 L254.9,65.9 L255.5,64.0 L256.1,62.1 L256.7,60.3 L257.3,58.5 L257.9,56.7 L258.5,55.1\n",
       "\t\tL259.2,53.4 L259.8,51.8 L260.4,50.3 L261.0,48.8 L261.6,47.4 L262.2,46.1 L262.8,44.8 L263.4,43.5\n",
       "\t\tL264.0,42.4 L264.6,41.3 L265.2,40.2 L265.8,39.3 L266.4,38.4 L267.0,37.5 L267.7,36.8 L268.3,36.1\n",
       "\t\tL268.9,35.5 L269.5,34.9 L270.1,34.4 L270.7,34.0 L271.3,33.7 L271.9,33.4 L272.5,33.2 L273.1,33.1\n",
       "\t\tL273.7,33.1 L274.3,33.1 L274.9,33.2 L275.5,33.4 L276.2,33.7 L276.8,34.0 L277.4,34.4 L278.0,34.9\n",
       "\t\tL278.6,35.5 L279.2,36.1 L279.8,36.8 L280.4,37.5 L281.0,38.4 L281.6,39.3 L282.2,40.2 L282.8,41.3\n",
       "\t\tL283.4,42.4 L284.0,43.5 L284.7,44.8 L285.3,46.1 L285.9,47.4 L286.5,48.8 L287.1,50.3 L287.7,51.8\n",
       "\t\tL288.3,53.4 L288.9,55.1 L289.5,56.7 L290.1,58.5 L290.7,60.3 L291.3,62.1 L291.9,64.0 L292.5,65.9\n",
       "\t\tL293.2,67.9 L293.8,69.9 L294.4,72.0 L295.0,74.0 L295.6,76.1 L296.2,78.3 L296.8,80.5 L297.4,82.7\n",
       "\t\tL298.0,84.9 L298.6,87.2 L299.2,89.4 L299.8,91.7 L300.4,94.0 L301.1,96.3 L301.7,98.7 L302.3,101.0\n",
       "\t\tL302.9,103.4 L303.5,105.7 L304.1,108.1 L304.7,110.4 L305.3,112.8 L305.9,115.1 L306.5,117.5 L307.1,119.8\n",
       "\t\tL307.7,122.1 L308.3,124.4 L308.9,126.7 L309.6,129.0 L310.2,131.2 L310.8,133.5 L311.4,135.7 L312.0,137.8\n",
       "\t\tL312.6,140.0 L313.2,142.1 L313.8,144.2 L314.4,146.2 L315.0,148.2 L315.6,150.2 L316.2,152.1 L316.8,154.0\n",
       "\t\tL317.4,155.9 L318.1,157.7 L318.7,159.4 L319.3,161.1 L319.9,162.7 L320.5,164.3 L321.1,165.8 L321.7,167.3\n",
       "\t\tL322.3,168.7 L322.9,170.1 L323.5,171.4 L324.1,172.6 L324.7,173.8 L325.3,174.9 L325.9,175.9 L326.6,176.9\n",
       "\t\tL327.2,177.8 L327.8,178.6 L328.4,179.4 L329.0,180.1 L329.6,180.7 L330.2,181.2 L330.8,181.7 L331.4,182.1\n",
       "\t\tL332.0,182.5 L332.6,182.7 L333.2,182.9 L333.8,183.0 L334.5,183.0 L335.1,183.1 L335.7,183.2 L336.3,183.4\n",
       "\t\tL336.9,183.6 L337.5,184.0 L338.1,184.4 L338.7,184.9 L339.3,185.4 L339.9,186.0 L340.5,186.7 L341.1,187.5\n",
       "\t\tL341.7,188.3 L342.3,189.2 L343.0,190.2 L343.6,191.2 L344.2,192.3 L344.8,193.5 L345.4,194.7 L346.0,196.0\n",
       "\t\tL346.6,197.4 L347.2,198.8 L347.8,200.3 L348.4,201.8 L349.0,203.4 L349.6,205.0 L350.2,206.7 L350.8,208.4\n",
       "\t\tL351.5,210.2 L352.1,212.1 L352.7,214.0 L353.3,215.9 L353.9,217.9 L354.5,219.9 L355.1,221.9 L355.7,224.0\n",
       "\t\tL356.3,226.1 L356.9,228.3 L357.5,230.4 L358.1,232.6 L358.7,234.9 L359.3,237.1 L360.0,239.4 L360.6,241.7\n",
       "\t\tL361.2,244.0 L361.8,246.3 L362.4,248.6 L363.0,251.0 L363.6,253.3 L364.2,255.7 L364.8,258.0 L365.4,260.4\n",
       "\t\tL366.0,262.7 L366.6,265.1 L367.2,267.4 L367.8,269.8 L368.5,272.1 L369.1,274.4 L369.7,276.7 L370.3,278.9\n",
       "\t\tL370.9,281.2 L371.5,283.4 L372.1,285.6 L372.7,287.8 L373.3,290.0 L373.9,292.1 L374.5,294.1 L375.1,296.2\n",
       "\t\tL375.7,298.2 L376.4,300.2 L377.0,302.1 L377.6,304.0 L378.2,305.8 L378.8,307.6 L379.4,309.4 L380.0,311.0\n",
       "\t\tL380.6,312.7 L381.2,314.3 L381.8,315.8 L382.4,317.3 L383.0,318.7 L383.6,320.0 L384.2,321.3 L384.9,322.6\n",
       "\t\tL385.5,323.7 L386.1,324.8 L386.7,325.9 L387.3,326.8 L387.9,327.7 L388.5,328.6 L389.1,329.3 L389.7,330.0\n",
       "\t\tL390.3,330.6 L390.9,331.2 L391.5,331.7 L392.1,332.1 L392.7,332.4 L393.4,332.7 L394.0,332.9 L394.6,333.0\n",
       "\t\tL395.2,333.0 L395.8,333.0 L396.4,332.9 L397.0,332.7 L397.6,332.4 L398.2,332.1 L398.8,331.7 L399.4,331.2\n",
       "\t\tL400.0,330.6 L400.6,330.0 L401.2,329.3 L401.9,328.6 L402.5,327.7 L403.1,326.8 L403.7,325.9 L404.3,324.8\n",
       "\t\tL404.9,323.7 L405.5,322.6 L406.1,321.3 L406.7,320.0 L407.3,318.7 L407.9,317.3 L408.5,315.8 L409.1,314.3\n",
       "\t\tL409.7,312.7 L410.4,311.0 L411.0,309.4 L411.6,307.6 L412.2,305.8 L412.8,304.0 L413.4,302.1 L414.0,300.2\n",
       "\t\tL414.6,298.2 L415.2,296.2 L415.8,294.1 L416.4,292.1 L417.0,290.0 L417.6,287.8 L418.3,285.6 L418.9,283.4\n",
       "\t\tL419.5,281.2 L420.1,278.9 L420.7,276.7 L421.3,274.4 L421.9,272.1 L422.5,269.8 L423.1,267.4 L423.7,265.1\n",
       "\t\tL424.3,262.7 L424.9,260.4 L425.5,258.0 L426.1,255.7 L426.8,253.3 L427.4,251.0 L428.0,248.6 L428.6,246.3\n",
       "\t\tL429.2,244.0 L429.8,241.7 L430.4,239.4 L431.0,237.1 L431.6,234.9 L432.2,232.6 L432.8,230.4 L433.4,228.3\n",
       "\t\tL434.0,226.1 L434.6,224.0 L435.3,221.9 L435.9,219.9 L436.5,217.9 L437.1,215.9 L437.7,214.0 L438.3,212.1\n",
       "\t\tL438.9,210.2 L439.5,208.4 L440.1,206.7 L440.7,205.0 L441.3,203.4 L441.9,201.8 L442.5,200.3 L443.1,198.8\n",
       "\t\tL443.8,197.4 L444.4,196.0 L445.0,194.7 L445.6,193.5 L446.2,192.3 L446.8,191.2 L447.4,190.2 L448.0,189.2\n",
       "\t\tL448.6,188.3 L449.2,187.5 L449.8,186.7 L450.4,186.0 L451.0,185.4 L451.6,184.9 L452.3,184.4 L452.9,184.0\n",
       "\t\tL453.5,183.6 L454.1,183.4 L454.7,183.2 L455.3,183.1 L455.9,183.0 L456.5,183.0 L457.1,182.9 L457.7,182.7\n",
       "\t\tL458.3,182.5 L458.9,182.1 L459.5,181.7 L460.2,181.2 L460.8,180.7 L461.4,180.1 L462.0,179.4 L462.6,178.6\n",
       "\t\tL463.2,177.8 L463.8,176.9 L464.4,175.9 L465.0,174.9 L465.6,173.8 L466.2,172.6 L466.8,171.4 L467.4,170.1\n",
       "\t\tL468.0,168.7 L468.7,167.3 L469.3,165.8 L469.9,164.3 L470.5,162.7 L471.1,161.1 L471.7,159.4 L472.3,157.7\n",
       "\t\tL472.9,155.9 L473.5,154.0 L474.1,152.1 L474.7,150.2 L475.3,148.2 L475.9,146.2 L476.5,144.2 L477.2,142.1\n",
       "\t\tL477.8,140.0 L478.4,137.8 L479.0,135.7 L479.6,133.5 L480.2,131.2 L480.8,129.0 L481.4,126.7 L482.0,124.4\n",
       "\t\tL482.6,122.1 L483.2,119.8 L483.8,117.5 L484.4,115.1 L485.0,112.8 L485.7,110.4 L486.3,108.1 L486.9,105.7\n",
       "\t\tL487.5,103.4 L488.1,101.0 L488.7,98.7 L489.3,96.3 L489.9,94.0 L490.5,91.7 L491.1,89.4 L491.7,87.2\n",
       "\t\tL492.3,84.9 L492.9,82.7 L493.5,80.5 L494.2,78.3 L494.8,76.1 L495.4,74.0 L496.0,72.0 L496.6,69.9\n",
       "\t\tL497.2,67.9 L497.8,65.9 L498.4,64.0 L499.0,62.1 L499.6,60.3 L500.2,58.5 L500.8,56.7 L501.4,55.1\n",
       "\t\tL502.1,53.4 L502.7,51.8 L503.3,50.3 L503.9,48.8 L504.5,47.4 L505.1,46.1 L505.7,44.8 L506.3,43.5\n",
       "\t\tL506.9,42.4 L507.5,41.3 L508.1,40.2 L508.7,39.3 L509.3,38.4 L509.9,37.5 L510.6,36.8 L511.2,36.1\n",
       "\t\tL511.8,35.5 L512.4,34.9 L513.0,34.4 L513.6,34.0 L514.2,33.7 L514.8,33.4 L515.4,33.2 L516.0,33.1\n",
       "\t\tL516.6,33.1 L517.2,33.1 L517.8,33.2 L518.4,33.4 L519.1,33.7 L519.7,34.0 L520.3,34.4 L520.9,34.9\n",
       "\t\tL521.5,35.5 L522.1,36.1 L522.7,36.8 L523.3,37.5 L523.9,38.4 L524.5,39.3 L525.1,40.2 L525.7,41.3\n",
       "\t\tL526.3,42.4 L526.9,43.5 L527.6,44.8 L528.2,46.1 L528.8,47.4 L529.4,48.8 L530.0,50.3 L530.6,51.8\n",
       "\t\tL531.2,53.4 L531.8,55.1 L532.4,56.7 L533.0,58.5 L533.6,60.3 L534.2,62.1 L534.8,64.0 L535.5,65.9\n",
       "\t\tL536.1,67.9 L536.7,69.9 L537.3,72.0 L537.9,74.0 L538.5,76.1 L539.1,78.3 L539.7,80.5 L540.3,82.7\n",
       "\t\tL540.9,84.9 L541.5,87.2 L542.1,89.4 L542.7,91.7 L543.3,94.0 L544.0,96.3 L544.6,98.7 L545.2,101.0\n",
       "\t\tL545.8,103.4 L546.4,105.7 L547.0,108.1 L547.6,110.4 L548.2,112.8 L548.8,115.1 L549.4,117.5 L550.0,119.8\n",
       "\t\tL550.6,122.1 L551.2,124.4 L551.8,126.7 L552.5,129.0 L553.1,131.2 L553.7,133.5 L554.3,135.7 L554.9,137.8\n",
       "\t\tL555.5,140.0 L556.1,142.1 L556.7,144.2 L557.3,146.2 L557.9,148.2 L558.5,150.2 L559.1,152.1 L559.7,154.0\n",
       "\t\tL560.3,155.9 L561.0,157.7 L561.6,159.4 L562.2,161.1 L562.8,162.7 L563.4,164.3 L564.0,165.8 L564.6,167.3\n",
       "\t\tL565.2,168.7 L565.8,170.1 L566.4,171.4 L567.0,172.6 L567.6,173.8 L568.2,174.9 L568.8,175.9 L569.5,176.9\n",
       "\t\tL570.1,177.8 L570.7,178.6 L571.3,179.4 L571.9,180.1 L572.5,180.7 L573.1,181.2 L573.7,181.7 L574.3,182.1\n",
       "\t\tL574.9,182.5 L575.5,182.7 L576.1,182.9 L576.7,183.0 L577.4,183.0 L578.0,183.0 L578.6,183.0 L579.2,183.0\n",
       "\t\tL579.8,183.0 L580.4,183.0 L581.0,183.0 L581.6,183.0 L582.2,183.0 L582.8,183.0 L583.4,183.0 L584.0,183.0\n",
       "\t\tL584.6,183.0 L585.2,183.0 L585.9,183.0 L586.5,183.0 L587.1,183.0 L587.7,183.0 L588.3,183.0 L588.9,183.0\n",
       "\t\tL589.5,183.0  '/></g>\n",
       "\t</g>\n",
       "<g fill=\"none\" color=\"#FFFFFF\" stroke=\"rgb( 55,  60, 255)\" stroke-width=\"2.00\" stroke-linecap=\"butt\" stroke-linejoin=\"miter\">\n",
       "</g>\n",
       "<g fill=\"none\" color=\"black\" stroke=\"currentColor\" stroke-width=\"2.00\" stroke-linecap=\"butt\" stroke-linejoin=\"miter\">\n",
       "</g>\n",
       "<g fill=\"none\" color=\"black\" stroke=\"black\" stroke-width=\"1.00\" stroke-linecap=\"butt\" stroke-linejoin=\"miter\">\n",
       "</g>\n",
       "<g fill=\"none\" color=\"black\" stroke=\"currentColor\" stroke-width=\"1.00\" stroke-linecap=\"butt\" stroke-linejoin=\"miter\">\n",
       "\t<path stroke='black'  d='M53.9,18.1 L53.9,348.0 L615.0,348.0 L615.0,18.1 L53.9,18.1 Z  '/></g>\n",
       "<g fill=\"none\" color=\"black\" stroke=\"currentColor\" stroke-width=\"1.00\" stroke-linecap=\"butt\" stroke-linejoin=\"miter\">\n",
       "</g>\n",
       "</g>\n",
       "</svg>\n",
       "\n"
      ],
      "text/plain": []
     },
     "execution_count": 7,
     "metadata": {},
     "output_type": "execute_result"
    }
   ],
   "source": [
    "plot(t,s)"
   ]
  },
  {
   "cell_type": "markdown",
   "metadata": {},
   "source": [
    "We now illustrate the correlation receiver (assuming there is no noise). The blue line is the base pulse. The red line is the received signal. The green line is the output of the correlator. The slider controls the delay of the base pulse (mathematically equivalent to sliding the received signal). The number above the plot is the sum of the correlation; note how, when the base pulse overlaps with one received pulse, the correlation is equal to a constellation element."
   ]
  },
  {
   "cell_type": "code",
   "execution_count": 8,
   "metadata": {},
   "outputs": [
    {
     "data": {
      "application/vnd.webio.node+json": {
       "children": [
        {
         "children": [
          {
           "children": [
            {
             "children": [
              {
               "children": [
                {
                 "children": [
                  "delay"
                 ],
                 "instanceArgs": {
                  "namespace": "html",
                  "tag": "label"
                 },
                 "nodeType": "DOM",
                 "props": {
                  "className": "interact ",
                  "style": {
                   "padding": "5px 10px 0px 10px"
                  }
                 },
                 "type": "node"
                }
               ],
               "instanceArgs": {
                "namespace": "html",
                "tag": "div"
               },
               "nodeType": "DOM",
               "props": {
                "className": "interact-flex-row-left"
               },
               "type": "node"
              },
              {
               "children": [
                {
                 "children": [],
                 "instanceArgs": {
                  "namespace": "html",
                  "tag": "input"
                 },
                 "nodeType": "DOM",
                 "props": {
                  "attributes": {
                   "data-bind": "numericValue: index, valueUpdate: 'input', event: {change: function (){this.changes(this.changes()+1)}}",
                   "orient": "horizontal",
                   "type": "range"
                  },
                  "className": "slider slider is-fullwidth",
                  "max": 61,
                  "min": 1,
                  "step": 1,
                  "style": {}
                 },
                 "type": "node"
                }
               ],
               "instanceArgs": {
                "namespace": "html",
                "tag": "div"
               },
               "nodeType": "DOM",
               "props": {
                "className": "interact-flex-row-center"
               },
               "type": "node"
              },
              {
               "children": [
                {
                 "children": [],
                 "instanceArgs": {
                  "namespace": "html",
                  "tag": "p"
                 },
                 "nodeType": "DOM",
                 "props": {
                  "attributes": {
                   "data-bind": "text: formatted_val"
                  }
                 },
                 "type": "node"
                }
               ],
               "instanceArgs": {
                "namespace": "html",
                "tag": "div"
               },
               "nodeType": "DOM",
               "props": {
                "className": "interact-flex-row-right"
               },
               "type": "node"
              }
             ],
             "instanceArgs": {
              "namespace": "html",
              "tag": "div"
             },
             "nodeType": "DOM",
             "props": {
              "className": "interact-flex-row interact-widget"
             },
             "type": "node"
            }
           ],
           "instanceArgs": {
            "handlers": {
             "changes": [
              "(function (val){return (val!=this.model[\"changes\"]()) ? (this.valueFromJulia[\"changes\"]=true, this.model[\"changes\"](val)) : undefined})"
             ],
             "index": [
              "(function (val){return (val!=this.model[\"index\"]()) ? (this.valueFromJulia[\"index\"]=true, this.model[\"index\"](val)) : undefined})"
             ]
            },
            "id": "13781787398608746729",
            "imports": {
             "data": [
              {
               "name": "knockout",
               "type": "js",
               "url": "/assetserver/5bbdbbb0b09c5b1b887ee10da5f86cd1febbf135-knockout.js"
              },
              {
               "name": "knockout_punches",
               "type": "js",
               "url": "/assetserver/15065e2dd05fe2b7d23387469481615adcbf22a9-knockout_punches.js"
              },
              {
               "name": null,
               "type": "js",
               "url": "/assetserver/f8e1899f8867ff0491f4fc4ae1bbd02e4edbfd5f-all.js"
              },
              {
               "name": null,
               "type": "css",
               "url": "/assetserver/fa25a5d76d95d7d0412e3df66bb14418405899f6-style.css"
              },
              {
               "name": null,
               "type": "css",
               "url": "/assetserver/2e96df717df741d8a01b6c1c62121c67b6599ff5-bulma_confined.min.css"
              }
             ],
             "type": "async_block"
            },
            "mount_callbacks": [
             "function () {\n    var handler = (function (ko, koPunches) {\n    ko.punches.enableAll();\n    ko.bindingHandlers.numericValue = {\n        init: function(element, valueAccessor, allBindings, data, context) {\n            var stringified = ko.observable(ko.unwrap(valueAccessor()));\n            stringified.subscribe(function(value) {\n                var val = parseFloat(value);\n                if (!isNaN(val)) {\n                    valueAccessor()(val);\n                }\n            });\n            valueAccessor().subscribe(function(value) {\n                var str = JSON.stringify(value);\n                if ((str == \"0\") && ([\"-0\", \"-0.\"].indexOf(stringified()) >= 0))\n                     return;\n                 if ([\"null\", \"\"].indexOf(str) >= 0)\n                     return;\n                stringified(str);\n            });\n            ko.applyBindingsToNode(\n                element,\n                {\n                    value: stringified,\n                    valueUpdate: allBindings.get('valueUpdate'),\n                },\n                context,\n            );\n        }\n    };\n    var json_data = {\"formatted_vals\":[\"-1.0\",\"-0.9\",\"-0.8\",\"-0.7\",\"-0.6\",\"-0.5\",\"-0.4\",\"-0.3\",\"-0.2\",\"-0.1\",\"0.0\",\"0.1\",\"0.2\",\"0.3\",\"0.4\",\"0.5\",\"0.6\",\"0.7\",\"0.8\",\"0.9\",\"1.0\",\"1.1\",\"1.2\",\"1.3\",\"1.4\",\"1.5\",\"1.6\",\"1.7\",\"1.8\",\"1.9\",\"2.0\",\"2.1\",\"2.2\",\"2.3\",\"2.4\",\"2.5\",\"2.6\",\"2.7\",\"2.8\",\"2.9\",\"3.0\",\"3.1\",\"3.2\",\"3.3\",\"3.4\",\"3.5\",\"3.6\",\"3.7\",\"3.8\",\"3.9\",\"4.0\",\"4.1\",\"4.2\",\"4.3\",\"4.4\",\"4.5\",\"4.6\",\"4.7\",\"4.8\",\"4.9\",\"5.0\"],\"changes\":WebIO.getval({\"name\":\"changes\",\"scope\":\"13781787398608746729\",\"id\":\"ob_03\",\"type\":\"observable\"}),\"index\":WebIO.getval({\"name\":\"index\",\"scope\":\"13781787398608746729\",\"id\":\"ob_02\",\"type\":\"observable\"})};\n    var self = this;\n    function AppViewModel() {\n        for (var key in json_data) {\n            var el = json_data[key];\n            this[key] = Array.isArray(el) ? ko.observableArray(el) : ko.observable(el);\n        }\n        \n        [this[\"formatted_val\"]=ko.computed(    function(){\n        return this.formatted_vals()[parseInt(this.index())-(1)];\n    }\n,this)]\n        [this[\"changes\"].subscribe((function (val){!(this.valueFromJulia[\"changes\"]) ? (WebIO.setval({\"name\":\"changes\",\"scope\":\"13781787398608746729\",\"id\":\"ob_03\",\"type\":\"observable\"},val)) : undefined; return this.valueFromJulia[\"changes\"]=false}),self),this[\"index\"].subscribe((function (val){!(this.valueFromJulia[\"index\"]) ? (WebIO.setval({\"name\":\"index\",\"scope\":\"13781787398608746729\",\"id\":\"ob_02\",\"type\":\"observable\"},val)) : undefined; return this.valueFromJulia[\"index\"]=false}),self)]\n        \n    }\n    self.model = new AppViewModel();\n    self.valueFromJulia = {};\n    for (var key in json_data) {\n        self.valueFromJulia[key] = false;\n    }\n    ko.applyBindings(self.model, self.dom);\n}\n);\n    (WebIO.importBlock({\"data\":[{\"name\":\"knockout\",\"type\":\"js\",\"url\":\"/assetserver/5bbdbbb0b09c5b1b887ee10da5f86cd1febbf135-knockout.js\"},{\"name\":\"knockout_punches\",\"type\":\"js\",\"url\":\"/assetserver/15065e2dd05fe2b7d23387469481615adcbf22a9-knockout_punches.js\"}],\"type\":\"async_block\"})).then((imports) => handler.apply(this, imports));\n}\n"
            ],
            "observables": {
             "changes": {
              "id": "ob_03",
              "sync": false,
              "value": 0
             },
             "index": {
              "id": "ob_02",
              "sync": true,
              "value": 31
             }
            },
            "systemjs_options": null
           },
           "nodeType": "Scope",
           "props": {},
           "type": "node"
          }
         ],
         "instanceArgs": {
          "namespace": "html",
          "tag": "div"
         },
         "nodeType": "DOM",
         "props": {
          "className": "field interact-widget"
         },
         "type": "node"
        },
        {
         "children": [
          {
           "children": [],
           "instanceArgs": {
            "id": "ob_09",
            "name": "obs-node"
           },
           "nodeType": "ObservableNode",
           "props": {},
           "type": "node"
          }
         ],
         "instanceArgs": {
          "handlers": {},
          "id": "7452753988883367168",
          "imports": {
           "data": [],
           "type": "async_block"
          },
          "mount_callbacks": [],
          "observables": {
           "obs-node": {
            "id": "ob_09",
            "sync": false,
            "value": {
             "children": [
              {
               "children": [],
               "instanceArgs": {
                "namespace": "html",
                "tag": "div"
               },
               "nodeType": "DOM",
               "props": {
                "setInnerHtml": "<?xml version=\"1.0\" encoding=\"utf-8\"  standalone=\"no\"?>\n<svg \n width=\"640\" height=\"384\"\n viewBox=\"0 0 640 384\"\n xmlns=\"http://www.w3.org/2000/svg\"\n xmlns:xlink=\"http://www.w3.org/1999/xlink\"\n>\n\n<title>Gnuplot</title>\n<desc>Produced by GNUPLOT 5.2 patchlevel 8 </desc>\n\n<g id=\"gnuplot_canvas\">\n\n<rect x=\"0\" y=\"0\" width=\"640\" height=\"384\" fill=\"#ffffff\"/>\n<defs>\n\n\t<circle id='gpDot' r='0.5' stroke-width='0.5' stroke='currentColor'/>\n\t<path id='gpPt0' stroke-width='0.222' stroke='currentColor' d='M-1,0 h2 M0,-1 v2'/>\n\t<path id='gpPt1' stroke-width='0.222' stroke='currentColor' d='M-1,-1 L1,1 M1,-1 L-1,1'/>\n\t<path id='gpPt2' stroke-width='0.222' stroke='currentColor' d='M-1,0 L1,0 M0,-1 L0,1 M-1,-1 L1,1 M-1,1 L1,-1'/>\n\t<rect id='gpPt3' stroke-width='0.222' stroke='currentColor' x='-1' y='-1' width='2' height='2'/>\n\t<rect id='gpPt4' stroke-width='0.222' stroke='currentColor' fill='currentColor' x='-1' y='-1' width='2' height='2'/>\n\t<circle id='gpPt5' stroke-width='0.222' stroke='currentColor' cx='0' cy='0' r='1'/>\n\t<use xlink:href='#gpPt5' id='gpPt6' fill='currentColor' stroke='none'/>\n\t<path id='gpPt7' stroke-width='0.222' stroke='currentColor' d='M0,-1.33 L-1.33,0.67 L1.33,0.67 z'/>\n\t<use xlink:href='#gpPt7' id='gpPt8' fill='currentColor' stroke='none'/>\n\t<use xlink:href='#gpPt7' id='gpPt9' stroke='currentColor' transform='rotate(180)'/>\n\t<use xlink:href='#gpPt9' id='gpPt10' fill='currentColor' stroke='none'/>\n\t<use xlink:href='#gpPt3' id='gpPt11' stroke='currentColor' transform='rotate(45)'/>\n\t<use xlink:href='#gpPt11' id='gpPt12' fill='currentColor' stroke='none'/>\n\t<path id='gpPt13' stroke-width='0.222' stroke='currentColor' d='M0,1.330 L1.265,0.411 L0.782,-1.067 L-0.782,-1.076 L-1.265,0.411 z'/>\n\t<use xlink:href='#gpPt13' id='gpPt14' fill='currentColor' stroke='none'/>\n\t<filter id='textbox' filterUnits='objectBoundingBox' x='0' y='0' height='1' width='1'>\n\t  <feFlood flood-color='#FFFFFF' flood-opacity='1' result='bgnd'/>\n\t  <feComposite in='SourceGraphic' in2='bgnd' operator='atop'/>\n\t</filter>\n\t<filter id='greybox' filterUnits='objectBoundingBox' x='0' y='0' height='1' width='1'>\n\t  <feFlood flood-color='lightgrey' flood-opacity='1' result='grey'/>\n\t  <feComposite in='SourceGraphic' in2='grey' operator='atop'/>\n\t</filter>\n</defs>\n<g fill=\"none\" color=\"#FFFFFF\" stroke=\"black\" stroke-width=\"1.00\" stroke-linecap=\"butt\" stroke-linejoin=\"miter\">\n</g>\n<g fill=\"none\" color=\"black\" stroke=\"currentColor\" stroke-width=\"1.00\" stroke-linecap=\"butt\" stroke-linejoin=\"miter\">\n\t<path stroke='black'  d='M53.9,304.6 L62.9,304.6 M615.0,304.6 L606.0,304.6  '/>\t<g transform=\"translate(45.6,308.5)\" stroke=\"none\" fill=\"black\" font-family=\"Arial\" font-size=\"12.00\"  text-anchor=\"end\">\n\t\t<text><tspan font-family=\"Arial\" >-1</tspan></text>\n\t</g>\n</g>\n<g fill=\"none\" color=\"black\" stroke=\"currentColor\" stroke-width=\"1.00\" stroke-linecap=\"butt\" stroke-linejoin=\"miter\">\n\t<path stroke='black'  d='M53.9,259.6 L62.9,259.6 M615.0,259.6 L606.0,259.6  '/>\t<g transform=\"translate(45.6,263.5)\" stroke=\"none\" fill=\"black\" font-family=\"Arial\" font-size=\"12.00\"  text-anchor=\"end\">\n\t\t<text><tspan font-family=\"Arial\" >-0.5</tspan></text>\n\t</g>\n</g>\n<g fill=\"none\" color=\"black\" stroke=\"currentColor\" stroke-width=\"1.00\" stroke-linecap=\"butt\" stroke-linejoin=\"miter\">\n\t<path stroke='black'  d='M53.9,214.5 L62.9,214.5 M615.0,214.5 L606.0,214.5  '/>\t<g transform=\"translate(45.6,218.4)\" stroke=\"none\" fill=\"black\" font-family=\"Arial\" font-size=\"12.00\"  text-anchor=\"end\">\n\t\t<text><tspan font-family=\"Arial\" > 0</tspan></text>\n\t</g>\n</g>\n<g fill=\"none\" color=\"black\" stroke=\"currentColor\" stroke-width=\"1.00\" stroke-linecap=\"butt\" stroke-linejoin=\"miter\">\n\t<path stroke='black'  d='M53.9,169.5 L62.9,169.5 M615.0,169.5 L606.0,169.5  '/>\t<g transform=\"translate(45.6,173.4)\" stroke=\"none\" fill=\"black\" font-family=\"Arial\" font-size=\"12.00\"  text-anchor=\"end\">\n\t\t<text><tspan font-family=\"Arial\" > 0.5</tspan></text>\n\t</g>\n</g>\n<g fill=\"none\" color=\"black\" stroke=\"currentColor\" stroke-width=\"1.00\" stroke-linecap=\"butt\" stroke-linejoin=\"miter\">\n\t<path stroke='black'  d='M53.9,124.5 L62.9,124.5 M615.0,124.5 L606.0,124.5  '/>\t<g transform=\"translate(45.6,128.4)\" stroke=\"none\" fill=\"black\" font-family=\"Arial\" font-size=\"12.00\"  text-anchor=\"end\">\n\t\t<text><tspan font-family=\"Arial\" > 1</tspan></text>\n\t</g>\n</g>\n<g fill=\"none\" color=\"black\" stroke=\"currentColor\" stroke-width=\"1.00\" stroke-linecap=\"butt\" stroke-linejoin=\"miter\">\n\t<path stroke='black'  d='M53.9,79.4 L62.9,79.4 M615.0,79.4 L606.0,79.4  '/>\t<g transform=\"translate(45.6,83.3)\" stroke=\"none\" fill=\"black\" font-family=\"Arial\" font-size=\"12.00\"  text-anchor=\"end\">\n\t\t<text><tspan font-family=\"Arial\" > 1.5</tspan></text>\n\t</g>\n</g>\n<g fill=\"none\" color=\"black\" stroke=\"currentColor\" stroke-width=\"1.00\" stroke-linecap=\"butt\" stroke-linejoin=\"miter\">\n\t<path stroke='black'  d='M91.5,348.0 L91.5,339.0 M91.5,54.1 L91.5,63.1  '/>\t<g transform=\"translate(91.5,369.9)\" stroke=\"none\" fill=\"black\" font-family=\"Arial\" font-size=\"12.00\"  text-anchor=\"middle\">\n\t\t<text><tspan font-family=\"Arial\" > 0</tspan></text>\n\t</g>\n</g>\n<g fill=\"none\" color=\"black\" stroke=\"currentColor\" stroke-width=\"1.00\" stroke-linecap=\"butt\" stroke-linejoin=\"miter\">\n\t<path stroke='black'  d='M152.3,348.0 L152.3,339.0 M152.3,54.1 L152.3,63.1  '/>\t<g transform=\"translate(152.3,369.9)\" stroke=\"none\" fill=\"black\" font-family=\"Arial\" font-size=\"12.00\"  text-anchor=\"middle\">\n\t\t<text><tspan font-family=\"Arial\" > 0.5</tspan></text>\n\t</g>\n</g>\n<g fill=\"none\" color=\"black\" stroke=\"currentColor\" stroke-width=\"1.00\" stroke-linecap=\"butt\" stroke-linejoin=\"miter\">\n\t<path stroke='black'  d='M213.0,348.0 L213.0,339.0 M213.0,54.1 L213.0,63.1  '/>\t<g transform=\"translate(213.0,369.9)\" stroke=\"none\" fill=\"black\" font-family=\"Arial\" font-size=\"12.00\"  text-anchor=\"middle\">\n\t\t<text><tspan font-family=\"Arial\" > 1</tspan></text>\n\t</g>\n</g>\n<g fill=\"none\" color=\"black\" stroke=\"currentColor\" stroke-width=\"1.00\" stroke-linecap=\"butt\" stroke-linejoin=\"miter\">\n\t<path stroke='black'  d='M273.7,348.0 L273.7,339.0 M273.7,54.1 L273.7,63.1  '/>\t<g transform=\"translate(273.7,369.9)\" stroke=\"none\" fill=\"black\" font-family=\"Arial\" font-size=\"12.00\"  text-anchor=\"middle\">\n\t\t<text><tspan font-family=\"Arial\" > 1.5</tspan></text>\n\t</g>\n</g>\n<g fill=\"none\" color=\"black\" stroke=\"currentColor\" stroke-width=\"1.00\" stroke-linecap=\"butt\" stroke-linejoin=\"miter\">\n\t<path stroke='black'  d='M334.5,348.0 L334.5,339.0 M334.5,54.1 L334.5,63.1  '/>\t<g transform=\"translate(334.5,369.9)\" stroke=\"none\" fill=\"black\" font-family=\"Arial\" font-size=\"12.00\"  text-anchor=\"middle\">\n\t\t<text><tspan font-family=\"Arial\" > 2</tspan></text>\n\t</g>\n</g>\n<g fill=\"none\" color=\"black\" stroke=\"currentColor\" stroke-width=\"1.00\" stroke-linecap=\"butt\" stroke-linejoin=\"miter\">\n\t<path stroke='black'  d='M395.2,348.0 L395.2,339.0 M395.2,54.1 L395.2,63.1  '/>\t<g transform=\"translate(395.2,369.9)\" stroke=\"none\" fill=\"black\" font-family=\"Arial\" font-size=\"12.00\"  text-anchor=\"middle\">\n\t\t<text><tspan font-family=\"Arial\" > 2.5</tspan></text>\n\t</g>\n</g>\n<g fill=\"none\" color=\"black\" stroke=\"currentColor\" stroke-width=\"1.00\" stroke-linecap=\"butt\" stroke-linejoin=\"miter\">\n\t<path stroke='black'  d='M455.9,348.0 L455.9,339.0 M455.9,54.1 L455.9,63.1  '/>\t<g transform=\"translate(455.9,369.9)\" stroke=\"none\" fill=\"black\" font-family=\"Arial\" font-size=\"12.00\"  text-anchor=\"middle\">\n\t\t<text><tspan font-family=\"Arial\" > 3</tspan></text>\n\t</g>\n</g>\n<g fill=\"none\" color=\"black\" stroke=\"currentColor\" stroke-width=\"1.00\" stroke-linecap=\"butt\" stroke-linejoin=\"miter\">\n\t<path stroke='black'  d='M516.6,348.0 L516.6,339.0 M516.6,54.1 L516.6,63.1  '/>\t<g transform=\"translate(516.6,369.9)\" stroke=\"none\" fill=\"black\" font-family=\"Arial\" font-size=\"12.00\"  text-anchor=\"middle\">\n\t\t<text><tspan font-family=\"Arial\" > 3.5</tspan></text>\n\t</g>\n</g>\n<g fill=\"none\" color=\"black\" stroke=\"currentColor\" stroke-width=\"1.00\" stroke-linecap=\"butt\" stroke-linejoin=\"miter\">\n\t<path stroke='black'  d='M577.4,348.0 L577.4,339.0 M577.4,54.1 L577.4,63.1  '/>\t<g transform=\"translate(577.4,369.9)\" stroke=\"none\" fill=\"black\" font-family=\"Arial\" font-size=\"12.00\"  text-anchor=\"middle\">\n\t\t<text><tspan font-family=\"Arial\" > 4</tspan></text>\n\t</g>\n</g>\n<g fill=\"none\" color=\"black\" stroke=\"currentColor\" stroke-width=\"1.00\" stroke-linecap=\"butt\" stroke-linejoin=\"miter\">\n</g>\n<g fill=\"none\" color=\"black\" stroke=\"currentColor\" stroke-width=\"1.00\" stroke-linecap=\"butt\" stroke-linejoin=\"miter\">\n\t<path stroke='black'  d='M53.9,54.1 L53.9,348.0 L615.0,348.0 L615.0,54.1 L53.9,54.1 Z  '/></g>\n<g fill=\"none\" color=\"black\" stroke=\"currentColor\" stroke-width=\"1.00\" stroke-linecap=\"butt\" stroke-linejoin=\"miter\">\n\t<g transform=\"translate(334.4,31.0)\" stroke=\"none\" fill=\"black\" font-family=\"Arial\" font-size=\"12.00\"  text-anchor=\"middle\">\n\t\t<text><tspan font-family=\"Arial\" >Correlator output = -0.5000000000000001</tspan></text>\n\t</g>\n</g>\n<g fill=\"none\" color=\"black\" stroke=\"currentColor\" stroke-width=\"1.00\" stroke-linecap=\"butt\" stroke-linejoin=\"miter\">\n</g>\n\t<g id=\"gnuplot_plot_1\" ><title>gnuplot_plot_1</title>\n<g fill=\"none\" color=\"black\" stroke=\"currentColor\" stroke-width=\"1.00\" stroke-linecap=\"butt\" stroke-linejoin=\"miter\">\n\t<path stroke='rgb( 55,  60, 255)'  d='M79.4,214.5 L80.0,214.5 L80.6,214.5 L81.2,214.5 L81.8,214.5 L82.4,214.5 L83.0,214.5 L83.7,214.5\n\t\tL84.3,214.5 L84.9,214.5 L85.5,214.5 L86.1,214.5 L86.7,214.5 L87.3,214.5 L87.9,214.5 L88.5,214.5\n\t\tL89.1,214.5 L89.7,214.5 L90.3,214.5 L90.9,214.5 L91.5,214.5 L92.2,214.5 L92.8,214.5 L93.4,214.5\n\t\tL94.0,214.5 L94.6,214.5 L95.2,214.5 L95.8,214.5 L96.4,214.5 L97.0,214.5 L97.6,214.5 L98.2,214.5\n\t\tL98.8,214.5 L99.4,214.5 L100.1,214.5 L100.7,214.5 L101.3,214.5 L101.9,214.5 L102.5,214.5 L103.1,214.5\n\t\tL103.7,214.5 L104.3,214.5 L104.9,214.5 L105.5,214.5 L106.1,214.5 L106.7,214.5 L107.3,214.5 L107.9,214.5\n\t\tL108.6,214.5 L109.2,214.5 L109.8,214.5 L110.4,214.5 L111.0,214.5 L111.6,214.5 L112.2,214.5 L112.8,214.5\n\t\tL113.4,214.5 L114.0,214.5 L114.6,214.5 L115.2,214.5 L115.8,214.5 L116.4,214.5 L117.1,214.5 L117.7,214.5\n\t\tL118.3,214.5 L118.9,214.5 L119.5,214.5 L120.1,214.5 L120.7,214.5 L121.3,214.5 L121.9,214.5 L122.5,214.5\n\t\tL123.1,214.5 L123.7,214.5 L124.3,214.5 L124.9,214.5 L125.6,214.5 L126.2,214.5 L126.8,214.5 L127.4,214.5\n\t\tL128.0,214.5 L128.6,214.5 L129.2,214.5 L129.8,214.5 L130.4,214.5 L131.0,214.5 L131.6,214.5 L132.2,214.5\n\t\tL132.8,214.5 L133.4,214.5 L134.1,214.5 L134.7,214.5 L135.3,214.5 L135.9,214.5 L136.5,214.5 L137.1,214.5\n\t\tL137.7,214.5 L138.3,214.5 L138.9,214.5 L139.5,214.5 L140.1,214.5 L140.7,214.5 L141.3,214.5 L142.0,214.5\n\t\tL142.6,214.5 L143.2,214.5 L143.8,214.5 L144.4,214.5 L145.0,214.5 L145.6,214.5 L146.2,214.5 L146.8,214.5\n\t\tL147.4,214.5 L148.0,214.5 L148.6,214.5 L149.2,214.5 L149.8,214.5 L150.5,214.5 L151.1,214.5 L151.7,214.5\n\t\tL152.3,214.5 L152.9,214.5 L153.5,214.5 L154.1,214.5 L154.7,214.5 L155.3,214.5 L155.9,214.5 L156.5,214.5\n\t\tL157.1,214.5 L157.7,214.5 L158.3,214.5 L159.0,214.5 L159.6,214.5 L160.2,214.5 L160.8,214.5 L161.4,214.5\n\t\tL162.0,214.5 L162.6,214.5 L163.2,214.5 L163.8,214.5 L164.4,214.5 L165.0,214.5 L165.6,214.5 L166.2,214.5\n\t\tL166.8,214.5 L167.5,214.5 L168.1,214.5 L168.7,214.5 L169.3,214.5 L169.9,214.5 L170.5,214.5 L171.1,214.5\n\t\tL171.7,214.5 L172.3,214.5 L172.9,214.5 L173.5,214.5 L174.1,214.5 L174.7,214.5 L175.4,214.5 L176.0,214.5\n\t\tL176.6,214.5 L177.2,214.5 L177.8,214.5 L178.4,214.5 L179.0,214.5 L179.6,214.5 L180.2,214.5 L180.8,214.5\n\t\tL181.4,214.5 L182.0,214.5 L182.6,214.5 L183.2,214.5 L183.9,214.5 L184.5,214.5 L185.1,214.5 L185.7,214.5\n\t\tL186.3,214.5 L186.9,214.5 L187.5,214.5 L188.1,214.5 L188.7,214.5 L189.3,214.5 L189.9,214.5 L190.5,214.5\n\t\tL191.1,214.5 L191.7,214.5 L192.4,214.5 L193.0,214.5 L193.6,214.5 L194.2,214.5 L194.8,214.5 L195.4,214.5\n\t\tL196.0,214.5 L196.6,214.5 L197.2,214.5 L197.8,214.5 L198.4,214.5 L199.0,214.5 L199.6,214.5 L200.2,214.5\n\t\tL200.9,214.5 L201.5,214.5 L202.1,214.5 L202.7,214.5 L203.3,214.5 L203.9,214.5 L204.5,214.5 L205.1,214.5\n\t\tL205.7,214.5 L206.3,214.5 L206.9,214.5 L207.5,214.5 L208.1,214.5 L208.7,214.5 L209.4,214.5 L210.0,214.5\n\t\tL210.6,214.5 L211.2,214.5 L211.8,214.5 L212.4,214.5 L213.0,214.5 L213.6,214.5 L214.2,214.5 L214.8,214.5\n\t\tL215.4,214.5 L216.0,214.5 L216.6,214.5 L217.3,214.5 L217.9,214.5 L218.5,214.5 L219.1,214.5 L219.7,214.5\n\t\tL220.3,214.5 L220.9,214.5 L221.5,214.5 L222.1,214.5 L222.7,214.5 L223.3,214.5 L223.9,214.5 L224.5,214.5\n\t\tL225.1,214.5 L225.8,214.5 L226.4,214.5 L227.0,214.5 L227.6,214.5 L228.2,214.5 L228.8,214.5 L229.4,214.5\n\t\tL230.0,214.5 L230.6,214.5 L231.2,214.5 L231.8,214.5 L232.4,214.5 L233.0,214.5 L233.6,214.5 L234.3,214.5\n\t\tL234.9,214.5 L235.5,214.5 L236.1,214.5 L236.7,214.5 L237.3,214.5 L237.9,214.5 L238.5,214.5 L239.1,214.5\n\t\tL239.7,214.5 L240.3,214.5 L240.9,214.5 L241.5,214.5 L242.1,214.5 L242.8,214.5 L243.4,214.5 L244.0,214.5\n\t\tL244.6,214.5 L245.2,214.5 L245.8,214.5 L246.4,214.5 L247.0,214.5 L247.6,214.5 L248.2,214.5 L248.8,214.5\n\t\tL249.4,214.5 L250.0,214.5 L250.6,214.5 L251.3,214.5 L251.9,214.5 L252.5,214.5 L253.1,214.5 L253.7,214.5\n\t\tL254.3,214.5 L254.9,214.5 L255.5,214.5 L256.1,214.5 L256.7,214.5 L257.3,214.5 L257.9,214.5 L258.5,214.5\n\t\tL259.2,214.5 L259.8,214.5 L260.4,214.5 L261.0,214.5 L261.6,214.5 L262.2,214.5 L262.8,214.5 L263.4,214.5\n\t\tL264.0,214.5 L264.6,214.5 L265.2,214.5 L265.8,214.5 L266.4,214.5 L267.0,214.5 L267.7,214.5 L268.3,214.5\n\t\tL268.9,214.5 L269.5,214.5 L270.1,214.5 L270.7,214.5 L271.3,214.5 L271.9,214.5 L272.5,214.5 L273.1,214.5\n\t\tL273.7,214.5 L274.3,214.5 L274.9,214.5 L275.5,214.5 L276.2,214.5 L276.8,214.5 L277.4,214.5 L278.0,214.5\n\t\tL278.6,214.5 L279.2,214.5 L279.8,214.5 L280.4,214.5 L281.0,214.5 L281.6,214.5 L282.2,214.5 L282.8,214.5\n\t\tL283.4,214.5 L284.0,214.5 L284.7,214.5 L285.3,214.5 L285.9,214.5 L286.5,214.5 L287.1,214.5 L287.7,214.5\n\t\tL288.3,214.5 L288.9,214.5 L289.5,214.5 L290.1,214.5 L290.7,214.5 L291.3,214.5 L291.9,214.5 L292.5,214.5\n\t\tL293.2,214.5 L293.8,214.5 L294.4,214.5 L295.0,214.5 L295.6,214.5 L296.2,214.5 L296.8,214.5 L297.4,214.5\n\t\tL298.0,214.5 L298.6,214.5 L299.2,214.5 L299.8,214.5 L300.4,214.5 L301.1,214.5 L301.7,214.5 L302.3,214.5\n\t\tL302.9,214.5 L303.5,214.5 L304.1,214.5 L304.7,214.5 L305.3,214.5 L305.9,214.5 L306.5,214.5 L307.1,214.5\n\t\tL307.7,214.5 L308.3,214.5 L308.9,214.5 L309.6,214.5 L310.2,214.5 L310.8,214.5 L311.4,214.5 L312.0,214.5\n\t\tL312.6,214.5 L313.2,214.5 L313.8,214.5 L314.4,214.5 L315.0,214.5 L315.6,214.5 L316.2,214.5 L316.8,214.5\n\t\tL317.4,214.5 L318.1,214.5 L318.7,214.5 L319.3,214.5 L319.9,214.5 L320.5,214.5 L321.1,214.5 L321.7,214.5\n\t\tL322.3,214.5 L322.9,214.5 L323.5,214.5 L324.1,214.5 L324.7,214.5 L325.3,214.5 L325.9,214.5 L326.6,214.5\n\t\tL327.2,214.5 L327.8,214.5 L328.4,214.5 L329.0,214.5 L329.6,214.5 L330.2,214.5 L330.8,214.5 L331.4,214.5\n\t\tL332.0,214.5 L332.6,214.5 L333.2,214.5 L333.8,214.5 L334.5,214.5 L335.1,214.5 L335.7,214.4 L336.3,214.2\n\t\tL336.9,214.0 L337.5,213.6 L338.1,213.2 L338.7,212.8 L339.3,212.2 L339.9,211.6 L340.5,210.9 L341.1,210.2\n\t\tL341.7,209.4 L342.3,208.5 L343.0,207.5 L343.6,206.5 L344.2,205.4 L344.8,204.3 L345.4,203.1 L346.0,201.8\n\t\tL346.6,200.5 L347.2,199.1 L347.8,197.7 L348.4,196.2 L349.0,194.6 L349.6,193.0 L350.2,191.3 L350.8,189.6\n\t\tL351.5,187.9 L352.1,186.1 L352.7,184.2 L353.3,182.3 L353.9,180.4 L354.5,178.4 L355.1,176.4 L355.7,174.4\n\t\tL356.3,172.3 L356.9,170.2 L357.5,168.1 L358.1,165.9 L358.7,163.7 L359.3,161.5 L360.0,159.3 L360.6,157.0\n\t\tL361.2,154.8 L361.8,152.5 L362.4,150.2 L363.0,147.9 L363.6,145.6 L364.2,143.3 L364.8,141.0 L365.4,138.7\n\t\tL366.0,136.4 L366.6,134.1 L367.2,131.8 L367.8,129.5 L368.5,127.2 L369.1,125.0 L369.7,122.7 L370.3,120.5\n\t\tL370.9,118.3 L371.5,116.1 L372.1,113.9 L372.7,111.8 L373.3,109.7 L373.9,107.6 L374.5,105.6 L375.1,103.6\n\t\tL375.7,101.6 L376.4,99.7 L377.0,97.8 L377.6,95.9 L378.2,94.1 L378.8,92.4 L379.4,90.7 L380.0,89.0\n\t\tL380.6,87.4 L381.2,85.8 L381.8,84.3 L382.4,82.9 L383.0,81.5 L383.6,80.2 L384.2,78.9 L384.9,77.7\n\t\tL385.5,76.6 L386.1,75.5 L386.7,74.5 L387.3,73.5 L387.9,72.6 L388.5,71.8 L389.1,71.1 L389.7,70.4\n\t\tL390.3,69.8 L390.9,69.2 L391.5,68.8 L392.1,68.4 L392.7,68.0 L393.4,67.8 L394.0,67.6 L394.6,67.5\n\t\tL395.2,67.5 L395.8,67.5 L396.4,67.6 L397.0,67.8 L397.6,68.0 L398.2,68.4 L398.8,68.8 L399.4,69.2\n\t\tL400.0,69.8 L400.6,70.4 L401.2,71.1 L401.9,71.8 L402.5,72.6 L403.1,73.5 L403.7,74.5 L404.3,75.5\n\t\tL404.9,76.6 L405.5,77.7 L406.1,78.9 L406.7,80.2 L407.3,81.5 L407.9,82.9 L408.5,84.3 L409.1,85.8\n\t\tL409.7,87.4 L410.4,89.0 L411.0,90.7 L411.6,92.4 L412.2,94.1 L412.8,95.9 L413.4,97.8 L414.0,99.7\n\t\tL414.6,101.6 L415.2,103.6 L415.8,105.6 L416.4,107.6 L417.0,109.7 L417.6,111.8 L418.3,113.9 L418.9,116.1\n\t\tL419.5,118.3 L420.1,120.5 L420.7,122.7 L421.3,125.0 L421.9,127.2 L422.5,129.5 L423.1,131.8 L423.7,134.1\n\t\tL424.3,136.4 L424.9,138.7 L425.5,141.0 L426.1,143.3 L426.8,145.6 L427.4,147.9 L428.0,150.2 L428.6,152.5\n\t\tL429.2,154.8 L429.8,157.0 L430.4,159.3 L431.0,161.5 L431.6,163.7 L432.2,165.9 L432.8,168.1 L433.4,170.2\n\t\tL434.0,172.3 L434.6,174.4 L435.3,176.4 L435.9,178.4 L436.5,180.4 L437.1,182.3 L437.7,184.2 L438.3,186.1\n\t\tL438.9,187.9 L439.5,189.6 L440.1,191.3 L440.7,193.0 L441.3,194.6 L441.9,196.2 L442.5,197.7 L443.1,199.1\n\t\tL443.8,200.5 L444.4,201.8 L445.0,203.1 L445.6,204.3 L446.2,205.4 L446.8,206.5 L447.4,207.5 L448.0,208.5\n\t\tL448.6,209.4 L449.2,210.2 L449.8,210.9 L450.4,211.6 L451.0,212.2 L451.6,212.8 L452.3,213.2 L452.9,213.6\n\t\tL453.5,214.0 L454.1,214.2 L454.7,214.4 L455.3,214.5 L455.9,214.5 L456.5,214.5 L457.1,214.5 L457.7,214.5\n\t\tL458.3,214.5 L458.9,214.5 L459.5,214.5 L460.2,214.5 L460.8,214.5 L461.4,214.5 L462.0,214.5 L462.6,214.5\n\t\tL463.2,214.5 L463.8,214.5 L464.4,214.5 L465.0,214.5 L465.6,214.5 L466.2,214.5 L466.8,214.5 L467.4,214.5\n\t\tL468.0,214.5 L468.7,214.5 L469.3,214.5 L469.9,214.5 L470.5,214.5 L471.1,214.5 L471.7,214.5 L472.3,214.5\n\t\tL472.9,214.5 L473.5,214.5 L474.1,214.5 L474.7,214.5 L475.3,214.5 L475.9,214.5 L476.5,214.5 L477.2,214.5\n\t\tL477.8,214.5 L478.4,214.5 L479.0,214.5 L479.6,214.5 L480.2,214.5 L480.8,214.5 L481.4,214.5 L482.0,214.5\n\t\tL482.6,214.5 L483.2,214.5 L483.8,214.5 L484.4,214.5 L485.0,214.5 L485.7,214.5 L486.3,214.5 L486.9,214.5\n\t\tL487.5,214.5 L488.1,214.5 L488.7,214.5 L489.3,214.5 L489.9,214.5 L490.5,214.5 L491.1,214.5 L491.7,214.5\n\t\tL492.3,214.5 L492.9,214.5 L493.5,214.5 L494.2,214.5 L494.8,214.5 L495.4,214.5 L496.0,214.5 L496.6,214.5\n\t\tL497.2,214.5 L497.8,214.5 L498.4,214.5 L499.0,214.5 L499.6,214.5 L500.2,214.5 L500.8,214.5 L501.4,214.5\n\t\tL502.1,214.5 L502.7,214.5 L503.3,214.5 L503.9,214.5 L504.5,214.5 L505.1,214.5 L505.7,214.5 L506.3,214.5\n\t\tL506.9,214.5 L507.5,214.5 L508.1,214.5 L508.7,214.5 L509.3,214.5 L509.9,214.5 L510.6,214.5 L511.2,214.5\n\t\tL511.8,214.5 L512.4,214.5 L513.0,214.5 L513.6,214.5 L514.2,214.5 L514.8,214.5 L515.4,214.5 L516.0,214.5\n\t\tL516.6,214.5 L517.2,214.5 L517.8,214.5 L518.4,214.5 L519.1,214.5 L519.7,214.5 L520.3,214.5 L520.9,214.5\n\t\tL521.5,214.5 L522.1,214.5 L522.7,214.5 L523.3,214.5 L523.9,214.5 L524.5,214.5 L525.1,214.5 L525.7,214.5\n\t\tL526.3,214.5 L526.9,214.5 L527.6,214.5 L528.2,214.5 L528.8,214.5 L529.4,214.5 L530.0,214.5 L530.6,214.5\n\t\tL531.2,214.5 L531.8,214.5 L532.4,214.5 L533.0,214.5 L533.6,214.5 L534.2,214.5 L534.8,214.5 L535.5,214.5\n\t\tL536.1,214.5 L536.7,214.5 L537.3,214.5 L537.9,214.5 L538.5,214.5 L539.1,214.5 L539.7,214.5 L540.3,214.5\n\t\tL540.9,214.5 L541.5,214.5 L542.1,214.5 L542.7,214.5 L543.3,214.5 L544.0,214.5 L544.6,214.5 L545.2,214.5\n\t\tL545.8,214.5 L546.4,214.5 L547.0,214.5 L547.6,214.5 L548.2,214.5 L548.8,214.5 L549.4,214.5 L550.0,214.5\n\t\tL550.6,214.5 L551.2,214.5 L551.8,214.5 L552.5,214.5 L553.1,214.5 L553.7,214.5 L554.3,214.5 L554.9,214.5\n\t\tL555.5,214.5 L556.1,214.5 L556.7,214.5 L557.3,214.5 L557.9,214.5 L558.5,214.5 L559.1,214.5 L559.7,214.5\n\t\tL560.3,214.5 L561.0,214.5 L561.6,214.5 L562.2,214.5 L562.8,214.5 L563.4,214.5 L564.0,214.5 L564.6,214.5\n\t\tL565.2,214.5 L565.8,214.5 L566.4,214.5 L567.0,214.5 L567.6,214.5 L568.2,214.5 L568.8,214.5 L569.5,214.5\n\t\tL570.1,214.5 L570.7,214.5 L571.3,214.5 L571.9,214.5 L572.5,214.5 L573.1,214.5 L573.7,214.5 L574.3,214.5\n\t\tL574.9,214.5 L575.5,214.5 L576.1,214.5 L576.7,214.5 L577.4,214.5 L578.0,214.5 L578.6,214.5 L579.2,214.5\n\t\tL579.8,214.5 L580.4,214.5 L581.0,214.5 L581.6,214.5 L582.2,214.5 L582.8,214.5 L583.4,214.5 L584.0,214.5\n\t\tL584.6,214.5 L585.2,214.5 L585.9,214.5 L586.5,214.5 L587.1,214.5 L587.7,214.5 L588.3,214.5 L588.9,214.5\n\t\tL589.5,214.5  '/></g>\n\t</g>\n\t<g id=\"gnuplot_plot_2\" ><title>gnuplot_plot_2</title>\n<g fill=\"none\" color=\"black\" stroke=\"currentColor\" stroke-width=\"1.00\" stroke-linecap=\"butt\" stroke-linejoin=\"miter\">\n\t<path stroke='rgb(139,  26,  14)'  d='M79.4,214.5 L80.0,214.5 L80.6,214.5 L81.2,214.5 L81.8,214.5 L82.4,214.5 L83.0,214.5 L83.7,214.5\n\t\tL84.3,214.5 L84.9,214.5 L85.5,214.5 L86.1,214.5 L86.7,214.5 L87.3,214.5 L87.9,214.5 L88.5,214.5\n\t\tL89.1,214.5 L89.7,214.5 L90.3,214.5 L90.9,214.5 L91.5,214.5 L92.2,214.5 L92.8,214.5 L93.4,214.4\n\t\tL94.0,214.3 L94.6,214.1 L95.2,213.9 L95.8,213.7 L96.4,213.4 L97.0,213.1 L97.6,212.7 L98.2,212.4\n\t\tL98.8,212.0 L99.4,211.5 L100.1,211.0 L100.7,210.5 L101.3,210.0 L101.9,209.4 L102.5,208.8 L103.1,208.2\n\t\tL103.7,207.5 L104.3,206.8 L104.9,206.1 L105.5,205.4 L106.1,204.6 L106.7,203.8 L107.3,202.9 L107.9,202.1\n\t\tL108.6,201.2 L109.2,200.3 L109.8,199.4 L110.4,198.4 L111.0,197.5 L111.6,196.5 L112.2,195.5 L112.8,194.5\n\t\tL113.4,193.4 L114.0,192.4 L114.6,191.3 L115.2,190.2 L115.8,189.1 L116.4,188.0 L117.1,186.9 L117.7,185.8\n\t\tL118.3,184.7 L118.9,183.5 L119.5,182.4 L120.1,181.2 L120.7,180.1 L121.3,178.9 L121.9,177.8 L122.5,176.6\n\t\tL123.1,175.5 L123.7,174.3 L124.3,173.2 L124.9,172.0 L125.6,170.9 L126.2,169.8 L126.8,168.6 L127.4,167.5\n\t\tL128.0,166.4 L128.6,165.3 L129.2,164.2 L129.8,163.2 L130.4,162.1 L131.0,161.1 L131.6,160.1 L132.2,159.1\n\t\tL132.8,158.1 L133.4,157.1 L134.1,156.2 L134.7,155.2 L135.3,154.3 L135.9,153.5 L136.5,152.6 L137.1,151.8\n\t\tL137.7,151.0 L138.3,150.2 L138.9,149.4 L139.5,148.7 L140.1,148.0 L140.7,147.4 L141.3,146.7 L142.0,146.1\n\t\tL142.6,145.6 L143.2,145.0 L143.8,144.5 L144.4,144.0 L145.0,143.6 L145.6,143.2 L146.2,142.8 L146.8,142.5\n\t\tL147.4,142.2 L148.0,141.9 L148.6,141.7 L149.2,141.5 L149.8,141.3 L150.5,141.2 L151.1,141.1 L151.7,141.0\n\t\tL152.3,141.0 L152.9,141.0 L153.5,141.1 L154.1,141.2 L154.7,141.3 L155.3,141.5 L155.9,141.7 L156.5,141.9\n\t\tL157.1,142.2 L157.7,142.5 L158.3,142.8 L159.0,143.2 L159.6,143.6 L160.2,144.0 L160.8,144.5 L161.4,145.0\n\t\tL162.0,145.6 L162.6,146.1 L163.2,146.7 L163.8,147.4 L164.4,148.0 L165.0,148.7 L165.6,149.4 L166.2,150.2\n\t\tL166.8,151.0 L167.5,151.8 L168.1,152.6 L168.7,153.5 L169.3,154.3 L169.9,155.2 L170.5,156.2 L171.1,157.1\n\t\tL171.7,158.1 L172.3,159.1 L172.9,160.1 L173.5,161.1 L174.1,162.1 L174.7,163.2 L175.4,164.2 L176.0,165.3\n\t\tL176.6,166.4 L177.2,167.5 L177.8,168.6 L178.4,169.8 L179.0,170.9 L179.6,172.0 L180.2,173.2 L180.8,174.3\n\t\tL181.4,175.5 L182.0,176.6 L182.6,177.8 L183.2,178.9 L183.9,180.1 L184.5,181.2 L185.1,182.4 L185.7,183.5\n\t\tL186.3,184.7 L186.9,185.8 L187.5,186.9 L188.1,188.0 L188.7,189.1 L189.3,190.2 L189.9,191.3 L190.5,192.4\n\t\tL191.1,193.4 L191.7,194.5 L192.4,195.5 L193.0,196.5 L193.6,197.5 L194.2,198.4 L194.8,199.4 L195.4,200.3\n\t\tL196.0,201.2 L196.6,202.1 L197.2,202.9 L197.8,203.8 L198.4,204.6 L199.0,205.4 L199.6,206.1 L200.2,206.8\n\t\tL200.9,207.5 L201.5,208.2 L202.1,208.8 L202.7,209.4 L203.3,210.0 L203.9,210.5 L204.5,211.0 L205.1,211.5\n\t\tL205.7,212.0 L206.3,212.4 L206.9,212.7 L207.5,213.1 L208.1,213.4 L208.7,213.7 L209.4,213.9 L210.0,214.1\n\t\tL210.6,214.3 L211.2,214.4 L211.8,214.5 L212.4,214.5 L213.0,214.5 L213.6,214.5 L214.2,214.5 L214.8,214.4\n\t\tL215.4,214.3 L216.0,214.1 L216.6,213.9 L217.3,213.7 L217.9,213.4 L218.5,213.1 L219.1,212.7 L219.7,212.4\n\t\tL220.3,212.0 L220.9,211.5 L221.5,211.0 L222.1,210.5 L222.7,210.0 L223.3,209.4 L223.9,208.8 L224.5,208.2\n\t\tL225.1,207.5 L225.8,206.8 L226.4,206.1 L227.0,205.4 L227.6,204.6 L228.2,203.8 L228.8,202.9 L229.4,202.1\n\t\tL230.0,201.2 L230.6,200.3 L231.2,199.4 L231.8,198.4 L232.4,197.5 L233.0,196.5 L233.6,195.5 L234.3,194.5\n\t\tL234.9,193.4 L235.5,192.4 L236.1,191.3 L236.7,190.2 L237.3,189.1 L237.9,188.0 L238.5,186.9 L239.1,185.8\n\t\tL239.7,184.7 L240.3,183.5 L240.9,182.4 L241.5,181.2 L242.1,180.1 L242.8,178.9 L243.4,177.8 L244.0,176.6\n\t\tL244.6,175.5 L245.2,174.3 L245.8,173.2 L246.4,172.0 L247.0,170.9 L247.6,169.8 L248.2,168.6 L248.8,167.5\n\t\tL249.4,166.4 L250.0,165.3 L250.6,164.2 L251.3,163.2 L251.9,162.1 L252.5,161.1 L253.1,160.1 L253.7,159.1\n\t\tL254.3,158.1 L254.9,157.1 L255.5,156.2 L256.1,155.2 L256.7,154.3 L257.3,153.5 L257.9,152.6 L258.5,151.8\n\t\tL259.2,151.0 L259.8,150.2 L260.4,149.4 L261.0,148.7 L261.6,148.0 L262.2,147.4 L262.8,146.7 L263.4,146.1\n\t\tL264.0,145.6 L264.6,145.0 L265.2,144.5 L265.8,144.0 L266.4,143.6 L267.0,143.2 L267.7,142.8 L268.3,142.5\n\t\tL268.9,142.2 L269.5,141.9 L270.1,141.7 L270.7,141.5 L271.3,141.3 L271.9,141.2 L272.5,141.1 L273.1,141.0\n\t\tL273.7,141.0 L274.3,141.0 L274.9,141.1 L275.5,141.2 L276.2,141.3 L276.8,141.5 L277.4,141.7 L278.0,141.9\n\t\tL278.6,142.2 L279.2,142.5 L279.8,142.8 L280.4,143.2 L281.0,143.6 L281.6,144.0 L282.2,144.5 L282.8,145.0\n\t\tL283.4,145.6 L284.0,146.1 L284.7,146.7 L285.3,147.4 L285.9,148.0 L286.5,148.7 L287.1,149.4 L287.7,150.2\n\t\tL288.3,151.0 L288.9,151.8 L289.5,152.6 L290.1,153.5 L290.7,154.3 L291.3,155.2 L291.9,156.2 L292.5,157.1\n\t\tL293.2,158.1 L293.8,159.1 L294.4,160.1 L295.0,161.1 L295.6,162.1 L296.2,163.2 L296.8,164.2 L297.4,165.3\n\t\tL298.0,166.4 L298.6,167.5 L299.2,168.6 L299.8,169.8 L300.4,170.9 L301.1,172.0 L301.7,173.2 L302.3,174.3\n\t\tL302.9,175.5 L303.5,176.6 L304.1,177.8 L304.7,178.9 L305.3,180.1 L305.9,181.2 L306.5,182.4 L307.1,183.5\n\t\tL307.7,184.7 L308.3,185.8 L308.9,186.9 L309.6,188.0 L310.2,189.1 L310.8,190.2 L311.4,191.3 L312.0,192.4\n\t\tL312.6,193.4 L313.2,194.5 L313.8,195.5 L314.4,196.5 L315.0,197.5 L315.6,198.4 L316.2,199.4 L316.8,200.3\n\t\tL317.4,201.2 L318.1,202.1 L318.7,202.9 L319.3,203.8 L319.9,204.6 L320.5,205.4 L321.1,206.1 L321.7,206.8\n\t\tL322.3,207.5 L322.9,208.2 L323.5,208.8 L324.1,209.4 L324.7,210.0 L325.3,210.5 L325.9,211.0 L326.6,211.5\n\t\tL327.2,212.0 L327.8,212.4 L328.4,212.7 L329.0,213.1 L329.6,213.4 L330.2,213.7 L330.8,213.9 L331.4,214.1\n\t\tL332.0,214.3 L332.6,214.4 L333.2,214.5 L333.8,214.5 L334.5,214.5 L335.1,214.6 L335.7,214.6 L336.3,214.7\n\t\tL336.9,214.8 L337.5,215.0 L338.1,215.2 L338.7,215.4 L339.3,215.7 L339.9,216.0 L340.5,216.3 L341.1,216.7\n\t\tL341.7,217.1 L342.3,217.6 L343.0,218.0 L343.6,218.6 L344.2,219.1 L344.8,219.7 L345.4,220.3 L346.0,220.9\n\t\tL346.6,221.6 L347.2,222.3 L347.8,223.0 L348.4,223.7 L349.0,224.5 L349.6,225.3 L350.2,226.1 L350.8,227.0\n\t\tL351.5,227.9 L352.1,228.8 L352.7,229.7 L353.3,230.6 L353.9,231.6 L354.5,232.6 L355.1,233.6 L355.7,234.6\n\t\tL356.3,235.7 L356.9,236.7 L357.5,237.8 L358.1,238.9 L358.7,240.0 L359.3,241.1 L360.0,242.2 L360.6,243.3\n\t\tL361.2,244.4 L361.8,245.6 L362.4,246.7 L363.0,247.9 L363.6,249.0 L364.2,250.2 L364.8,251.3 L365.4,252.5\n\t\tL366.0,253.6 L366.6,254.8 L367.2,255.9 L367.8,257.1 L368.5,258.2 L369.1,259.3 L369.7,260.5 L370.3,261.6\n\t\tL370.9,262.7 L371.5,263.8 L372.1,264.9 L372.7,265.9 L373.3,267.0 L373.9,268.0 L374.5,269.0 L375.1,270.0\n\t\tL375.7,271.0 L376.4,272.0 L377.0,272.9 L377.6,273.9 L378.2,274.8 L378.8,275.6 L379.4,276.5 L380.0,277.3\n\t\tL380.6,278.1 L381.2,278.9 L381.8,279.6 L382.4,280.4 L383.0,281.1 L383.6,281.7 L384.2,282.4 L384.9,283.0\n\t\tL385.5,283.5 L386.1,284.1 L386.7,284.6 L387.3,285.1 L387.9,285.5 L388.5,285.9 L389.1,286.3 L389.7,286.6\n\t\tL390.3,286.9 L390.9,287.2 L391.5,287.4 L392.1,287.6 L392.7,287.8 L393.4,287.9 L394.0,288.0 L394.6,288.1\n\t\tL395.2,288.1 L395.8,288.1 L396.4,288.0 L397.0,287.9 L397.6,287.8 L398.2,287.6 L398.8,287.4 L399.4,287.2\n\t\tL400.0,286.9 L400.6,286.6 L401.2,286.3 L401.9,285.9 L402.5,285.5 L403.1,285.1 L403.7,284.6 L404.3,284.1\n\t\tL404.9,283.5 L405.5,283.0 L406.1,282.4 L406.7,281.7 L407.3,281.1 L407.9,280.4 L408.5,279.6 L409.1,278.9\n\t\tL409.7,278.1 L410.4,277.3 L411.0,276.5 L411.6,275.6 L412.2,274.8 L412.8,273.9 L413.4,272.9 L414.0,272.0\n\t\tL414.6,271.0 L415.2,270.0 L415.8,269.0 L416.4,268.0 L417.0,267.0 L417.6,265.9 L418.3,264.9 L418.9,263.8\n\t\tL419.5,262.7 L420.1,261.6 L420.7,260.5 L421.3,259.3 L421.9,258.2 L422.5,257.1 L423.1,255.9 L423.7,254.8\n\t\tL424.3,253.6 L424.9,252.5 L425.5,251.3 L426.1,250.2 L426.8,249.0 L427.4,247.9 L428.0,246.7 L428.6,245.6\n\t\tL429.2,244.4 L429.8,243.3 L430.4,242.2 L431.0,241.1 L431.6,240.0 L432.2,238.9 L432.8,237.8 L433.4,236.7\n\t\tL434.0,235.7 L434.6,234.6 L435.3,233.6 L435.9,232.6 L436.5,231.6 L437.1,230.6 L437.7,229.7 L438.3,228.8\n\t\tL438.9,227.9 L439.5,227.0 L440.1,226.1 L440.7,225.3 L441.3,224.5 L441.9,223.7 L442.5,223.0 L443.1,222.3\n\t\tL443.8,221.6 L444.4,220.9 L445.0,220.3 L445.6,219.7 L446.2,219.1 L446.8,218.6 L447.4,218.0 L448.0,217.6\n\t\tL448.6,217.1 L449.2,216.7 L449.8,216.3 L450.4,216.0 L451.0,215.7 L451.6,215.4 L452.3,215.2 L452.9,215.0\n\t\tL453.5,214.8 L454.1,214.7 L454.7,214.6 L455.3,214.6 L455.9,214.5 L456.5,214.5 L457.1,214.5 L457.7,214.4\n\t\tL458.3,214.3 L458.9,214.1 L459.5,213.9 L460.2,213.7 L460.8,213.4 L461.4,213.1 L462.0,212.7 L462.6,212.4\n\t\tL463.2,212.0 L463.8,211.5 L464.4,211.0 L465.0,210.5 L465.6,210.0 L466.2,209.4 L466.8,208.8 L467.4,208.2\n\t\tL468.0,207.5 L468.7,206.8 L469.3,206.1 L469.9,205.4 L470.5,204.6 L471.1,203.8 L471.7,202.9 L472.3,202.1\n\t\tL472.9,201.2 L473.5,200.3 L474.1,199.4 L474.7,198.4 L475.3,197.5 L475.9,196.5 L476.5,195.5 L477.2,194.5\n\t\tL477.8,193.4 L478.4,192.4 L479.0,191.3 L479.6,190.2 L480.2,189.1 L480.8,188.0 L481.4,186.9 L482.0,185.8\n\t\tL482.6,184.7 L483.2,183.5 L483.8,182.4 L484.4,181.2 L485.0,180.1 L485.7,178.9 L486.3,177.8 L486.9,176.6\n\t\tL487.5,175.5 L488.1,174.3 L488.7,173.2 L489.3,172.0 L489.9,170.9 L490.5,169.8 L491.1,168.6 L491.7,167.5\n\t\tL492.3,166.4 L492.9,165.3 L493.5,164.2 L494.2,163.2 L494.8,162.1 L495.4,161.1 L496.0,160.1 L496.6,159.1\n\t\tL497.2,158.1 L497.8,157.1 L498.4,156.2 L499.0,155.2 L499.6,154.3 L500.2,153.5 L500.8,152.6 L501.4,151.8\n\t\tL502.1,151.0 L502.7,150.2 L503.3,149.4 L503.9,148.7 L504.5,148.0 L505.1,147.4 L505.7,146.7 L506.3,146.1\n\t\tL506.9,145.6 L507.5,145.0 L508.1,144.5 L508.7,144.0 L509.3,143.6 L509.9,143.2 L510.6,142.8 L511.2,142.5\n\t\tL511.8,142.2 L512.4,141.9 L513.0,141.7 L513.6,141.5 L514.2,141.3 L514.8,141.2 L515.4,141.1 L516.0,141.0\n\t\tL516.6,141.0 L517.2,141.0 L517.8,141.1 L518.4,141.2 L519.1,141.3 L519.7,141.5 L520.3,141.7 L520.9,141.9\n\t\tL521.5,142.2 L522.1,142.5 L522.7,142.8 L523.3,143.2 L523.9,143.6 L524.5,144.0 L525.1,144.5 L525.7,145.0\n\t\tL526.3,145.6 L526.9,146.1 L527.6,146.7 L528.2,147.4 L528.8,148.0 L529.4,148.7 L530.0,149.4 L530.6,150.2\n\t\tL531.2,151.0 L531.8,151.8 L532.4,152.6 L533.0,153.5 L533.6,154.3 L534.2,155.2 L534.8,156.2 L535.5,157.1\n\t\tL536.1,158.1 L536.7,159.1 L537.3,160.1 L537.9,161.1 L538.5,162.1 L539.1,163.2 L539.7,164.2 L540.3,165.3\n\t\tL540.9,166.4 L541.5,167.5 L542.1,168.6 L542.7,169.8 L543.3,170.9 L544.0,172.0 L544.6,173.2 L545.2,174.3\n\t\tL545.8,175.5 L546.4,176.6 L547.0,177.8 L547.6,178.9 L548.2,180.1 L548.8,181.2 L549.4,182.4 L550.0,183.5\n\t\tL550.6,184.7 L551.2,185.8 L551.8,186.9 L552.5,188.0 L553.1,189.1 L553.7,190.2 L554.3,191.3 L554.9,192.4\n\t\tL555.5,193.4 L556.1,194.5 L556.7,195.5 L557.3,196.5 L557.9,197.5 L558.5,198.4 L559.1,199.4 L559.7,200.3\n\t\tL560.3,201.2 L561.0,202.1 L561.6,202.9 L562.2,203.8 L562.8,204.6 L563.4,205.4 L564.0,206.1 L564.6,206.8\n\t\tL565.2,207.5 L565.8,208.2 L566.4,208.8 L567.0,209.4 L567.6,210.0 L568.2,210.5 L568.8,211.0 L569.5,211.5\n\t\tL570.1,212.0 L570.7,212.4 L571.3,212.7 L571.9,213.1 L572.5,213.4 L573.1,213.7 L573.7,213.9 L574.3,214.1\n\t\tL574.9,214.3 L575.5,214.4 L576.1,214.5 L576.7,214.5 L577.4,214.5 L578.0,214.5 L578.6,214.5 L579.2,214.5\n\t\tL579.8,214.5 L580.4,214.5 L581.0,214.5 L581.6,214.5 L582.2,214.5 L582.8,214.5 L583.4,214.5 L584.0,214.5\n\t\tL584.6,214.5 L585.2,214.5 L585.9,214.5 L586.5,214.5 L587.1,214.5 L587.7,214.5 L588.3,214.5 L588.9,214.5\n\t\tL589.5,214.5  '/></g>\n\t</g>\n\t<g id=\"gnuplot_plot_3\" ><title>gnuplot_plot_3</title>\n<g fill=\"none\" color=\"black\" stroke=\"currentColor\" stroke-width=\"1.00\" stroke-linecap=\"butt\" stroke-linejoin=\"miter\">\n\t<path stroke='rgb( 94, 156,  54)'  d='M79.4,214.5 L80.0,214.5 L80.6,214.5 L81.2,214.5 L81.8,214.5 L82.4,214.5 L83.0,214.5 L83.7,214.5\n\t\tL84.3,214.5 L84.9,214.5 L85.5,214.5 L86.1,214.5 L86.7,214.5 L87.3,214.5 L87.9,214.5 L88.5,214.5\n\t\tL89.1,214.5 L89.7,214.5 L90.3,214.5 L90.9,214.5 L91.5,214.5 L92.2,214.5 L92.8,214.5 L93.4,214.5\n\t\tL94.0,214.5 L94.6,214.5 L95.2,214.5 L95.8,214.5 L96.4,214.5 L97.0,214.5 L97.6,214.5 L98.2,214.5\n\t\tL98.8,214.5 L99.4,214.5 L100.1,214.5 L100.7,214.5 L101.3,214.5 L101.9,214.5 L102.5,214.5 L103.1,214.5\n\t\tL103.7,214.5 L104.3,214.5 L104.9,214.5 L105.5,214.5 L106.1,214.5 L106.7,214.5 L107.3,214.5 L107.9,214.5\n\t\tL108.6,214.5 L109.2,214.5 L109.8,214.5 L110.4,214.5 L111.0,214.5 L111.6,214.5 L112.2,214.5 L112.8,214.5\n\t\tL113.4,214.5 L114.0,214.5 L114.6,214.5 L115.2,214.5 L115.8,214.5 L116.4,214.5 L117.1,214.5 L117.7,214.5\n\t\tL118.3,214.5 L118.9,214.5 L119.5,214.5 L120.1,214.5 L120.7,214.5 L121.3,214.5 L121.9,214.5 L122.5,214.5\n\t\tL123.1,214.5 L123.7,214.5 L124.3,214.5 L124.9,214.5 L125.6,214.5 L126.2,214.5 L126.8,214.5 L127.4,214.5\n\t\tL128.0,214.5 L128.6,214.5 L129.2,214.5 L129.8,214.5 L130.4,214.5 L131.0,214.5 L131.6,214.5 L132.2,214.5\n\t\tL132.8,214.5 L133.4,214.5 L134.1,214.5 L134.7,214.5 L135.3,214.5 L135.9,214.5 L136.5,214.5 L137.1,214.5\n\t\tL137.7,214.5 L138.3,214.5 L138.9,214.5 L139.5,214.5 L140.1,214.5 L140.7,214.5 L141.3,214.5 L142.0,214.5\n\t\tL142.6,214.5 L143.2,214.5 L143.8,214.5 L144.4,214.5 L145.0,214.5 L145.6,214.5 L146.2,214.5 L146.8,214.5\n\t\tL147.4,214.5 L148.0,214.5 L148.6,214.5 L149.2,214.5 L149.8,214.5 L150.5,214.5 L151.1,214.5 L151.7,214.5\n\t\tL152.3,214.5 L152.9,214.5 L153.5,214.5 L154.1,214.5 L154.7,214.5 L155.3,214.5 L155.9,214.5 L156.5,214.5\n\t\tL157.1,214.5 L157.7,214.5 L158.3,214.5 L159.0,214.5 L159.6,214.5 L160.2,214.5 L160.8,214.5 L161.4,214.5\n\t\tL162.0,214.5 L162.6,214.5 L163.2,214.5 L163.8,214.5 L164.4,214.5 L165.0,214.5 L165.6,214.5 L166.2,214.5\n\t\tL166.8,214.5 L167.5,214.5 L168.1,214.5 L168.7,214.5 L169.3,214.5 L169.9,214.5 L170.5,214.5 L171.1,214.5\n\t\tL171.7,214.5 L172.3,214.5 L172.9,214.5 L173.5,214.5 L174.1,214.5 L174.7,214.5 L175.4,214.5 L176.0,214.5\n\t\tL176.6,214.5 L177.2,214.5 L177.8,214.5 L178.4,214.5 L179.0,214.5 L179.6,214.5 L180.2,214.5 L180.8,214.5\n\t\tL181.4,214.5 L182.0,214.5 L182.6,214.5 L183.2,214.5 L183.9,214.5 L184.5,214.5 L185.1,214.5 L185.7,214.5\n\t\tL186.3,214.5 L186.9,214.5 L187.5,214.5 L188.1,214.5 L188.7,214.5 L189.3,214.5 L189.9,214.5 L190.5,214.5\n\t\tL191.1,214.5 L191.7,214.5 L192.4,214.5 L193.0,214.5 L193.6,214.5 L194.2,214.5 L194.8,214.5 L195.4,214.5\n\t\tL196.0,214.5 L196.6,214.5 L197.2,214.5 L197.8,214.5 L198.4,214.5 L199.0,214.5 L199.6,214.5 L200.2,214.5\n\t\tL200.9,214.5 L201.5,214.5 L202.1,214.5 L202.7,214.5 L203.3,214.5 L203.9,214.5 L204.5,214.5 L205.1,214.5\n\t\tL205.7,214.5 L206.3,214.5 L206.9,214.5 L207.5,214.5 L208.1,214.5 L208.7,214.5 L209.4,214.5 L210.0,214.5\n\t\tL210.6,214.5 L211.2,214.5 L211.8,214.5 L212.4,214.5 L213.0,214.5 L213.6,214.5 L214.2,214.5 L214.8,214.5\n\t\tL215.4,214.5 L216.0,214.5 L216.6,214.5 L217.3,214.5 L217.9,214.5 L218.5,214.5 L219.1,214.5 L219.7,214.5\n\t\tL220.3,214.5 L220.9,214.5 L221.5,214.5 L222.1,214.5 L222.7,214.5 L223.3,214.5 L223.9,214.5 L224.5,214.5\n\t\tL225.1,214.5 L225.8,214.5 L226.4,214.5 L227.0,214.5 L227.6,214.5 L228.2,214.5 L228.8,214.5 L229.4,214.5\n\t\tL230.0,214.5 L230.6,214.5 L231.2,214.5 L231.8,214.5 L232.4,214.5 L233.0,214.5 L233.6,214.5 L234.3,214.5\n\t\tL234.9,214.5 L235.5,214.5 L236.1,214.5 L236.7,214.5 L237.3,214.5 L237.9,214.5 L238.5,214.5 L239.1,214.5\n\t\tL239.7,214.5 L240.3,214.5 L240.9,214.5 L241.5,214.5 L242.1,214.5 L242.8,214.5 L243.4,214.5 L244.0,214.5\n\t\tL244.6,214.5 L245.2,214.5 L245.8,214.5 L246.4,214.5 L247.0,214.5 L247.6,214.5 L248.2,214.5 L248.8,214.5\n\t\tL249.4,214.5 L250.0,214.5 L250.6,214.5 L251.3,214.5 L251.9,214.5 L252.5,214.5 L253.1,214.5 L253.7,214.5\n\t\tL254.3,214.5 L254.9,214.5 L255.5,214.5 L256.1,214.5 L256.7,214.5 L257.3,214.5 L257.9,214.5 L258.5,214.5\n\t\tL259.2,214.5 L259.8,214.5 L260.4,214.5 L261.0,214.5 L261.6,214.5 L262.2,214.5 L262.8,214.5 L263.4,214.5\n\t\tL264.0,214.5 L264.6,214.5 L265.2,214.5 L265.8,214.5 L266.4,214.5 L267.0,214.5 L267.7,214.5 L268.3,214.5\n\t\tL268.9,214.5 L269.5,214.5 L270.1,214.5 L270.7,214.5 L271.3,214.5 L271.9,214.5 L272.5,214.5 L273.1,214.5\n\t\tL273.7,214.5 L274.3,214.5 L274.9,214.5 L275.5,214.5 L276.2,214.5 L276.8,214.5 L277.4,214.5 L278.0,214.5\n\t\tL278.6,214.5 L279.2,214.5 L279.8,214.5 L280.4,214.5 L281.0,214.5 L281.6,214.5 L282.2,214.5 L282.8,214.5\n\t\tL283.4,214.5 L284.0,214.5 L284.7,214.5 L285.3,214.5 L285.9,214.5 L286.5,214.5 L287.1,214.5 L287.7,214.5\n\t\tL288.3,214.5 L288.9,214.5 L289.5,214.5 L290.1,214.5 L290.7,214.5 L291.3,214.5 L291.9,214.5 L292.5,214.5\n\t\tL293.2,214.5 L293.8,214.5 L294.4,214.5 L295.0,214.5 L295.6,214.5 L296.2,214.5 L296.8,214.5 L297.4,214.5\n\t\tL298.0,214.5 L298.6,214.5 L299.2,214.5 L299.8,214.5 L300.4,214.5 L301.1,214.5 L301.7,214.5 L302.3,214.5\n\t\tL302.9,214.5 L303.5,214.5 L304.1,214.5 L304.7,214.5 L305.3,214.5 L305.9,214.5 L306.5,214.5 L307.1,214.5\n\t\tL307.7,214.5 L308.3,214.5 L308.9,214.5 L309.6,214.5 L310.2,214.5 L310.8,214.5 L311.4,214.5 L312.0,214.5\n\t\tL312.6,214.5 L313.2,214.5 L313.8,214.5 L314.4,214.5 L315.0,214.5 L315.6,214.5 L316.2,214.5 L316.8,214.5\n\t\tL317.4,214.5 L318.1,214.5 L318.7,214.5 L319.3,214.5 L319.9,214.5 L320.5,214.5 L321.1,214.5 L321.7,214.5\n\t\tL322.3,214.5 L322.9,214.5 L323.5,214.5 L324.1,214.5 L324.7,214.5 L325.3,214.5 L325.9,214.5 L326.6,214.5\n\t\tL327.2,214.5 L327.8,214.5 L328.4,214.5 L329.0,214.5 L329.6,214.5 L330.2,214.5 L330.8,214.5 L331.4,214.5\n\t\tL332.0,214.5 L332.6,214.5 L333.2,214.5 L333.8,214.5 L334.5,214.5 L335.1,214.5 L335.7,214.5 L336.3,214.5\n\t\tL336.9,214.5 L337.5,214.5 L338.1,214.6 L338.7,214.6 L339.3,214.6 L339.9,214.6 L340.5,214.6 L341.1,214.7\n\t\tL341.7,214.7 L342.3,214.7 L343.0,214.8 L343.6,214.9 L344.2,215.0 L344.8,215.1 L345.4,215.3 L346.0,215.4\n\t\tL346.6,215.6 L347.2,215.9 L347.8,216.1 L348.4,216.4 L349.0,216.8 L349.6,217.1 L350.2,217.5 L350.8,218.0\n\t\tL351.5,218.5 L352.1,219.0 L352.7,219.6 L353.3,220.3 L353.9,221.0 L354.5,221.8 L355.1,222.6 L355.7,223.5\n\t\tL356.3,224.4 L356.9,225.5 L357.5,226.5 L358.1,227.7 L358.7,228.9 L359.3,230.2 L360.0,231.5 L360.6,232.9\n\t\tL361.2,234.4 L361.8,235.9 L362.4,237.5 L363.0,239.2 L363.6,240.9 L364.2,242.7 L364.8,244.6 L365.4,246.5\n\t\tL366.0,248.5 L366.6,250.5 L367.2,252.6 L367.8,254.7 L368.5,256.9 L369.1,259.1 L369.7,261.4 L370.3,263.7\n\t\tL370.9,266.0 L371.5,268.4 L372.1,270.7 L372.7,273.2 L373.3,275.6 L373.9,278.0 L374.5,280.5 L375.1,282.9\n\t\tL375.7,285.4 L376.4,287.8 L377.0,290.2 L377.6,292.7 L378.2,295.0 L378.8,297.4 L379.4,299.7 L380.0,302.0\n\t\tL380.6,304.3 L381.2,306.5 L381.8,308.7 L382.4,310.8 L383.0,312.8 L383.6,314.8 L384.2,316.7 L384.9,318.5\n\t\tL385.5,320.2 L386.1,321.9 L386.7,323.5 L387.3,325.0 L387.9,326.4 L388.5,327.6 L389.1,328.8 L389.7,329.9\n\t\tL390.3,330.9 L390.9,331.8 L391.5,332.5 L392.1,333.2 L392.7,333.7 L393.4,334.1 L394.0,334.4 L394.6,334.6\n\t\tL395.2,334.6 L395.8,334.6 L396.4,334.4 L397.0,334.1 L397.6,333.7 L398.2,333.2 L398.8,332.5 L399.4,331.8\n\t\tL400.0,330.9 L400.6,329.9 L401.2,328.8 L401.9,327.6 L402.5,326.4 L403.1,325.0 L403.7,323.5 L404.3,321.9\n\t\tL404.9,320.2 L405.5,318.5 L406.1,316.7 L406.7,314.8 L407.3,312.8 L407.9,310.8 L408.5,308.7 L409.1,306.5\n\t\tL409.7,304.3 L410.4,302.0 L411.0,299.7 L411.6,297.4 L412.2,295.0 L412.8,292.7 L413.4,290.2 L414.0,287.8\n\t\tL414.6,285.4 L415.2,282.9 L415.8,280.5 L416.4,278.0 L417.0,275.6 L417.6,273.2 L418.3,270.7 L418.9,268.4\n\t\tL419.5,266.0 L420.1,263.7 L420.7,261.4 L421.3,259.1 L421.9,256.9 L422.5,254.7 L423.1,252.6 L423.7,250.5\n\t\tL424.3,248.5 L424.9,246.5 L425.5,244.6 L426.1,242.7 L426.8,240.9 L427.4,239.2 L428.0,237.5 L428.6,235.9\n\t\tL429.2,234.4 L429.8,232.9 L430.4,231.5 L431.0,230.2 L431.6,228.9 L432.2,227.7 L432.8,226.5 L433.4,225.5\n\t\tL434.0,224.4 L434.6,223.5 L435.3,222.6 L435.9,221.8 L436.5,221.0 L437.1,220.3 L437.7,219.6 L438.3,219.0\n\t\tL438.9,218.5 L439.5,218.0 L440.1,217.5 L440.7,217.1 L441.3,216.8 L441.9,216.4 L442.5,216.1 L443.1,215.9\n\t\tL443.8,215.6 L444.4,215.4 L445.0,215.3 L445.6,215.1 L446.2,215.0 L446.8,214.9 L447.4,214.8 L448.0,214.7\n\t\tL448.6,214.7 L449.2,214.7 L449.8,214.6 L450.4,214.6 L451.0,214.6 L451.6,214.6 L452.3,214.6 L452.9,214.5\n\t\tL453.5,214.5 L454.1,214.5 L454.7,214.5 L455.3,214.5 L455.9,214.5 L456.5,214.5 L457.1,214.5 L457.7,214.5\n\t\tL458.3,214.5 L458.9,214.5 L459.5,214.5 L460.2,214.5 L460.8,214.5 L461.4,214.5 L462.0,214.5 L462.6,214.5\n\t\tL463.2,214.5 L463.8,214.5 L464.4,214.5 L465.0,214.5 L465.6,214.5 L466.2,214.5 L466.8,214.5 L467.4,214.5\n\t\tL468.0,214.5 L468.7,214.5 L469.3,214.5 L469.9,214.5 L470.5,214.5 L471.1,214.5 L471.7,214.5 L472.3,214.5\n\t\tL472.9,214.5 L473.5,214.5 L474.1,214.5 L474.7,214.5 L475.3,214.5 L475.9,214.5 L476.5,214.5 L477.2,214.5\n\t\tL477.8,214.5 L478.4,214.5 L479.0,214.5 L479.6,214.5 L480.2,214.5 L480.8,214.5 L481.4,214.5 L482.0,214.5\n\t\tL482.6,214.5 L483.2,214.5 L483.8,214.5 L484.4,214.5 L485.0,214.5 L485.7,214.5 L486.3,214.5 L486.9,214.5\n\t\tL487.5,214.5 L488.1,214.5 L488.7,214.5 L489.3,214.5 L489.9,214.5 L490.5,214.5 L491.1,214.5 L491.7,214.5\n\t\tL492.3,214.5 L492.9,214.5 L493.5,214.5 L494.2,214.5 L494.8,214.5 L495.4,214.5 L496.0,214.5 L496.6,214.5\n\t\tL497.2,214.5 L497.8,214.5 L498.4,214.5 L499.0,214.5 L499.6,214.5 L500.2,214.5 L500.8,214.5 L501.4,214.5\n\t\tL502.1,214.5 L502.7,214.5 L503.3,214.5 L503.9,214.5 L504.5,214.5 L505.1,214.5 L505.7,214.5 L506.3,214.5\n\t\tL506.9,214.5 L507.5,214.5 L508.1,214.5 L508.7,214.5 L509.3,214.5 L509.9,214.5 L510.6,214.5 L511.2,214.5\n\t\tL511.8,214.5 L512.4,214.5 L513.0,214.5 L513.6,214.5 L514.2,214.5 L514.8,214.5 L515.4,214.5 L516.0,214.5\n\t\tL516.6,214.5 L517.2,214.5 L517.8,214.5 L518.4,214.5 L519.1,214.5 L519.7,214.5 L520.3,214.5 L520.9,214.5\n\t\tL521.5,214.5 L522.1,214.5 L522.7,214.5 L523.3,214.5 L523.9,214.5 L524.5,214.5 L525.1,214.5 L525.7,214.5\n\t\tL526.3,214.5 L526.9,214.5 L527.6,214.5 L528.2,214.5 L528.8,214.5 L529.4,214.5 L530.0,214.5 L530.6,214.5\n\t\tL531.2,214.5 L531.8,214.5 L532.4,214.5 L533.0,214.5 L533.6,214.5 L534.2,214.5 L534.8,214.5 L535.5,214.5\n\t\tL536.1,214.5 L536.7,214.5 L537.3,214.5 L537.9,214.5 L538.5,214.5 L539.1,214.5 L539.7,214.5 L540.3,214.5\n\t\tL540.9,214.5 L541.5,214.5 L542.1,214.5 L542.7,214.5 L543.3,214.5 L544.0,214.5 L544.6,214.5 L545.2,214.5\n\t\tL545.8,214.5 L546.4,214.5 L547.0,214.5 L547.6,214.5 L548.2,214.5 L548.8,214.5 L549.4,214.5 L550.0,214.5\n\t\tL550.6,214.5 L551.2,214.5 L551.8,214.5 L552.5,214.5 L553.1,214.5 L553.7,214.5 L554.3,214.5 L554.9,214.5\n\t\tL555.5,214.5 L556.1,214.5 L556.7,214.5 L557.3,214.5 L557.9,214.5 L558.5,214.5 L559.1,214.5 L559.7,214.5\n\t\tL560.3,214.5 L561.0,214.5 L561.6,214.5 L562.2,214.5 L562.8,214.5 L563.4,214.5 L564.0,214.5 L564.6,214.5\n\t\tL565.2,214.5 L565.8,214.5 L566.4,214.5 L567.0,214.5 L567.6,214.5 L568.2,214.5 L568.8,214.5 L569.5,214.5\n\t\tL570.1,214.5 L570.7,214.5 L571.3,214.5 L571.9,214.5 L572.5,214.5 L573.1,214.5 L573.7,214.5 L574.3,214.5\n\t\tL574.9,214.5 L575.5,214.5 L576.1,214.5 L576.7,214.5 L577.4,214.5 L578.0,214.5 L578.6,214.5 L579.2,214.5\n\t\tL579.8,214.5 L580.4,214.5 L581.0,214.5 L581.6,214.5 L582.2,214.5 L582.8,214.5 L583.4,214.5 L584.0,214.5\n\t\tL584.6,214.5 L585.2,214.5 L585.9,214.5 L586.5,214.5 L587.1,214.5 L587.7,214.5 L588.3,214.5 L588.9,214.5\n\t\tL589.5,214.5  '/></g>\n\t</g>\n<g fill=\"none\" color=\"#FFFFFF\" stroke=\"rgb( 94, 156,  54)\" stroke-width=\"2.00\" stroke-linecap=\"butt\" stroke-linejoin=\"miter\">\n</g>\n<g fill=\"none\" color=\"black\" stroke=\"currentColor\" stroke-width=\"2.00\" stroke-linecap=\"butt\" stroke-linejoin=\"miter\">\n</g>\n<g fill=\"none\" color=\"black\" stroke=\"black\" stroke-width=\"1.00\" stroke-linecap=\"butt\" stroke-linejoin=\"miter\">\n</g>\n<g fill=\"none\" color=\"black\" stroke=\"currentColor\" stroke-width=\"1.00\" stroke-linecap=\"butt\" stroke-linejoin=\"miter\">\n\t<path stroke='black'  d='M53.9,54.1 L53.9,348.0 L615.0,348.0 L615.0,54.1 L53.9,54.1 Z  '/></g>\n<g fill=\"none\" color=\"black\" stroke=\"currentColor\" stroke-width=\"1.00\" stroke-linecap=\"butt\" stroke-linejoin=\"miter\">\n</g>\n</g>\n</svg>\n\n"
               },
               "type": "node"
              }
             ],
             "instanceArgs": {
              "namespace": "html",
              "tag": "div"
             },
             "nodeType": "DOM",
             "props": {
              "className": "interact-flex-row interact-widget"
             },
             "type": "node"
            }
           }
          },
          "systemjs_options": null
         },
         "nodeType": "Scope",
         "props": {},
         "type": "node"
        }
       ],
       "instanceArgs": {
        "namespace": "html",
        "tag": "div"
       },
       "nodeType": "DOM",
       "props": {},
       "type": "node"
      },
      "text/html": [
       "<div\n",
       "    class=\"webio-mountpoint\"\n",
       "    data-webio-mountpoint=\"14358743900808810128\"\n",
       ">\n",
       "    <script>\n",
       "    if (window.require && require.defined && require.defined(\"nbextensions/webio-jupyter-notebook\")) {\n",
       "        console.log(\"Jupyter WebIO extension detected, not mounting.\");\n",
       "    } else if (window.WebIO) {\n",
       "        WebIO.mount(\n",
       "            document.querySelector('[data-webio-mountpoint=\"14358743900808810128\"]'),\n",
       "            {\"props\":{},\"nodeType\":\"DOM\",\"type\":\"node\",\"instanceArgs\":{\"namespace\":\"html\",\"tag\":\"div\"},\"children\":[{\"props\":{\"className\":\"field interact-widget\"},\"nodeType\":\"DOM\",\"type\":\"node\",\"instanceArgs\":{\"namespace\":\"html\",\"tag\":\"div\"},\"children\":[{\"props\":{},\"nodeType\":\"Scope\",\"type\":\"node\",\"instanceArgs\":{\"imports\":{\"data\":[{\"name\":\"knockout\",\"type\":\"js\",\"url\":\"\\/assetserver\\/5bbdbbb0b09c5b1b887ee10da5f86cd1febbf135-knockout.js\"},{\"name\":\"knockout_punches\",\"type\":\"js\",\"url\":\"\\/assetserver\\/15065e2dd05fe2b7d23387469481615adcbf22a9-knockout_punches.js\"},{\"name\":null,\"type\":\"js\",\"url\":\"\\/assetserver\\/f8e1899f8867ff0491f4fc4ae1bbd02e4edbfd5f-all.js\"},{\"name\":null,\"type\":\"css\",\"url\":\"\\/assetserver\\/fa25a5d76d95d7d0412e3df66bb14418405899f6-style.css\"},{\"name\":null,\"type\":\"css\",\"url\":\"\\/assetserver\\/2e96df717df741d8a01b6c1c62121c67b6599ff5-bulma_confined.min.css\"}],\"type\":\"async_block\"},\"id\":\"13781787398608746729\",\"handlers\":{\"changes\":[\"(function (val){return (val!=this.model[\\\"changes\\\"]()) ? (this.valueFromJulia[\\\"changes\\\"]=true, this.model[\\\"changes\\\"](val)) : undefined})\"],\"index\":[\"(function (val){return (val!=this.model[\\\"index\\\"]()) ? (this.valueFromJulia[\\\"index\\\"]=true, this.model[\\\"index\\\"](val)) : undefined})\"]},\"systemjs_options\":null,\"mount_callbacks\":[\"function () {\\n    var handler = (function (ko, koPunches) {\\n    ko.punches.enableAll();\\n    ko.bindingHandlers.numericValue = {\\n        init: function(element, valueAccessor, allBindings, data, context) {\\n            var stringified = ko.observable(ko.unwrap(valueAccessor()));\\n            stringified.subscribe(function(value) {\\n                var val = parseFloat(value);\\n                if (!isNaN(val)) {\\n                    valueAccessor()(val);\\n                }\\n            });\\n            valueAccessor().subscribe(function(value) {\\n                var str = JSON.stringify(value);\\n                if ((str == \\\"0\\\") && ([\\\"-0\\\", \\\"-0.\\\"].indexOf(stringified()) >= 0))\\n                     return;\\n                 if ([\\\"null\\\", \\\"\\\"].indexOf(str) >= 0)\\n                     return;\\n                stringified(str);\\n            });\\n            ko.applyBindingsToNode(\\n                element,\\n                {\\n                    value: stringified,\\n                    valueUpdate: allBindings.get('valueUpdate'),\\n                },\\n                context,\\n            );\\n        }\\n    };\\n    var json_data = {\\\"formatted_vals\\\":[\\\"-1.0\\\",\\\"-0.9\\\",\\\"-0.8\\\",\\\"-0.7\\\",\\\"-0.6\\\",\\\"-0.5\\\",\\\"-0.4\\\",\\\"-0.3\\\",\\\"-0.2\\\",\\\"-0.1\\\",\\\"0.0\\\",\\\"0.1\\\",\\\"0.2\\\",\\\"0.3\\\",\\\"0.4\\\",\\\"0.5\\\",\\\"0.6\\\",\\\"0.7\\\",\\\"0.8\\\",\\\"0.9\\\",\\\"1.0\\\",\\\"1.1\\\",\\\"1.2\\\",\\\"1.3\\\",\\\"1.4\\\",\\\"1.5\\\",\\\"1.6\\\",\\\"1.7\\\",\\\"1.8\\\",\\\"1.9\\\",\\\"2.0\\\",\\\"2.1\\\",\\\"2.2\\\",\\\"2.3\\\",\\\"2.4\\\",\\\"2.5\\\",\\\"2.6\\\",\\\"2.7\\\",\\\"2.8\\\",\\\"2.9\\\",\\\"3.0\\\",\\\"3.1\\\",\\\"3.2\\\",\\\"3.3\\\",\\\"3.4\\\",\\\"3.5\\\",\\\"3.6\\\",\\\"3.7\\\",\\\"3.8\\\",\\\"3.9\\\",\\\"4.0\\\",\\\"4.1\\\",\\\"4.2\\\",\\\"4.3\\\",\\\"4.4\\\",\\\"4.5\\\",\\\"4.6\\\",\\\"4.7\\\",\\\"4.8\\\",\\\"4.9\\\",\\\"5.0\\\"],\\\"changes\\\":WebIO.getval({\\\"name\\\":\\\"changes\\\",\\\"scope\\\":\\\"13781787398608746729\\\",\\\"id\\\":\\\"ob_03\\\",\\\"type\\\":\\\"observable\\\"}),\\\"index\\\":WebIO.getval({\\\"name\\\":\\\"index\\\",\\\"scope\\\":\\\"13781787398608746729\\\",\\\"id\\\":\\\"ob_02\\\",\\\"type\\\":\\\"observable\\\"})};\\n    var self = this;\\n    function AppViewModel() {\\n        for (var key in json_data) {\\n            var el = json_data[key];\\n            this[key] = Array.isArray(el) ? ko.observableArray(el) : ko.observable(el);\\n        }\\n        \\n        [this[\\\"formatted_val\\\"]=ko.computed(    function(){\\n        return this.formatted_vals()[parseInt(this.index())-(1)];\\n    }\\n,this)]\\n        [this[\\\"changes\\\"].subscribe((function (val){!(this.valueFromJulia[\\\"changes\\\"]) ? (WebIO.setval({\\\"name\\\":\\\"changes\\\",\\\"scope\\\":\\\"13781787398608746729\\\",\\\"id\\\":\\\"ob_03\\\",\\\"type\\\":\\\"observable\\\"},val)) : undefined; return this.valueFromJulia[\\\"changes\\\"]=false}),self),this[\\\"index\\\"].subscribe((function (val){!(this.valueFromJulia[\\\"index\\\"]) ? (WebIO.setval({\\\"name\\\":\\\"index\\\",\\\"scope\\\":\\\"13781787398608746729\\\",\\\"id\\\":\\\"ob_02\\\",\\\"type\\\":\\\"observable\\\"},val)) : undefined; return this.valueFromJulia[\\\"index\\\"]=false}),self)]\\n        \\n    }\\n    self.model = new AppViewModel();\\n    self.valueFromJulia = {};\\n    for (var key in json_data) {\\n        self.valueFromJulia[key] = false;\\n    }\\n    ko.applyBindings(self.model, self.dom);\\n}\\n);\\n    (WebIO.importBlock({\\\"data\\\":[{\\\"name\\\":\\\"knockout\\\",\\\"type\\\":\\\"js\\\",\\\"url\\\":\\\"\\/assetserver\\/5bbdbbb0b09c5b1b887ee10da5f86cd1febbf135-knockout.js\\\"},{\\\"name\\\":\\\"knockout_punches\\\",\\\"type\\\":\\\"js\\\",\\\"url\\\":\\\"\\/assetserver\\/15065e2dd05fe2b7d23387469481615adcbf22a9-knockout_punches.js\\\"}],\\\"type\\\":\\\"async_block\\\"})).then((imports) => handler.apply(this, imports));\\n}\\n\"],\"observables\":{\"changes\":{\"sync\":false,\"id\":\"ob_03\",\"value\":0},\"index\":{\"sync\":true,\"id\":\"ob_02\",\"value\":31}}},\"children\":[{\"props\":{\"className\":\"interact-flex-row interact-widget\"},\"nodeType\":\"DOM\",\"type\":\"node\",\"instanceArgs\":{\"namespace\":\"html\",\"tag\":\"div\"},\"children\":[{\"props\":{\"className\":\"interact-flex-row-left\"},\"nodeType\":\"DOM\",\"type\":\"node\",\"instanceArgs\":{\"namespace\":\"html\",\"tag\":\"div\"},\"children\":[{\"props\":{\"className\":\"interact \",\"style\":{\"padding\":\"5px 10px 0px 10px\"}},\"nodeType\":\"DOM\",\"type\":\"node\",\"instanceArgs\":{\"namespace\":\"html\",\"tag\":\"label\"},\"children\":[\"delay\"]}]},{\"props\":{\"className\":\"interact-flex-row-center\"},\"nodeType\":\"DOM\",\"type\":\"node\",\"instanceArgs\":{\"namespace\":\"html\",\"tag\":\"div\"},\"children\":[{\"props\":{\"max\":61,\"min\":1,\"attributes\":{\"type\":\"range\",\"data-bind\":\"numericValue: index, valueUpdate: 'input', event: {change: function (){this.changes(this.changes()+1)}}\",\"orient\":\"horizontal\"},\"step\":1,\"className\":\"slider slider is-fullwidth\",\"style\":{}},\"nodeType\":\"DOM\",\"type\":\"node\",\"instanceArgs\":{\"namespace\":\"html\",\"tag\":\"input\"},\"children\":[]}]},{\"props\":{\"className\":\"interact-flex-row-right\"},\"nodeType\":\"DOM\",\"type\":\"node\",\"instanceArgs\":{\"namespace\":\"html\",\"tag\":\"div\"},\"children\":[{\"props\":{\"attributes\":{\"data-bind\":\"text: formatted_val\"}},\"nodeType\":\"DOM\",\"type\":\"node\",\"instanceArgs\":{\"namespace\":\"html\",\"tag\":\"p\"},\"children\":[]}]}]}]}]},{\"props\":{},\"nodeType\":\"Scope\",\"type\":\"node\",\"instanceArgs\":{\"imports\":{\"data\":[],\"type\":\"async_block\"},\"id\":\"17969903901245756294\",\"handlers\":{},\"systemjs_options\":null,\"mount_callbacks\":[],\"observables\":{\"obs-node\":{\"sync\":false,\"id\":\"ob_07\",\"value\":{\"props\":{\"className\":\"interact-flex-row interact-widget\"},\"nodeType\":\"DOM\",\"type\":\"node\",\"instanceArgs\":{\"namespace\":\"html\",\"tag\":\"div\"},\"children\":[{\"props\":{\"setInnerHtml\":\"<?xml version=\\\"1.0\\\" encoding=\\\"utf-8\\\"  standalone=\\\"no\\\"?>\\n<svg \\n width=\\\"640\\\" height=\\\"384\\\"\\n viewBox=\\\"0 0 640 384\\\"\\n xmlns=\\\"http:\\/\\/www.w3.org\\/2000\\/svg\\\"\\n xmlns:xlink=\\\"http:\\/\\/www.w3.org\\/1999\\/xlink\\\"\\n>\\n\\n<title>Gnuplot<\\/title>\\n<desc>Produced by GNUPLOT 5.2 patchlevel 8 <\\/desc>\\n\\n<g id=\\\"gnuplot_canvas\\\">\\n\\n<rect x=\\\"0\\\" y=\\\"0\\\" width=\\\"640\\\" height=\\\"384\\\" fill=\\\"#ffffff\\\"\\/>\\n<defs>\\n\\n\\t<circle id='gpDot' r='0.5' stroke-width='0.5' stroke='currentColor'\\/>\\n\\t<path id='gpPt0' stroke-width='0.222' stroke='currentColor' d='M-1,0 h2 M0,-1 v2'\\/>\\n\\t<path id='gpPt1' stroke-width='0.222' stroke='currentColor' d='M-1,-1 L1,1 M1,-1 L-1,1'\\/>\\n\\t<path id='gpPt2' stroke-width='0.222' stroke='currentColor' d='M-1,0 L1,0 M0,-1 L0,1 M-1,-1 L1,1 M-1,1 L1,-1'\\/>\\n\\t<rect id='gpPt3' stroke-width='0.222' stroke='currentColor' x='-1' y='-1' width='2' height='2'\\/>\\n\\t<rect id='gpPt4' stroke-width='0.222' stroke='currentColor' fill='currentColor' x='-1' y='-1' width='2' height='2'\\/>\\n\\t<circle id='gpPt5' stroke-width='0.222' stroke='currentColor' cx='0' cy='0' r='1'\\/>\\n\\t<use xlink:href='#gpPt5' id='gpPt6' fill='currentColor' stroke='none'\\/>\\n\\t<path id='gpPt7' stroke-width='0.222' stroke='currentColor' d='M0,-1.33 L-1.33,0.67 L1.33,0.67 z'\\/>\\n\\t<use xlink:href='#gpPt7' id='gpPt8' fill='currentColor' stroke='none'\\/>\\n\\t<use xlink:href='#gpPt7' id='gpPt9' stroke='currentColor' transform='rotate(180)'\\/>\\n\\t<use xlink:href='#gpPt9' id='gpPt10' fill='currentColor' stroke='none'\\/>\\n\\t<use xlink:href='#gpPt3' id='gpPt11' stroke='currentColor' transform='rotate(45)'\\/>\\n\\t<use xlink:href='#gpPt11' id='gpPt12' fill='currentColor' stroke='none'\\/>\\n\\t<path id='gpPt13' stroke-width='0.222' stroke='currentColor' d='M0,1.330 L1.265,0.411 L0.782,-1.067 L-0.782,-1.076 L-1.265,0.411 z'\\/>\\n\\t<use xlink:href='#gpPt13' id='gpPt14' fill='currentColor' stroke='none'\\/>\\n\\t<filter id='textbox' filterUnits='objectBoundingBox' x='0' y='0' height='1' width='1'>\\n\\t  <feFlood flood-color='#FFFFFF' flood-opacity='1' result='bgnd'\\/>\\n\\t  <feComposite in='SourceGraphic' in2='bgnd' operator='atop'\\/>\\n\\t<\\/filter>\\n\\t<filter id='greybox' filterUnits='objectBoundingBox' x='0' y='0' height='1' width='1'>\\n\\t  <feFlood flood-color='lightgrey' flood-opacity='1' result='grey'\\/>\\n\\t  <feComposite in='SourceGraphic' in2='grey' operator='atop'\\/>\\n\\t<\\/filter>\\n<\\/defs>\\n<g fill=\\\"none\\\" color=\\\"#FFFFFF\\\" stroke=\\\"black\\\" stroke-width=\\\"1.00\\\" stroke-linecap=\\\"butt\\\" stroke-linejoin=\\\"miter\\\">\\n<\\/g>\\n<g fill=\\\"none\\\" color=\\\"black\\\" stroke=\\\"currentColor\\\" stroke-width=\\\"1.00\\\" stroke-linecap=\\\"butt\\\" stroke-linejoin=\\\"miter\\\">\\n\\t<path stroke='black'  d='M53.9,304.6 L62.9,304.6 M615.0,304.6 L606.0,304.6  '\\/>\\t<g transform=\\\"translate(45.6,308.5)\\\" stroke=\\\"none\\\" fill=\\\"black\\\" font-family=\\\"Arial\\\" font-size=\\\"12.00\\\"  text-anchor=\\\"end\\\">\\n\\t\\t<text><tspan font-family=\\\"Arial\\\" >-1<\\/tspan><\\/text>\\n\\t<\\/g>\\n<\\/g>\\n<g fill=\\\"none\\\" color=\\\"black\\\" stroke=\\\"currentColor\\\" stroke-width=\\\"1.00\\\" stroke-linecap=\\\"butt\\\" stroke-linejoin=\\\"miter\\\">\\n\\t<path stroke='black'  d='M53.9,259.6 L62.9,259.6 M615.0,259.6 L606.0,259.6  '\\/>\\t<g transform=\\\"translate(45.6,263.5)\\\" stroke=\\\"none\\\" fill=\\\"black\\\" font-family=\\\"Arial\\\" font-size=\\\"12.00\\\"  text-anchor=\\\"end\\\">\\n\\t\\t<text><tspan font-family=\\\"Arial\\\" >-0.5<\\/tspan><\\/text>\\n\\t<\\/g>\\n<\\/g>\\n<g fill=\\\"none\\\" color=\\\"black\\\" stroke=\\\"currentColor\\\" stroke-width=\\\"1.00\\\" stroke-linecap=\\\"butt\\\" stroke-linejoin=\\\"miter\\\">\\n\\t<path stroke='black'  d='M53.9,214.5 L62.9,214.5 M615.0,214.5 L606.0,214.5  '\\/>\\t<g transform=\\\"translate(45.6,218.4)\\\" stroke=\\\"none\\\" fill=\\\"black\\\" font-family=\\\"Arial\\\" font-size=\\\"12.00\\\"  text-anchor=\\\"end\\\">\\n\\t\\t<text><tspan font-family=\\\"Arial\\\" > 0<\\/tspan><\\/text>\\n\\t<\\/g>\\n<\\/g>\\n<g fill=\\\"none\\\" color=\\\"black\\\" stroke=\\\"currentColor\\\" stroke-width=\\\"1.00\\\" stroke-linecap=\\\"butt\\\" stroke-linejoin=\\\"miter\\\">\\n\\t<path stroke='black'  d='M53.9,169.5 L62.9,169.5 M615.0,169.5 L606.0,169.5  '\\/>\\t<g transform=\\\"translate(45.6,173.4)\\\" stroke=\\\"none\\\" fill=\\\"black\\\" font-family=\\\"Arial\\\" font-size=\\\"12.00\\\"  text-anchor=\\\"end\\\">\\n\\t\\t<text><tspan font-family=\\\"Arial\\\" > 0.5<\\/tspan><\\/text>\\n\\t<\\/g>\\n<\\/g>\\n<g fill=\\\"none\\\" color=\\\"black\\\" stroke=\\\"currentColor\\\" stroke-width=\\\"1.00\\\" stroke-linecap=\\\"butt\\\" stroke-linejoin=\\\"miter\\\">\\n\\t<path stroke='black'  d='M53.9,124.5 L62.9,124.5 M615.0,124.5 L606.0,124.5  '\\/>\\t<g transform=\\\"translate(45.6,128.4)\\\" stroke=\\\"none\\\" fill=\\\"black\\\" font-family=\\\"Arial\\\" font-size=\\\"12.00\\\"  text-anchor=\\\"end\\\">\\n\\t\\t<text><tspan font-family=\\\"Arial\\\" > 1<\\/tspan><\\/text>\\n\\t<\\/g>\\n<\\/g>\\n<g fill=\\\"none\\\" color=\\\"black\\\" stroke=\\\"currentColor\\\" stroke-width=\\\"1.00\\\" stroke-linecap=\\\"butt\\\" stroke-linejoin=\\\"miter\\\">\\n\\t<path stroke='black'  d='M53.9,79.4 L62.9,79.4 M615.0,79.4 L606.0,79.4  '\\/>\\t<g transform=\\\"translate(45.6,83.3)\\\" stroke=\\\"none\\\" fill=\\\"black\\\" font-family=\\\"Arial\\\" font-size=\\\"12.00\\\"  text-anchor=\\\"end\\\">\\n\\t\\t<text><tspan font-family=\\\"Arial\\\" > 1.5<\\/tspan><\\/text>\\n\\t<\\/g>\\n<\\/g>\\n<g fill=\\\"none\\\" color=\\\"black\\\" stroke=\\\"currentColor\\\" stroke-width=\\\"1.00\\\" stroke-linecap=\\\"butt\\\" stroke-linejoin=\\\"miter\\\">\\n\\t<path stroke='black'  d='M91.5,348.0 L91.5,339.0 M91.5,54.1 L91.5,63.1  '\\/>\\t<g transform=\\\"translate(91.5,369.9)\\\" stroke=\\\"none\\\" fill=\\\"black\\\" font-family=\\\"Arial\\\" font-size=\\\"12.00\\\"  text-anchor=\\\"middle\\\">\\n\\t\\t<text><tspan font-family=\\\"Arial\\\" > 0<\\/tspan><\\/text>\\n\\t<\\/g>\\n<\\/g>\\n<g fill=\\\"none\\\" color=\\\"black\\\" stroke=\\\"currentColor\\\" stroke-width=\\\"1.00\\\" stroke-linecap=\\\"butt\\\" stroke-linejoin=\\\"miter\\\">\\n\\t<path stroke='black'  d='M152.3,348.0 L152.3,339.0 M152.3,54.1 L152.3,63.1  '\\/>\\t<g transform=\\\"translate(152.3,369.9)\\\" stroke=\\\"none\\\" fill=\\\"black\\\" font-family=\\\"Arial\\\" font-size=\\\"12.00\\\"  text-anchor=\\\"middle\\\">\\n\\t\\t<text><tspan font-family=\\\"Arial\\\" > 0.5<\\/tspan><\\/text>\\n\\t<\\/g>\\n<\\/g>\\n<g fill=\\\"none\\\" color=\\\"black\\\" stroke=\\\"currentColor\\\" stroke-width=\\\"1.00\\\" stroke-linecap=\\\"butt\\\" stroke-linejoin=\\\"miter\\\">\\n\\t<path stroke='black'  d='M213.0,348.0 L213.0,339.0 M213.0,54.1 L213.0,63.1  '\\/>\\t<g transform=\\\"translate(213.0,369.9)\\\" stroke=\\\"none\\\" fill=\\\"black\\\" font-family=\\\"Arial\\\" font-size=\\\"12.00\\\"  text-anchor=\\\"middle\\\">\\n\\t\\t<text><tspan font-family=\\\"Arial\\\" > 1<\\/tspan><\\/text>\\n\\t<\\/g>\\n<\\/g>\\n<g fill=\\\"none\\\" color=\\\"black\\\" stroke=\\\"currentColor\\\" stroke-width=\\\"1.00\\\" stroke-linecap=\\\"butt\\\" stroke-linejoin=\\\"miter\\\">\\n\\t<path stroke='black'  d='M273.7,348.0 L273.7,339.0 M273.7,54.1 L273.7,63.1  '\\/>\\t<g transform=\\\"translate(273.7,369.9)\\\" stroke=\\\"none\\\" fill=\\\"black\\\" font-family=\\\"Arial\\\" font-size=\\\"12.00\\\"  text-anchor=\\\"middle\\\">\\n\\t\\t<text><tspan font-family=\\\"Arial\\\" > 1.5<\\/tspan><\\/text>\\n\\t<\\/g>\\n<\\/g>\\n<g fill=\\\"none\\\" color=\\\"black\\\" stroke=\\\"currentColor\\\" stroke-width=\\\"1.00\\\" stroke-linecap=\\\"butt\\\" stroke-linejoin=\\\"miter\\\">\\n\\t<path stroke='black'  d='M334.5,348.0 L334.5,339.0 M334.5,54.1 L334.5,63.1  '\\/>\\t<g transform=\\\"translate(334.5,369.9)\\\" stroke=\\\"none\\\" fill=\\\"black\\\" font-family=\\\"Arial\\\" font-size=\\\"12.00\\\"  text-anchor=\\\"middle\\\">\\n\\t\\t<text><tspan font-family=\\\"Arial\\\" > 2<\\/tspan><\\/text>\\n\\t<\\/g>\\n<\\/g>\\n<g fill=\\\"none\\\" color=\\\"black\\\" stroke=\\\"currentColor\\\" stroke-width=\\\"1.00\\\" stroke-linecap=\\\"butt\\\" stroke-linejoin=\\\"miter\\\">\\n\\t<path stroke='black'  d='M395.2,348.0 L395.2,339.0 M395.2,54.1 L395.2,63.1  '\\/>\\t<g transform=\\\"translate(395.2,369.9)\\\" stroke=\\\"none\\\" fill=\\\"black\\\" font-family=\\\"Arial\\\" font-size=\\\"12.00\\\"  text-anchor=\\\"middle\\\">\\n\\t\\t<text><tspan font-family=\\\"Arial\\\" > 2.5<\\/tspan><\\/text>\\n\\t<\\/g>\\n<\\/g>\\n<g fill=\\\"none\\\" color=\\\"black\\\" stroke=\\\"currentColor\\\" stroke-width=\\\"1.00\\\" stroke-linecap=\\\"butt\\\" stroke-linejoin=\\\"miter\\\">\\n\\t<path stroke='black'  d='M455.9,348.0 L455.9,339.0 M455.9,54.1 L455.9,63.1  '\\/>\\t<g transform=\\\"translate(455.9,369.9)\\\" stroke=\\\"none\\\" fill=\\\"black\\\" font-family=\\\"Arial\\\" font-size=\\\"12.00\\\"  text-anchor=\\\"middle\\\">\\n\\t\\t<text><tspan font-family=\\\"Arial\\\" > 3<\\/tspan><\\/text>\\n\\t<\\/g>\\n<\\/g>\\n<g fill=\\\"none\\\" color=\\\"black\\\" stroke=\\\"currentColor\\\" stroke-width=\\\"1.00\\\" stroke-linecap=\\\"butt\\\" stroke-linejoin=\\\"miter\\\">\\n\\t<path stroke='black'  d='M516.6,348.0 L516.6,339.0 M516.6,54.1 L516.6,63.1  '\\/>\\t<g transform=\\\"translate(516.6,369.9)\\\" stroke=\\\"none\\\" fill=\\\"black\\\" font-family=\\\"Arial\\\" font-size=\\\"12.00\\\"  text-anchor=\\\"middle\\\">\\n\\t\\t<text><tspan font-family=\\\"Arial\\\" > 3.5<\\/tspan><\\/text>\\n\\t<\\/g>\\n<\\/g>\\n<g fill=\\\"none\\\" color=\\\"black\\\" stroke=\\\"currentColor\\\" stroke-width=\\\"1.00\\\" stroke-linecap=\\\"butt\\\" stroke-linejoin=\\\"miter\\\">\\n\\t<path stroke='black'  d='M577.4,348.0 L577.4,339.0 M577.4,54.1 L577.4,63.1  '\\/>\\t<g transform=\\\"translate(577.4,369.9)\\\" stroke=\\\"none\\\" fill=\\\"black\\\" font-family=\\\"Arial\\\" font-size=\\\"12.00\\\"  text-anchor=\\\"middle\\\">\\n\\t\\t<text><tspan font-family=\\\"Arial\\\" > 4<\\/tspan><\\/text>\\n\\t<\\/g>\\n<\\/g>\\n<g fill=\\\"none\\\" color=\\\"black\\\" stroke=\\\"currentColor\\\" stroke-width=\\\"1.00\\\" stroke-linecap=\\\"butt\\\" stroke-linejoin=\\\"miter\\\">\\n<\\/g>\\n<g fill=\\\"none\\\" color=\\\"black\\\" stroke=\\\"currentColor\\\" stroke-width=\\\"1.00\\\" stroke-linecap=\\\"butt\\\" stroke-linejoin=\\\"miter\\\">\\n\\t<path stroke='black'  d='M53.9,54.1 L53.9,348.0 L615.0,348.0 L615.0,54.1 L53.9,54.1 Z  '\\/><\\/g>\\n<g fill=\\\"none\\\" color=\\\"black\\\" stroke=\\\"currentColor\\\" stroke-width=\\\"1.00\\\" stroke-linecap=\\\"butt\\\" stroke-linejoin=\\\"miter\\\">\\n\\t<g transform=\\\"translate(334.4,31.0)\\\" stroke=\\\"none\\\" fill=\\\"black\\\" font-family=\\\"Arial\\\" font-size=\\\"12.00\\\"  text-anchor=\\\"middle\\\">\\n\\t\\t<text><tspan font-family=\\\"Arial\\\" >Correlator output = -0.5000000000000001<\\/tspan><\\/text>\\n\\t<\\/g>\\n<\\/g>\\n<g fill=\\\"none\\\" color=\\\"black\\\" stroke=\\\"currentColor\\\" stroke-width=\\\"1.00\\\" stroke-linecap=\\\"butt\\\" stroke-linejoin=\\\"miter\\\">\\n<\\/g>\\n\\t<g id=\\\"gnuplot_plot_1\\\" ><title>gnuplot_plot_1<\\/title>\\n<g fill=\\\"none\\\" color=\\\"black\\\" stroke=\\\"currentColor\\\" stroke-width=\\\"1.00\\\" stroke-linecap=\\\"butt\\\" stroke-linejoin=\\\"miter\\\">\\n\\t<path stroke='rgb( 55,  60, 255)'  d='M79.4,214.5 L80.0,214.5 L80.6,214.5 L81.2,214.5 L81.8,214.5 L82.4,214.5 L83.0,214.5 L83.7,214.5\\n\\t\\tL84.3,214.5 L84.9,214.5 L85.5,214.5 L86.1,214.5 L86.7,214.5 L87.3,214.5 L87.9,214.5 L88.5,214.5\\n\\t\\tL89.1,214.5 L89.7,214.5 L90.3,214.5 L90.9,214.5 L91.5,214.5 L92.2,214.5 L92.8,214.5 L93.4,214.5\\n\\t\\tL94.0,214.5 L94.6,214.5 L95.2,214.5 L95.8,214.5 L96.4,214.5 L97.0,214.5 L97.6,214.5 L98.2,214.5\\n\\t\\tL98.8,214.5 L99.4,214.5 L100.1,214.5 L100.7,214.5 L101.3,214.5 L101.9,214.5 L102.5,214.5 L103.1,214.5\\n\\t\\tL103.7,214.5 L104.3,214.5 L104.9,214.5 L105.5,214.5 L106.1,214.5 L106.7,214.5 L107.3,214.5 L107.9,214.5\\n\\t\\tL108.6,214.5 L109.2,214.5 L109.8,214.5 L110.4,214.5 L111.0,214.5 L111.6,214.5 L112.2,214.5 L112.8,214.5\\n\\t\\tL113.4,214.5 L114.0,214.5 L114.6,214.5 L115.2,214.5 L115.8,214.5 L116.4,214.5 L117.1,214.5 L117.7,214.5\\n\\t\\tL118.3,214.5 L118.9,214.5 L119.5,214.5 L120.1,214.5 L120.7,214.5 L121.3,214.5 L121.9,214.5 L122.5,214.5\\n\\t\\tL123.1,214.5 L123.7,214.5 L124.3,214.5 L124.9,214.5 L125.6,214.5 L126.2,214.5 L126.8,214.5 L127.4,214.5\\n\\t\\tL128.0,214.5 L128.6,214.5 L129.2,214.5 L129.8,214.5 L130.4,214.5 L131.0,214.5 L131.6,214.5 L132.2,214.5\\n\\t\\tL132.8,214.5 L133.4,214.5 L134.1,214.5 L134.7,214.5 L135.3,214.5 L135.9,214.5 L136.5,214.5 L137.1,214.5\\n\\t\\tL137.7,214.5 L138.3,214.5 L138.9,214.5 L139.5,214.5 L140.1,214.5 L140.7,214.5 L141.3,214.5 L142.0,214.5\\n\\t\\tL142.6,214.5 L143.2,214.5 L143.8,214.5 L144.4,214.5 L145.0,214.5 L145.6,214.5 L146.2,214.5 L146.8,214.5\\n\\t\\tL147.4,214.5 L148.0,214.5 L148.6,214.5 L149.2,214.5 L149.8,214.5 L150.5,214.5 L151.1,214.5 L151.7,214.5\\n\\t\\tL152.3,214.5 L152.9,214.5 L153.5,214.5 L154.1,214.5 L154.7,214.5 L155.3,214.5 L155.9,214.5 L156.5,214.5\\n\\t\\tL157.1,214.5 L157.7,214.5 L158.3,214.5 L159.0,214.5 L159.6,214.5 L160.2,214.5 L160.8,214.5 L161.4,214.5\\n\\t\\tL162.0,214.5 L162.6,214.5 L163.2,214.5 L163.8,214.5 L164.4,214.5 L165.0,214.5 L165.6,214.5 L166.2,214.5\\n\\t\\tL166.8,214.5 L167.5,214.5 L168.1,214.5 L168.7,214.5 L169.3,214.5 L169.9,214.5 L170.5,214.5 L171.1,214.5\\n\\t\\tL171.7,214.5 L172.3,214.5 L172.9,214.5 L173.5,214.5 L174.1,214.5 L174.7,214.5 L175.4,214.5 L176.0,214.5\\n\\t\\tL176.6,214.5 L177.2,214.5 L177.8,214.5 L178.4,214.5 L179.0,214.5 L179.6,214.5 L180.2,214.5 L180.8,214.5\\n\\t\\tL181.4,214.5 L182.0,214.5 L182.6,214.5 L183.2,214.5 L183.9,214.5 L184.5,214.5 L185.1,214.5 L185.7,214.5\\n\\t\\tL186.3,214.5 L186.9,214.5 L187.5,214.5 L188.1,214.5 L188.7,214.5 L189.3,214.5 L189.9,214.5 L190.5,214.5\\n\\t\\tL191.1,214.5 L191.7,214.5 L192.4,214.5 L193.0,214.5 L193.6,214.5 L194.2,214.5 L194.8,214.5 L195.4,214.5\\n\\t\\tL196.0,214.5 L196.6,214.5 L197.2,214.5 L197.8,214.5 L198.4,214.5 L199.0,214.5 L199.6,214.5 L200.2,214.5\\n\\t\\tL200.9,214.5 L201.5,214.5 L202.1,214.5 L202.7,214.5 L203.3,214.5 L203.9,214.5 L204.5,214.5 L205.1,214.5\\n\\t\\tL205.7,214.5 L206.3,214.5 L206.9,214.5 L207.5,214.5 L208.1,214.5 L208.7,214.5 L209.4,214.5 L210.0,214.5\\n\\t\\tL210.6,214.5 L211.2,214.5 L211.8,214.5 L212.4,214.5 L213.0,214.5 L213.6,214.5 L214.2,214.5 L214.8,214.5\\n\\t\\tL215.4,214.5 L216.0,214.5 L216.6,214.5 L217.3,214.5 L217.9,214.5 L218.5,214.5 L219.1,214.5 L219.7,214.5\\n\\t\\tL220.3,214.5 L220.9,214.5 L221.5,214.5 L222.1,214.5 L222.7,214.5 L223.3,214.5 L223.9,214.5 L224.5,214.5\\n\\t\\tL225.1,214.5 L225.8,214.5 L226.4,214.5 L227.0,214.5 L227.6,214.5 L228.2,214.5 L228.8,214.5 L229.4,214.5\\n\\t\\tL230.0,214.5 L230.6,214.5 L231.2,214.5 L231.8,214.5 L232.4,214.5 L233.0,214.5 L233.6,214.5 L234.3,214.5\\n\\t\\tL234.9,214.5 L235.5,214.5 L236.1,214.5 L236.7,214.5 L237.3,214.5 L237.9,214.5 L238.5,214.5 L239.1,214.5\\n\\t\\tL239.7,214.5 L240.3,214.5 L240.9,214.5 L241.5,214.5 L242.1,214.5 L242.8,214.5 L243.4,214.5 L244.0,214.5\\n\\t\\tL244.6,214.5 L245.2,214.5 L245.8,214.5 L246.4,214.5 L247.0,214.5 L247.6,214.5 L248.2,214.5 L248.8,214.5\\n\\t\\tL249.4,214.5 L250.0,214.5 L250.6,214.5 L251.3,214.5 L251.9,214.5 L252.5,214.5 L253.1,214.5 L253.7,214.5\\n\\t\\tL254.3,214.5 L254.9,214.5 L255.5,214.5 L256.1,214.5 L256.7,214.5 L257.3,214.5 L257.9,214.5 L258.5,214.5\\n\\t\\tL259.2,214.5 L259.8,214.5 L260.4,214.5 L261.0,214.5 L261.6,214.5 L262.2,214.5 L262.8,214.5 L263.4,214.5\\n\\t\\tL264.0,214.5 L264.6,214.5 L265.2,214.5 L265.8,214.5 L266.4,214.5 L267.0,214.5 L267.7,214.5 L268.3,214.5\\n\\t\\tL268.9,214.5 L269.5,214.5 L270.1,214.5 L270.7,214.5 L271.3,214.5 L271.9,214.5 L272.5,214.5 L273.1,214.5\\n\\t\\tL273.7,214.5 L274.3,214.5 L274.9,214.5 L275.5,214.5 L276.2,214.5 L276.8,214.5 L277.4,214.5 L278.0,214.5\\n\\t\\tL278.6,214.5 L279.2,214.5 L279.8,214.5 L280.4,214.5 L281.0,214.5 L281.6,214.5 L282.2,214.5 L282.8,214.5\\n\\t\\tL283.4,214.5 L284.0,214.5 L284.7,214.5 L285.3,214.5 L285.9,214.5 L286.5,214.5 L287.1,214.5 L287.7,214.5\\n\\t\\tL288.3,214.5 L288.9,214.5 L289.5,214.5 L290.1,214.5 L290.7,214.5 L291.3,214.5 L291.9,214.5 L292.5,214.5\\n\\t\\tL293.2,214.5 L293.8,214.5 L294.4,214.5 L295.0,214.5 L295.6,214.5 L296.2,214.5 L296.8,214.5 L297.4,214.5\\n\\t\\tL298.0,214.5 L298.6,214.5 L299.2,214.5 L299.8,214.5 L300.4,214.5 L301.1,214.5 L301.7,214.5 L302.3,214.5\\n\\t\\tL302.9,214.5 L303.5,214.5 L304.1,214.5 L304.7,214.5 L305.3,214.5 L305.9,214.5 L306.5,214.5 L307.1,214.5\\n\\t\\tL307.7,214.5 L308.3,214.5 L308.9,214.5 L309.6,214.5 L310.2,214.5 L310.8,214.5 L311.4,214.5 L312.0,214.5\\n\\t\\tL312.6,214.5 L313.2,214.5 L313.8,214.5 L314.4,214.5 L315.0,214.5 L315.6,214.5 L316.2,214.5 L316.8,214.5\\n\\t\\tL317.4,214.5 L318.1,214.5 L318.7,214.5 L319.3,214.5 L319.9,214.5 L320.5,214.5 L321.1,214.5 L321.7,214.5\\n\\t\\tL322.3,214.5 L322.9,214.5 L323.5,214.5 L324.1,214.5 L324.7,214.5 L325.3,214.5 L325.9,214.5 L326.6,214.5\\n\\t\\tL327.2,214.5 L327.8,214.5 L328.4,214.5 L329.0,214.5 L329.6,214.5 L330.2,214.5 L330.8,214.5 L331.4,214.5\\n\\t\\tL332.0,214.5 L332.6,214.5 L333.2,214.5 L333.8,214.5 L334.5,214.5 L335.1,214.5 L335.7,214.4 L336.3,214.2\\n\\t\\tL336.9,214.0 L337.5,213.6 L338.1,213.2 L338.7,212.8 L339.3,212.2 L339.9,211.6 L340.5,210.9 L341.1,210.2\\n\\t\\tL341.7,209.4 L342.3,208.5 L343.0,207.5 L343.6,206.5 L344.2,205.4 L344.8,204.3 L345.4,203.1 L346.0,201.8\\n\\t\\tL346.6,200.5 L347.2,199.1 L347.8,197.7 L348.4,196.2 L349.0,194.6 L349.6,193.0 L350.2,191.3 L350.8,189.6\\n\\t\\tL351.5,187.9 L352.1,186.1 L352.7,184.2 L353.3,182.3 L353.9,180.4 L354.5,178.4 L355.1,176.4 L355.7,174.4\\n\\t\\tL356.3,172.3 L356.9,170.2 L357.5,168.1 L358.1,165.9 L358.7,163.7 L359.3,161.5 L360.0,159.3 L360.6,157.0\\n\\t\\tL361.2,154.8 L361.8,152.5 L362.4,150.2 L363.0,147.9 L363.6,145.6 L364.2,143.3 L364.8,141.0 L365.4,138.7\\n\\t\\tL366.0,136.4 L366.6,134.1 L367.2,131.8 L367.8,129.5 L368.5,127.2 L369.1,125.0 L369.7,122.7 L370.3,120.5\\n\\t\\tL370.9,118.3 L371.5,116.1 L372.1,113.9 L372.7,111.8 L373.3,109.7 L373.9,107.6 L374.5,105.6 L375.1,103.6\\n\\t\\tL375.7,101.6 L376.4,99.7 L377.0,97.8 L377.6,95.9 L378.2,94.1 L378.8,92.4 L379.4,90.7 L380.0,89.0\\n\\t\\tL380.6,87.4 L381.2,85.8 L381.8,84.3 L382.4,82.9 L383.0,81.5 L383.6,80.2 L384.2,78.9 L384.9,77.7\\n\\t\\tL385.5,76.6 L386.1,75.5 L386.7,74.5 L387.3,73.5 L387.9,72.6 L388.5,71.8 L389.1,71.1 L389.7,70.4\\n\\t\\tL390.3,69.8 L390.9,69.2 L391.5,68.8 L392.1,68.4 L392.7,68.0 L393.4,67.8 L394.0,67.6 L394.6,67.5\\n\\t\\tL395.2,67.5 L395.8,67.5 L396.4,67.6 L397.0,67.8 L397.6,68.0 L398.2,68.4 L398.8,68.8 L399.4,69.2\\n\\t\\tL400.0,69.8 L400.6,70.4 L401.2,71.1 L401.9,71.8 L402.5,72.6 L403.1,73.5 L403.7,74.5 L404.3,75.5\\n\\t\\tL404.9,76.6 L405.5,77.7 L406.1,78.9 L406.7,80.2 L407.3,81.5 L407.9,82.9 L408.5,84.3 L409.1,85.8\\n\\t\\tL409.7,87.4 L410.4,89.0 L411.0,90.7 L411.6,92.4 L412.2,94.1 L412.8,95.9 L413.4,97.8 L414.0,99.7\\n\\t\\tL414.6,101.6 L415.2,103.6 L415.8,105.6 L416.4,107.6 L417.0,109.7 L417.6,111.8 L418.3,113.9 L418.9,116.1\\n\\t\\tL419.5,118.3 L420.1,120.5 L420.7,122.7 L421.3,125.0 L421.9,127.2 L422.5,129.5 L423.1,131.8 L423.7,134.1\\n\\t\\tL424.3,136.4 L424.9,138.7 L425.5,141.0 L426.1,143.3 L426.8,145.6 L427.4,147.9 L428.0,150.2 L428.6,152.5\\n\\t\\tL429.2,154.8 L429.8,157.0 L430.4,159.3 L431.0,161.5 L431.6,163.7 L432.2,165.9 L432.8,168.1 L433.4,170.2\\n\\t\\tL434.0,172.3 L434.6,174.4 L435.3,176.4 L435.9,178.4 L436.5,180.4 L437.1,182.3 L437.7,184.2 L438.3,186.1\\n\\t\\tL438.9,187.9 L439.5,189.6 L440.1,191.3 L440.7,193.0 L441.3,194.6 L441.9,196.2 L442.5,197.7 L443.1,199.1\\n\\t\\tL443.8,200.5 L444.4,201.8 L445.0,203.1 L445.6,204.3 L446.2,205.4 L446.8,206.5 L447.4,207.5 L448.0,208.5\\n\\t\\tL448.6,209.4 L449.2,210.2 L449.8,210.9 L450.4,211.6 L451.0,212.2 L451.6,212.8 L452.3,213.2 L452.9,213.6\\n\\t\\tL453.5,214.0 L454.1,214.2 L454.7,214.4 L455.3,214.5 L455.9,214.5 L456.5,214.5 L457.1,214.5 L457.7,214.5\\n\\t\\tL458.3,214.5 L458.9,214.5 L459.5,214.5 L460.2,214.5 L460.8,214.5 L461.4,214.5 L462.0,214.5 L462.6,214.5\\n\\t\\tL463.2,214.5 L463.8,214.5 L464.4,214.5 L465.0,214.5 L465.6,214.5 L466.2,214.5 L466.8,214.5 L467.4,214.5\\n\\t\\tL468.0,214.5 L468.7,214.5 L469.3,214.5 L469.9,214.5 L470.5,214.5 L471.1,214.5 L471.7,214.5 L472.3,214.5\\n\\t\\tL472.9,214.5 L473.5,214.5 L474.1,214.5 L474.7,214.5 L475.3,214.5 L475.9,214.5 L476.5,214.5 L477.2,214.5\\n\\t\\tL477.8,214.5 L478.4,214.5 L479.0,214.5 L479.6,214.5 L480.2,214.5 L480.8,214.5 L481.4,214.5 L482.0,214.5\\n\\t\\tL482.6,214.5 L483.2,214.5 L483.8,214.5 L484.4,214.5 L485.0,214.5 L485.7,214.5 L486.3,214.5 L486.9,214.5\\n\\t\\tL487.5,214.5 L488.1,214.5 L488.7,214.5 L489.3,214.5 L489.9,214.5 L490.5,214.5 L491.1,214.5 L491.7,214.5\\n\\t\\tL492.3,214.5 L492.9,214.5 L493.5,214.5 L494.2,214.5 L494.8,214.5 L495.4,214.5 L496.0,214.5 L496.6,214.5\\n\\t\\tL497.2,214.5 L497.8,214.5 L498.4,214.5 L499.0,214.5 L499.6,214.5 L500.2,214.5 L500.8,214.5 L501.4,214.5\\n\\t\\tL502.1,214.5 L502.7,214.5 L503.3,214.5 L503.9,214.5 L504.5,214.5 L505.1,214.5 L505.7,214.5 L506.3,214.5\\n\\t\\tL506.9,214.5 L507.5,214.5 L508.1,214.5 L508.7,214.5 L509.3,214.5 L509.9,214.5 L510.6,214.5 L511.2,214.5\\n\\t\\tL511.8,214.5 L512.4,214.5 L513.0,214.5 L513.6,214.5 L514.2,214.5 L514.8,214.5 L515.4,214.5 L516.0,214.5\\n\\t\\tL516.6,214.5 L517.2,214.5 L517.8,214.5 L518.4,214.5 L519.1,214.5 L519.7,214.5 L520.3,214.5 L520.9,214.5\\n\\t\\tL521.5,214.5 L522.1,214.5 L522.7,214.5 L523.3,214.5 L523.9,214.5 L524.5,214.5 L525.1,214.5 L525.7,214.5\\n\\t\\tL526.3,214.5 L526.9,214.5 L527.6,214.5 L528.2,214.5 L528.8,214.5 L529.4,214.5 L530.0,214.5 L530.6,214.5\\n\\t\\tL531.2,214.5 L531.8,214.5 L532.4,214.5 L533.0,214.5 L533.6,214.5 L534.2,214.5 L534.8,214.5 L535.5,214.5\\n\\t\\tL536.1,214.5 L536.7,214.5 L537.3,214.5 L537.9,214.5 L538.5,214.5 L539.1,214.5 L539.7,214.5 L540.3,214.5\\n\\t\\tL540.9,214.5 L541.5,214.5 L542.1,214.5 L542.7,214.5 L543.3,214.5 L544.0,214.5 L544.6,214.5 L545.2,214.5\\n\\t\\tL545.8,214.5 L546.4,214.5 L547.0,214.5 L547.6,214.5 L548.2,214.5 L548.8,214.5 L549.4,214.5 L550.0,214.5\\n\\t\\tL550.6,214.5 L551.2,214.5 L551.8,214.5 L552.5,214.5 L553.1,214.5 L553.7,214.5 L554.3,214.5 L554.9,214.5\\n\\t\\tL555.5,214.5 L556.1,214.5 L556.7,214.5 L557.3,214.5 L557.9,214.5 L558.5,214.5 L559.1,214.5 L559.7,214.5\\n\\t\\tL560.3,214.5 L561.0,214.5 L561.6,214.5 L562.2,214.5 L562.8,214.5 L563.4,214.5 L564.0,214.5 L564.6,214.5\\n\\t\\tL565.2,214.5 L565.8,214.5 L566.4,214.5 L567.0,214.5 L567.6,214.5 L568.2,214.5 L568.8,214.5 L569.5,214.5\\n\\t\\tL570.1,214.5 L570.7,214.5 L571.3,214.5 L571.9,214.5 L572.5,214.5 L573.1,214.5 L573.7,214.5 L574.3,214.5\\n\\t\\tL574.9,214.5 L575.5,214.5 L576.1,214.5 L576.7,214.5 L577.4,214.5 L578.0,214.5 L578.6,214.5 L579.2,214.5\\n\\t\\tL579.8,214.5 L580.4,214.5 L581.0,214.5 L581.6,214.5 L582.2,214.5 L582.8,214.5 L583.4,214.5 L584.0,214.5\\n\\t\\tL584.6,214.5 L585.2,214.5 L585.9,214.5 L586.5,214.5 L587.1,214.5 L587.7,214.5 L588.3,214.5 L588.9,214.5\\n\\t\\tL589.5,214.5  '\\/><\\/g>\\n\\t<\\/g>\\n\\t<g id=\\\"gnuplot_plot_2\\\" ><title>gnuplot_plot_2<\\/title>\\n<g fill=\\\"none\\\" color=\\\"black\\\" stroke=\\\"currentColor\\\" stroke-width=\\\"1.00\\\" stroke-linecap=\\\"butt\\\" stroke-linejoin=\\\"miter\\\">\\n\\t<path stroke='rgb(139,  26,  14)'  d='M79.4,214.5 L80.0,214.5 L80.6,214.5 L81.2,214.5 L81.8,214.5 L82.4,214.5 L83.0,214.5 L83.7,214.5\\n\\t\\tL84.3,214.5 L84.9,214.5 L85.5,214.5 L86.1,214.5 L86.7,214.5 L87.3,214.5 L87.9,214.5 L88.5,214.5\\n\\t\\tL89.1,214.5 L89.7,214.5 L90.3,214.5 L90.9,214.5 L91.5,214.5 L92.2,214.5 L92.8,214.5 L93.4,214.4\\n\\t\\tL94.0,214.3 L94.6,214.1 L95.2,213.9 L95.8,213.7 L96.4,213.4 L97.0,213.1 L97.6,212.7 L98.2,212.4\\n\\t\\tL98.8,212.0 L99.4,211.5 L100.1,211.0 L100.7,210.5 L101.3,210.0 L101.9,209.4 L102.5,208.8 L103.1,208.2\\n\\t\\tL103.7,207.5 L104.3,206.8 L104.9,206.1 L105.5,205.4 L106.1,204.6 L106.7,203.8 L107.3,202.9 L107.9,202.1\\n\\t\\tL108.6,201.2 L109.2,200.3 L109.8,199.4 L110.4,198.4 L111.0,197.5 L111.6,196.5 L112.2,195.5 L112.8,194.5\\n\\t\\tL113.4,193.4 L114.0,192.4 L114.6,191.3 L115.2,190.2 L115.8,189.1 L116.4,188.0 L117.1,186.9 L117.7,185.8\\n\\t\\tL118.3,184.7 L118.9,183.5 L119.5,182.4 L120.1,181.2 L120.7,180.1 L121.3,178.9 L121.9,177.8 L122.5,176.6\\n\\t\\tL123.1,175.5 L123.7,174.3 L124.3,173.2 L124.9,172.0 L125.6,170.9 L126.2,169.8 L126.8,168.6 L127.4,167.5\\n\\t\\tL128.0,166.4 L128.6,165.3 L129.2,164.2 L129.8,163.2 L130.4,162.1 L131.0,161.1 L131.6,160.1 L132.2,159.1\\n\\t\\tL132.8,158.1 L133.4,157.1 L134.1,156.2 L134.7,155.2 L135.3,154.3 L135.9,153.5 L136.5,152.6 L137.1,151.8\\n\\t\\tL137.7,151.0 L138.3,150.2 L138.9,149.4 L139.5,148.7 L140.1,148.0 L140.7,147.4 L141.3,146.7 L142.0,146.1\\n\\t\\tL142.6,145.6 L143.2,145.0 L143.8,144.5 L144.4,144.0 L145.0,143.6 L145.6,143.2 L146.2,142.8 L146.8,142.5\\n\\t\\tL147.4,142.2 L148.0,141.9 L148.6,141.7 L149.2,141.5 L149.8,141.3 L150.5,141.2 L151.1,141.1 L151.7,141.0\\n\\t\\tL152.3,141.0 L152.9,141.0 L153.5,141.1 L154.1,141.2 L154.7,141.3 L155.3,141.5 L155.9,141.7 L156.5,141.9\\n\\t\\tL157.1,142.2 L157.7,142.5 L158.3,142.8 L159.0,143.2 L159.6,143.6 L160.2,144.0 L160.8,144.5 L161.4,145.0\\n\\t\\tL162.0,145.6 L162.6,146.1 L163.2,146.7 L163.8,147.4 L164.4,148.0 L165.0,148.7 L165.6,149.4 L166.2,150.2\\n\\t\\tL166.8,151.0 L167.5,151.8 L168.1,152.6 L168.7,153.5 L169.3,154.3 L169.9,155.2 L170.5,156.2 L171.1,157.1\\n\\t\\tL171.7,158.1 L172.3,159.1 L172.9,160.1 L173.5,161.1 L174.1,162.1 L174.7,163.2 L175.4,164.2 L176.0,165.3\\n\\t\\tL176.6,166.4 L177.2,167.5 L177.8,168.6 L178.4,169.8 L179.0,170.9 L179.6,172.0 L180.2,173.2 L180.8,174.3\\n\\t\\tL181.4,175.5 L182.0,176.6 L182.6,177.8 L183.2,178.9 L183.9,180.1 L184.5,181.2 L185.1,182.4 L185.7,183.5\\n\\t\\tL186.3,184.7 L186.9,185.8 L187.5,186.9 L188.1,188.0 L188.7,189.1 L189.3,190.2 L189.9,191.3 L190.5,192.4\\n\\t\\tL191.1,193.4 L191.7,194.5 L192.4,195.5 L193.0,196.5 L193.6,197.5 L194.2,198.4 L194.8,199.4 L195.4,200.3\\n\\t\\tL196.0,201.2 L196.6,202.1 L197.2,202.9 L197.8,203.8 L198.4,204.6 L199.0,205.4 L199.6,206.1 L200.2,206.8\\n\\t\\tL200.9,207.5 L201.5,208.2 L202.1,208.8 L202.7,209.4 L203.3,210.0 L203.9,210.5 L204.5,211.0 L205.1,211.5\\n\\t\\tL205.7,212.0 L206.3,212.4 L206.9,212.7 L207.5,213.1 L208.1,213.4 L208.7,213.7 L209.4,213.9 L210.0,214.1\\n\\t\\tL210.6,214.3 L211.2,214.4 L211.8,214.5 L212.4,214.5 L213.0,214.5 L213.6,214.5 L214.2,214.5 L214.8,214.4\\n\\t\\tL215.4,214.3 L216.0,214.1 L216.6,213.9 L217.3,213.7 L217.9,213.4 L218.5,213.1 L219.1,212.7 L219.7,212.4\\n\\t\\tL220.3,212.0 L220.9,211.5 L221.5,211.0 L222.1,210.5 L222.7,210.0 L223.3,209.4 L223.9,208.8 L224.5,208.2\\n\\t\\tL225.1,207.5 L225.8,206.8 L226.4,206.1 L227.0,205.4 L227.6,204.6 L228.2,203.8 L228.8,202.9 L229.4,202.1\\n\\t\\tL230.0,201.2 L230.6,200.3 L231.2,199.4 L231.8,198.4 L232.4,197.5 L233.0,196.5 L233.6,195.5 L234.3,194.5\\n\\t\\tL234.9,193.4 L235.5,192.4 L236.1,191.3 L236.7,190.2 L237.3,189.1 L237.9,188.0 L238.5,186.9 L239.1,185.8\\n\\t\\tL239.7,184.7 L240.3,183.5 L240.9,182.4 L241.5,181.2 L242.1,180.1 L242.8,178.9 L243.4,177.8 L244.0,176.6\\n\\t\\tL244.6,175.5 L245.2,174.3 L245.8,173.2 L246.4,172.0 L247.0,170.9 L247.6,169.8 L248.2,168.6 L248.8,167.5\\n\\t\\tL249.4,166.4 L250.0,165.3 L250.6,164.2 L251.3,163.2 L251.9,162.1 L252.5,161.1 L253.1,160.1 L253.7,159.1\\n\\t\\tL254.3,158.1 L254.9,157.1 L255.5,156.2 L256.1,155.2 L256.7,154.3 L257.3,153.5 L257.9,152.6 L258.5,151.8\\n\\t\\tL259.2,151.0 L259.8,150.2 L260.4,149.4 L261.0,148.7 L261.6,148.0 L262.2,147.4 L262.8,146.7 L263.4,146.1\\n\\t\\tL264.0,145.6 L264.6,145.0 L265.2,144.5 L265.8,144.0 L266.4,143.6 L267.0,143.2 L267.7,142.8 L268.3,142.5\\n\\t\\tL268.9,142.2 L269.5,141.9 L270.1,141.7 L270.7,141.5 L271.3,141.3 L271.9,141.2 L272.5,141.1 L273.1,141.0\\n\\t\\tL273.7,141.0 L274.3,141.0 L274.9,141.1 L275.5,141.2 L276.2,141.3 L276.8,141.5 L277.4,141.7 L278.0,141.9\\n\\t\\tL278.6,142.2 L279.2,142.5 L279.8,142.8 L280.4,143.2 L281.0,143.6 L281.6,144.0 L282.2,144.5 L282.8,145.0\\n\\t\\tL283.4,145.6 L284.0,146.1 L284.7,146.7 L285.3,147.4 L285.9,148.0 L286.5,148.7 L287.1,149.4 L287.7,150.2\\n\\t\\tL288.3,151.0 L288.9,151.8 L289.5,152.6 L290.1,153.5 L290.7,154.3 L291.3,155.2 L291.9,156.2 L292.5,157.1\\n\\t\\tL293.2,158.1 L293.8,159.1 L294.4,160.1 L295.0,161.1 L295.6,162.1 L296.2,163.2 L296.8,164.2 L297.4,165.3\\n\\t\\tL298.0,166.4 L298.6,167.5 L299.2,168.6 L299.8,169.8 L300.4,170.9 L301.1,172.0 L301.7,173.2 L302.3,174.3\\n\\t\\tL302.9,175.5 L303.5,176.6 L304.1,177.8 L304.7,178.9 L305.3,180.1 L305.9,181.2 L306.5,182.4 L307.1,183.5\\n\\t\\tL307.7,184.7 L308.3,185.8 L308.9,186.9 L309.6,188.0 L310.2,189.1 L310.8,190.2 L311.4,191.3 L312.0,192.4\\n\\t\\tL312.6,193.4 L313.2,194.5 L313.8,195.5 L314.4,196.5 L315.0,197.5 L315.6,198.4 L316.2,199.4 L316.8,200.3\\n\\t\\tL317.4,201.2 L318.1,202.1 L318.7,202.9 L319.3,203.8 L319.9,204.6 L320.5,205.4 L321.1,206.1 L321.7,206.8\\n\\t\\tL322.3,207.5 L322.9,208.2 L323.5,208.8 L324.1,209.4 L324.7,210.0 L325.3,210.5 L325.9,211.0 L326.6,211.5\\n\\t\\tL327.2,212.0 L327.8,212.4 L328.4,212.7 L329.0,213.1 L329.6,213.4 L330.2,213.7 L330.8,213.9 L331.4,214.1\\n\\t\\tL332.0,214.3 L332.6,214.4 L333.2,214.5 L333.8,214.5 L334.5,214.5 L335.1,214.6 L335.7,214.6 L336.3,214.7\\n\\t\\tL336.9,214.8 L337.5,215.0 L338.1,215.2 L338.7,215.4 L339.3,215.7 L339.9,216.0 L340.5,216.3 L341.1,216.7\\n\\t\\tL341.7,217.1 L342.3,217.6 L343.0,218.0 L343.6,218.6 L344.2,219.1 L344.8,219.7 L345.4,220.3 L346.0,220.9\\n\\t\\tL346.6,221.6 L347.2,222.3 L347.8,223.0 L348.4,223.7 L349.0,224.5 L349.6,225.3 L350.2,226.1 L350.8,227.0\\n\\t\\tL351.5,227.9 L352.1,228.8 L352.7,229.7 L353.3,230.6 L353.9,231.6 L354.5,232.6 L355.1,233.6 L355.7,234.6\\n\\t\\tL356.3,235.7 L356.9,236.7 L357.5,237.8 L358.1,238.9 L358.7,240.0 L359.3,241.1 L360.0,242.2 L360.6,243.3\\n\\t\\tL361.2,244.4 L361.8,245.6 L362.4,246.7 L363.0,247.9 L363.6,249.0 L364.2,250.2 L364.8,251.3 L365.4,252.5\\n\\t\\tL366.0,253.6 L366.6,254.8 L367.2,255.9 L367.8,257.1 L368.5,258.2 L369.1,259.3 L369.7,260.5 L370.3,261.6\\n\\t\\tL370.9,262.7 L371.5,263.8 L372.1,264.9 L372.7,265.9 L373.3,267.0 L373.9,268.0 L374.5,269.0 L375.1,270.0\\n\\t\\tL375.7,271.0 L376.4,272.0 L377.0,272.9 L377.6,273.9 L378.2,274.8 L378.8,275.6 L379.4,276.5 L380.0,277.3\\n\\t\\tL380.6,278.1 L381.2,278.9 L381.8,279.6 L382.4,280.4 L383.0,281.1 L383.6,281.7 L384.2,282.4 L384.9,283.0\\n\\t\\tL385.5,283.5 L386.1,284.1 L386.7,284.6 L387.3,285.1 L387.9,285.5 L388.5,285.9 L389.1,286.3 L389.7,286.6\\n\\t\\tL390.3,286.9 L390.9,287.2 L391.5,287.4 L392.1,287.6 L392.7,287.8 L393.4,287.9 L394.0,288.0 L394.6,288.1\\n\\t\\tL395.2,288.1 L395.8,288.1 L396.4,288.0 L397.0,287.9 L397.6,287.8 L398.2,287.6 L398.8,287.4 L399.4,287.2\\n\\t\\tL400.0,286.9 L400.6,286.6 L401.2,286.3 L401.9,285.9 L402.5,285.5 L403.1,285.1 L403.7,284.6 L404.3,284.1\\n\\t\\tL404.9,283.5 L405.5,283.0 L406.1,282.4 L406.7,281.7 L407.3,281.1 L407.9,280.4 L408.5,279.6 L409.1,278.9\\n\\t\\tL409.7,278.1 L410.4,277.3 L411.0,276.5 L411.6,275.6 L412.2,274.8 L412.8,273.9 L413.4,272.9 L414.0,272.0\\n\\t\\tL414.6,271.0 L415.2,270.0 L415.8,269.0 L416.4,268.0 L417.0,267.0 L417.6,265.9 L418.3,264.9 L418.9,263.8\\n\\t\\tL419.5,262.7 L420.1,261.6 L420.7,260.5 L421.3,259.3 L421.9,258.2 L422.5,257.1 L423.1,255.9 L423.7,254.8\\n\\t\\tL424.3,253.6 L424.9,252.5 L425.5,251.3 L426.1,250.2 L426.8,249.0 L427.4,247.9 L428.0,246.7 L428.6,245.6\\n\\t\\tL429.2,244.4 L429.8,243.3 L430.4,242.2 L431.0,241.1 L431.6,240.0 L432.2,238.9 L432.8,237.8 L433.4,236.7\\n\\t\\tL434.0,235.7 L434.6,234.6 L435.3,233.6 L435.9,232.6 L436.5,231.6 L437.1,230.6 L437.7,229.7 L438.3,228.8\\n\\t\\tL438.9,227.9 L439.5,227.0 L440.1,226.1 L440.7,225.3 L441.3,224.5 L441.9,223.7 L442.5,223.0 L443.1,222.3\\n\\t\\tL443.8,221.6 L444.4,220.9 L445.0,220.3 L445.6,219.7 L446.2,219.1 L446.8,218.6 L447.4,218.0 L448.0,217.6\\n\\t\\tL448.6,217.1 L449.2,216.7 L449.8,216.3 L450.4,216.0 L451.0,215.7 L451.6,215.4 L452.3,215.2 L452.9,215.0\\n\\t\\tL453.5,214.8 L454.1,214.7 L454.7,214.6 L455.3,214.6 L455.9,214.5 L456.5,214.5 L457.1,214.5 L457.7,214.4\\n\\t\\tL458.3,214.3 L458.9,214.1 L459.5,213.9 L460.2,213.7 L460.8,213.4 L461.4,213.1 L462.0,212.7 L462.6,212.4\\n\\t\\tL463.2,212.0 L463.8,211.5 L464.4,211.0 L465.0,210.5 L465.6,210.0 L466.2,209.4 L466.8,208.8 L467.4,208.2\\n\\t\\tL468.0,207.5 L468.7,206.8 L469.3,206.1 L469.9,205.4 L470.5,204.6 L471.1,203.8 L471.7,202.9 L472.3,202.1\\n\\t\\tL472.9,201.2 L473.5,200.3 L474.1,199.4 L474.7,198.4 L475.3,197.5 L475.9,196.5 L476.5,195.5 L477.2,194.5\\n\\t\\tL477.8,193.4 L478.4,192.4 L479.0,191.3 L479.6,190.2 L480.2,189.1 L480.8,188.0 L481.4,186.9 L482.0,185.8\\n\\t\\tL482.6,184.7 L483.2,183.5 L483.8,182.4 L484.4,181.2 L485.0,180.1 L485.7,178.9 L486.3,177.8 L486.9,176.6\\n\\t\\tL487.5,175.5 L488.1,174.3 L488.7,173.2 L489.3,172.0 L489.9,170.9 L490.5,169.8 L491.1,168.6 L491.7,167.5\\n\\t\\tL492.3,166.4 L492.9,165.3 L493.5,164.2 L494.2,163.2 L494.8,162.1 L495.4,161.1 L496.0,160.1 L496.6,159.1\\n\\t\\tL497.2,158.1 L497.8,157.1 L498.4,156.2 L499.0,155.2 L499.6,154.3 L500.2,153.5 L500.8,152.6 L501.4,151.8\\n\\t\\tL502.1,151.0 L502.7,150.2 L503.3,149.4 L503.9,148.7 L504.5,148.0 L505.1,147.4 L505.7,146.7 L506.3,146.1\\n\\t\\tL506.9,145.6 L507.5,145.0 L508.1,144.5 L508.7,144.0 L509.3,143.6 L509.9,143.2 L510.6,142.8 L511.2,142.5\\n\\t\\tL511.8,142.2 L512.4,141.9 L513.0,141.7 L513.6,141.5 L514.2,141.3 L514.8,141.2 L515.4,141.1 L516.0,141.0\\n\\t\\tL516.6,141.0 L517.2,141.0 L517.8,141.1 L518.4,141.2 L519.1,141.3 L519.7,141.5 L520.3,141.7 L520.9,141.9\\n\\t\\tL521.5,142.2 L522.1,142.5 L522.7,142.8 L523.3,143.2 L523.9,143.6 L524.5,144.0 L525.1,144.5 L525.7,145.0\\n\\t\\tL526.3,145.6 L526.9,146.1 L527.6,146.7 L528.2,147.4 L528.8,148.0 L529.4,148.7 L530.0,149.4 L530.6,150.2\\n\\t\\tL531.2,151.0 L531.8,151.8 L532.4,152.6 L533.0,153.5 L533.6,154.3 L534.2,155.2 L534.8,156.2 L535.5,157.1\\n\\t\\tL536.1,158.1 L536.7,159.1 L537.3,160.1 L537.9,161.1 L538.5,162.1 L539.1,163.2 L539.7,164.2 L540.3,165.3\\n\\t\\tL540.9,166.4 L541.5,167.5 L542.1,168.6 L542.7,169.8 L543.3,170.9 L544.0,172.0 L544.6,173.2 L545.2,174.3\\n\\t\\tL545.8,175.5 L546.4,176.6 L547.0,177.8 L547.6,178.9 L548.2,180.1 L548.8,181.2 L549.4,182.4 L550.0,183.5\\n\\t\\tL550.6,184.7 L551.2,185.8 L551.8,186.9 L552.5,188.0 L553.1,189.1 L553.7,190.2 L554.3,191.3 L554.9,192.4\\n\\t\\tL555.5,193.4 L556.1,194.5 L556.7,195.5 L557.3,196.5 L557.9,197.5 L558.5,198.4 L559.1,199.4 L559.7,200.3\\n\\t\\tL560.3,201.2 L561.0,202.1 L561.6,202.9 L562.2,203.8 L562.8,204.6 L563.4,205.4 L564.0,206.1 L564.6,206.8\\n\\t\\tL565.2,207.5 L565.8,208.2 L566.4,208.8 L567.0,209.4 L567.6,210.0 L568.2,210.5 L568.8,211.0 L569.5,211.5\\n\\t\\tL570.1,212.0 L570.7,212.4 L571.3,212.7 L571.9,213.1 L572.5,213.4 L573.1,213.7 L573.7,213.9 L574.3,214.1\\n\\t\\tL574.9,214.3 L575.5,214.4 L576.1,214.5 L576.7,214.5 L577.4,214.5 L578.0,214.5 L578.6,214.5 L579.2,214.5\\n\\t\\tL579.8,214.5 L580.4,214.5 L581.0,214.5 L581.6,214.5 L582.2,214.5 L582.8,214.5 L583.4,214.5 L584.0,214.5\\n\\t\\tL584.6,214.5 L585.2,214.5 L585.9,214.5 L586.5,214.5 L587.1,214.5 L587.7,214.5 L588.3,214.5 L588.9,214.5\\n\\t\\tL589.5,214.5  '\\/><\\/g>\\n\\t<\\/g>\\n\\t<g id=\\\"gnuplot_plot_3\\\" ><title>gnuplot_plot_3<\\/title>\\n<g fill=\\\"none\\\" color=\\\"black\\\" stroke=\\\"currentColor\\\" stroke-width=\\\"1.00\\\" stroke-linecap=\\\"butt\\\" stroke-linejoin=\\\"miter\\\">\\n\\t<path stroke='rgb( 94, 156,  54)'  d='M79.4,214.5 L80.0,214.5 L80.6,214.5 L81.2,214.5 L81.8,214.5 L82.4,214.5 L83.0,214.5 L83.7,214.5\\n\\t\\tL84.3,214.5 L84.9,214.5 L85.5,214.5 L86.1,214.5 L86.7,214.5 L87.3,214.5 L87.9,214.5 L88.5,214.5\\n\\t\\tL89.1,214.5 L89.7,214.5 L90.3,214.5 L90.9,214.5 L91.5,214.5 L92.2,214.5 L92.8,214.5 L93.4,214.5\\n\\t\\tL94.0,214.5 L94.6,214.5 L95.2,214.5 L95.8,214.5 L96.4,214.5 L97.0,214.5 L97.6,214.5 L98.2,214.5\\n\\t\\tL98.8,214.5 L99.4,214.5 L100.1,214.5 L100.7,214.5 L101.3,214.5 L101.9,214.5 L102.5,214.5 L103.1,214.5\\n\\t\\tL103.7,214.5 L104.3,214.5 L104.9,214.5 L105.5,214.5 L106.1,214.5 L106.7,214.5 L107.3,214.5 L107.9,214.5\\n\\t\\tL108.6,214.5 L109.2,214.5 L109.8,214.5 L110.4,214.5 L111.0,214.5 L111.6,214.5 L112.2,214.5 L112.8,214.5\\n\\t\\tL113.4,214.5 L114.0,214.5 L114.6,214.5 L115.2,214.5 L115.8,214.5 L116.4,214.5 L117.1,214.5 L117.7,214.5\\n\\t\\tL118.3,214.5 L118.9,214.5 L119.5,214.5 L120.1,214.5 L120.7,214.5 L121.3,214.5 L121.9,214.5 L122.5,214.5\\n\\t\\tL123.1,214.5 L123.7,214.5 L124.3,214.5 L124.9,214.5 L125.6,214.5 L126.2,214.5 L126.8,214.5 L127.4,214.5\\n\\t\\tL128.0,214.5 L128.6,214.5 L129.2,214.5 L129.8,214.5 L130.4,214.5 L131.0,214.5 L131.6,214.5 L132.2,214.5\\n\\t\\tL132.8,214.5 L133.4,214.5 L134.1,214.5 L134.7,214.5 L135.3,214.5 L135.9,214.5 L136.5,214.5 L137.1,214.5\\n\\t\\tL137.7,214.5 L138.3,214.5 L138.9,214.5 L139.5,214.5 L140.1,214.5 L140.7,214.5 L141.3,214.5 L142.0,214.5\\n\\t\\tL142.6,214.5 L143.2,214.5 L143.8,214.5 L144.4,214.5 L145.0,214.5 L145.6,214.5 L146.2,214.5 L146.8,214.5\\n\\t\\tL147.4,214.5 L148.0,214.5 L148.6,214.5 L149.2,214.5 L149.8,214.5 L150.5,214.5 L151.1,214.5 L151.7,214.5\\n\\t\\tL152.3,214.5 L152.9,214.5 L153.5,214.5 L154.1,214.5 L154.7,214.5 L155.3,214.5 L155.9,214.5 L156.5,214.5\\n\\t\\tL157.1,214.5 L157.7,214.5 L158.3,214.5 L159.0,214.5 L159.6,214.5 L160.2,214.5 L160.8,214.5 L161.4,214.5\\n\\t\\tL162.0,214.5 L162.6,214.5 L163.2,214.5 L163.8,214.5 L164.4,214.5 L165.0,214.5 L165.6,214.5 L166.2,214.5\\n\\t\\tL166.8,214.5 L167.5,214.5 L168.1,214.5 L168.7,214.5 L169.3,214.5 L169.9,214.5 L170.5,214.5 L171.1,214.5\\n\\t\\tL171.7,214.5 L172.3,214.5 L172.9,214.5 L173.5,214.5 L174.1,214.5 L174.7,214.5 L175.4,214.5 L176.0,214.5\\n\\t\\tL176.6,214.5 L177.2,214.5 L177.8,214.5 L178.4,214.5 L179.0,214.5 L179.6,214.5 L180.2,214.5 L180.8,214.5\\n\\t\\tL181.4,214.5 L182.0,214.5 L182.6,214.5 L183.2,214.5 L183.9,214.5 L184.5,214.5 L185.1,214.5 L185.7,214.5\\n\\t\\tL186.3,214.5 L186.9,214.5 L187.5,214.5 L188.1,214.5 L188.7,214.5 L189.3,214.5 L189.9,214.5 L190.5,214.5\\n\\t\\tL191.1,214.5 L191.7,214.5 L192.4,214.5 L193.0,214.5 L193.6,214.5 L194.2,214.5 L194.8,214.5 L195.4,214.5\\n\\t\\tL196.0,214.5 L196.6,214.5 L197.2,214.5 L197.8,214.5 L198.4,214.5 L199.0,214.5 L199.6,214.5 L200.2,214.5\\n\\t\\tL200.9,214.5 L201.5,214.5 L202.1,214.5 L202.7,214.5 L203.3,214.5 L203.9,214.5 L204.5,214.5 L205.1,214.5\\n\\t\\tL205.7,214.5 L206.3,214.5 L206.9,214.5 L207.5,214.5 L208.1,214.5 L208.7,214.5 L209.4,214.5 L210.0,214.5\\n\\t\\tL210.6,214.5 L211.2,214.5 L211.8,214.5 L212.4,214.5 L213.0,214.5 L213.6,214.5 L214.2,214.5 L214.8,214.5\\n\\t\\tL215.4,214.5 L216.0,214.5 L216.6,214.5 L217.3,214.5 L217.9,214.5 L218.5,214.5 L219.1,214.5 L219.7,214.5\\n\\t\\tL220.3,214.5 L220.9,214.5 L221.5,214.5 L222.1,214.5 L222.7,214.5 L223.3,214.5 L223.9,214.5 L224.5,214.5\\n\\t\\tL225.1,214.5 L225.8,214.5 L226.4,214.5 L227.0,214.5 L227.6,214.5 L228.2,214.5 L228.8,214.5 L229.4,214.5\\n\\t\\tL230.0,214.5 L230.6,214.5 L231.2,214.5 L231.8,214.5 L232.4,214.5 L233.0,214.5 L233.6,214.5 L234.3,214.5\\n\\t\\tL234.9,214.5 L235.5,214.5 L236.1,214.5 L236.7,214.5 L237.3,214.5 L237.9,214.5 L238.5,214.5 L239.1,214.5\\n\\t\\tL239.7,214.5 L240.3,214.5 L240.9,214.5 L241.5,214.5 L242.1,214.5 L242.8,214.5 L243.4,214.5 L244.0,214.5\\n\\t\\tL244.6,214.5 L245.2,214.5 L245.8,214.5 L246.4,214.5 L247.0,214.5 L247.6,214.5 L248.2,214.5 L248.8,214.5\\n\\t\\tL249.4,214.5 L250.0,214.5 L250.6,214.5 L251.3,214.5 L251.9,214.5 L252.5,214.5 L253.1,214.5 L253.7,214.5\\n\\t\\tL254.3,214.5 L254.9,214.5 L255.5,214.5 L256.1,214.5 L256.7,214.5 L257.3,214.5 L257.9,214.5 L258.5,214.5\\n\\t\\tL259.2,214.5 L259.8,214.5 L260.4,214.5 L261.0,214.5 L261.6,214.5 L262.2,214.5 L262.8,214.5 L263.4,214.5\\n\\t\\tL264.0,214.5 L264.6,214.5 L265.2,214.5 L265.8,214.5 L266.4,214.5 L267.0,214.5 L267.7,214.5 L268.3,214.5\\n\\t\\tL268.9,214.5 L269.5,214.5 L270.1,214.5 L270.7,214.5 L271.3,214.5 L271.9,214.5 L272.5,214.5 L273.1,214.5\\n\\t\\tL273.7,214.5 L274.3,214.5 L274.9,214.5 L275.5,214.5 L276.2,214.5 L276.8,214.5 L277.4,214.5 L278.0,214.5\\n\\t\\tL278.6,214.5 L279.2,214.5 L279.8,214.5 L280.4,214.5 L281.0,214.5 L281.6,214.5 L282.2,214.5 L282.8,214.5\\n\\t\\tL283.4,214.5 L284.0,214.5 L284.7,214.5 L285.3,214.5 L285.9,214.5 L286.5,214.5 L287.1,214.5 L287.7,214.5\\n\\t\\tL288.3,214.5 L288.9,214.5 L289.5,214.5 L290.1,214.5 L290.7,214.5 L291.3,214.5 L291.9,214.5 L292.5,214.5\\n\\t\\tL293.2,214.5 L293.8,214.5 L294.4,214.5 L295.0,214.5 L295.6,214.5 L296.2,214.5 L296.8,214.5 L297.4,214.5\\n\\t\\tL298.0,214.5 L298.6,214.5 L299.2,214.5 L299.8,214.5 L300.4,214.5 L301.1,214.5 L301.7,214.5 L302.3,214.5\\n\\t\\tL302.9,214.5 L303.5,214.5 L304.1,214.5 L304.7,214.5 L305.3,214.5 L305.9,214.5 L306.5,214.5 L307.1,214.5\\n\\t\\tL307.7,214.5 L308.3,214.5 L308.9,214.5 L309.6,214.5 L310.2,214.5 L310.8,214.5 L311.4,214.5 L312.0,214.5\\n\\t\\tL312.6,214.5 L313.2,214.5 L313.8,214.5 L314.4,214.5 L315.0,214.5 L315.6,214.5 L316.2,214.5 L316.8,214.5\\n\\t\\tL317.4,214.5 L318.1,214.5 L318.7,214.5 L319.3,214.5 L319.9,214.5 L320.5,214.5 L321.1,214.5 L321.7,214.5\\n\\t\\tL322.3,214.5 L322.9,214.5 L323.5,214.5 L324.1,214.5 L324.7,214.5 L325.3,214.5 L325.9,214.5 L326.6,214.5\\n\\t\\tL327.2,214.5 L327.8,214.5 L328.4,214.5 L329.0,214.5 L329.6,214.5 L330.2,214.5 L330.8,214.5 L331.4,214.5\\n\\t\\tL332.0,214.5 L332.6,214.5 L333.2,214.5 L333.8,214.5 L334.5,214.5 L335.1,214.5 L335.7,214.5 L336.3,214.5\\n\\t\\tL336.9,214.5 L337.5,214.5 L338.1,214.6 L338.7,214.6 L339.3,214.6 L339.9,214.6 L340.5,214.6 L341.1,214.7\\n\\t\\tL341.7,214.7 L342.3,214.7 L343.0,214.8 L343.6,214.9 L344.2,215.0 L344.8,215.1 L345.4,215.3 L346.0,215.4\\n\\t\\tL346.6,215.6 L347.2,215.9 L347.8,216.1 L348.4,216.4 L349.0,216.8 L349.6,217.1 L350.2,217.5 L350.8,218.0\\n\\t\\tL351.5,218.5 L352.1,219.0 L352.7,219.6 L353.3,220.3 L353.9,221.0 L354.5,221.8 L355.1,222.6 L355.7,223.5\\n\\t\\tL356.3,224.4 L356.9,225.5 L357.5,226.5 L358.1,227.7 L358.7,228.9 L359.3,230.2 L360.0,231.5 L360.6,232.9\\n\\t\\tL361.2,234.4 L361.8,235.9 L362.4,237.5 L363.0,239.2 L363.6,240.9 L364.2,242.7 L364.8,244.6 L365.4,246.5\\n\\t\\tL366.0,248.5 L366.6,250.5 L367.2,252.6 L367.8,254.7 L368.5,256.9 L369.1,259.1 L369.7,261.4 L370.3,263.7\\n\\t\\tL370.9,266.0 L371.5,268.4 L372.1,270.7 L372.7,273.2 L373.3,275.6 L373.9,278.0 L374.5,280.5 L375.1,282.9\\n\\t\\tL375.7,285.4 L376.4,287.8 L377.0,290.2 L377.6,292.7 L378.2,295.0 L378.8,297.4 L379.4,299.7 L380.0,302.0\\n\\t\\tL380.6,304.3 L381.2,306.5 L381.8,308.7 L382.4,310.8 L383.0,312.8 L383.6,314.8 L384.2,316.7 L384.9,318.5\\n\\t\\tL385.5,320.2 L386.1,321.9 L386.7,323.5 L387.3,325.0 L387.9,326.4 L388.5,327.6 L389.1,328.8 L389.7,329.9\\n\\t\\tL390.3,330.9 L390.9,331.8 L391.5,332.5 L392.1,333.2 L392.7,333.7 L393.4,334.1 L394.0,334.4 L394.6,334.6\\n\\t\\tL395.2,334.6 L395.8,334.6 L396.4,334.4 L397.0,334.1 L397.6,333.7 L398.2,333.2 L398.8,332.5 L399.4,331.8\\n\\t\\tL400.0,330.9 L400.6,329.9 L401.2,328.8 L401.9,327.6 L402.5,326.4 L403.1,325.0 L403.7,323.5 L404.3,321.9\\n\\t\\tL404.9,320.2 L405.5,318.5 L406.1,316.7 L406.7,314.8 L407.3,312.8 L407.9,310.8 L408.5,308.7 L409.1,306.5\\n\\t\\tL409.7,304.3 L410.4,302.0 L411.0,299.7 L411.6,297.4 L412.2,295.0 L412.8,292.7 L413.4,290.2 L414.0,287.8\\n\\t\\tL414.6,285.4 L415.2,282.9 L415.8,280.5 L416.4,278.0 L417.0,275.6 L417.6,273.2 L418.3,270.7 L418.9,268.4\\n\\t\\tL419.5,266.0 L420.1,263.7 L420.7,261.4 L421.3,259.1 L421.9,256.9 L422.5,254.7 L423.1,252.6 L423.7,250.5\\n\\t\\tL424.3,248.5 L424.9,246.5 L425.5,244.6 L426.1,242.7 L426.8,240.9 L427.4,239.2 L428.0,237.5 L428.6,235.9\\n\\t\\tL429.2,234.4 L429.8,232.9 L430.4,231.5 L431.0,230.2 L431.6,228.9 L432.2,227.7 L432.8,226.5 L433.4,225.5\\n\\t\\tL434.0,224.4 L434.6,223.5 L435.3,222.6 L435.9,221.8 L436.5,221.0 L437.1,220.3 L437.7,219.6 L438.3,219.0\\n\\t\\tL438.9,218.5 L439.5,218.0 L440.1,217.5 L440.7,217.1 L441.3,216.8 L441.9,216.4 L442.5,216.1 L443.1,215.9\\n\\t\\tL443.8,215.6 L444.4,215.4 L445.0,215.3 L445.6,215.1 L446.2,215.0 L446.8,214.9 L447.4,214.8 L448.0,214.7\\n\\t\\tL448.6,214.7 L449.2,214.7 L449.8,214.6 L450.4,214.6 L451.0,214.6 L451.6,214.6 L452.3,214.6 L452.9,214.5\\n\\t\\tL453.5,214.5 L454.1,214.5 L454.7,214.5 L455.3,214.5 L455.9,214.5 L456.5,214.5 L457.1,214.5 L457.7,214.5\\n\\t\\tL458.3,214.5 L458.9,214.5 L459.5,214.5 L460.2,214.5 L460.8,214.5 L461.4,214.5 L462.0,214.5 L462.6,214.5\\n\\t\\tL463.2,214.5 L463.8,214.5 L464.4,214.5 L465.0,214.5 L465.6,214.5 L466.2,214.5 L466.8,214.5 L467.4,214.5\\n\\t\\tL468.0,214.5 L468.7,214.5 L469.3,214.5 L469.9,214.5 L470.5,214.5 L471.1,214.5 L471.7,214.5 L472.3,214.5\\n\\t\\tL472.9,214.5 L473.5,214.5 L474.1,214.5 L474.7,214.5 L475.3,214.5 L475.9,214.5 L476.5,214.5 L477.2,214.5\\n\\t\\tL477.8,214.5 L478.4,214.5 L479.0,214.5 L479.6,214.5 L480.2,214.5 L480.8,214.5 L481.4,214.5 L482.0,214.5\\n\\t\\tL482.6,214.5 L483.2,214.5 L483.8,214.5 L484.4,214.5 L485.0,214.5 L485.7,214.5 L486.3,214.5 L486.9,214.5\\n\\t\\tL487.5,214.5 L488.1,214.5 L488.7,214.5 L489.3,214.5 L489.9,214.5 L490.5,214.5 L491.1,214.5 L491.7,214.5\\n\\t\\tL492.3,214.5 L492.9,214.5 L493.5,214.5 L494.2,214.5 L494.8,214.5 L495.4,214.5 L496.0,214.5 L496.6,214.5\\n\\t\\tL497.2,214.5 L497.8,214.5 L498.4,214.5 L499.0,214.5 L499.6,214.5 L500.2,214.5 L500.8,214.5 L501.4,214.5\\n\\t\\tL502.1,214.5 L502.7,214.5 L503.3,214.5 L503.9,214.5 L504.5,214.5 L505.1,214.5 L505.7,214.5 L506.3,214.5\\n\\t\\tL506.9,214.5 L507.5,214.5 L508.1,214.5 L508.7,214.5 L509.3,214.5 L509.9,214.5 L510.6,214.5 L511.2,214.5\\n\\t\\tL511.8,214.5 L512.4,214.5 L513.0,214.5 L513.6,214.5 L514.2,214.5 L514.8,214.5 L515.4,214.5 L516.0,214.5\\n\\t\\tL516.6,214.5 L517.2,214.5 L517.8,214.5 L518.4,214.5 L519.1,214.5 L519.7,214.5 L520.3,214.5 L520.9,214.5\\n\\t\\tL521.5,214.5 L522.1,214.5 L522.7,214.5 L523.3,214.5 L523.9,214.5 L524.5,214.5 L525.1,214.5 L525.7,214.5\\n\\t\\tL526.3,214.5 L526.9,214.5 L527.6,214.5 L528.2,214.5 L528.8,214.5 L529.4,214.5 L530.0,214.5 L530.6,214.5\\n\\t\\tL531.2,214.5 L531.8,214.5 L532.4,214.5 L533.0,214.5 L533.6,214.5 L534.2,214.5 L534.8,214.5 L535.5,214.5\\n\\t\\tL536.1,214.5 L536.7,214.5 L537.3,214.5 L537.9,214.5 L538.5,214.5 L539.1,214.5 L539.7,214.5 L540.3,214.5\\n\\t\\tL540.9,214.5 L541.5,214.5 L542.1,214.5 L542.7,214.5 L543.3,214.5 L544.0,214.5 L544.6,214.5 L545.2,214.5\\n\\t\\tL545.8,214.5 L546.4,214.5 L547.0,214.5 L547.6,214.5 L548.2,214.5 L548.8,214.5 L549.4,214.5 L550.0,214.5\\n\\t\\tL550.6,214.5 L551.2,214.5 L551.8,214.5 L552.5,214.5 L553.1,214.5 L553.7,214.5 L554.3,214.5 L554.9,214.5\\n\\t\\tL555.5,214.5 L556.1,214.5 L556.7,214.5 L557.3,214.5 L557.9,214.5 L558.5,214.5 L559.1,214.5 L559.7,214.5\\n\\t\\tL560.3,214.5 L561.0,214.5 L561.6,214.5 L562.2,214.5 L562.8,214.5 L563.4,214.5 L564.0,214.5 L564.6,214.5\\n\\t\\tL565.2,214.5 L565.8,214.5 L566.4,214.5 L567.0,214.5 L567.6,214.5 L568.2,214.5 L568.8,214.5 L569.5,214.5\\n\\t\\tL570.1,214.5 L570.7,214.5 L571.3,214.5 L571.9,214.5 L572.5,214.5 L573.1,214.5 L573.7,214.5 L574.3,214.5\\n\\t\\tL574.9,214.5 L575.5,214.5 L576.1,214.5 L576.7,214.5 L577.4,214.5 L578.0,214.5 L578.6,214.5 L579.2,214.5\\n\\t\\tL579.8,214.5 L580.4,214.5 L581.0,214.5 L581.6,214.5 L582.2,214.5 L582.8,214.5 L583.4,214.5 L584.0,214.5\\n\\t\\tL584.6,214.5 L585.2,214.5 L585.9,214.5 L586.5,214.5 L587.1,214.5 L587.7,214.5 L588.3,214.5 L588.9,214.5\\n\\t\\tL589.5,214.5  '\\/><\\/g>\\n\\t<\\/g>\\n<g fill=\\\"none\\\" color=\\\"#FFFFFF\\\" stroke=\\\"rgb( 94, 156,  54)\\\" stroke-width=\\\"2.00\\\" stroke-linecap=\\\"butt\\\" stroke-linejoin=\\\"miter\\\">\\n<\\/g>\\n<g fill=\\\"none\\\" color=\\\"black\\\" stroke=\\\"currentColor\\\" stroke-width=\\\"2.00\\\" stroke-linecap=\\\"butt\\\" stroke-linejoin=\\\"miter\\\">\\n<\\/g>\\n<g fill=\\\"none\\\" color=\\\"black\\\" stroke=\\\"black\\\" stroke-width=\\\"1.00\\\" stroke-linecap=\\\"butt\\\" stroke-linejoin=\\\"miter\\\">\\n<\\/g>\\n<g fill=\\\"none\\\" color=\\\"black\\\" stroke=\\\"currentColor\\\" stroke-width=\\\"1.00\\\" stroke-linecap=\\\"butt\\\" stroke-linejoin=\\\"miter\\\">\\n\\t<path stroke='black'  d='M53.9,54.1 L53.9,348.0 L615.0,348.0 L615.0,54.1 L53.9,54.1 Z  '\\/><\\/g>\\n<g fill=\\\"none\\\" color=\\\"black\\\" stroke=\\\"currentColor\\\" stroke-width=\\\"1.00\\\" stroke-linecap=\\\"butt\\\" stroke-linejoin=\\\"miter\\\">\\n<\\/g>\\n<\\/g>\\n<\\/svg>\\n\\n\"},\"nodeType\":\"DOM\",\"type\":\"node\",\"instanceArgs\":{\"namespace\":\"html\",\"tag\":\"div\"},\"children\":[]}]}}}},\"children\":[{\"props\":{},\"nodeType\":\"ObservableNode\",\"type\":\"node\",\"instanceArgs\":{\"id\":\"ob_07\",\"name\":\"obs-node\"},\"children\":[]}]}]},\n",
       "            window,\n",
       "        );\n",
       "    } else {\n",
       "        document\n",
       "            .querySelector('[data-webio-mountpoint=\"14358743900808810128\"]')\n",
       "            .innerHTML = (\n",
       "                '<div style=\"padding: 1em; background-color: #f8d6da; border: 1px solid #f5c6cb\">' +\n",
       "                '<p><strong>WebIO not detected.</strong></p>' +\n",
       "                '<p>Please read ' +\n",
       "                '<a href=\"https://juliagizmos.github.io/WebIO.jl/latest/troubleshooting/not-detected/\" target=\"_blank\">the troubleshooting guide</a> ' +\n",
       "                'for more information on how to resolve this issue.</p>' +\n",
       "                '<p><a href=\"https://juliagizmos.github.io/WebIO.jl/latest/troubleshooting/not-detected/\" target=\"_blank\">https://juliagizmos.github.io/WebIO.jl/latest/troubleshooting/not-detected/</a></p>' +\n",
       "                '</div>'\n",
       "            );\n",
       "    }\n",
       "    </script>\n",
       "</div>\n"
      ],
      "text/plain": [
       "Node{WebIO.DOM}(WebIO.DOM(:html, :div), Any[Node{WebIO.DOM}(WebIO.DOM(:html, :div), Any[Scope(Node{WebIO.DOM}(WebIO.DOM(:html, :div), Any[Node{WebIO.DOM}(WebIO.DOM(:html, :div), Any[Node{WebIO.DOM}(WebIO.DOM(:html, :label), Any[\"delay\"], Dict{Symbol,Any}(:className => \"interact \",:style => Dict{Any,Any}(:padding => \"5px 10px 0px 10px\")))], Dict{Symbol,Any}(:className => \"interact-flex-row-left\")), Node{WebIO.DOM}(WebIO.DOM(:html, :div), Any[Node{WebIO.DOM}(WebIO.DOM(:html, :input), Any[], Dict{Symbol,Any}(:max => 61,:min => 1,:attributes => Dict{Any,Any}(:type => \"range\",Symbol(\"data-bind\") => \"numericValue: index, valueUpdate: 'input', event: {change: function (){this.changes(this.changes()+1)}}\",\"orient\" => \"horizontal\"),:step => 1,:className => \"slider slider is-fullwidth\",:style => Dict{Any,Any}()))], Dict{Symbol,Any}(:className => \"interact-flex-row-center\")), Node{WebIO.DOM}(WebIO.DOM(:html, :div), Any[Node{WebIO.DOM}(WebIO.DOM(:html, :p), Any[], Dict{Symbol,Any}(:attributes => Dict(\"data-bind\" => \"text: formatted_val\")))], Dict{Symbol,Any}(:className => \"interact-flex-row-right\"))], Dict{Symbol,Any}(:className => \"interact-flex-row interact-widget\")), Dict{String,Tuple{Observables.AbstractObservable,Union{Nothing, Bool}}}(\"changes\" => (Observable{Int64} with 1 listeners. Value:\n",
       "0, nothing),\"index\" => (Observable{Any} with 2 listeners. Value:\n",
       "31, nothing)), Set(String[]), nothing, Asset[Asset(\"js\", \"knockout\", \"/home/miguel/.julia/packages/Knockout/1sDlc/src/../assets/knockout.js\"), Asset(\"js\", \"knockout_punches\", \"/home/miguel/.julia/packages/Knockout/1sDlc/src/../assets/knockout_punches.js\"), Asset(\"js\", nothing, \"/home/miguel/.julia/packages/InteractBase/9mFwe/src/../assets/all.js\"), Asset(\"css\", nothing, \"/home/miguel/.julia/packages/InteractBase/9mFwe/src/../assets/style.css\"), Asset(\"css\", nothing, \"/home/miguel/.julia/packages/Interact/SbgIk/src/../assets/bulma_confined.min.css\")], Dict{Any,Any}(\"changes\" => Any[WebIO.JSString(\"(function (val){return (val!=this.model[\\\"changes\\\"]()) ? (this.valueFromJulia[\\\"changes\\\"]=true, this.model[\\\"changes\\\"](val)) : undefined})\")],\"index\" => Any[WebIO.JSString(\"(function (val){return (val!=this.model[\\\"index\\\"]()) ? (this.valueFromJulia[\\\"index\\\"]=true, this.model[\\\"index\\\"](val)) : undefined})\")]), WebIO.ConnectionPool(Channel{Any}(sz_max:32,sz_curr:0), Set(AbstractConnection[]), Base.GenericCondition{Base.AlwaysLockedST}(Base.InvasiveLinkedList{Task}(Task (runnable) @0x00007fd5cf5be980, Task (runnable) @0x00007fd5cf5be980), Base.AlwaysLockedST(1))), WebIO.JSString[WebIO.JSString(\"function () {\\n    var handler = (function (ko, koPunches) {\\n    ko.punches.enableAll();\\n    ko.bindingHandlers.numericValue = {\\n        init: function(element, valueAccessor, allBindings, data, context) {\\n            var stringified = ko.observable(ko.unwrap(valueAccessor()));\\n            stringified.subscribe(function(value) {\\n                var val = parseFloat(value);\\n                if (!isNaN(val)) {\\n                    valueAccessor()(val);\\n                }\\n            });\\n            valueAccessor().subscribe(function(value) {\\n                var str = JSON.stringify(value);\\n                if ((str == \\\"0\\\") && ([\\\"-0\\\", \\\"-0.\\\"].indexOf(stringified()) >= 0))\\n                     return;\\n                 if ([\\\"null\\\", \\\"\\\"].indexOf(str) >= 0)\\n                     return;\\n                stringified(str);\\n            });\\n            ko.applyBindingsToNode(\\n                element,\\n                {\\n                    value: stringified,\\n                    valueUpdate: allBindings.get('valueUpdate'),\\n                },\\n                context,\\n            );\\n        }\\n    };\\n    var json_data = {\\\"formatted_vals\\\":[\\\"-1.0\\\",\\\"-0.9\\\",\\\"-0.8\\\",\\\"-0.7\\\",\\\"-0.6\\\",\\\"-0.5\\\",\\\"-0.4\\\",\\\"-0.3\\\",\\\"-0.2\\\",\\\"-0.1\\\",\\\"0.0\\\",\\\"0.1\\\",\\\"0.2\\\",\\\"0.3\\\",\\\"0.4\\\",\\\"0.5\\\",\\\"0.6\\\",\\\"0.7\\\",\\\"0.8\\\",\\\"0.9\\\",\\\"1.0\\\",\\\"1.1\\\",\\\"1.2\\\",\\\"1.3\\\",\\\"1.4\\\",\\\"1.5\\\",\\\"1.6\\\",\\\"1.7\\\",\\\"1.8\\\",\\\"1.9\\\",\\\"2.0\\\",\\\"2.1\\\",\\\"2.2\\\",\\\"2.3\\\",\\\"2.4\\\",\\\"2.5\\\",\\\"2.6\\\",\\\"2.7\\\",\\\"2.8\\\",\\\"2.9\\\",\\\"3.0\\\",\\\"3.1\\\",\\\"3.2\\\",\\\"3.3\\\",\\\"3.4\\\",\\\"3.5\\\",\\\"3.6\\\",\\\"3.7\\\",\\\"3.8\\\",\\\"3.9\\\",\\\"4.0\\\",\\\"4.1\\\",\\\"4.2\\\",\\\"4.3\\\",\\\"4.4\\\",\\\"4.5\\\",\\\"4.6\\\",\\\"4.7\\\",\\\"4.8\\\",\\\"4.9\\\",\\\"5.0\\\"],\\\"changes\\\":WebIO.getval({\\\"name\\\":\\\"changes\\\",\\\"scope\\\":\\\"13781787398608746729\\\",\\\"id\\\":\\\"ob_03\\\",\\\"type\\\":\\\"observable\\\"}),\\\"index\\\":WebIO.getval({\\\"name\\\":\\\"index\\\",\\\"scope\\\":\\\"13781787398608746729\\\",\\\"id\\\":\\\"ob_02\\\",\\\"type\\\":\\\"observable\\\"})};\\n    var self = this;\\n    function AppViewModel() {\\n        for (var key in json_data) {\\n            var el = json_data[key];\\n            this[key] = Array.isArray(el) ? ko.observableArray(el) : ko.observable(el);\\n        }\\n        \\n        [this[\\\"formatted_val\\\"]=ko.computed(    function(){\\n        return this.formatted_vals()[parseInt(this.index())-(1)];\\n    }\\n,this)]\\n        [this[\\\"changes\\\"].subscribe((function (val){!(this.valueFromJulia[\\\"changes\\\"]) ? (WebIO.setval({\\\"name\\\":\\\"changes\\\",\\\"scope\\\":\\\"13781787398608746729\\\",\\\"id\\\":\\\"ob_03\\\",\\\"type\\\":\\\"observable\\\"},val)) : undefined; return this.valueFromJulia[\\\"changes\\\"]=false}),self),this[\\\"index\\\"].subscribe((function (val){!(this.valueFromJulia[\\\"index\\\"]) ? (WebIO.setval({\\\"name\\\":\\\"index\\\",\\\"scope\\\":\\\"13781787398608746729\\\",\\\"id\\\":\\\"ob_02\\\",\\\"type\\\":\\\"observable\\\"},val)) : undefined; return this.valueFromJulia[\\\"index\\\"]=false}),self)]\\n        \\n    }\\n    self.model = new AppViewModel();\\n    self.valueFromJulia = {};\\n    for (var key in json_data) {\\n        self.valueFromJulia[key] = false;\\n    }\\n    ko.applyBindings(self.model, self.dom);\\n}\\n);\\n    (WebIO.importBlock({\\\"data\\\":[{\\\"name\\\":\\\"knockout\\\",\\\"type\\\":\\\"js\\\",\\\"url\\\":\\\"/assetserver/5bbdbbb0b09c5b1b887ee10da5f86cd1febbf135-knockout.js\\\"},{\\\"name\\\":\\\"knockout_punches\\\",\\\"type\\\":\\\"js\\\",\\\"url\\\":\\\"/assetserver/15065e2dd05fe2b7d23387469481615adcbf22a9-knockout_punches.js\\\"}],\\\"type\\\":\\\"async_block\\\"})).then((imports) => handler.apply(this, imports));\\n}\\n\")])], Dict{Symbol,Any}(:className => \"field interact-widget\")), Observable{Any} with 0 listeners. Value:\n",
       "Node{WebIO.DOM}(WebIO.DOM(:html, :div), Any[Gaston.Figure(1, Gaston.TermConf(\"Arial,12\", \"640,384\", \"1\", \"white\"), Gaston.PrintConf(\"\", \"\", \"\", \"\", \"\", \"\"), Gaston.AxesConf(\"Correlator output = -0.5000000000000001\", \"\", \"\", \"\", \"\", \"\", \"\", \"\", \"\", \"\", \"\", \"\", \"\", \"\", \"\", \"\"), Gaston.Curve[Gaston.Curve(-0.1:0.005:4.1, [0.0, 0.0, 0.0, 0.0, 0.0, 0.0, 0.0, 0.0, 0.0, 0.0  …  0.0, 0.0, 0.0, 0.0, 0.0, 0.0, 0.0, 0.0, 0.0, 0.0], Real[], Gaston.FinancialCoords(false, Real[], Real[], Real[], Real[]), Gaston.ErrorCoords(false, Real[], Real[]), Gaston.CurveConf(\"\", \"\", \"\", \"1\", \"\", \"\", \"\", \"\", \"\")), Gaston.Curve(-0.1:0.005:4.1, [0.0, 0.0, 0.0, 0.0, 0.0, 0.0, 0.0, 0.0, 0.0, 0.0  …  0.0, 0.0, 0.0, 0.0, 0.0, 0.0, 0.0, 0.0, 0.0, 0.0], Real[], Gaston.FinancialCoords(false, Real[], Real[], Real[], Real[]), Gaston.ErrorCoords(false, Real[], Real[]), Gaston.CurveConf(\"\", \"\", \"\", \"1\", \"\", \"\", \"\", \"\", \"\")), Gaston.Curve(-0.1:0.005:4.1, [0.0, 0.0, 0.0, 0.0, 0.0, 0.0, 0.0, 0.0, 0.0, 0.0  …  0.0, 0.0, 0.0, 0.0, 0.0, 0.0, 0.0, 0.0, 0.0, 0.0], Real[], Gaston.FinancialCoords(false, Real[], Real[], Real[], Real[]), Gaston.ErrorCoords(false, Real[], Real[]), Gaston.CurveConf(\"\", \"\", \"\", \"1\", \"\", \"\", \"\", \"\", \"\"))], \"\", \"\")], Dict{Symbol,Any}(:className => \"interact-flex-row interact-widget\"))], Dict{Symbol,Any}())"
      ]
     },
     "execution_count": 8,
     "metadata": {
      "application/vnd.webio.node+json": {
       "kernelId": "c5be8486-01f0-4809-9ce2-821169f05046"
      }
     },
     "output_type": "execute_result"
    }
   ],
   "source": [
    "mp = @manipulate for delay in slider(-1.0:0.1:5.0,label=\"delay\")\n",
    "    dbp = p.(t.-delay)  # delayed base pulse\n",
    "    xc = dbp.*s         # product of delayed pulse and received signal\n",
    "    co = sum(xc)*Δt     # \"integral\" of the product = correlation\n",
    "    plot(t,dbp,title = \"Correlator output = $co\")\n",
    "    plot!(t,s)\n",
    "    plot!(t,xc)\n",
    "end"
   ]
  },
  {
   "cell_type": "markdown",
   "metadata": {},
   "source": [
    "Now with noise. The sliders control the noise power and the base pulse delay."
   ]
  },
  {
   "cell_type": "code",
   "execution_count": 10,
   "metadata": {},
   "outputs": [
    {
     "data": {
      "application/vnd.webio.node+json": {
       "children": [
        {
         "children": [
          {
           "children": [
            {
             "children": [
              {
               "children": [
                {
                 "children": [
                  "delay"
                 ],
                 "instanceArgs": {
                  "namespace": "html",
                  "tag": "label"
                 },
                 "nodeType": "DOM",
                 "props": {
                  "className": "interact ",
                  "style": {
                   "padding": "5px 10px 0px 10px"
                  }
                 },
                 "type": "node"
                }
               ],
               "instanceArgs": {
                "namespace": "html",
                "tag": "div"
               },
               "nodeType": "DOM",
               "props": {
                "className": "interact-flex-row-left"
               },
               "type": "node"
              },
              {
               "children": [
                {
                 "children": [],
                 "instanceArgs": {
                  "namespace": "html",
                  "tag": "input"
                 },
                 "nodeType": "DOM",
                 "props": {
                  "attributes": {
                   "data-bind": "numericValue: index, valueUpdate: 'input', event: {change: function (){this.changes(this.changes()+1)}}",
                   "orient": "horizontal",
                   "type": "range"
                  },
                  "className": "slider slider is-fullwidth",
                  "max": 61,
                  "min": 1,
                  "step": 1,
                  "style": {}
                 },
                 "type": "node"
                }
               ],
               "instanceArgs": {
                "namespace": "html",
                "tag": "div"
               },
               "nodeType": "DOM",
               "props": {
                "className": "interact-flex-row-center"
               },
               "type": "node"
              },
              {
               "children": [
                {
                 "children": [],
                 "instanceArgs": {
                  "namespace": "html",
                  "tag": "p"
                 },
                 "nodeType": "DOM",
                 "props": {
                  "attributes": {
                   "data-bind": "text: formatted_val"
                  }
                 },
                 "type": "node"
                }
               ],
               "instanceArgs": {
                "namespace": "html",
                "tag": "div"
               },
               "nodeType": "DOM",
               "props": {
                "className": "interact-flex-row-right"
               },
               "type": "node"
              }
             ],
             "instanceArgs": {
              "namespace": "html",
              "tag": "div"
             },
             "nodeType": "DOM",
             "props": {
              "className": "interact-flex-row interact-widget"
             },
             "type": "node"
            }
           ],
           "instanceArgs": {
            "handlers": {
             "changes": [
              "(function (val){return (val!=this.model[\"changes\"]()) ? (this.valueFromJulia[\"changes\"]=true, this.model[\"changes\"](val)) : undefined})"
             ],
             "index": [
              "(function (val){return (val!=this.model[\"index\"]()) ? (this.valueFromJulia[\"index\"]=true, this.model[\"index\"](val)) : undefined})"
             ]
            },
            "id": "15268149055875444646",
            "imports": {
             "data": [
              {
               "name": "knockout",
               "type": "js",
               "url": "/assetserver/5bbdbbb0b09c5b1b887ee10da5f86cd1febbf135-knockout.js"
              },
              {
               "name": "knockout_punches",
               "type": "js",
               "url": "/assetserver/15065e2dd05fe2b7d23387469481615adcbf22a9-knockout_punches.js"
              },
              {
               "name": null,
               "type": "js",
               "url": "/assetserver/f8e1899f8867ff0491f4fc4ae1bbd02e4edbfd5f-all.js"
              },
              {
               "name": null,
               "type": "css",
               "url": "/assetserver/fa25a5d76d95d7d0412e3df66bb14418405899f6-style.css"
              },
              {
               "name": null,
               "type": "css",
               "url": "/assetserver/2e96df717df741d8a01b6c1c62121c67b6599ff5-bulma_confined.min.css"
              }
             ],
             "type": "async_block"
            },
            "mount_callbacks": [
             "function () {\n    var handler = (function (ko, koPunches) {\n    ko.punches.enableAll();\n    ko.bindingHandlers.numericValue = {\n        init: function(element, valueAccessor, allBindings, data, context) {\n            var stringified = ko.observable(ko.unwrap(valueAccessor()));\n            stringified.subscribe(function(value) {\n                var val = parseFloat(value);\n                if (!isNaN(val)) {\n                    valueAccessor()(val);\n                }\n            });\n            valueAccessor().subscribe(function(value) {\n                var str = JSON.stringify(value);\n                if ((str == \"0\") && ([\"-0\", \"-0.\"].indexOf(stringified()) >= 0))\n                     return;\n                 if ([\"null\", \"\"].indexOf(str) >= 0)\n                     return;\n                stringified(str);\n            });\n            ko.applyBindingsToNode(\n                element,\n                {\n                    value: stringified,\n                    valueUpdate: allBindings.get('valueUpdate'),\n                },\n                context,\n            );\n        }\n    };\n    var json_data = {\"formatted_vals\":[\"-1.0\",\"-0.9\",\"-0.8\",\"-0.7\",\"-0.6\",\"-0.5\",\"-0.4\",\"-0.3\",\"-0.2\",\"-0.1\",\"0.0\",\"0.1\",\"0.2\",\"0.3\",\"0.4\",\"0.5\",\"0.6\",\"0.7\",\"0.8\",\"0.9\",\"1.0\",\"1.1\",\"1.2\",\"1.3\",\"1.4\",\"1.5\",\"1.6\",\"1.7\",\"1.8\",\"1.9\",\"2.0\",\"2.1\",\"2.2\",\"2.3\",\"2.4\",\"2.5\",\"2.6\",\"2.7\",\"2.8\",\"2.9\",\"3.0\",\"3.1\",\"3.2\",\"3.3\",\"3.4\",\"3.5\",\"3.6\",\"3.7\",\"3.8\",\"3.9\",\"4.0\",\"4.1\",\"4.2\",\"4.3\",\"4.4\",\"4.5\",\"4.6\",\"4.7\",\"4.8\",\"4.9\",\"5.0\"],\"changes\":WebIO.getval({\"name\":\"changes\",\"scope\":\"15268149055875444646\",\"id\":\"ob_24\",\"type\":\"observable\"}),\"index\":WebIO.getval({\"name\":\"index\",\"scope\":\"15268149055875444646\",\"id\":\"ob_23\",\"type\":\"observable\"})};\n    var self = this;\n    function AppViewModel() {\n        for (var key in json_data) {\n            var el = json_data[key];\n            this[key] = Array.isArray(el) ? ko.observableArray(el) : ko.observable(el);\n        }\n        \n        [this[\"formatted_val\"]=ko.computed(    function(){\n        return this.formatted_vals()[parseInt(this.index())-(1)];\n    }\n,this)]\n        [this[\"changes\"].subscribe((function (val){!(this.valueFromJulia[\"changes\"]) ? (WebIO.setval({\"name\":\"changes\",\"scope\":\"15268149055875444646\",\"id\":\"ob_24\",\"type\":\"observable\"},val)) : undefined; return this.valueFromJulia[\"changes\"]=false}),self),this[\"index\"].subscribe((function (val){!(this.valueFromJulia[\"index\"]) ? (WebIO.setval({\"name\":\"index\",\"scope\":\"15268149055875444646\",\"id\":\"ob_23\",\"type\":\"observable\"},val)) : undefined; return this.valueFromJulia[\"index\"]=false}),self)]\n        \n    }\n    self.model = new AppViewModel();\n    self.valueFromJulia = {};\n    for (var key in json_data) {\n        self.valueFromJulia[key] = false;\n    }\n    ko.applyBindings(self.model, self.dom);\n}\n);\n    (WebIO.importBlock({\"data\":[{\"name\":\"knockout\",\"type\":\"js\",\"url\":\"/assetserver/5bbdbbb0b09c5b1b887ee10da5f86cd1febbf135-knockout.js\"},{\"name\":\"knockout_punches\",\"type\":\"js\",\"url\":\"/assetserver/15065e2dd05fe2b7d23387469481615adcbf22a9-knockout_punches.js\"}],\"type\":\"async_block\"})).then((imports) => handler.apply(this, imports));\n}\n"
            ],
            "observables": {
             "changes": {
              "id": "ob_24",
              "sync": false,
              "value": 0
             },
             "index": {
              "id": "ob_23",
              "sync": true,
              "value": 31
             }
            },
            "systemjs_options": null
           },
           "nodeType": "Scope",
           "props": {},
           "type": "node"
          }
         ],
         "instanceArgs": {
          "namespace": "html",
          "tag": "div"
         },
         "nodeType": "DOM",
         "props": {
          "className": "field interact-widget"
         },
         "type": "node"
        },
        {
         "children": [
          {
           "children": [
            {
             "children": [
              {
               "children": [
                {
                 "children": [
                  "noise"
                 ],
                 "instanceArgs": {
                  "namespace": "html",
                  "tag": "label"
                 },
                 "nodeType": "DOM",
                 "props": {
                  "className": "interact ",
                  "style": {
                   "padding": "5px 10px 0px 10px"
                  }
                 },
                 "type": "node"
                }
               ],
               "instanceArgs": {
                "namespace": "html",
                "tag": "div"
               },
               "nodeType": "DOM",
               "props": {
                "className": "interact-flex-row-left"
               },
               "type": "node"
              },
              {
               "children": [
                {
                 "children": [],
                 "instanceArgs": {
                  "namespace": "html",
                  "tag": "input"
                 },
                 "nodeType": "DOM",
                 "props": {
                  "attributes": {
                   "data-bind": "numericValue: index, valueUpdate: 'input', event: {change: function (){this.changes(this.changes()+1)}}",
                   "orient": "horizontal",
                   "type": "range"
                  },
                  "className": "slider slider is-fullwidth",
                  "max": 31,
                  "min": 1,
                  "step": 1,
                  "style": {}
                 },
                 "type": "node"
                }
               ],
               "instanceArgs": {
                "namespace": "html",
                "tag": "div"
               },
               "nodeType": "DOM",
               "props": {
                "className": "interact-flex-row-center"
               },
               "type": "node"
              },
              {
               "children": [
                {
                 "children": [],
                 "instanceArgs": {
                  "namespace": "html",
                  "tag": "p"
                 },
                 "nodeType": "DOM",
                 "props": {
                  "attributes": {
                   "data-bind": "text: formatted_val"
                  }
                 },
                 "type": "node"
                }
               ],
               "instanceArgs": {
                "namespace": "html",
                "tag": "div"
               },
               "nodeType": "DOM",
               "props": {
                "className": "interact-flex-row-right"
               },
               "type": "node"
              }
             ],
             "instanceArgs": {
              "namespace": "html",
              "tag": "div"
             },
             "nodeType": "DOM",
             "props": {
              "className": "interact-flex-row interact-widget"
             },
             "type": "node"
            }
           ],
           "instanceArgs": {
            "handlers": {
             "changes": [
              "(function (val){return (val!=this.model[\"changes\"]()) ? (this.valueFromJulia[\"changes\"]=true, this.model[\"changes\"](val)) : undefined})"
             ],
             "index": [
              "(function (val){return (val!=this.model[\"index\"]()) ? (this.valueFromJulia[\"index\"]=true, this.model[\"index\"](val)) : undefined})"
             ]
            },
            "id": "5110547382442089181",
            "imports": {
             "data": [
              {
               "name": "knockout",
               "type": "js",
               "url": "/assetserver/5bbdbbb0b09c5b1b887ee10da5f86cd1febbf135-knockout.js"
              },
              {
               "name": "knockout_punches",
               "type": "js",
               "url": "/assetserver/15065e2dd05fe2b7d23387469481615adcbf22a9-knockout_punches.js"
              },
              {
               "name": null,
               "type": "js",
               "url": "/assetserver/f8e1899f8867ff0491f4fc4ae1bbd02e4edbfd5f-all.js"
              },
              {
               "name": null,
               "type": "css",
               "url": "/assetserver/fa25a5d76d95d7d0412e3df66bb14418405899f6-style.css"
              },
              {
               "name": null,
               "type": "css",
               "url": "/assetserver/2e96df717df741d8a01b6c1c62121c67b6599ff5-bulma_confined.min.css"
              }
             ],
             "type": "async_block"
            },
            "mount_callbacks": [
             "function () {\n    var handler = (function (ko, koPunches) {\n    ko.punches.enableAll();\n    ko.bindingHandlers.numericValue = {\n        init: function(element, valueAccessor, allBindings, data, context) {\n            var stringified = ko.observable(ko.unwrap(valueAccessor()));\n            stringified.subscribe(function(value) {\n                var val = parseFloat(value);\n                if (!isNaN(val)) {\n                    valueAccessor()(val);\n                }\n            });\n            valueAccessor().subscribe(function(value) {\n                var str = JSON.stringify(value);\n                if ((str == \"0\") && ([\"-0\", \"-0.\"].indexOf(stringified()) >= 0))\n                     return;\n                 if ([\"null\", \"\"].indexOf(str) >= 0)\n                     return;\n                stringified(str);\n            });\n            ko.applyBindingsToNode(\n                element,\n                {\n                    value: stringified,\n                    valueUpdate: allBindings.get('valueUpdate'),\n                },\n                context,\n            );\n        }\n    };\n    var json_data = {\"formatted_vals\":[\"0.0\",\"0.1\",\"0.2\",\"0.3\",\"0.4\",\"0.5\",\"0.6\",\"0.7\",\"0.8\",\"0.9\",\"1.0\",\"1.1\",\"1.2\",\"1.3\",\"1.4\",\"1.5\",\"1.6\",\"1.7\",\"1.8\",\"1.9\",\"2.0\",\"2.1\",\"2.2\",\"2.3\",\"2.4\",\"2.5\",\"2.6\",\"2.7\",\"2.8\",\"2.9\",\"3.0\"],\"changes\":WebIO.getval({\"name\":\"changes\",\"scope\":\"5110547382442089181\",\"id\":\"ob_27\",\"type\":\"observable\"}),\"index\":WebIO.getval({\"name\":\"index\",\"scope\":\"5110547382442089181\",\"id\":\"ob_26\",\"type\":\"observable\"})};\n    var self = this;\n    function AppViewModel() {\n        for (var key in json_data) {\n            var el = json_data[key];\n            this[key] = Array.isArray(el) ? ko.observableArray(el) : ko.observable(el);\n        }\n        \n        [this[\"formatted_val\"]=ko.computed(    function(){\n        return this.formatted_vals()[parseInt(this.index())-(1)];\n    }\n,this)]\n        [this[\"changes\"].subscribe((function (val){!(this.valueFromJulia[\"changes\"]) ? (WebIO.setval({\"name\":\"changes\",\"scope\":\"5110547382442089181\",\"id\":\"ob_27\",\"type\":\"observable\"},val)) : undefined; return this.valueFromJulia[\"changes\"]=false}),self),this[\"index\"].subscribe((function (val){!(this.valueFromJulia[\"index\"]) ? (WebIO.setval({\"name\":\"index\",\"scope\":\"5110547382442089181\",\"id\":\"ob_26\",\"type\":\"observable\"},val)) : undefined; return this.valueFromJulia[\"index\"]=false}),self)]\n        \n    }\n    self.model = new AppViewModel();\n    self.valueFromJulia = {};\n    for (var key in json_data) {\n        self.valueFromJulia[key] = false;\n    }\n    ko.applyBindings(self.model, self.dom);\n}\n);\n    (WebIO.importBlock({\"data\":[{\"name\":\"knockout\",\"type\":\"js\",\"url\":\"/assetserver/5bbdbbb0b09c5b1b887ee10da5f86cd1febbf135-knockout.js\"},{\"name\":\"knockout_punches\",\"type\":\"js\",\"url\":\"/assetserver/15065e2dd05fe2b7d23387469481615adcbf22a9-knockout_punches.js\"}],\"type\":\"async_block\"})).then((imports) => handler.apply(this, imports));\n}\n"
            ],
            "observables": {
             "changes": {
              "id": "ob_27",
              "sync": false,
              "value": 0
             },
             "index": {
              "id": "ob_26",
              "sync": true,
              "value": 16
             }
            },
            "systemjs_options": null
           },
           "nodeType": "Scope",
           "props": {},
           "type": "node"
          }
         ],
         "instanceArgs": {
          "namespace": "html",
          "tag": "div"
         },
         "nodeType": "DOM",
         "props": {
          "className": "field interact-widget"
         },
         "type": "node"
        },
        {
         "children": [
          {
           "children": [],
           "instanceArgs": {
            "id": "ob_33",
            "name": "obs-node"
           },
           "nodeType": "ObservableNode",
           "props": {},
           "type": "node"
          }
         ],
         "instanceArgs": {
          "handlers": {},
          "id": "14094967631626396882",
          "imports": {
           "data": [],
           "type": "async_block"
          },
          "mount_callbacks": [],
          "observables": {
           "obs-node": {
            "id": "ob_33",
            "sync": false,
            "value": {
             "children": [
              {
               "children": [],
               "instanceArgs": {
                "namespace": "html",
                "tag": "div"
               },
               "nodeType": "DOM",
               "props": {
                "setInnerHtml": "<?xml version=\"1.0\" encoding=\"utf-8\"  standalone=\"no\"?>\n<svg \n width=\"640\" height=\"384\"\n viewBox=\"0 0 640 384\"\n xmlns=\"http://www.w3.org/2000/svg\"\n xmlns:xlink=\"http://www.w3.org/1999/xlink\"\n>\n\n<title>Gnuplot</title>\n<desc>Produced by GNUPLOT 5.2 patchlevel 8 </desc>\n\n<g id=\"gnuplot_canvas\">\n\n<rect x=\"0\" y=\"0\" width=\"640\" height=\"384\" fill=\"#ffffff\"/>\n<defs>\n\n\t<circle id='gpDot' r='0.5' stroke-width='0.5' stroke='currentColor'/>\n\t<path id='gpPt0' stroke-width='0.222' stroke='currentColor' d='M-1,0 h2 M0,-1 v2'/>\n\t<path id='gpPt1' stroke-width='0.222' stroke='currentColor' d='M-1,-1 L1,1 M1,-1 L-1,1'/>\n\t<path id='gpPt2' stroke-width='0.222' stroke='currentColor' d='M-1,0 L1,0 M0,-1 L0,1 M-1,-1 L1,1 M-1,1 L1,-1'/>\n\t<rect id='gpPt3' stroke-width='0.222' stroke='currentColor' x='-1' y='-1' width='2' height='2'/>\n\t<rect id='gpPt4' stroke-width='0.222' stroke='currentColor' fill='currentColor' x='-1' y='-1' width='2' height='2'/>\n\t<circle id='gpPt5' stroke-width='0.222' stroke='currentColor' cx='0' cy='0' r='1'/>\n\t<use xlink:href='#gpPt5' id='gpPt6' fill='currentColor' stroke='none'/>\n\t<path id='gpPt7' stroke-width='0.222' stroke='currentColor' d='M0,-1.33 L-1.33,0.67 L1.33,0.67 z'/>\n\t<use xlink:href='#gpPt7' id='gpPt8' fill='currentColor' stroke='none'/>\n\t<use xlink:href='#gpPt7' id='gpPt9' stroke='currentColor' transform='rotate(180)'/>\n\t<use xlink:href='#gpPt9' id='gpPt10' fill='currentColor' stroke='none'/>\n\t<use xlink:href='#gpPt3' id='gpPt11' stroke='currentColor' transform='rotate(45)'/>\n\t<use xlink:href='#gpPt11' id='gpPt12' fill='currentColor' stroke='none'/>\n\t<path id='gpPt13' stroke-width='0.222' stroke='currentColor' d='M0,1.330 L1.265,0.411 L0.782,-1.067 L-0.782,-1.076 L-1.265,0.411 z'/>\n\t<use xlink:href='#gpPt13' id='gpPt14' fill='currentColor' stroke='none'/>\n\t<filter id='textbox' filterUnits='objectBoundingBox' x='0' y='0' height='1' width='1'>\n\t  <feFlood flood-color='#FFFFFF' flood-opacity='1' result='bgnd'/>\n\t  <feComposite in='SourceGraphic' in2='bgnd' operator='atop'/>\n\t</filter>\n\t<filter id='greybox' filterUnits='objectBoundingBox' x='0' y='0' height='1' width='1'>\n\t  <feFlood flood-color='lightgrey' flood-opacity='1' result='grey'/>\n\t  <feComposite in='SourceGraphic' in2='grey' operator='atop'/>\n\t</filter>\n</defs>\n<g fill=\"none\" color=\"#FFFFFF\" stroke=\"black\" stroke-width=\"1.00\" stroke-linecap=\"butt\" stroke-linejoin=\"miter\">\n</g>\n<g fill=\"none\" color=\"black\" stroke=\"currentColor\" stroke-width=\"1.00\" stroke-linecap=\"butt\" stroke-linejoin=\"miter\">\n\t<path stroke='black'  d='M37.3,334.6 L46.3,334.6 M615.0,334.6 L606.0,334.6  '/>\t<g transform=\"translate(29.0,338.5)\" stroke=\"none\" fill=\"black\" font-family=\"Arial\" font-size=\"12.00\"  text-anchor=\"end\">\n\t\t<text><tspan font-family=\"Arial\" >-4</tspan></text>\n\t</g>\n</g>\n<g fill=\"none\" color=\"black\" stroke=\"currentColor\" stroke-width=\"1.00\" stroke-linecap=\"butt\" stroke-linejoin=\"miter\">\n\t<path stroke='black'  d='M37.3,301.2 L46.3,301.2 M615.0,301.2 L606.0,301.2  '/>\t<g transform=\"translate(29.0,305.1)\" stroke=\"none\" fill=\"black\" font-family=\"Arial\" font-size=\"12.00\"  text-anchor=\"end\">\n\t\t<text><tspan font-family=\"Arial\" >-3</tspan></text>\n\t</g>\n</g>\n<g fill=\"none\" color=\"black\" stroke=\"currentColor\" stroke-width=\"1.00\" stroke-linecap=\"butt\" stroke-linejoin=\"miter\">\n\t<path stroke='black'  d='M37.3,267.8 L46.3,267.8 M615.0,267.8 L606.0,267.8  '/>\t<g transform=\"translate(29.0,271.7)\" stroke=\"none\" fill=\"black\" font-family=\"Arial\" font-size=\"12.00\"  text-anchor=\"end\">\n\t\t<text><tspan font-family=\"Arial\" >-2</tspan></text>\n\t</g>\n</g>\n<g fill=\"none\" color=\"black\" stroke=\"currentColor\" stroke-width=\"1.00\" stroke-linecap=\"butt\" stroke-linejoin=\"miter\">\n\t<path stroke='black'  d='M37.3,234.4 L46.3,234.4 M615.0,234.4 L606.0,234.4  '/>\t<g transform=\"translate(29.0,238.3)\" stroke=\"none\" fill=\"black\" font-family=\"Arial\" font-size=\"12.00\"  text-anchor=\"end\">\n\t\t<text><tspan font-family=\"Arial\" >-1</tspan></text>\n\t</g>\n</g>\n<g fill=\"none\" color=\"black\" stroke=\"currentColor\" stroke-width=\"1.00\" stroke-linecap=\"butt\" stroke-linejoin=\"miter\">\n\t<path stroke='black'  d='M37.3,201.0 L46.3,201.0 M615.0,201.0 L606.0,201.0  '/>\t<g transform=\"translate(29.0,204.9)\" stroke=\"none\" fill=\"black\" font-family=\"Arial\" font-size=\"12.00\"  text-anchor=\"end\">\n\t\t<text><tspan font-family=\"Arial\" > 0</tspan></text>\n\t</g>\n</g>\n<g fill=\"none\" color=\"black\" stroke=\"currentColor\" stroke-width=\"1.00\" stroke-linecap=\"butt\" stroke-linejoin=\"miter\">\n\t<path stroke='black'  d='M37.3,167.7 L46.3,167.7 M615.0,167.7 L606.0,167.7  '/>\t<g transform=\"translate(29.0,171.6)\" stroke=\"none\" fill=\"black\" font-family=\"Arial\" font-size=\"12.00\"  text-anchor=\"end\">\n\t\t<text><tspan font-family=\"Arial\" > 1</tspan></text>\n\t</g>\n</g>\n<g fill=\"none\" color=\"black\" stroke=\"currentColor\" stroke-width=\"1.00\" stroke-linecap=\"butt\" stroke-linejoin=\"miter\">\n\t<path stroke='black'  d='M37.3,134.3 L46.3,134.3 M615.0,134.3 L606.0,134.3  '/>\t<g transform=\"translate(29.0,138.2)\" stroke=\"none\" fill=\"black\" font-family=\"Arial\" font-size=\"12.00\"  text-anchor=\"end\">\n\t\t<text><tspan font-family=\"Arial\" > 2</tspan></text>\n\t</g>\n</g>\n<g fill=\"none\" color=\"black\" stroke=\"currentColor\" stroke-width=\"1.00\" stroke-linecap=\"butt\" stroke-linejoin=\"miter\">\n\t<path stroke='black'  d='M37.3,100.9 L46.3,100.9 M615.0,100.9 L606.0,100.9  '/>\t<g transform=\"translate(29.0,104.8)\" stroke=\"none\" fill=\"black\" font-family=\"Arial\" font-size=\"12.00\"  text-anchor=\"end\">\n\t\t<text><tspan font-family=\"Arial\" > 3</tspan></text>\n\t</g>\n</g>\n<g fill=\"none\" color=\"black\" stroke=\"currentColor\" stroke-width=\"1.00\" stroke-linecap=\"butt\" stroke-linejoin=\"miter\">\n\t<path stroke='black'  d='M37.3,67.5 L46.3,67.5 M615.0,67.5 L606.0,67.5  '/>\t<g transform=\"translate(29.0,71.4)\" stroke=\"none\" fill=\"black\" font-family=\"Arial\" font-size=\"12.00\"  text-anchor=\"end\">\n\t\t<text><tspan font-family=\"Arial\" > 4</tspan></text>\n\t</g>\n</g>\n<g fill=\"none\" color=\"black\" stroke=\"currentColor\" stroke-width=\"1.00\" stroke-linecap=\"butt\" stroke-linejoin=\"miter\">\n\t<path stroke='black'  d='M76.1,348.0 L76.1,339.0 M76.1,54.1 L76.1,63.1  '/>\t<g transform=\"translate(76.1,369.9)\" stroke=\"none\" fill=\"black\" font-family=\"Arial\" font-size=\"12.00\"  text-anchor=\"middle\">\n\t\t<text><tspan font-family=\"Arial\" > 0</tspan></text>\n\t</g>\n</g>\n<g fill=\"none\" color=\"black\" stroke=\"currentColor\" stroke-width=\"1.00\" stroke-linecap=\"butt\" stroke-linejoin=\"miter\">\n\t<path stroke='black'  d='M138.6,348.0 L138.6,339.0 M138.6,54.1 L138.6,63.1  '/>\t<g transform=\"translate(138.6,369.9)\" stroke=\"none\" fill=\"black\" font-family=\"Arial\" font-size=\"12.00\"  text-anchor=\"middle\">\n\t\t<text><tspan font-family=\"Arial\" > 0.5</tspan></text>\n\t</g>\n</g>\n<g fill=\"none\" color=\"black\" stroke=\"currentColor\" stroke-width=\"1.00\" stroke-linecap=\"butt\" stroke-linejoin=\"miter\">\n\t<path stroke='black'  d='M201.1,348.0 L201.1,339.0 M201.1,54.1 L201.1,63.1  '/>\t<g transform=\"translate(201.1,369.9)\" stroke=\"none\" fill=\"black\" font-family=\"Arial\" font-size=\"12.00\"  text-anchor=\"middle\">\n\t\t<text><tspan font-family=\"Arial\" > 1</tspan></text>\n\t</g>\n</g>\n<g fill=\"none\" color=\"black\" stroke=\"currentColor\" stroke-width=\"1.00\" stroke-linecap=\"butt\" stroke-linejoin=\"miter\">\n\t<path stroke='black'  d='M263.6,348.0 L263.6,339.0 M263.6,54.1 L263.6,63.1  '/>\t<g transform=\"translate(263.6,369.9)\" stroke=\"none\" fill=\"black\" font-family=\"Arial\" font-size=\"12.00\"  text-anchor=\"middle\">\n\t\t<text><tspan font-family=\"Arial\" > 1.5</tspan></text>\n\t</g>\n</g>\n<g fill=\"none\" color=\"black\" stroke=\"currentColor\" stroke-width=\"1.00\" stroke-linecap=\"butt\" stroke-linejoin=\"miter\">\n\t<path stroke='black'  d='M326.2,348.0 L326.2,339.0 M326.2,54.1 L326.2,63.1  '/>\t<g transform=\"translate(326.2,369.9)\" stroke=\"none\" fill=\"black\" font-family=\"Arial\" font-size=\"12.00\"  text-anchor=\"middle\">\n\t\t<text><tspan font-family=\"Arial\" > 2</tspan></text>\n\t</g>\n</g>\n<g fill=\"none\" color=\"black\" stroke=\"currentColor\" stroke-width=\"1.00\" stroke-linecap=\"butt\" stroke-linejoin=\"miter\">\n\t<path stroke='black'  d='M388.7,348.0 L388.7,339.0 M388.7,54.1 L388.7,63.1  '/>\t<g transform=\"translate(388.7,369.9)\" stroke=\"none\" fill=\"black\" font-family=\"Arial\" font-size=\"12.00\"  text-anchor=\"middle\">\n\t\t<text><tspan font-family=\"Arial\" > 2.5</tspan></text>\n\t</g>\n</g>\n<g fill=\"none\" color=\"black\" stroke=\"currentColor\" stroke-width=\"1.00\" stroke-linecap=\"butt\" stroke-linejoin=\"miter\">\n\t<path stroke='black'  d='M451.2,348.0 L451.2,339.0 M451.2,54.1 L451.2,63.1  '/>\t<g transform=\"translate(451.2,369.9)\" stroke=\"none\" fill=\"black\" font-family=\"Arial\" font-size=\"12.00\"  text-anchor=\"middle\">\n\t\t<text><tspan font-family=\"Arial\" > 3</tspan></text>\n\t</g>\n</g>\n<g fill=\"none\" color=\"black\" stroke=\"currentColor\" stroke-width=\"1.00\" stroke-linecap=\"butt\" stroke-linejoin=\"miter\">\n\t<path stroke='black'  d='M513.7,348.0 L513.7,339.0 M513.7,54.1 L513.7,63.1  '/>\t<g transform=\"translate(513.7,369.9)\" stroke=\"none\" fill=\"black\" font-family=\"Arial\" font-size=\"12.00\"  text-anchor=\"middle\">\n\t\t<text><tspan font-family=\"Arial\" > 3.5</tspan></text>\n\t</g>\n</g>\n<g fill=\"none\" color=\"black\" stroke=\"currentColor\" stroke-width=\"1.00\" stroke-linecap=\"butt\" stroke-linejoin=\"miter\">\n\t<path stroke='black'  d='M576.2,348.0 L576.2,339.0 M576.2,54.1 L576.2,63.1  '/>\t<g transform=\"translate(576.2,369.9)\" stroke=\"none\" fill=\"black\" font-family=\"Arial\" font-size=\"12.00\"  text-anchor=\"middle\">\n\t\t<text><tspan font-family=\"Arial\" > 4</tspan></text>\n\t</g>\n</g>\n<g fill=\"none\" color=\"black\" stroke=\"currentColor\" stroke-width=\"1.00\" stroke-linecap=\"butt\" stroke-linejoin=\"miter\">\n</g>\n<g fill=\"none\" color=\"black\" stroke=\"currentColor\" stroke-width=\"1.00\" stroke-linecap=\"butt\" stroke-linejoin=\"miter\">\n\t<path stroke='black'  d='M37.3,54.1 L37.3,348.0 L615.0,348.0 L615.0,54.1 L37.3,54.1 Z  '/></g>\n<g fill=\"none\" color=\"black\" stroke=\"currentColor\" stroke-width=\"1.00\" stroke-linecap=\"butt\" stroke-linejoin=\"miter\">\n\t<g transform=\"translate(326.1,31.0)\" stroke=\"none\" fill=\"black\" font-family=\"Arial\" font-size=\"12.00\"  text-anchor=\"middle\">\n\t\t<text><tspan font-family=\"Arial\" >Correlator output = -0.6046163923196948</tspan></text>\n\t</g>\n</g>\n<g fill=\"none\" color=\"black\" stroke=\"currentColor\" stroke-width=\"1.00\" stroke-linecap=\"butt\" stroke-linejoin=\"miter\">\n</g>\n\t<g id=\"gnuplot_plot_1\" ><title>gnuplot_plot_1</title>\n<g fill=\"none\" color=\"black\" stroke=\"currentColor\" stroke-width=\"1.00\" stroke-linecap=\"butt\" stroke-linejoin=\"miter\">\n\t<path stroke='rgb( 55,  60, 255)'  d='M63.6,201.0 L64.2,201.0 L64.8,201.0 L65.4,201.0 L66.1,201.0 L66.7,201.0 L67.3,201.0 L67.9,201.0\n\t\tL68.6,201.0 L69.2,201.0 L69.8,201.0 L70.4,201.0 L71.1,201.0 L71.7,201.0 L72.3,201.0 L72.9,201.0\n\t\tL73.6,201.0 L74.2,201.0 L74.8,201.0 L75.4,201.0 L76.1,201.0 L76.7,201.0 L77.3,201.0 L77.9,201.0\n\t\tL78.6,201.0 L79.2,201.0 L79.8,201.0 L80.4,201.0 L81.1,201.0 L81.7,201.0 L82.3,201.0 L82.9,201.0\n\t\tL83.6,201.0 L84.2,201.0 L84.8,201.0 L85.4,201.0 L86.1,201.0 L86.7,201.0 L87.3,201.0 L87.9,201.0\n\t\tL88.6,201.0 L89.2,201.0 L89.8,201.0 L90.4,201.0 L91.1,201.0 L91.7,201.0 L92.3,201.0 L92.9,201.0\n\t\tL93.6,201.0 L94.2,201.0 L94.8,201.0 L95.4,201.0 L96.1,201.0 L96.7,201.0 L97.3,201.0 L97.9,201.0\n\t\tL98.6,201.0 L99.2,201.0 L99.8,201.0 L100.4,201.0 L101.1,201.0 L101.7,201.0 L102.3,201.0 L102.9,201.0\n\t\tL103.6,201.0 L104.2,201.0 L104.8,201.0 L105.4,201.0 L106.1,201.0 L106.7,201.0 L107.3,201.0 L107.9,201.0\n\t\tL108.6,201.0 L109.2,201.0 L109.8,201.0 L110.5,201.0 L111.1,201.0 L111.7,201.0 L112.3,201.0 L113.0,201.0\n\t\tL113.6,201.0 L114.2,201.0 L114.8,201.0 L115.5,201.0 L116.1,201.0 L116.7,201.0 L117.3,201.0 L118.0,201.0\n\t\tL118.6,201.0 L119.2,201.0 L119.8,201.0 L120.5,201.0 L121.1,201.0 L121.7,201.0 L122.3,201.0 L123.0,201.0\n\t\tL123.6,201.0 L124.2,201.0 L124.8,201.0 L125.5,201.0 L126.1,201.0 L126.7,201.0 L127.3,201.0 L128.0,201.0\n\t\tL128.6,201.0 L129.2,201.0 L129.8,201.0 L130.5,201.0 L131.1,201.0 L131.7,201.0 L132.3,201.0 L133.0,201.0\n\t\tL133.6,201.0 L134.2,201.0 L134.8,201.0 L135.5,201.0 L136.1,201.0 L136.7,201.0 L137.3,201.0 L138.0,201.0\n\t\tL138.6,201.0 L139.2,201.0 L139.8,201.0 L140.5,201.0 L141.1,201.0 L141.7,201.0 L142.3,201.0 L143.0,201.0\n\t\tL143.6,201.0 L144.2,201.0 L144.8,201.0 L145.5,201.0 L146.1,201.0 L146.7,201.0 L147.3,201.0 L148.0,201.0\n\t\tL148.6,201.0 L149.2,201.0 L149.8,201.0 L150.5,201.0 L151.1,201.0 L151.7,201.0 L152.3,201.0 L153.0,201.0\n\t\tL153.6,201.0 L154.2,201.0 L154.8,201.0 L155.5,201.0 L156.1,201.0 L156.7,201.0 L157.3,201.0 L158.0,201.0\n\t\tL158.6,201.0 L159.2,201.0 L159.8,201.0 L160.5,201.0 L161.1,201.0 L161.7,201.0 L162.3,201.0 L163.0,201.0\n\t\tL163.6,201.0 L164.2,201.0 L164.8,201.0 L165.5,201.0 L166.1,201.0 L166.7,201.0 L167.3,201.0 L168.0,201.0\n\t\tL168.6,201.0 L169.2,201.0 L169.8,201.0 L170.5,201.0 L171.1,201.0 L171.7,201.0 L172.3,201.0 L173.0,201.0\n\t\tL173.6,201.0 L174.2,201.0 L174.8,201.0 L175.5,201.0 L176.1,201.0 L176.7,201.0 L177.3,201.0 L178.0,201.0\n\t\tL178.6,201.0 L179.2,201.0 L179.8,201.0 L180.5,201.0 L181.1,201.0 L181.7,201.0 L182.4,201.0 L183.0,201.0\n\t\tL183.6,201.0 L184.2,201.0 L184.9,201.0 L185.5,201.0 L186.1,201.0 L186.7,201.0 L187.4,201.0 L188.0,201.0\n\t\tL188.6,201.0 L189.2,201.0 L189.9,201.0 L190.5,201.0 L191.1,201.0 L191.7,201.0 L192.4,201.0 L193.0,201.0\n\t\tL193.6,201.0 L194.2,201.0 L194.9,201.0 L195.5,201.0 L196.1,201.0 L196.7,201.0 L197.4,201.0 L198.0,201.0\n\t\tL198.6,201.0 L199.2,201.0 L199.9,201.0 L200.5,201.0 L201.1,201.0 L201.7,201.0 L202.4,201.0 L203.0,201.0\n\t\tL203.6,201.0 L204.2,201.0 L204.9,201.0 L205.5,201.0 L206.1,201.0 L206.7,201.0 L207.4,201.0 L208.0,201.0\n\t\tL208.6,201.0 L209.2,201.0 L209.9,201.0 L210.5,201.0 L211.1,201.0 L211.7,201.0 L212.4,201.0 L213.0,201.0\n\t\tL213.6,201.0 L214.2,201.0 L214.9,201.0 L215.5,201.0 L216.1,201.0 L216.7,201.0 L217.4,201.0 L218.0,201.0\n\t\tL218.6,201.0 L219.2,201.0 L219.9,201.0 L220.5,201.0 L221.1,201.0 L221.7,201.0 L222.4,201.0 L223.0,201.0\n\t\tL223.6,201.0 L224.2,201.0 L224.9,201.0 L225.5,201.0 L226.1,201.0 L226.7,201.0 L227.4,201.0 L228.0,201.0\n\t\tL228.6,201.0 L229.2,201.0 L229.9,201.0 L230.5,201.0 L231.1,201.0 L231.7,201.0 L232.4,201.0 L233.0,201.0\n\t\tL233.6,201.0 L234.2,201.0 L234.9,201.0 L235.5,201.0 L236.1,201.0 L236.7,201.0 L237.4,201.0 L238.0,201.0\n\t\tL238.6,201.0 L239.2,201.0 L239.9,201.0 L240.5,201.0 L241.1,201.0 L241.7,201.0 L242.4,201.0 L243.0,201.0\n\t\tL243.6,201.0 L244.2,201.0 L244.9,201.0 L245.5,201.0 L246.1,201.0 L246.7,201.0 L247.4,201.0 L248.0,201.0\n\t\tL248.6,201.0 L249.2,201.0 L249.9,201.0 L250.5,201.0 L251.1,201.0 L251.7,201.0 L252.4,201.0 L253.0,201.0\n\t\tL253.6,201.0 L254.3,201.0 L254.9,201.0 L255.5,201.0 L256.1,201.0 L256.8,201.0 L257.4,201.0 L258.0,201.0\n\t\tL258.6,201.0 L259.3,201.0 L259.9,201.0 L260.5,201.0 L261.1,201.0 L261.8,201.0 L262.4,201.0 L263.0,201.0\n\t\tL263.6,201.0 L264.3,201.0 L264.9,201.0 L265.5,201.0 L266.1,201.0 L266.8,201.0 L267.4,201.0 L268.0,201.0\n\t\tL268.6,201.0 L269.3,201.0 L269.9,201.0 L270.5,201.0 L271.1,201.0 L271.8,201.0 L272.4,201.0 L273.0,201.0\n\t\tL273.6,201.0 L274.3,201.0 L274.9,201.0 L275.5,201.0 L276.1,201.0 L276.8,201.0 L277.4,201.0 L278.0,201.0\n\t\tL278.6,201.0 L279.3,201.0 L279.9,201.0 L280.5,201.0 L281.1,201.0 L281.8,201.0 L282.4,201.0 L283.0,201.0\n\t\tL283.6,201.0 L284.3,201.0 L284.9,201.0 L285.5,201.0 L286.1,201.0 L286.8,201.0 L287.4,201.0 L288.0,201.0\n\t\tL288.6,201.0 L289.3,201.0 L289.9,201.0 L290.5,201.0 L291.1,201.0 L291.8,201.0 L292.4,201.0 L293.0,201.0\n\t\tL293.6,201.0 L294.3,201.0 L294.9,201.0 L295.5,201.0 L296.1,201.0 L296.8,201.0 L297.4,201.0 L298.0,201.0\n\t\tL298.6,201.0 L299.3,201.0 L299.9,201.0 L300.5,201.0 L301.1,201.0 L301.8,201.0 L302.4,201.0 L303.0,201.0\n\t\tL303.6,201.0 L304.3,201.0 L304.9,201.0 L305.5,201.0 L306.1,201.0 L306.8,201.0 L307.4,201.0 L308.0,201.0\n\t\tL308.6,201.0 L309.3,201.0 L309.9,201.0 L310.5,201.0 L311.1,201.0 L311.8,201.0 L312.4,201.0 L313.0,201.0\n\t\tL313.6,201.0 L314.3,201.0 L314.9,201.0 L315.5,201.0 L316.1,201.0 L316.8,201.0 L317.4,201.0 L318.0,201.0\n\t\tL318.6,201.0 L319.3,201.0 L319.9,201.0 L320.5,201.0 L321.1,201.0 L321.8,201.0 L322.4,201.0 L323.0,201.0\n\t\tL323.6,201.0 L324.3,201.0 L324.9,201.0 L325.5,201.0 L326.2,201.0 L326.8,201.0 L327.4,201.0 L328.0,200.9\n\t\tL328.7,200.8 L329.3,200.7 L329.9,200.6 L330.5,200.4 L331.2,200.2 L331.8,200.0 L332.4,199.7 L333.0,199.4\n\t\tL333.7,199.1 L334.3,198.8 L334.9,198.5 L335.5,198.1 L336.2,197.7 L336.8,197.3 L337.4,196.8 L338.0,196.3\n\t\tL338.7,195.8 L339.3,195.3 L339.9,194.8 L340.5,194.2 L341.2,193.7 L341.8,193.1 L342.4,192.4 L343.0,191.8\n\t\tL343.7,191.2 L344.3,190.5 L344.9,189.8 L345.5,189.1 L346.2,188.4 L346.8,187.7 L347.4,186.9 L348.0,186.2\n\t\tL348.7,185.4 L349.3,184.6 L349.9,183.8 L350.5,183.0 L351.2,182.2 L351.8,181.4 L352.4,180.6 L353.0,179.7\n\t\tL353.7,178.9 L354.3,178.0 L354.9,177.2 L355.5,176.3 L356.2,175.5 L356.8,174.6 L357.4,173.8 L358.0,172.9\n\t\tL358.7,172.1 L359.3,171.2 L359.9,170.4 L360.5,169.5 L361.2,168.7 L361.8,167.8 L362.4,167.0 L363.0,166.2\n\t\tL363.7,165.4 L364.3,164.5 L364.9,163.7 L365.5,163.0 L366.2,162.2 L366.8,161.4 L367.4,160.6 L368.0,159.9\n\t\tL368.7,159.2 L369.3,158.5 L369.9,157.8 L370.5,157.1 L371.2,156.4 L371.8,155.7 L372.4,155.1 L373.0,154.5\n\t\tL373.7,153.9 L374.3,153.3 L374.9,152.8 L375.5,152.2 L376.2,151.7 L376.8,151.2 L377.4,150.8 L378.0,150.3\n\t\tL378.7,149.9 L379.3,149.5 L379.9,149.1 L380.5,148.8 L381.2,148.4 L381.8,148.1 L382.4,147.8 L383.0,147.6\n\t\tL383.7,147.4 L384.3,147.2 L384.9,147.0 L385.5,146.8 L386.2,146.7 L386.8,146.6 L387.4,146.6 L388.0,146.5\n\t\tL388.7,146.5 L389.3,146.5 L389.9,146.6 L390.5,146.6 L391.2,146.7 L391.8,146.8 L392.4,147.0 L393.0,147.2\n\t\tL393.7,147.4 L394.3,147.6 L394.9,147.8 L395.5,148.1 L396.2,148.4 L396.8,148.8 L397.4,149.1 L398.0,149.5\n\t\tL398.7,149.9 L399.3,150.3 L399.9,150.8 L400.6,151.2 L401.2,151.7 L401.8,152.2 L402.4,152.8 L403.1,153.3\n\t\tL403.7,153.9 L404.3,154.5 L404.9,155.1 L405.6,155.7 L406.2,156.4 L406.8,157.1 L407.4,157.8 L408.1,158.5\n\t\tL408.7,159.2 L409.3,159.9 L409.9,160.6 L410.6,161.4 L411.2,162.2 L411.8,163.0 L412.4,163.7 L413.1,164.5\n\t\tL413.7,165.4 L414.3,166.2 L414.9,167.0 L415.6,167.8 L416.2,168.7 L416.8,169.5 L417.4,170.4 L418.1,171.2\n\t\tL418.7,172.1 L419.3,172.9 L419.9,173.8 L420.6,174.6 L421.2,175.5 L421.8,176.3 L422.4,177.2 L423.1,178.0\n\t\tL423.7,178.9 L424.3,179.7 L424.9,180.6 L425.6,181.4 L426.2,182.2 L426.8,183.0 L427.4,183.8 L428.1,184.6\n\t\tL428.7,185.4 L429.3,186.2 L429.9,186.9 L430.6,187.7 L431.2,188.4 L431.8,189.1 L432.4,189.8 L433.1,190.5\n\t\tL433.7,191.2 L434.3,191.8 L434.9,192.4 L435.6,193.1 L436.2,193.7 L436.8,194.2 L437.4,194.8 L438.1,195.3\n\t\tL438.7,195.8 L439.3,196.3 L439.9,196.8 L440.6,197.3 L441.2,197.7 L441.8,198.1 L442.4,198.5 L443.1,198.8\n\t\tL443.7,199.1 L444.3,199.4 L444.9,199.7 L445.6,200.0 L446.2,200.2 L446.8,200.4 L447.4,200.6 L448.1,200.7\n\t\tL448.7,200.8 L449.3,200.9 L449.9,201.0 L450.6,201.0 L451.2,201.0 L451.8,201.0 L452.4,201.0 L453.1,201.0\n\t\tL453.7,201.0 L454.3,201.0 L454.9,201.0 L455.6,201.0 L456.2,201.0 L456.8,201.0 L457.4,201.0 L458.1,201.0\n\t\tL458.7,201.0 L459.3,201.0 L459.9,201.0 L460.6,201.0 L461.2,201.0 L461.8,201.0 L462.4,201.0 L463.1,201.0\n\t\tL463.7,201.0 L464.3,201.0 L464.9,201.0 L465.6,201.0 L466.2,201.0 L466.8,201.0 L467.4,201.0 L468.1,201.0\n\t\tL468.7,201.0 L469.3,201.0 L469.9,201.0 L470.6,201.0 L471.2,201.0 L471.8,201.0 L472.5,201.0 L473.1,201.0\n\t\tL473.7,201.0 L474.3,201.0 L475.0,201.0 L475.6,201.0 L476.2,201.0 L476.8,201.0 L477.5,201.0 L478.1,201.0\n\t\tL478.7,201.0 L479.3,201.0 L480.0,201.0 L480.6,201.0 L481.2,201.0 L481.8,201.0 L482.5,201.0 L483.1,201.0\n\t\tL483.7,201.0 L484.3,201.0 L485.0,201.0 L485.6,201.0 L486.2,201.0 L486.8,201.0 L487.5,201.0 L488.1,201.0\n\t\tL488.7,201.0 L489.3,201.0 L490.0,201.0 L490.6,201.0 L491.2,201.0 L491.8,201.0 L492.5,201.0 L493.1,201.0\n\t\tL493.7,201.0 L494.3,201.0 L495.0,201.0 L495.6,201.0 L496.2,201.0 L496.8,201.0 L497.5,201.0 L498.1,201.0\n\t\tL498.7,201.0 L499.3,201.0 L500.0,201.0 L500.6,201.0 L501.2,201.0 L501.8,201.0 L502.5,201.0 L503.1,201.0\n\t\tL503.7,201.0 L504.3,201.0 L505.0,201.0 L505.6,201.0 L506.2,201.0 L506.8,201.0 L507.5,201.0 L508.1,201.0\n\t\tL508.7,201.0 L509.3,201.0 L510.0,201.0 L510.6,201.0 L511.2,201.0 L511.8,201.0 L512.5,201.0 L513.1,201.0\n\t\tL513.7,201.0 L514.3,201.0 L515.0,201.0 L515.6,201.0 L516.2,201.0 L516.8,201.0 L517.5,201.0 L518.1,201.0\n\t\tL518.7,201.0 L519.3,201.0 L520.0,201.0 L520.6,201.0 L521.2,201.0 L521.8,201.0 L522.5,201.0 L523.1,201.0\n\t\tL523.7,201.0 L524.3,201.0 L525.0,201.0 L525.6,201.0 L526.2,201.0 L526.8,201.0 L527.5,201.0 L528.1,201.0\n\t\tL528.7,201.0 L529.3,201.0 L530.0,201.0 L530.6,201.0 L531.2,201.0 L531.8,201.0 L532.5,201.0 L533.1,201.0\n\t\tL533.7,201.0 L534.3,201.0 L535.0,201.0 L535.6,201.0 L536.2,201.0 L536.8,201.0 L537.5,201.0 L538.1,201.0\n\t\tL538.7,201.0 L539.3,201.0 L540.0,201.0 L540.6,201.0 L541.2,201.0 L541.8,201.0 L542.5,201.0 L543.1,201.0\n\t\tL543.7,201.0 L544.4,201.0 L545.0,201.0 L545.6,201.0 L546.2,201.0 L546.9,201.0 L547.5,201.0 L548.1,201.0\n\t\tL548.7,201.0 L549.4,201.0 L550.0,201.0 L550.6,201.0 L551.2,201.0 L551.9,201.0 L552.5,201.0 L553.1,201.0\n\t\tL553.7,201.0 L554.4,201.0 L555.0,201.0 L555.6,201.0 L556.2,201.0 L556.9,201.0 L557.5,201.0 L558.1,201.0\n\t\tL558.7,201.0 L559.4,201.0 L560.0,201.0 L560.6,201.0 L561.2,201.0 L561.9,201.0 L562.5,201.0 L563.1,201.0\n\t\tL563.7,201.0 L564.4,201.0 L565.0,201.0 L565.6,201.0 L566.2,201.0 L566.9,201.0 L567.5,201.0 L568.1,201.0\n\t\tL568.7,201.0 L569.4,201.0 L570.0,201.0 L570.6,201.0 L571.2,201.0 L571.9,201.0 L572.5,201.0 L573.1,201.0\n\t\tL573.7,201.0 L574.4,201.0 L575.0,201.0 L575.6,201.0 L576.2,201.0 L576.9,201.0 L577.5,201.0 L578.1,201.0\n\t\tL578.7,201.0 L579.4,201.0 L580.0,201.0 L580.6,201.0 L581.2,201.0 L581.9,201.0 L582.5,201.0 L583.1,201.0\n\t\tL583.7,201.0 L584.4,201.0 L585.0,201.0 L585.6,201.0 L586.2,201.0 L586.9,201.0 L587.5,201.0 L588.1,201.0\n\t\tL588.7,201.0  '/></g>\n\t</g>\n\t<g id=\"gnuplot_plot_2\" ><title>gnuplot_plot_2</title>\n<g fill=\"none\" color=\"black\" stroke=\"currentColor\" stroke-width=\"1.00\" stroke-linecap=\"butt\" stroke-linejoin=\"miter\">\n\t<path stroke='rgb(139,  26,  14)'  d='M63.6,191.9 L64.2,315.1 L64.8,183.4 L65.4,273.1 L66.1,68.0 L66.7,173.9 L67.3,98.6 L67.9,229.0\n\t\tL68.6,220.7 L69.2,142.1 L69.8,294.8 L70.4,184.8 L71.1,213.6 L71.7,242.7 L72.3,195.0 L72.9,292.1\n\t\tL73.6,180.5 L74.2,184.2 L74.8,204.6 L75.4,167.6 L76.1,200.8 L76.7,170.3 L77.3,207.7 L77.9,193.6\n\t\tL78.6,257.9 L79.2,242.4 L79.8,262.8 L80.4,215.7 L81.1,197.9 L81.7,151.2 L82.3,183.0 L82.9,222.9\n\t\tL83.6,179.0 L84.2,198.3 L84.8,229.3 L85.4,210.1 L86.1,155.2 L86.7,222.6 L87.3,125.5 L87.9,244.6\n\t\tL88.6,174.6 L89.2,195.5 L89.8,201.4 L90.4,129.8 L91.1,202.4 L91.7,201.4 L92.3,174.0 L92.9,207.0\n\t\tL93.6,174.5 L94.2,195.5 L94.8,199.9 L95.4,226.2 L96.1,119.9 L96.7,139.3 L97.3,140.6 L97.9,156.5\n\t\tL98.6,122.5 L99.2,196.5 L99.8,182.9 L100.4,141.3 L101.1,171.8 L101.7,144.5 L102.3,169.0 L102.9,172.8\n\t\tL103.6,189.0 L104.2,231.6 L104.8,146.0 L105.4,230.1 L106.1,165.2 L106.7,244.8 L107.3,211.9 L107.9,251.5\n\t\tL108.6,169.3 L109.2,253.4 L109.8,221.8 L110.5,118.6 L111.1,122.9 L111.7,140.8 L112.3,168.8 L113.0,266.3\n\t\tL113.6,169.5 L114.2,170.9 L114.8,200.9 L115.5,177.8 L116.1,125.6 L116.7,180.4 L117.3,100.4 L118.0,216.8\n\t\tL118.6,243.0 L119.2,204.8 L119.8,147.4 L120.5,151.7 L121.1,111.5 L121.7,240.6 L122.3,215.9 L123.0,130.4\n\t\tL123.6,180.2 L124.2,132.3 L124.8,227.3 L125.5,170.9 L126.1,217.3 L126.7,77.2 L127.3,84.8 L128.0,198.0\n\t\tL128.6,68.1 L129.2,233.5 L129.8,156.3 L130.5,196.7 L131.1,179.9 L131.7,242.5 L132.3,197.1 L133.0,147.3\n\t\tL133.6,123.4 L134.2,106.8 L134.8,113.0 L135.5,144.8 L136.1,194.2 L136.7,150.8 L137.3,192.4 L138.0,185.2\n\t\tL138.6,150.1 L139.2,142.9 L139.8,206.7 L140.5,139.2 L141.1,166.0 L141.7,170.5 L142.3,210.1 L143.0,268.2\n\t\tL143.6,183.2 L144.2,186.9 L144.8,175.6 L145.5,134.5 L146.1,156.9 L146.7,204.1 L147.3,175.6 L148.0,155.5\n\t\tL148.6,201.7 L149.2,181.7 L149.8,243.1 L150.5,160.6 L151.1,136.8 L151.7,193.5 L152.3,147.5 L153.0,261.8\n\t\tL153.6,73.2 L154.2,274.7 L154.8,164.8 L155.5,143.3 L156.1,162.4 L156.7,244.3 L157.3,154.3 L158.0,222.0\n\t\tL158.6,189.5 L159.2,74.9 L159.8,311.8 L160.5,160.4 L161.1,114.3 L161.7,138.6 L162.3,204.7 L163.0,240.0\n\t\tL163.6,216.3 L164.2,212.6 L164.8,199.9 L165.5,155.3 L166.1,213.7 L166.7,114.0 L167.3,239.5 L168.0,132.2\n\t\tL168.6,175.8 L169.2,186.9 L169.8,111.0 L170.5,207.4 L171.1,195.9 L171.5,54.1 M171.8,54.1 L172.3,171.0\n\t\tL173.0,208.7 L173.6,175.0 L174.2,227.7 L174.8,193.5 L175.5,137.1 L176.1,155.1 L176.7,185.0 L177.3,137.1\n\t\tL178.0,96.8 L178.6,214.1 L179.2,285.1 L179.8,233.7 L180.5,235.6 L181.1,144.6 L181.7,200.8 L182.4,188.6\n\t\tL183.0,87.5 L183.6,191.6 L184.2,205.1 L184.9,139.3 L185.5,283.1 L186.1,289.0 L186.7,209.5 L187.4,134.0\n\t\tL188.0,287.2 L188.6,241.7 L189.2,213.1 L189.9,211.4 L190.5,222.1 L191.1,189.2 L191.7,142.2 L192.4,189.6\n\t\tL193.0,279.6 L193.6,240.5 L194.2,267.6 L194.9,189.0 L195.5,323.1 L196.1,137.4 L196.7,160.3 L197.4,231.4\n\t\tL198.0,233.7 L198.6,229.8 L199.2,262.8 L199.9,178.7 L200.5,158.9 L201.1,149.5 L201.7,206.9 L202.4,194.9\n\t\tL203.0,267.1 L203.6,225.6 L204.2,259.4 L204.9,244.9 L205.5,135.1 L206.1,231.7 L206.7,181.0 L207.4,186.1\n\t\tL208.0,178.4 L208.6,196.3 L209.2,59.7 L209.9,173.2 L210.5,144.5 L211.1,256.9 L211.7,214.6 L212.4,154.6\n\t\tL213.0,231.7 L213.6,190.7 L214.2,213.4 L214.9,140.9 L215.5,209.8 L216.1,142.0 L216.7,184.0 L217.4,183.6\n\t\tL218.0,213.2 L218.6,234.5 L219.2,225.1 L219.9,138.6 L220.5,240.9 L221.1,235.2 L221.7,223.0 L222.4,182.1\n\t\tL223.0,192.2 L223.6,107.7 L224.2,242.1 L224.9,239.3 L225.5,202.6 L226.1,213.1 L226.7,225.3 L227.4,269.3\n\t\tL228.0,176.5 L228.6,133.8 L229.2,205.7 L229.9,197.0 L230.5,228.8 L231.1,229.5 L231.7,125.8 L232.4,199.1\n\t\tL233.0,240.1 L233.6,196.3 L234.2,170.3 L234.9,193.9 L235.5,161.0 L236.1,215.6 L236.7,250.0 L237.4,152.0\n\t\tL238.0,216.0 L238.6,209.5 L239.2,212.2 L239.9,128.2 L240.5,202.7 L241.1,241.4 L241.7,203.1 L242.4,293.9\n\t\tL243.0,129.9 L243.6,233.9 L244.2,171.1 L244.9,158.1 L245.5,100.8 L246.1,168.6 L246.7,183.3 L247.4,124.2\n\t\tL248.0,177.2 L248.6,216.9 L249.2,145.2 L249.9,108.2 L250.5,90.9 L251.1,192.7 L251.7,187.2 L252.4,169.5\n\t\tL253.0,206.4 L253.6,169.7 L254.3,97.9 L254.9,214.8 L255.5,171.3 L256.1,214.2 L256.8,248.8 L257.4,163.4\n\t\tL258.0,236.7 L258.6,185.4 L259.3,94.4 L259.9,155.0 L260.5,243.3 L261.1,255.0 L261.8,101.9 L262.4,191.5\n\t\tL263.0,241.7 L263.6,192.1 L264.3,109.3 L264.9,170.1 L265.5,130.8 L266.1,161.0 L266.8,169.6 L267.4,209.8\n\t\tL268.0,148.5 L268.6,106.8 L269.3,287.8 L269.9,162.8 L270.5,209.0 L271.1,132.9 L271.8,156.8 L272.4,218.5\n\t\tL273.0,122.0 L273.6,230.5 L274.3,166.5 L274.9,184.4 L275.5,209.4 L276.1,201.3 L276.8,144.8 L277.4,138.4\n\t\tL278.0,166.6 L278.6,170.0 L279.3,211.8 L279.9,209.5 L280.5,131.2 L281.1,207.8 L281.8,247.3 L282.4,220.0\n\t\tL283.0,180.4 L283.6,169.3 L284.3,195.9 L284.9,329.6 L285.5,121.1 L286.1,117.0 L286.8,223.6 L287.4,156.3\n\t\tL288.0,128.3 L288.6,149.6 L289.3,147.5 L289.9,158.0 L290.5,223.0 L291.1,219.9 L291.8,209.8 L292.4,215.9\n\t\tL293.0,282.2 L293.6,147.1 L294.3,139.6 L294.9,265.3 L295.5,175.3 L296.1,150.1 L296.8,144.9 L297.4,191.9\n\t\tL298.0,253.5 L298.6,140.2 L299.3,187.8 L299.9,114.2 L300.5,175.3 L301.1,165.5 L301.8,154.8 L302.4,180.9\n\t\tL303.0,152.8 L303.6,196.4 L304.3,157.2 L304.9,219.2 L305.5,235.4 L306.1,190.5 L306.8,215.5 L307.4,123.6\n\t\tL308.0,167.9 L308.6,161.4 L309.3,311.5 L309.9,127.4 L310.5,150.2 L311.1,251.9 L311.8,153.2 L312.4,164.5\n\t\tL313.0,193.4 L313.6,182.8 L314.3,270.8 L314.9,213.1 L315.5,201.0 L316.1,179.3 L316.8,193.0 L317.4,163.6\n\t\tL318.0,265.3 L318.6,171.1 L319.3,202.8 L319.9,155.2 L320.4,348.0 M320.5,348.0 L321.1,150.7 L321.8,187.1\n\t\tL322.4,211.0 L323.0,236.4 L323.6,236.5 L324.3,146.9 L324.9,206.2 L325.5,213.8 L326.2,162.1 L326.8,255.1\n\t\tL327.4,218.1 L328.0,189.7 L328.7,147.1 L329.3,279.6 L329.9,230.0 L330.5,152.7 L331.2,169.4 L331.8,177.3\n\t\tL332.4,168.3 L333.0,215.4 L333.7,133.7 L334.3,234.8 L334.9,155.0 L335.5,166.6 L336.2,286.8 L336.8,249.3\n\t\tL337.4,221.7 L338.0,213.5 L338.7,164.4 L339.3,294.9 L339.9,203.4 L340.5,172.5 L341.2,158.1 L341.8,210.4\n\t\tL342.4,166.9 L343.0,132.5 L343.7,155.7 L344.3,190.6 L344.9,232.3 L345.5,327.0 L346.2,224.1 L346.8,187.8\n\t\tL347.4,180.4 L348.0,223.5 L348.7,122.7 L349.3,210.6 L349.9,245.1 L350.5,188.5 L351.2,121.6 L351.8,120.9\n\t\tL352.4,241.1 L353.0,205.3 L353.7,157.0 L354.3,198.7 L354.9,217.5 L355.5,213.4 L356.2,279.6 L356.8,84.2\n\t\tL357.4,264.5 L358.0,286.4 L358.7,144.1 L359.3,119.3 L359.9,280.1 L360.5,150.7 L361.2,199.7 L361.8,188.0\n\t\tL362.4,210.5 L363.0,199.4 L363.7,263.7 L364.3,163.6 L364.9,157.9 L365.5,213.1 L366.2,279.4 L366.8,208.9\n\t\tL367.4,231.3 L368.0,239.6 L368.7,266.6 L369.3,283.2 L369.9,345.0 L370.5,171.4 L371.2,182.6 L371.8,234.3\n\t\tL372.4,276.7 L373.0,210.8 L373.7,155.5 L374.3,266.0 L374.9,236.1 L375.5,268.1 L376.2,238.5 L376.8,240.7\n\t\tL377.4,263.3 L378.0,148.2 L378.7,196.9 L379.3,188.0 L379.9,255.9 L380.5,285.4 L381.2,227.6 L381.8,224.0\n\t\tL382.4,291.2 L383.0,313.3 L383.7,250.6 L384.3,156.8 L384.9,237.8 L385.3,348.0  '/>\t<path stroke='rgb(139,  26,  14)'  d='M385.6,348.0 L386.2,216.5 L386.8,237.6 L387.4,197.4 L388.0,213.0 L388.7,310.6 L389.3,212.1 L389.9,252.1\n\t\tL390.5,219.7 L391.2,261.3 L391.8,239.2 L392.4,228.2 L393.0,262.2 L393.7,115.1 L394.3,244.4 L394.9,255.5\n\t\tL395.5,252.4 L396.2,237.8 L396.8,277.3 L397.4,263.0 L398.0,187.1 L398.7,131.6 L399.3,268.1 L399.9,156.1\n\t\tL400.6,262.1 L401.2,252.4 L401.8,183.9 L402.4,175.8 L403.1,288.0 L403.7,256.5 L404.3,268.2 L404.9,192.5\n\t\tL405.5,348.0 M405.6,348.0 L406.2,200.6 L406.8,263.8 L407.4,296.2 L408.1,189.9 L408.7,242.9 L409.3,266.5\n\t\tL409.9,210.4 L410.6,297.7 L411.2,298.6 L411.8,202.0 L412.4,120.7 L413.1,200.0 L413.7,163.6 L414.3,212.5\n\t\tL414.9,229.5 L415.6,247.2 L416.2,182.0 L416.8,186.3 L417.4,161.9 L418.1,334.2 L418.7,220.6 L419.3,228.5\n\t\tL419.9,196.2 L420.6,179.6 L421.2,172.5 L421.8,110.7 L422.4,165.7 L423.1,274.6 L423.7,147.8 L424.3,289.9\n\t\tL424.9,101.5 L425.6,253.6 L426.2,266.2 L426.8,185.3 L427.4,181.0 L428.1,147.6 L428.7,203.5 L429.3,211.4\n\t\tL429.9,213.7 L430.6,144.4 L431.2,274.9 L431.8,266.2 L432.4,259.3 L433.1,261.4 L433.7,211.8 L434.3,154.6\n\t\tL434.9,201.4 L435.6,247.5 L436.2,202.1 L436.8,281.1 L437.4,269.9 L438.1,183.9 L438.7,241.1 L439.3,171.7\n\t\tL439.9,205.8 L440.6,157.2 L441.2,262.2 L441.8,146.7 L442.4,166.8 L443.1,168.1 L443.7,162.0 L444.3,286.4\n\t\tL444.9,173.6 L445.6,238.5 L446.2,197.7 L446.8,222.5 L447.4,261.6 L448.1,209.1 L448.7,219.4 L449.3,104.8\n\t\tL449.9,287.5 L450.6,270.4 L451.2,226.1 L451.8,211.4 L452.4,215.9 L453.1,204.5 L453.7,284.5 L454.3,204.9\n\t\tL454.9,123.3 L455.6,111.5 L456.2,281.7 L456.8,286.7 L457.4,136.0 L458.1,260.7 L458.7,270.6 L459.3,80.7\n\t\tL459.9,181.5 L460.6,214.0 L461.2,207.3 L461.8,220.5 L462.4,214.6 L463.1,220.7 L463.7,268.6 L464.3,269.1\n\t\tL464.9,260.3 L465.6,170.3 L466.2,219.3 L466.8,127.2 L467.4,226.3 L468.1,192.3 L468.7,228.4 L469.3,156.5\n\t\tL469.9,129.8 L470.6,188.1 L471.2,228.1 L471.8,257.6 L472.5,242.0 L473.1,240.4 L473.7,215.7 L474.3,189.4\n\t\tL475.0,215.9 L475.6,217.0 L476.2,232.3 L476.8,230.5 L477.5,227.0 L478.1,198.9 L478.7,202.9 L479.3,163.9\n\t\tL480.0,143.9 L480.6,179.7 L481.2,159.6 L481.8,162.8 L482.5,233.8 L483.1,185.2 L483.7,210.2 L484.3,232.2\n\t\tL485.0,169.6 L485.6,147.7 L486.2,165.0 L486.8,160.8 L487.5,169.8 L488.1,233.2 L488.7,206.9 L489.3,263.5\n\t\tL490.0,172.9 L490.6,201.4 L491.2,314.0 L491.8,177.8 L492.5,149.5 L493.1,236.4 L493.7,182.7 L494.3,218.0\n\t\tL495.0,172.3 L495.6,198.5 L496.2,215.3 L496.8,202.2 L497.5,178.6 L498.1,133.9 L498.7,163.7 L499.3,264.1\n\t\tL500.0,247.3 L500.6,128.4 L501.2,185.4 L501.8,165.1 L502.5,146.7 L503.1,197.2 L503.7,165.9 L504.3,207.5\n\t\tL505.0,148.0 L505.6,266.8 L506.2,143.9 L506.8,128.8 L507.5,158.0 L508.1,162.6 L508.7,183.0 L509.3,186.9\n\t\tL510.0,151.2 L510.6,191.8 L511.2,111.4 L511.8,267.1 L512.5,287.4 L513.1,199.2 L513.7,150.7 L514.3,148.3\n\t\tL515.0,157.4 L515.6,221.5 L516.2,63.1 L516.8,162.3 L517.5,228.8 L518.1,113.2 L518.7,161.4 L519.3,181.7\n\t\tL520.0,99.6 L520.6,225.1 L521.2,228.0 L521.8,165.5 L522.5,149.3 L523.1,158.4 L523.7,160.3 L524.3,213.9\n\t\tL525.0,71.4 L525.6,208.1 L526.2,255.4 L526.8,166.0 L527.5,156.5 L528.1,169.8 L528.7,189.3 L529.3,200.0\n\t\tL530.0,179.6 L530.6,127.1 L531.2,212.7 L531.8,200.3 L532.4,54.1 M532.5,54.1 L533.1,141.9 L533.7,167.7\n\t\tL534.3,157.5 L535.0,162.3 L535.6,228.2 L536.2,186.3 L536.8,168.4 L537.5,216.8 L538.1,141.1 L538.7,201.0\n\t\tL539.3,206.9 L540.0,278.4 L540.6,193.0 L541.2,187.7 L541.8,295.8 L542.4,54.1 M542.5,54.1 L543.1,205.4\n\t\tL543.7,165.3 L544.4,176.5 L545.0,216.6 L545.6,171.9 L546.2,159.3 L546.9,260.5 L547.5,217.5 L548.1,198.8\n\t\tL548.7,149.1 L549.4,147.6 L550.0,196.2 L550.6,181.4 L551.2,292.3 L551.9,143.9 L552.5,188.3 L553.1,216.7\n\t\tL553.7,215.0 L554.4,203.5 L555.0,179.6 L555.6,193.7 L556.2,171.0 L556.9,201.7 L557.5,155.2 L558.1,154.3\n\t\tL558.7,179.8 L559.4,180.1 L560.0,256.2 L560.6,127.5 L561.1,348.0 M561.2,348.0 L561.9,151.5 L562.5,229.0\n\t\tL563.1,222.8 L563.7,187.0 L564.4,98.2 L565.0,303.9 L565.6,252.4 L566.2,189.0 L566.9,209.0 L567.5,167.6\n\t\tL568.1,235.4 L568.7,274.7 L569.4,254.8 L570.0,175.7 L570.6,118.8 L571.2,168.7 L571.9,186.1 L572.5,214.3\n\t\tL573.1,299.3 L573.7,180.0 L574.4,142.6 L575.0,263.8 L575.6,199.4 L576.2,256.1 L576.9,244.8 L577.5,295.5\n\t\tL578.1,192.4 L578.7,221.2 L579.4,155.4 L580.0,189.0 L580.6,102.6 L581.2,158.2 L581.9,183.7 L582.5,198.4\n\t\tL583.1,205.9 L583.7,231.0 L584.4,197.6 L585.0,87.9 L585.6,122.2 L586.2,228.3 L586.9,218.8 L587.5,167.2\n\t\tL588.1,253.1 L588.7,193.3  '/></g>\n\t</g>\n\t<g id=\"gnuplot_plot_3\" ><title>gnuplot_plot_3</title>\n<g fill=\"none\" color=\"black\" stroke=\"currentColor\" stroke-width=\"1.00\" stroke-linecap=\"butt\" stroke-linejoin=\"miter\">\n\t<path stroke='rgb( 94, 156,  54)'  d='M63.6,201.0 L64.2,201.0 L64.8,201.0 L65.4,201.0 L66.1,201.0 L66.7,201.0 L67.3,201.0 L67.9,201.0\n\t\tL68.6,201.0 L69.2,201.0 L69.8,201.0 L70.4,201.0 L71.1,201.0 L71.7,201.0 L72.3,201.0 L72.9,201.0\n\t\tL73.6,201.0 L74.2,201.0 L74.8,201.0 L75.4,201.0 L76.1,201.0 L76.7,201.0 L77.3,201.0 L77.9,201.0\n\t\tL78.6,201.0 L79.2,201.0 L79.8,201.0 L80.4,201.0 L81.1,201.0 L81.7,201.0 L82.3,201.0 L82.9,201.0\n\t\tL83.6,201.0 L84.2,201.0 L84.8,201.0 L85.4,201.0 L86.1,201.0 L86.7,201.0 L87.3,201.0 L87.9,201.0\n\t\tL88.6,201.0 L89.2,201.0 L89.8,201.0 L90.4,201.0 L91.1,201.0 L91.7,201.0 L92.3,201.0 L92.9,201.0\n\t\tL93.6,201.0 L94.2,201.0 L94.8,201.0 L95.4,201.0 L96.1,201.0 L96.7,201.0 L97.3,201.0 L97.9,201.0\n\t\tL98.6,201.0 L99.2,201.0 L99.8,201.0 L100.4,201.0 L101.1,201.0 L101.7,201.0 L102.3,201.0 L102.9,201.0\n\t\tL103.6,201.0 L104.2,201.0 L104.8,201.0 L105.4,201.0 L106.1,201.0 L106.7,201.0 L107.3,201.0 L107.9,201.0\n\t\tL108.6,201.0 L109.2,201.0 L109.8,201.0 L110.5,201.0 L111.1,201.0 L111.7,201.0 L112.3,201.0 L113.0,201.0\n\t\tL113.6,201.0 L114.2,201.0 L114.8,201.0 L115.5,201.0 L116.1,201.0 L116.7,201.0 L117.3,201.0 L118.0,201.0\n\t\tL118.6,201.0 L119.2,201.0 L119.8,201.0 L120.5,201.0 L121.1,201.0 L121.7,201.0 L122.3,201.0 L123.0,201.0\n\t\tL123.6,201.0 L124.2,201.0 L124.8,201.0 L125.5,201.0 L126.1,201.0 L126.7,201.0 L127.3,201.0 L128.0,201.0\n\t\tL128.6,201.0 L129.2,201.0 L129.8,201.0 L130.5,201.0 L131.1,201.0 L131.7,201.0 L132.3,201.0 L133.0,201.0\n\t\tL133.6,201.0 L134.2,201.0 L134.8,201.0 L135.5,201.0 L136.1,201.0 L136.7,201.0 L137.3,201.0 L138.0,201.0\n\t\tL138.6,201.0 L139.2,201.0 L139.8,201.0 L140.5,201.0 L141.1,201.0 L141.7,201.0 L142.3,201.0 L143.0,201.0\n\t\tL143.6,201.0 L144.2,201.0 L144.8,201.0 L145.5,201.0 L146.1,201.0 L146.7,201.0 L147.3,201.0 L148.0,201.0\n\t\tL148.6,201.0 L149.2,201.0 L149.8,201.0 L150.5,201.0 L151.1,201.0 L151.7,201.0 L152.3,201.0 L153.0,201.0\n\t\tL153.6,201.0 L154.2,201.0 L154.8,201.0 L155.5,201.0 L156.1,201.0 L156.7,201.0 L157.3,201.0 L158.0,201.0\n\t\tL158.6,201.0 L159.2,201.0 L159.8,201.0 L160.5,201.0 L161.1,201.0 L161.7,201.0 L162.3,201.0 L163.0,201.0\n\t\tL163.6,201.0 L164.2,201.0 L164.8,201.0 L165.5,201.0 L166.1,201.0 L166.7,201.0 L167.3,201.0 L168.0,201.0\n\t\tL168.6,201.0 L169.2,201.0 L169.8,201.0 L170.5,201.0 L171.1,201.0 L171.7,201.0 L172.3,201.0 L173.0,201.0\n\t\tL173.6,201.0 L174.2,201.0 L174.8,201.0 L175.5,201.0 L176.1,201.0 L176.7,201.0 L177.3,201.0 L178.0,201.0\n\t\tL178.6,201.0 L179.2,201.0 L179.8,201.0 L180.5,201.0 L181.1,201.0 L181.7,201.0 L182.4,201.0 L183.0,201.0\n\t\tL183.6,201.0 L184.2,201.0 L184.9,201.0 L185.5,201.0 L186.1,201.0 L186.7,201.0 L187.4,201.0 L188.0,201.0\n\t\tL188.6,201.0 L189.2,201.0 L189.9,201.0 L190.5,201.0 L191.1,201.0 L191.7,201.0 L192.4,201.0 L193.0,201.0\n\t\tL193.6,201.0 L194.2,201.0 L194.9,201.0 L195.5,201.0 L196.1,201.0 L196.7,201.0 L197.4,201.0 L198.0,201.0\n\t\tL198.6,201.0 L199.2,201.0 L199.9,201.0 L200.5,201.0 L201.1,201.0 L201.7,201.0 L202.4,201.0 L203.0,201.0\n\t\tL203.6,201.0 L204.2,201.0 L204.9,201.0 L205.5,201.0 L206.1,201.0 L206.7,201.0 L207.4,201.0 L208.0,201.0\n\t\tL208.6,201.0 L209.2,201.0 L209.9,201.0 L210.5,201.0 L211.1,201.0 L211.7,201.0 L212.4,201.0 L213.0,201.0\n\t\tL213.6,201.0 L214.2,201.0 L214.9,201.0 L215.5,201.0 L216.1,201.0 L216.7,201.0 L217.4,201.0 L218.0,201.0\n\t\tL218.6,201.0 L219.2,201.0 L219.9,201.0 L220.5,201.0 L221.1,201.0 L221.7,201.0 L222.4,201.0 L223.0,201.0\n\t\tL223.6,201.0 L224.2,201.0 L224.9,201.0 L225.5,201.0 L226.1,201.0 L226.7,201.0 L227.4,201.0 L228.0,201.0\n\t\tL228.6,201.0 L229.2,201.0 L229.9,201.0 L230.5,201.0 L231.1,201.0 L231.7,201.0 L232.4,201.0 L233.0,201.0\n\t\tL233.6,201.0 L234.2,201.0 L234.9,201.0 L235.5,201.0 L236.1,201.0 L236.7,201.0 L237.4,201.0 L238.0,201.0\n\t\tL238.6,201.0 L239.2,201.0 L239.9,201.0 L240.5,201.0 L241.1,201.0 L241.7,201.0 L242.4,201.0 L243.0,201.0\n\t\tL243.6,201.0 L244.2,201.0 L244.9,201.0 L245.5,201.0 L246.1,201.0 L246.7,201.0 L247.4,201.0 L248.0,201.0\n\t\tL248.6,201.0 L249.2,201.0 L249.9,201.0 L250.5,201.0 L251.1,201.0 L251.7,201.0 L252.4,201.0 L253.0,201.0\n\t\tL253.6,201.0 L254.3,201.0 L254.9,201.0 L255.5,201.0 L256.1,201.0 L256.8,201.0 L257.4,201.0 L258.0,201.0\n\t\tL258.6,201.0 L259.3,201.0 L259.9,201.0 L260.5,201.0 L261.1,201.0 L261.8,201.0 L262.4,201.0 L263.0,201.0\n\t\tL263.6,201.0 L264.3,201.0 L264.9,201.0 L265.5,201.0 L266.1,201.0 L266.8,201.0 L267.4,201.0 L268.0,201.0\n\t\tL268.6,201.0 L269.3,201.0 L269.9,201.0 L270.5,201.0 L271.1,201.0 L271.8,201.0 L272.4,201.0 L273.0,201.0\n\t\tL273.6,201.0 L274.3,201.0 L274.9,201.0 L275.5,201.0 L276.1,201.0 L276.8,201.0 L277.4,201.0 L278.0,201.0\n\t\tL278.6,201.0 L279.3,201.0 L279.9,201.0 L280.5,201.0 L281.1,201.0 L281.8,201.0 L282.4,201.0 L283.0,201.0\n\t\tL283.6,201.0 L284.3,201.0 L284.9,201.0 L285.5,201.0 L286.1,201.0 L286.8,201.0 L287.4,201.0 L288.0,201.0\n\t\tL288.6,201.0 L289.3,201.0 L289.9,201.0 L290.5,201.0 L291.1,201.0 L291.8,201.0 L292.4,201.0 L293.0,201.0\n\t\tL293.6,201.0 L294.3,201.0 L294.9,201.0 L295.5,201.0 L296.1,201.0 L296.8,201.0 L297.4,201.0 L298.0,201.0\n\t\tL298.6,201.0 L299.3,201.0 L299.9,201.0 L300.5,201.0 L301.1,201.0 L301.8,201.0 L302.4,201.0 L303.0,201.0\n\t\tL303.6,201.0 L304.3,201.0 L304.9,201.0 L305.5,201.0 L306.1,201.0 L306.8,201.0 L307.4,201.0 L308.0,201.0\n\t\tL308.6,201.0 L309.3,201.0 L309.9,201.0 L310.5,201.0 L311.1,201.0 L311.8,201.0 L312.4,201.0 L313.0,201.0\n\t\tL313.6,201.0 L314.3,201.0 L314.9,201.0 L315.5,201.0 L316.1,201.0 L316.8,201.0 L317.4,201.0 L318.0,201.0\n\t\tL318.6,201.0 L319.3,201.0 L319.9,201.0 L320.5,201.0 L321.1,201.0 L321.8,201.0 L322.4,201.0 L323.0,201.0\n\t\tL323.6,201.0 L324.3,201.0 L324.9,201.0 L325.5,201.0 L326.2,201.0 L326.8,201.1 L327.4,201.1 L328.0,201.0\n\t\tL328.7,200.7 L329.3,201.8 L329.9,201.5 L330.5,200.1 L331.2,200.2 L331.8,200.3 L332.4,199.7 L333.0,201.7\n\t\tL333.7,197.2 L334.3,203.3 L334.9,197.5 L335.5,198.0 L336.2,209.7 L336.8,206.5 L337.4,203.7 L338.0,202.8\n\t\tL338.7,195.3 L339.3,217.1 L339.9,201.5 L340.5,195.2 L341.2,191.6 L341.8,203.3 L342.4,192.3 L343.0,182.1\n\t\tL343.7,187.6 L344.3,197.7 L344.9,211.6 L345.5,246.1 L346.2,209.8 L346.8,195.7 L347.4,192.3 L348.0,211.1\n\t\tL348.7,164.3 L349.3,205.8 L349.9,223.8 L350.5,194.3 L351.2,156.2 L351.8,153.9 L352.4,225.6 L353.0,203.8\n\t\tL353.7,171.8 L354.3,199.4 L354.9,212.8 L355.5,210.2 L356.2,261.2 L356.8,108.6 L357.4,252.9 L358.0,272.9\n\t\tL358.7,151.6 L359.3,128.0 L359.9,273.7 L360.5,153.5 L361.2,199.8 L361.8,188.0 L362.4,210.7 L363.0,199.3\n\t\tL363.7,268.1 L364.3,160.1 L364.9,152.9 L365.5,214.8 L366.2,292.3 L366.8,210.3 L367.4,237.6 L368.0,248.6\n\t\tL368.7,283.3 L369.3,305.9 L369.6,348.0 M370.0,348.0 L370.5,162.0 L371.2,176.4 L371.8,246.2 L372.4,305.0\n\t\tL373.0,214.6 L373.7,136.8 L374.3,293.9 L374.9,251.8 L375.5,299.0 L376.2,256.3 L376.8,260.2 L377.4,294.7\n\t\tL378.0,120.7 L378.7,194.7 L379.3,180.9 L379.9,286.4 L380.5,333.2 L381.2,242.9 L381.8,237.4 L382.4,344.6\n\t\tM383.2,348.0 L383.7,280.7 L384.3,129.7 L384.9,260.6 L385.1,348.0  '/>\t<path stroke='rgb( 94, 156,  54)'  d='M385.8,348.0 L386.2,226.2 L386.8,260.5 L387.4,195.1 L388.0,220.5 L388.5,348.0 M388.8,348.0 L389.3,219.1\n\t\tL389.9,284.3 L390.5,231.4 L391.2,299.1 L391.8,262.9 L392.4,244.9 L393.0,299.8 L393.7,62.8 L394.3,270.4\n\t\tL394.9,287.8 L395.5,282.5 L396.2,258.9 L396.8,320.4 L397.4,297.4 L398.0,179.5 L398.7,94.7 L399.3,302.9\n\t\tL399.9,133.3 L400.6,292.1 L401.2,276.9 L401.8,175.9 L402.4,164.6 L403.1,325.3 L403.7,279.3 L404.3,294.6\n\t\tL404.9,189.3 L405.3,348.0 M405.7,348.0 L406.2,200.4 L406.8,283.7 L407.4,324.4 L408.1,186.8 L408.7,253.6\n\t\tL409.3,281.7 L409.9,212.4 L410.6,315.7 L411.2,314.6 L411.8,202.1 L412.4,111.3 L413.1,199.9 L413.7,161.0\n\t\tL414.3,213.1 L414.9,230.1 L415.6,246.9 L416.2,182.6 L416.8,187.1 L417.4,165.0 L418.1,320.0 L418.7,218.0\n\t\tL419.3,224.2 L419.9,197.1 L420.6,184.1 L421.2,179.2 L421.8,134.3 L422.4,175.8 L423.1,251.7 L423.7,165.7\n\t\tL424.3,257.7 L424.9,140.0 L425.6,232.0 L426.2,237.8 L426.8,192.5 L427.4,190.7 L428.1,174.7 L428.7,202.2\n\t\tL429.3,205.7 L429.9,206.4 L430.6,178.3 L431.2,229.0 L431.8,224.4 L432.4,220.6 L433.1,220.1 L433.7,204.2\n\t\tL434.3,188.2 L434.9,201.1 L435.6,212.2 L436.2,201.3 L436.8,217.4 L437.4,214.0 L438.1,198.1 L438.7,207.3\n\t\tL439.3,196.9 L439.9,201.7 L440.6,196.1 L441.2,207.2 L441.8,196.2 L442.4,198.4 L443.1,198.8 L443.7,198.8\n\t\tL444.3,205.2 L444.9,200.0 L445.6,202.3 L446.2,201.0 L446.8,201.5 L447.4,201.9 L448.1,201.1 L448.7,201.2\n\t\tL449.3,200.7 L449.9,201.2 L450.6,201.1 L451.2,201.0 L451.8,201.0 L452.4,201.0 L453.1,201.0 L453.7,201.0\n\t\tL454.3,201.0 L454.9,201.0 L455.6,201.0 L456.2,201.0 L456.8,201.0 L457.4,201.0 L458.1,201.0 L458.7,201.0\n\t\tL459.3,201.0 L459.9,201.0 L460.6,201.0 L461.2,201.0 L461.8,201.0 L462.4,201.0 L463.1,201.0 L463.7,201.0\n\t\tL464.3,201.0 L464.9,201.0 L465.6,201.0 L466.2,201.0 L466.8,201.0 L467.4,201.0 L468.1,201.0 L468.7,201.0\n\t\tL469.3,201.0 L469.9,201.0 L470.6,201.0 L471.2,201.0 L471.8,201.0 L472.5,201.0 L473.1,201.0 L473.7,201.0\n\t\tL474.3,201.0 L475.0,201.0 L475.6,201.0 L476.2,201.0 L476.8,201.0 L477.5,201.0 L478.1,201.0 L478.7,201.0\n\t\tL479.3,201.0 L480.0,201.0 L480.6,201.0 L481.2,201.0 L481.8,201.0 L482.5,201.0 L483.1,201.0 L483.7,201.0\n\t\tL484.3,201.0 L485.0,201.0 L485.6,201.0 L486.2,201.0 L486.8,201.0 L487.5,201.0 L488.1,201.0 L488.7,201.0\n\t\tL489.3,201.0 L490.0,201.0 L490.6,201.0 L491.2,201.0 L491.8,201.0 L492.5,201.0 L493.1,201.0 L493.7,201.0\n\t\tL494.3,201.0 L495.0,201.0 L495.6,201.0 L496.2,201.0 L496.8,201.0 L497.5,201.0 L498.1,201.0 L498.7,201.0\n\t\tL499.3,201.0 L500.0,201.0 L500.6,201.0 L501.2,201.0 L501.8,201.0 L502.5,201.0 L503.1,201.0 L503.7,201.0\n\t\tL504.3,201.0 L505.0,201.0 L505.6,201.0 L506.2,201.0 L506.8,201.0 L507.5,201.0 L508.1,201.0 L508.7,201.0\n\t\tL509.3,201.0 L510.0,201.0 L510.6,201.0 L511.2,201.0 L511.8,201.0 L512.5,201.0 L513.1,201.0 L513.7,201.0\n\t\tL514.3,201.0 L515.0,201.0 L515.6,201.0 L516.2,201.0 L516.8,201.0 L517.5,201.0 L518.1,201.0 L518.7,201.0\n\t\tL519.3,201.0 L520.0,201.0 L520.6,201.0 L521.2,201.0 L521.8,201.0 L522.5,201.0 L523.1,201.0 L523.7,201.0\n\t\tL524.3,201.0 L525.0,201.0 L525.6,201.0 L526.2,201.0 L526.8,201.0 L527.5,201.0 L528.1,201.0 L528.7,201.0\n\t\tL529.3,201.0 L530.0,201.0 L530.6,201.0 L531.2,201.0 L531.8,201.0 L532.5,201.0 L533.1,201.0 L533.7,201.0\n\t\tL534.3,201.0 L535.0,201.0 L535.6,201.0 L536.2,201.0 L536.8,201.0 L537.5,201.0 L538.1,201.0 L538.7,201.0\n\t\tL539.3,201.0 L540.0,201.0 L540.6,201.0 L541.2,201.0 L541.8,201.0 L542.5,201.0 L543.1,201.0 L543.7,201.0\n\t\tL544.4,201.0 L545.0,201.0 L545.6,201.0 L546.2,201.0 L546.9,201.0 L547.5,201.0 L548.1,201.0 L548.7,201.0\n\t\tL549.4,201.0 L550.0,201.0 L550.6,201.0 L551.2,201.0 L551.9,201.0 L552.5,201.0 L553.1,201.0 L553.7,201.0\n\t\tL554.4,201.0 L555.0,201.0 L555.6,201.0 L556.2,201.0 L556.9,201.0 L557.5,201.0 L558.1,201.0 L558.7,201.0\n\t\tL559.4,201.0 L560.0,201.0 L560.6,201.0 L561.2,201.0 L561.9,201.0 L562.5,201.0 L563.1,201.0 L563.7,201.0\n\t\tL564.4,201.0 L565.0,201.0 L565.6,201.0 L566.2,201.0 L566.9,201.0 L567.5,201.0 L568.1,201.0 L568.7,201.0\n\t\tL569.4,201.0 L570.0,201.0 L570.6,201.0 L571.2,201.0 L571.9,201.0 L572.5,201.0 L573.1,201.0 L573.7,201.0\n\t\tL574.4,201.0 L575.0,201.0 L575.6,201.0 L576.2,201.0 L576.9,201.0 L577.5,201.0 L578.1,201.0 L578.7,201.0\n\t\tL579.4,201.0 L580.0,201.0 L580.6,201.0 L581.2,201.0 L581.9,201.0 L582.5,201.0 L583.1,201.0 L583.7,201.0\n\t\tL584.4,201.0 L585.0,201.0 L585.6,201.0 L586.2,201.0 L586.9,201.0 L587.5,201.0 L588.1,201.0 L588.7,201.0\n\t\t '/></g>\n\t</g>\n<g fill=\"none\" color=\"#FFFFFF\" stroke=\"rgb( 94, 156,  54)\" stroke-width=\"2.00\" stroke-linecap=\"butt\" stroke-linejoin=\"miter\">\n</g>\n<g fill=\"none\" color=\"black\" stroke=\"currentColor\" stroke-width=\"2.00\" stroke-linecap=\"butt\" stroke-linejoin=\"miter\">\n</g>\n<g fill=\"none\" color=\"black\" stroke=\"black\" stroke-width=\"1.00\" stroke-linecap=\"butt\" stroke-linejoin=\"miter\">\n</g>\n<g fill=\"none\" color=\"black\" stroke=\"currentColor\" stroke-width=\"1.00\" stroke-linecap=\"butt\" stroke-linejoin=\"miter\">\n\t<path stroke='black'  d='M37.3,54.1 L37.3,348.0 L615.0,348.0 L615.0,54.1 L37.3,54.1 Z  '/></g>\n<g fill=\"none\" color=\"black\" stroke=\"currentColor\" stroke-width=\"1.00\" stroke-linecap=\"butt\" stroke-linejoin=\"miter\">\n</g>\n</g>\n</svg>\n\n"
               },
               "type": "node"
              }
             ],
             "instanceArgs": {
              "namespace": "html",
              "tag": "div"
             },
             "nodeType": "DOM",
             "props": {
              "className": "interact-flex-row interact-widget"
             },
             "type": "node"
            }
           }
          },
          "systemjs_options": null
         },
         "nodeType": "Scope",
         "props": {},
         "type": "node"
        }
       ],
       "instanceArgs": {
        "namespace": "html",
        "tag": "div"
       },
       "nodeType": "DOM",
       "props": {},
       "type": "node"
      },
      "text/html": [
       "<div\n",
       "    class=\"webio-mountpoint\"\n",
       "    data-webio-mountpoint=\"2565572724652532785\"\n",
       ">\n",
       "    <script>\n",
       "    if (window.require && require.defined && require.defined(\"nbextensions/webio-jupyter-notebook\")) {\n",
       "        console.log(\"Jupyter WebIO extension detected, not mounting.\");\n",
       "    } else if (window.WebIO) {\n",
       "        WebIO.mount(\n",
       "            document.querySelector('[data-webio-mountpoint=\"2565572724652532785\"]'),\n",
       "            {\"props\":{},\"nodeType\":\"DOM\",\"type\":\"node\",\"instanceArgs\":{\"namespace\":\"html\",\"tag\":\"div\"},\"children\":[{\"props\":{\"className\":\"field interact-widget\"},\"nodeType\":\"DOM\",\"type\":\"node\",\"instanceArgs\":{\"namespace\":\"html\",\"tag\":\"div\"},\"children\":[{\"props\":{},\"nodeType\":\"Scope\",\"type\":\"node\",\"instanceArgs\":{\"imports\":{\"data\":[{\"name\":\"knockout\",\"type\":\"js\",\"url\":\"\\/assetserver\\/5bbdbbb0b09c5b1b887ee10da5f86cd1febbf135-knockout.js\"},{\"name\":\"knockout_punches\",\"type\":\"js\",\"url\":\"\\/assetserver\\/15065e2dd05fe2b7d23387469481615adcbf22a9-knockout_punches.js\"},{\"name\":null,\"type\":\"js\",\"url\":\"\\/assetserver\\/f8e1899f8867ff0491f4fc4ae1bbd02e4edbfd5f-all.js\"},{\"name\":null,\"type\":\"css\",\"url\":\"\\/assetserver\\/fa25a5d76d95d7d0412e3df66bb14418405899f6-style.css\"},{\"name\":null,\"type\":\"css\",\"url\":\"\\/assetserver\\/2e96df717df741d8a01b6c1c62121c67b6599ff5-bulma_confined.min.css\"}],\"type\":\"async_block\"},\"id\":\"15268149055875444646\",\"handlers\":{\"changes\":[\"(function (val){return (val!=this.model[\\\"changes\\\"]()) ? (this.valueFromJulia[\\\"changes\\\"]=true, this.model[\\\"changes\\\"](val)) : undefined})\"],\"index\":[\"(function (val){return (val!=this.model[\\\"index\\\"]()) ? (this.valueFromJulia[\\\"index\\\"]=true, this.model[\\\"index\\\"](val)) : undefined})\"]},\"systemjs_options\":null,\"mount_callbacks\":[\"function () {\\n    var handler = (function (ko, koPunches) {\\n    ko.punches.enableAll();\\n    ko.bindingHandlers.numericValue = {\\n        init: function(element, valueAccessor, allBindings, data, context) {\\n            var stringified = ko.observable(ko.unwrap(valueAccessor()));\\n            stringified.subscribe(function(value) {\\n                var val = parseFloat(value);\\n                if (!isNaN(val)) {\\n                    valueAccessor()(val);\\n                }\\n            });\\n            valueAccessor().subscribe(function(value) {\\n                var str = JSON.stringify(value);\\n                if ((str == \\\"0\\\") && ([\\\"-0\\\", \\\"-0.\\\"].indexOf(stringified()) >= 0))\\n                     return;\\n                 if ([\\\"null\\\", \\\"\\\"].indexOf(str) >= 0)\\n                     return;\\n                stringified(str);\\n            });\\n            ko.applyBindingsToNode(\\n                element,\\n                {\\n                    value: stringified,\\n                    valueUpdate: allBindings.get('valueUpdate'),\\n                },\\n                context,\\n            );\\n        }\\n    };\\n    var json_data = {\\\"formatted_vals\\\":[\\\"-1.0\\\",\\\"-0.9\\\",\\\"-0.8\\\",\\\"-0.7\\\",\\\"-0.6\\\",\\\"-0.5\\\",\\\"-0.4\\\",\\\"-0.3\\\",\\\"-0.2\\\",\\\"-0.1\\\",\\\"0.0\\\",\\\"0.1\\\",\\\"0.2\\\",\\\"0.3\\\",\\\"0.4\\\",\\\"0.5\\\",\\\"0.6\\\",\\\"0.7\\\",\\\"0.8\\\",\\\"0.9\\\",\\\"1.0\\\",\\\"1.1\\\",\\\"1.2\\\",\\\"1.3\\\",\\\"1.4\\\",\\\"1.5\\\",\\\"1.6\\\",\\\"1.7\\\",\\\"1.8\\\",\\\"1.9\\\",\\\"2.0\\\",\\\"2.1\\\",\\\"2.2\\\",\\\"2.3\\\",\\\"2.4\\\",\\\"2.5\\\",\\\"2.6\\\",\\\"2.7\\\",\\\"2.8\\\",\\\"2.9\\\",\\\"3.0\\\",\\\"3.1\\\",\\\"3.2\\\",\\\"3.3\\\",\\\"3.4\\\",\\\"3.5\\\",\\\"3.6\\\",\\\"3.7\\\",\\\"3.8\\\",\\\"3.9\\\",\\\"4.0\\\",\\\"4.1\\\",\\\"4.2\\\",\\\"4.3\\\",\\\"4.4\\\",\\\"4.5\\\",\\\"4.6\\\",\\\"4.7\\\",\\\"4.8\\\",\\\"4.9\\\",\\\"5.0\\\"],\\\"changes\\\":WebIO.getval({\\\"name\\\":\\\"changes\\\",\\\"scope\\\":\\\"15268149055875444646\\\",\\\"id\\\":\\\"ob_24\\\",\\\"type\\\":\\\"observable\\\"}),\\\"index\\\":WebIO.getval({\\\"name\\\":\\\"index\\\",\\\"scope\\\":\\\"15268149055875444646\\\",\\\"id\\\":\\\"ob_23\\\",\\\"type\\\":\\\"observable\\\"})};\\n    var self = this;\\n    function AppViewModel() {\\n        for (var key in json_data) {\\n            var el = json_data[key];\\n            this[key] = Array.isArray(el) ? ko.observableArray(el) : ko.observable(el);\\n        }\\n        \\n        [this[\\\"formatted_val\\\"]=ko.computed(    function(){\\n        return this.formatted_vals()[parseInt(this.index())-(1)];\\n    }\\n,this)]\\n        [this[\\\"changes\\\"].subscribe((function (val){!(this.valueFromJulia[\\\"changes\\\"]) ? (WebIO.setval({\\\"name\\\":\\\"changes\\\",\\\"scope\\\":\\\"15268149055875444646\\\",\\\"id\\\":\\\"ob_24\\\",\\\"type\\\":\\\"observable\\\"},val)) : undefined; return this.valueFromJulia[\\\"changes\\\"]=false}),self),this[\\\"index\\\"].subscribe((function (val){!(this.valueFromJulia[\\\"index\\\"]) ? (WebIO.setval({\\\"name\\\":\\\"index\\\",\\\"scope\\\":\\\"15268149055875444646\\\",\\\"id\\\":\\\"ob_23\\\",\\\"type\\\":\\\"observable\\\"},val)) : undefined; return this.valueFromJulia[\\\"index\\\"]=false}),self)]\\n        \\n    }\\n    self.model = new AppViewModel();\\n    self.valueFromJulia = {};\\n    for (var key in json_data) {\\n        self.valueFromJulia[key] = false;\\n    }\\n    ko.applyBindings(self.model, self.dom);\\n}\\n);\\n    (WebIO.importBlock({\\\"data\\\":[{\\\"name\\\":\\\"knockout\\\",\\\"type\\\":\\\"js\\\",\\\"url\\\":\\\"\\/assetserver\\/5bbdbbb0b09c5b1b887ee10da5f86cd1febbf135-knockout.js\\\"},{\\\"name\\\":\\\"knockout_punches\\\",\\\"type\\\":\\\"js\\\",\\\"url\\\":\\\"\\/assetserver\\/15065e2dd05fe2b7d23387469481615adcbf22a9-knockout_punches.js\\\"}],\\\"type\\\":\\\"async_block\\\"})).then((imports) => handler.apply(this, imports));\\n}\\n\"],\"observables\":{\"changes\":{\"sync\":false,\"id\":\"ob_24\",\"value\":0},\"index\":{\"sync\":true,\"id\":\"ob_23\",\"value\":31}}},\"children\":[{\"props\":{\"className\":\"interact-flex-row interact-widget\"},\"nodeType\":\"DOM\",\"type\":\"node\",\"instanceArgs\":{\"namespace\":\"html\",\"tag\":\"div\"},\"children\":[{\"props\":{\"className\":\"interact-flex-row-left\"},\"nodeType\":\"DOM\",\"type\":\"node\",\"instanceArgs\":{\"namespace\":\"html\",\"tag\":\"div\"},\"children\":[{\"props\":{\"className\":\"interact \",\"style\":{\"padding\":\"5px 10px 0px 10px\"}},\"nodeType\":\"DOM\",\"type\":\"node\",\"instanceArgs\":{\"namespace\":\"html\",\"tag\":\"label\"},\"children\":[\"delay\"]}]},{\"props\":{\"className\":\"interact-flex-row-center\"},\"nodeType\":\"DOM\",\"type\":\"node\",\"instanceArgs\":{\"namespace\":\"html\",\"tag\":\"div\"},\"children\":[{\"props\":{\"max\":61,\"min\":1,\"attributes\":{\"type\":\"range\",\"data-bind\":\"numericValue: index, valueUpdate: 'input', event: {change: function (){this.changes(this.changes()+1)}}\",\"orient\":\"horizontal\"},\"step\":1,\"className\":\"slider slider is-fullwidth\",\"style\":{}},\"nodeType\":\"DOM\",\"type\":\"node\",\"instanceArgs\":{\"namespace\":\"html\",\"tag\":\"input\"},\"children\":[]}]},{\"props\":{\"className\":\"interact-flex-row-right\"},\"nodeType\":\"DOM\",\"type\":\"node\",\"instanceArgs\":{\"namespace\":\"html\",\"tag\":\"div\"},\"children\":[{\"props\":{\"attributes\":{\"data-bind\":\"text: formatted_val\"}},\"nodeType\":\"DOM\",\"type\":\"node\",\"instanceArgs\":{\"namespace\":\"html\",\"tag\":\"p\"},\"children\":[]}]}]}]}]},{\"props\":{\"className\":\"field interact-widget\"},\"nodeType\":\"DOM\",\"type\":\"node\",\"instanceArgs\":{\"namespace\":\"html\",\"tag\":\"div\"},\"children\":[{\"props\":{},\"nodeType\":\"Scope\",\"type\":\"node\",\"instanceArgs\":{\"imports\":{\"data\":[{\"name\":\"knockout\",\"type\":\"js\",\"url\":\"\\/assetserver\\/5bbdbbb0b09c5b1b887ee10da5f86cd1febbf135-knockout.js\"},{\"name\":\"knockout_punches\",\"type\":\"js\",\"url\":\"\\/assetserver\\/15065e2dd05fe2b7d23387469481615adcbf22a9-knockout_punches.js\"},{\"name\":null,\"type\":\"js\",\"url\":\"\\/assetserver\\/f8e1899f8867ff0491f4fc4ae1bbd02e4edbfd5f-all.js\"},{\"name\":null,\"type\":\"css\",\"url\":\"\\/assetserver\\/fa25a5d76d95d7d0412e3df66bb14418405899f6-style.css\"},{\"name\":null,\"type\":\"css\",\"url\":\"\\/assetserver\\/2e96df717df741d8a01b6c1c62121c67b6599ff5-bulma_confined.min.css\"}],\"type\":\"async_block\"},\"id\":\"5110547382442089181\",\"handlers\":{\"changes\":[\"(function (val){return (val!=this.model[\\\"changes\\\"]()) ? (this.valueFromJulia[\\\"changes\\\"]=true, this.model[\\\"changes\\\"](val)) : undefined})\"],\"index\":[\"(function (val){return (val!=this.model[\\\"index\\\"]()) ? (this.valueFromJulia[\\\"index\\\"]=true, this.model[\\\"index\\\"](val)) : undefined})\"]},\"systemjs_options\":null,\"mount_callbacks\":[\"function () {\\n    var handler = (function (ko, koPunches) {\\n    ko.punches.enableAll();\\n    ko.bindingHandlers.numericValue = {\\n        init: function(element, valueAccessor, allBindings, data, context) {\\n            var stringified = ko.observable(ko.unwrap(valueAccessor()));\\n            stringified.subscribe(function(value) {\\n                var val = parseFloat(value);\\n                if (!isNaN(val)) {\\n                    valueAccessor()(val);\\n                }\\n            });\\n            valueAccessor().subscribe(function(value) {\\n                var str = JSON.stringify(value);\\n                if ((str == \\\"0\\\") && ([\\\"-0\\\", \\\"-0.\\\"].indexOf(stringified()) >= 0))\\n                     return;\\n                 if ([\\\"null\\\", \\\"\\\"].indexOf(str) >= 0)\\n                     return;\\n                stringified(str);\\n            });\\n            ko.applyBindingsToNode(\\n                element,\\n                {\\n                    value: stringified,\\n                    valueUpdate: allBindings.get('valueUpdate'),\\n                },\\n                context,\\n            );\\n        }\\n    };\\n    var json_data = {\\\"formatted_vals\\\":[\\\"0.0\\\",\\\"0.1\\\",\\\"0.2\\\",\\\"0.3\\\",\\\"0.4\\\",\\\"0.5\\\",\\\"0.6\\\",\\\"0.7\\\",\\\"0.8\\\",\\\"0.9\\\",\\\"1.0\\\",\\\"1.1\\\",\\\"1.2\\\",\\\"1.3\\\",\\\"1.4\\\",\\\"1.5\\\",\\\"1.6\\\",\\\"1.7\\\",\\\"1.8\\\",\\\"1.9\\\",\\\"2.0\\\",\\\"2.1\\\",\\\"2.2\\\",\\\"2.3\\\",\\\"2.4\\\",\\\"2.5\\\",\\\"2.6\\\",\\\"2.7\\\",\\\"2.8\\\",\\\"2.9\\\",\\\"3.0\\\"],\\\"changes\\\":WebIO.getval({\\\"name\\\":\\\"changes\\\",\\\"scope\\\":\\\"5110547382442089181\\\",\\\"id\\\":\\\"ob_27\\\",\\\"type\\\":\\\"observable\\\"}),\\\"index\\\":WebIO.getval({\\\"name\\\":\\\"index\\\",\\\"scope\\\":\\\"5110547382442089181\\\",\\\"id\\\":\\\"ob_26\\\",\\\"type\\\":\\\"observable\\\"})};\\n    var self = this;\\n    function AppViewModel() {\\n        for (var key in json_data) {\\n            var el = json_data[key];\\n            this[key] = Array.isArray(el) ? ko.observableArray(el) : ko.observable(el);\\n        }\\n        \\n        [this[\\\"formatted_val\\\"]=ko.computed(    function(){\\n        return this.formatted_vals()[parseInt(this.index())-(1)];\\n    }\\n,this)]\\n        [this[\\\"changes\\\"].subscribe((function (val){!(this.valueFromJulia[\\\"changes\\\"]) ? (WebIO.setval({\\\"name\\\":\\\"changes\\\",\\\"scope\\\":\\\"5110547382442089181\\\",\\\"id\\\":\\\"ob_27\\\",\\\"type\\\":\\\"observable\\\"},val)) : undefined; return this.valueFromJulia[\\\"changes\\\"]=false}),self),this[\\\"index\\\"].subscribe((function (val){!(this.valueFromJulia[\\\"index\\\"]) ? (WebIO.setval({\\\"name\\\":\\\"index\\\",\\\"scope\\\":\\\"5110547382442089181\\\",\\\"id\\\":\\\"ob_26\\\",\\\"type\\\":\\\"observable\\\"},val)) : undefined; return this.valueFromJulia[\\\"index\\\"]=false}),self)]\\n        \\n    }\\n    self.model = new AppViewModel();\\n    self.valueFromJulia = {};\\n    for (var key in json_data) {\\n        self.valueFromJulia[key] = false;\\n    }\\n    ko.applyBindings(self.model, self.dom);\\n}\\n);\\n    (WebIO.importBlock({\\\"data\\\":[{\\\"name\\\":\\\"knockout\\\",\\\"type\\\":\\\"js\\\",\\\"url\\\":\\\"\\/assetserver\\/5bbdbbb0b09c5b1b887ee10da5f86cd1febbf135-knockout.js\\\"},{\\\"name\\\":\\\"knockout_punches\\\",\\\"type\\\":\\\"js\\\",\\\"url\\\":\\\"\\/assetserver\\/15065e2dd05fe2b7d23387469481615adcbf22a9-knockout_punches.js\\\"}],\\\"type\\\":\\\"async_block\\\"})).then((imports) => handler.apply(this, imports));\\n}\\n\"],\"observables\":{\"changes\":{\"sync\":false,\"id\":\"ob_27\",\"value\":0},\"index\":{\"sync\":true,\"id\":\"ob_26\",\"value\":16}}},\"children\":[{\"props\":{\"className\":\"interact-flex-row interact-widget\"},\"nodeType\":\"DOM\",\"type\":\"node\",\"instanceArgs\":{\"namespace\":\"html\",\"tag\":\"div\"},\"children\":[{\"props\":{\"className\":\"interact-flex-row-left\"},\"nodeType\":\"DOM\",\"type\":\"node\",\"instanceArgs\":{\"namespace\":\"html\",\"tag\":\"div\"},\"children\":[{\"props\":{\"className\":\"interact \",\"style\":{\"padding\":\"5px 10px 0px 10px\"}},\"nodeType\":\"DOM\",\"type\":\"node\",\"instanceArgs\":{\"namespace\":\"html\",\"tag\":\"label\"},\"children\":[\"noise\"]}]},{\"props\":{\"className\":\"interact-flex-row-center\"},\"nodeType\":\"DOM\",\"type\":\"node\",\"instanceArgs\":{\"namespace\":\"html\",\"tag\":\"div\"},\"children\":[{\"props\":{\"max\":31,\"min\":1,\"attributes\":{\"type\":\"range\",\"data-bind\":\"numericValue: index, valueUpdate: 'input', event: {change: function (){this.changes(this.changes()+1)}}\",\"orient\":\"horizontal\"},\"step\":1,\"className\":\"slider slider is-fullwidth\",\"style\":{}},\"nodeType\":\"DOM\",\"type\":\"node\",\"instanceArgs\":{\"namespace\":\"html\",\"tag\":\"input\"},\"children\":[]}]},{\"props\":{\"className\":\"interact-flex-row-right\"},\"nodeType\":\"DOM\",\"type\":\"node\",\"instanceArgs\":{\"namespace\":\"html\",\"tag\":\"div\"},\"children\":[{\"props\":{\"attributes\":{\"data-bind\":\"text: formatted_val\"}},\"nodeType\":\"DOM\",\"type\":\"node\",\"instanceArgs\":{\"namespace\":\"html\",\"tag\":\"p\"},\"children\":[]}]}]}]}]},{\"props\":{},\"nodeType\":\"Scope\",\"type\":\"node\",\"instanceArgs\":{\"imports\":{\"data\":[],\"type\":\"async_block\"},\"id\":\"10897509719027138259\",\"handlers\":{},\"systemjs_options\":null,\"mount_callbacks\":[],\"observables\":{\"obs-node\":{\"sync\":false,\"id\":\"ob_31\",\"value\":{\"props\":{\"className\":\"interact-flex-row interact-widget\"},\"nodeType\":\"DOM\",\"type\":\"node\",\"instanceArgs\":{\"namespace\":\"html\",\"tag\":\"div\"},\"children\":[{\"props\":{\"setInnerHtml\":\"<?xml version=\\\"1.0\\\" encoding=\\\"utf-8\\\"  standalone=\\\"no\\\"?>\\n<svg \\n width=\\\"640\\\" height=\\\"384\\\"\\n viewBox=\\\"0 0 640 384\\\"\\n xmlns=\\\"http:\\/\\/www.w3.org\\/2000\\/svg\\\"\\n xmlns:xlink=\\\"http:\\/\\/www.w3.org\\/1999\\/xlink\\\"\\n>\\n\\n<title>Gnuplot<\\/title>\\n<desc>Produced by GNUPLOT 5.2 patchlevel 8 <\\/desc>\\n\\n<g id=\\\"gnuplot_canvas\\\">\\n\\n<rect x=\\\"0\\\" y=\\\"0\\\" width=\\\"640\\\" height=\\\"384\\\" fill=\\\"#ffffff\\\"\\/>\\n<defs>\\n\\n\\t<circle id='gpDot' r='0.5' stroke-width='0.5' stroke='currentColor'\\/>\\n\\t<path id='gpPt0' stroke-width='0.222' stroke='currentColor' d='M-1,0 h2 M0,-1 v2'\\/>\\n\\t<path id='gpPt1' stroke-width='0.222' stroke='currentColor' d='M-1,-1 L1,1 M1,-1 L-1,1'\\/>\\n\\t<path id='gpPt2' stroke-width='0.222' stroke='currentColor' d='M-1,0 L1,0 M0,-1 L0,1 M-1,-1 L1,1 M-1,1 L1,-1'\\/>\\n\\t<rect id='gpPt3' stroke-width='0.222' stroke='currentColor' x='-1' y='-1' width='2' height='2'\\/>\\n\\t<rect id='gpPt4' stroke-width='0.222' stroke='currentColor' fill='currentColor' x='-1' y='-1' width='2' height='2'\\/>\\n\\t<circle id='gpPt5' stroke-width='0.222' stroke='currentColor' cx='0' cy='0' r='1'\\/>\\n\\t<use xlink:href='#gpPt5' id='gpPt6' fill='currentColor' stroke='none'\\/>\\n\\t<path id='gpPt7' stroke-width='0.222' stroke='currentColor' d='M0,-1.33 L-1.33,0.67 L1.33,0.67 z'\\/>\\n\\t<use xlink:href='#gpPt7' id='gpPt8' fill='currentColor' stroke='none'\\/>\\n\\t<use xlink:href='#gpPt7' id='gpPt9' stroke='currentColor' transform='rotate(180)'\\/>\\n\\t<use xlink:href='#gpPt9' id='gpPt10' fill='currentColor' stroke='none'\\/>\\n\\t<use xlink:href='#gpPt3' id='gpPt11' stroke='currentColor' transform='rotate(45)'\\/>\\n\\t<use xlink:href='#gpPt11' id='gpPt12' fill='currentColor' stroke='none'\\/>\\n\\t<path id='gpPt13' stroke-width='0.222' stroke='currentColor' d='M0,1.330 L1.265,0.411 L0.782,-1.067 L-0.782,-1.076 L-1.265,0.411 z'\\/>\\n\\t<use xlink:href='#gpPt13' id='gpPt14' fill='currentColor' stroke='none'\\/>\\n\\t<filter id='textbox' filterUnits='objectBoundingBox' x='0' y='0' height='1' width='1'>\\n\\t  <feFlood flood-color='#FFFFFF' flood-opacity='1' result='bgnd'\\/>\\n\\t  <feComposite in='SourceGraphic' in2='bgnd' operator='atop'\\/>\\n\\t<\\/filter>\\n\\t<filter id='greybox' filterUnits='objectBoundingBox' x='0' y='0' height='1' width='1'>\\n\\t  <feFlood flood-color='lightgrey' flood-opacity='1' result='grey'\\/>\\n\\t  <feComposite in='SourceGraphic' in2='grey' operator='atop'\\/>\\n\\t<\\/filter>\\n<\\/defs>\\n<g fill=\\\"none\\\" color=\\\"#FFFFFF\\\" stroke=\\\"black\\\" stroke-width=\\\"1.00\\\" stroke-linecap=\\\"butt\\\" stroke-linejoin=\\\"miter\\\">\\n<\\/g>\\n<g fill=\\\"none\\\" color=\\\"black\\\" stroke=\\\"currentColor\\\" stroke-width=\\\"1.00\\\" stroke-linecap=\\\"butt\\\" stroke-linejoin=\\\"miter\\\">\\n\\t<path stroke='black'  d='M37.3,334.6 L46.3,334.6 M615.0,334.6 L606.0,334.6  '\\/>\\t<g transform=\\\"translate(29.0,338.5)\\\" stroke=\\\"none\\\" fill=\\\"black\\\" font-family=\\\"Arial\\\" font-size=\\\"12.00\\\"  text-anchor=\\\"end\\\">\\n\\t\\t<text><tspan font-family=\\\"Arial\\\" >-4<\\/tspan><\\/text>\\n\\t<\\/g>\\n<\\/g>\\n<g fill=\\\"none\\\" color=\\\"black\\\" stroke=\\\"currentColor\\\" stroke-width=\\\"1.00\\\" stroke-linecap=\\\"butt\\\" stroke-linejoin=\\\"miter\\\">\\n\\t<path stroke='black'  d='M37.3,301.2 L46.3,301.2 M615.0,301.2 L606.0,301.2  '\\/>\\t<g transform=\\\"translate(29.0,305.1)\\\" stroke=\\\"none\\\" fill=\\\"black\\\" font-family=\\\"Arial\\\" font-size=\\\"12.00\\\"  text-anchor=\\\"end\\\">\\n\\t\\t<text><tspan font-family=\\\"Arial\\\" >-3<\\/tspan><\\/text>\\n\\t<\\/g>\\n<\\/g>\\n<g fill=\\\"none\\\" color=\\\"black\\\" stroke=\\\"currentColor\\\" stroke-width=\\\"1.00\\\" stroke-linecap=\\\"butt\\\" stroke-linejoin=\\\"miter\\\">\\n\\t<path stroke='black'  d='M37.3,267.8 L46.3,267.8 M615.0,267.8 L606.0,267.8  '\\/>\\t<g transform=\\\"translate(29.0,271.7)\\\" stroke=\\\"none\\\" fill=\\\"black\\\" font-family=\\\"Arial\\\" font-size=\\\"12.00\\\"  text-anchor=\\\"end\\\">\\n\\t\\t<text><tspan font-family=\\\"Arial\\\" >-2<\\/tspan><\\/text>\\n\\t<\\/g>\\n<\\/g>\\n<g fill=\\\"none\\\" color=\\\"black\\\" stroke=\\\"currentColor\\\" stroke-width=\\\"1.00\\\" stroke-linecap=\\\"butt\\\" stroke-linejoin=\\\"miter\\\">\\n\\t<path stroke='black'  d='M37.3,234.4 L46.3,234.4 M615.0,234.4 L606.0,234.4  '\\/>\\t<g transform=\\\"translate(29.0,238.3)\\\" stroke=\\\"none\\\" fill=\\\"black\\\" font-family=\\\"Arial\\\" font-size=\\\"12.00\\\"  text-anchor=\\\"end\\\">\\n\\t\\t<text><tspan font-family=\\\"Arial\\\" >-1<\\/tspan><\\/text>\\n\\t<\\/g>\\n<\\/g>\\n<g fill=\\\"none\\\" color=\\\"black\\\" stroke=\\\"currentColor\\\" stroke-width=\\\"1.00\\\" stroke-linecap=\\\"butt\\\" stroke-linejoin=\\\"miter\\\">\\n\\t<path stroke='black'  d='M37.3,201.0 L46.3,201.0 M615.0,201.0 L606.0,201.0  '\\/>\\t<g transform=\\\"translate(29.0,204.9)\\\" stroke=\\\"none\\\" fill=\\\"black\\\" font-family=\\\"Arial\\\" font-size=\\\"12.00\\\"  text-anchor=\\\"end\\\">\\n\\t\\t<text><tspan font-family=\\\"Arial\\\" > 0<\\/tspan><\\/text>\\n\\t<\\/g>\\n<\\/g>\\n<g fill=\\\"none\\\" color=\\\"black\\\" stroke=\\\"currentColor\\\" stroke-width=\\\"1.00\\\" stroke-linecap=\\\"butt\\\" stroke-linejoin=\\\"miter\\\">\\n\\t<path stroke='black'  d='M37.3,167.7 L46.3,167.7 M615.0,167.7 L606.0,167.7  '\\/>\\t<g transform=\\\"translate(29.0,171.6)\\\" stroke=\\\"none\\\" fill=\\\"black\\\" font-family=\\\"Arial\\\" font-size=\\\"12.00\\\"  text-anchor=\\\"end\\\">\\n\\t\\t<text><tspan font-family=\\\"Arial\\\" > 1<\\/tspan><\\/text>\\n\\t<\\/g>\\n<\\/g>\\n<g fill=\\\"none\\\" color=\\\"black\\\" stroke=\\\"currentColor\\\" stroke-width=\\\"1.00\\\" stroke-linecap=\\\"butt\\\" stroke-linejoin=\\\"miter\\\">\\n\\t<path stroke='black'  d='M37.3,134.3 L46.3,134.3 M615.0,134.3 L606.0,134.3  '\\/>\\t<g transform=\\\"translate(29.0,138.2)\\\" stroke=\\\"none\\\" fill=\\\"black\\\" font-family=\\\"Arial\\\" font-size=\\\"12.00\\\"  text-anchor=\\\"end\\\">\\n\\t\\t<text><tspan font-family=\\\"Arial\\\" > 2<\\/tspan><\\/text>\\n\\t<\\/g>\\n<\\/g>\\n<g fill=\\\"none\\\" color=\\\"black\\\" stroke=\\\"currentColor\\\" stroke-width=\\\"1.00\\\" stroke-linecap=\\\"butt\\\" stroke-linejoin=\\\"miter\\\">\\n\\t<path stroke='black'  d='M37.3,100.9 L46.3,100.9 M615.0,100.9 L606.0,100.9  '\\/>\\t<g transform=\\\"translate(29.0,104.8)\\\" stroke=\\\"none\\\" fill=\\\"black\\\" font-family=\\\"Arial\\\" font-size=\\\"12.00\\\"  text-anchor=\\\"end\\\">\\n\\t\\t<text><tspan font-family=\\\"Arial\\\" > 3<\\/tspan><\\/text>\\n\\t<\\/g>\\n<\\/g>\\n<g fill=\\\"none\\\" color=\\\"black\\\" stroke=\\\"currentColor\\\" stroke-width=\\\"1.00\\\" stroke-linecap=\\\"butt\\\" stroke-linejoin=\\\"miter\\\">\\n\\t<path stroke='black'  d='M37.3,67.5 L46.3,67.5 M615.0,67.5 L606.0,67.5  '\\/>\\t<g transform=\\\"translate(29.0,71.4)\\\" stroke=\\\"none\\\" fill=\\\"black\\\" font-family=\\\"Arial\\\" font-size=\\\"12.00\\\"  text-anchor=\\\"end\\\">\\n\\t\\t<text><tspan font-family=\\\"Arial\\\" > 4<\\/tspan><\\/text>\\n\\t<\\/g>\\n<\\/g>\\n<g fill=\\\"none\\\" color=\\\"black\\\" stroke=\\\"currentColor\\\" stroke-width=\\\"1.00\\\" stroke-linecap=\\\"butt\\\" stroke-linejoin=\\\"miter\\\">\\n\\t<path stroke='black'  d='M76.1,348.0 L76.1,339.0 M76.1,54.1 L76.1,63.1  '\\/>\\t<g transform=\\\"translate(76.1,369.9)\\\" stroke=\\\"none\\\" fill=\\\"black\\\" font-family=\\\"Arial\\\" font-size=\\\"12.00\\\"  text-anchor=\\\"middle\\\">\\n\\t\\t<text><tspan font-family=\\\"Arial\\\" > 0<\\/tspan><\\/text>\\n\\t<\\/g>\\n<\\/g>\\n<g fill=\\\"none\\\" color=\\\"black\\\" stroke=\\\"currentColor\\\" stroke-width=\\\"1.00\\\" stroke-linecap=\\\"butt\\\" stroke-linejoin=\\\"miter\\\">\\n\\t<path stroke='black'  d='M138.6,348.0 L138.6,339.0 M138.6,54.1 L138.6,63.1  '\\/>\\t<g transform=\\\"translate(138.6,369.9)\\\" stroke=\\\"none\\\" fill=\\\"black\\\" font-family=\\\"Arial\\\" font-size=\\\"12.00\\\"  text-anchor=\\\"middle\\\">\\n\\t\\t<text><tspan font-family=\\\"Arial\\\" > 0.5<\\/tspan><\\/text>\\n\\t<\\/g>\\n<\\/g>\\n<g fill=\\\"none\\\" color=\\\"black\\\" stroke=\\\"currentColor\\\" stroke-width=\\\"1.00\\\" stroke-linecap=\\\"butt\\\" stroke-linejoin=\\\"miter\\\">\\n\\t<path stroke='black'  d='M201.1,348.0 L201.1,339.0 M201.1,54.1 L201.1,63.1  '\\/>\\t<g transform=\\\"translate(201.1,369.9)\\\" stroke=\\\"none\\\" fill=\\\"black\\\" font-family=\\\"Arial\\\" font-size=\\\"12.00\\\"  text-anchor=\\\"middle\\\">\\n\\t\\t<text><tspan font-family=\\\"Arial\\\" > 1<\\/tspan><\\/text>\\n\\t<\\/g>\\n<\\/g>\\n<g fill=\\\"none\\\" color=\\\"black\\\" stroke=\\\"currentColor\\\" stroke-width=\\\"1.00\\\" stroke-linecap=\\\"butt\\\" stroke-linejoin=\\\"miter\\\">\\n\\t<path stroke='black'  d='M263.6,348.0 L263.6,339.0 M263.6,54.1 L263.6,63.1  '\\/>\\t<g transform=\\\"translate(263.6,369.9)\\\" stroke=\\\"none\\\" fill=\\\"black\\\" font-family=\\\"Arial\\\" font-size=\\\"12.00\\\"  text-anchor=\\\"middle\\\">\\n\\t\\t<text><tspan font-family=\\\"Arial\\\" > 1.5<\\/tspan><\\/text>\\n\\t<\\/g>\\n<\\/g>\\n<g fill=\\\"none\\\" color=\\\"black\\\" stroke=\\\"currentColor\\\" stroke-width=\\\"1.00\\\" stroke-linecap=\\\"butt\\\" stroke-linejoin=\\\"miter\\\">\\n\\t<path stroke='black'  d='M326.2,348.0 L326.2,339.0 M326.2,54.1 L326.2,63.1  '\\/>\\t<g transform=\\\"translate(326.2,369.9)\\\" stroke=\\\"none\\\" fill=\\\"black\\\" font-family=\\\"Arial\\\" font-size=\\\"12.00\\\"  text-anchor=\\\"middle\\\">\\n\\t\\t<text><tspan font-family=\\\"Arial\\\" > 2<\\/tspan><\\/text>\\n\\t<\\/g>\\n<\\/g>\\n<g fill=\\\"none\\\" color=\\\"black\\\" stroke=\\\"currentColor\\\" stroke-width=\\\"1.00\\\" stroke-linecap=\\\"butt\\\" stroke-linejoin=\\\"miter\\\">\\n\\t<path stroke='black'  d='M388.7,348.0 L388.7,339.0 M388.7,54.1 L388.7,63.1  '\\/>\\t<g transform=\\\"translate(388.7,369.9)\\\" stroke=\\\"none\\\" fill=\\\"black\\\" font-family=\\\"Arial\\\" font-size=\\\"12.00\\\"  text-anchor=\\\"middle\\\">\\n\\t\\t<text><tspan font-family=\\\"Arial\\\" > 2.5<\\/tspan><\\/text>\\n\\t<\\/g>\\n<\\/g>\\n<g fill=\\\"none\\\" color=\\\"black\\\" stroke=\\\"currentColor\\\" stroke-width=\\\"1.00\\\" stroke-linecap=\\\"butt\\\" stroke-linejoin=\\\"miter\\\">\\n\\t<path stroke='black'  d='M451.2,348.0 L451.2,339.0 M451.2,54.1 L451.2,63.1  '\\/>\\t<g transform=\\\"translate(451.2,369.9)\\\" stroke=\\\"none\\\" fill=\\\"black\\\" font-family=\\\"Arial\\\" font-size=\\\"12.00\\\"  text-anchor=\\\"middle\\\">\\n\\t\\t<text><tspan font-family=\\\"Arial\\\" > 3<\\/tspan><\\/text>\\n\\t<\\/g>\\n<\\/g>\\n<g fill=\\\"none\\\" color=\\\"black\\\" stroke=\\\"currentColor\\\" stroke-width=\\\"1.00\\\" stroke-linecap=\\\"butt\\\" stroke-linejoin=\\\"miter\\\">\\n\\t<path stroke='black'  d='M513.7,348.0 L513.7,339.0 M513.7,54.1 L513.7,63.1  '\\/>\\t<g transform=\\\"translate(513.7,369.9)\\\" stroke=\\\"none\\\" fill=\\\"black\\\" font-family=\\\"Arial\\\" font-size=\\\"12.00\\\"  text-anchor=\\\"middle\\\">\\n\\t\\t<text><tspan font-family=\\\"Arial\\\" > 3.5<\\/tspan><\\/text>\\n\\t<\\/g>\\n<\\/g>\\n<g fill=\\\"none\\\" color=\\\"black\\\" stroke=\\\"currentColor\\\" stroke-width=\\\"1.00\\\" stroke-linecap=\\\"butt\\\" stroke-linejoin=\\\"miter\\\">\\n\\t<path stroke='black'  d='M576.2,348.0 L576.2,339.0 M576.2,54.1 L576.2,63.1  '\\/>\\t<g transform=\\\"translate(576.2,369.9)\\\" stroke=\\\"none\\\" fill=\\\"black\\\" font-family=\\\"Arial\\\" font-size=\\\"12.00\\\"  text-anchor=\\\"middle\\\">\\n\\t\\t<text><tspan font-family=\\\"Arial\\\" > 4<\\/tspan><\\/text>\\n\\t<\\/g>\\n<\\/g>\\n<g fill=\\\"none\\\" color=\\\"black\\\" stroke=\\\"currentColor\\\" stroke-width=\\\"1.00\\\" stroke-linecap=\\\"butt\\\" stroke-linejoin=\\\"miter\\\">\\n<\\/g>\\n<g fill=\\\"none\\\" color=\\\"black\\\" stroke=\\\"currentColor\\\" stroke-width=\\\"1.00\\\" stroke-linecap=\\\"butt\\\" stroke-linejoin=\\\"miter\\\">\\n\\t<path stroke='black'  d='M37.3,54.1 L37.3,348.0 L615.0,348.0 L615.0,54.1 L37.3,54.1 Z  '\\/><\\/g>\\n<g fill=\\\"none\\\" color=\\\"black\\\" stroke=\\\"currentColor\\\" stroke-width=\\\"1.00\\\" stroke-linecap=\\\"butt\\\" stroke-linejoin=\\\"miter\\\">\\n\\t<g transform=\\\"translate(326.1,31.0)\\\" stroke=\\\"none\\\" fill=\\\"black\\\" font-family=\\\"Arial\\\" font-size=\\\"12.00\\\"  text-anchor=\\\"middle\\\">\\n\\t\\t<text><tspan font-family=\\\"Arial\\\" >Correlator output = -0.6046163923196948<\\/tspan><\\/text>\\n\\t<\\/g>\\n<\\/g>\\n<g fill=\\\"none\\\" color=\\\"black\\\" stroke=\\\"currentColor\\\" stroke-width=\\\"1.00\\\" stroke-linecap=\\\"butt\\\" stroke-linejoin=\\\"miter\\\">\\n<\\/g>\\n\\t<g id=\\\"gnuplot_plot_1\\\" ><title>gnuplot_plot_1<\\/title>\\n<g fill=\\\"none\\\" color=\\\"black\\\" stroke=\\\"currentColor\\\" stroke-width=\\\"1.00\\\" stroke-linecap=\\\"butt\\\" stroke-linejoin=\\\"miter\\\">\\n\\t<path stroke='rgb( 55,  60, 255)'  d='M63.6,201.0 L64.2,201.0 L64.8,201.0 L65.4,201.0 L66.1,201.0 L66.7,201.0 L67.3,201.0 L67.9,201.0\\n\\t\\tL68.6,201.0 L69.2,201.0 L69.8,201.0 L70.4,201.0 L71.1,201.0 L71.7,201.0 L72.3,201.0 L72.9,201.0\\n\\t\\tL73.6,201.0 L74.2,201.0 L74.8,201.0 L75.4,201.0 L76.1,201.0 L76.7,201.0 L77.3,201.0 L77.9,201.0\\n\\t\\tL78.6,201.0 L79.2,201.0 L79.8,201.0 L80.4,201.0 L81.1,201.0 L81.7,201.0 L82.3,201.0 L82.9,201.0\\n\\t\\tL83.6,201.0 L84.2,201.0 L84.8,201.0 L85.4,201.0 L86.1,201.0 L86.7,201.0 L87.3,201.0 L87.9,201.0\\n\\t\\tL88.6,201.0 L89.2,201.0 L89.8,201.0 L90.4,201.0 L91.1,201.0 L91.7,201.0 L92.3,201.0 L92.9,201.0\\n\\t\\tL93.6,201.0 L94.2,201.0 L94.8,201.0 L95.4,201.0 L96.1,201.0 L96.7,201.0 L97.3,201.0 L97.9,201.0\\n\\t\\tL98.6,201.0 L99.2,201.0 L99.8,201.0 L100.4,201.0 L101.1,201.0 L101.7,201.0 L102.3,201.0 L102.9,201.0\\n\\t\\tL103.6,201.0 L104.2,201.0 L104.8,201.0 L105.4,201.0 L106.1,201.0 L106.7,201.0 L107.3,201.0 L107.9,201.0\\n\\t\\tL108.6,201.0 L109.2,201.0 L109.8,201.0 L110.5,201.0 L111.1,201.0 L111.7,201.0 L112.3,201.0 L113.0,201.0\\n\\t\\tL113.6,201.0 L114.2,201.0 L114.8,201.0 L115.5,201.0 L116.1,201.0 L116.7,201.0 L117.3,201.0 L118.0,201.0\\n\\t\\tL118.6,201.0 L119.2,201.0 L119.8,201.0 L120.5,201.0 L121.1,201.0 L121.7,201.0 L122.3,201.0 L123.0,201.0\\n\\t\\tL123.6,201.0 L124.2,201.0 L124.8,201.0 L125.5,201.0 L126.1,201.0 L126.7,201.0 L127.3,201.0 L128.0,201.0\\n\\t\\tL128.6,201.0 L129.2,201.0 L129.8,201.0 L130.5,201.0 L131.1,201.0 L131.7,201.0 L132.3,201.0 L133.0,201.0\\n\\t\\tL133.6,201.0 L134.2,201.0 L134.8,201.0 L135.5,201.0 L136.1,201.0 L136.7,201.0 L137.3,201.0 L138.0,201.0\\n\\t\\tL138.6,201.0 L139.2,201.0 L139.8,201.0 L140.5,201.0 L141.1,201.0 L141.7,201.0 L142.3,201.0 L143.0,201.0\\n\\t\\tL143.6,201.0 L144.2,201.0 L144.8,201.0 L145.5,201.0 L146.1,201.0 L146.7,201.0 L147.3,201.0 L148.0,201.0\\n\\t\\tL148.6,201.0 L149.2,201.0 L149.8,201.0 L150.5,201.0 L151.1,201.0 L151.7,201.0 L152.3,201.0 L153.0,201.0\\n\\t\\tL153.6,201.0 L154.2,201.0 L154.8,201.0 L155.5,201.0 L156.1,201.0 L156.7,201.0 L157.3,201.0 L158.0,201.0\\n\\t\\tL158.6,201.0 L159.2,201.0 L159.8,201.0 L160.5,201.0 L161.1,201.0 L161.7,201.0 L162.3,201.0 L163.0,201.0\\n\\t\\tL163.6,201.0 L164.2,201.0 L164.8,201.0 L165.5,201.0 L166.1,201.0 L166.7,201.0 L167.3,201.0 L168.0,201.0\\n\\t\\tL168.6,201.0 L169.2,201.0 L169.8,201.0 L170.5,201.0 L171.1,201.0 L171.7,201.0 L172.3,201.0 L173.0,201.0\\n\\t\\tL173.6,201.0 L174.2,201.0 L174.8,201.0 L175.5,201.0 L176.1,201.0 L176.7,201.0 L177.3,201.0 L178.0,201.0\\n\\t\\tL178.6,201.0 L179.2,201.0 L179.8,201.0 L180.5,201.0 L181.1,201.0 L181.7,201.0 L182.4,201.0 L183.0,201.0\\n\\t\\tL183.6,201.0 L184.2,201.0 L184.9,201.0 L185.5,201.0 L186.1,201.0 L186.7,201.0 L187.4,201.0 L188.0,201.0\\n\\t\\tL188.6,201.0 L189.2,201.0 L189.9,201.0 L190.5,201.0 L191.1,201.0 L191.7,201.0 L192.4,201.0 L193.0,201.0\\n\\t\\tL193.6,201.0 L194.2,201.0 L194.9,201.0 L195.5,201.0 L196.1,201.0 L196.7,201.0 L197.4,201.0 L198.0,201.0\\n\\t\\tL198.6,201.0 L199.2,201.0 L199.9,201.0 L200.5,201.0 L201.1,201.0 L201.7,201.0 L202.4,201.0 L203.0,201.0\\n\\t\\tL203.6,201.0 L204.2,201.0 L204.9,201.0 L205.5,201.0 L206.1,201.0 L206.7,201.0 L207.4,201.0 L208.0,201.0\\n\\t\\tL208.6,201.0 L209.2,201.0 L209.9,201.0 L210.5,201.0 L211.1,201.0 L211.7,201.0 L212.4,201.0 L213.0,201.0\\n\\t\\tL213.6,201.0 L214.2,201.0 L214.9,201.0 L215.5,201.0 L216.1,201.0 L216.7,201.0 L217.4,201.0 L218.0,201.0\\n\\t\\tL218.6,201.0 L219.2,201.0 L219.9,201.0 L220.5,201.0 L221.1,201.0 L221.7,201.0 L222.4,201.0 L223.0,201.0\\n\\t\\tL223.6,201.0 L224.2,201.0 L224.9,201.0 L225.5,201.0 L226.1,201.0 L226.7,201.0 L227.4,201.0 L228.0,201.0\\n\\t\\tL228.6,201.0 L229.2,201.0 L229.9,201.0 L230.5,201.0 L231.1,201.0 L231.7,201.0 L232.4,201.0 L233.0,201.0\\n\\t\\tL233.6,201.0 L234.2,201.0 L234.9,201.0 L235.5,201.0 L236.1,201.0 L236.7,201.0 L237.4,201.0 L238.0,201.0\\n\\t\\tL238.6,201.0 L239.2,201.0 L239.9,201.0 L240.5,201.0 L241.1,201.0 L241.7,201.0 L242.4,201.0 L243.0,201.0\\n\\t\\tL243.6,201.0 L244.2,201.0 L244.9,201.0 L245.5,201.0 L246.1,201.0 L246.7,201.0 L247.4,201.0 L248.0,201.0\\n\\t\\tL248.6,201.0 L249.2,201.0 L249.9,201.0 L250.5,201.0 L251.1,201.0 L251.7,201.0 L252.4,201.0 L253.0,201.0\\n\\t\\tL253.6,201.0 L254.3,201.0 L254.9,201.0 L255.5,201.0 L256.1,201.0 L256.8,201.0 L257.4,201.0 L258.0,201.0\\n\\t\\tL258.6,201.0 L259.3,201.0 L259.9,201.0 L260.5,201.0 L261.1,201.0 L261.8,201.0 L262.4,201.0 L263.0,201.0\\n\\t\\tL263.6,201.0 L264.3,201.0 L264.9,201.0 L265.5,201.0 L266.1,201.0 L266.8,201.0 L267.4,201.0 L268.0,201.0\\n\\t\\tL268.6,201.0 L269.3,201.0 L269.9,201.0 L270.5,201.0 L271.1,201.0 L271.8,201.0 L272.4,201.0 L273.0,201.0\\n\\t\\tL273.6,201.0 L274.3,201.0 L274.9,201.0 L275.5,201.0 L276.1,201.0 L276.8,201.0 L277.4,201.0 L278.0,201.0\\n\\t\\tL278.6,201.0 L279.3,201.0 L279.9,201.0 L280.5,201.0 L281.1,201.0 L281.8,201.0 L282.4,201.0 L283.0,201.0\\n\\t\\tL283.6,201.0 L284.3,201.0 L284.9,201.0 L285.5,201.0 L286.1,201.0 L286.8,201.0 L287.4,201.0 L288.0,201.0\\n\\t\\tL288.6,201.0 L289.3,201.0 L289.9,201.0 L290.5,201.0 L291.1,201.0 L291.8,201.0 L292.4,201.0 L293.0,201.0\\n\\t\\tL293.6,201.0 L294.3,201.0 L294.9,201.0 L295.5,201.0 L296.1,201.0 L296.8,201.0 L297.4,201.0 L298.0,201.0\\n\\t\\tL298.6,201.0 L299.3,201.0 L299.9,201.0 L300.5,201.0 L301.1,201.0 L301.8,201.0 L302.4,201.0 L303.0,201.0\\n\\t\\tL303.6,201.0 L304.3,201.0 L304.9,201.0 L305.5,201.0 L306.1,201.0 L306.8,201.0 L307.4,201.0 L308.0,201.0\\n\\t\\tL308.6,201.0 L309.3,201.0 L309.9,201.0 L310.5,201.0 L311.1,201.0 L311.8,201.0 L312.4,201.0 L313.0,201.0\\n\\t\\tL313.6,201.0 L314.3,201.0 L314.9,201.0 L315.5,201.0 L316.1,201.0 L316.8,201.0 L317.4,201.0 L318.0,201.0\\n\\t\\tL318.6,201.0 L319.3,201.0 L319.9,201.0 L320.5,201.0 L321.1,201.0 L321.8,201.0 L322.4,201.0 L323.0,201.0\\n\\t\\tL323.6,201.0 L324.3,201.0 L324.9,201.0 L325.5,201.0 L326.2,201.0 L326.8,201.0 L327.4,201.0 L328.0,200.9\\n\\t\\tL328.7,200.8 L329.3,200.7 L329.9,200.6 L330.5,200.4 L331.2,200.2 L331.8,200.0 L332.4,199.7 L333.0,199.4\\n\\t\\tL333.7,199.1 L334.3,198.8 L334.9,198.5 L335.5,198.1 L336.2,197.7 L336.8,197.3 L337.4,196.8 L338.0,196.3\\n\\t\\tL338.7,195.8 L339.3,195.3 L339.9,194.8 L340.5,194.2 L341.2,193.7 L341.8,193.1 L342.4,192.4 L343.0,191.8\\n\\t\\tL343.7,191.2 L344.3,190.5 L344.9,189.8 L345.5,189.1 L346.2,188.4 L346.8,187.7 L347.4,186.9 L348.0,186.2\\n\\t\\tL348.7,185.4 L349.3,184.6 L349.9,183.8 L350.5,183.0 L351.2,182.2 L351.8,181.4 L352.4,180.6 L353.0,179.7\\n\\t\\tL353.7,178.9 L354.3,178.0 L354.9,177.2 L355.5,176.3 L356.2,175.5 L356.8,174.6 L357.4,173.8 L358.0,172.9\\n\\t\\tL358.7,172.1 L359.3,171.2 L359.9,170.4 L360.5,169.5 L361.2,168.7 L361.8,167.8 L362.4,167.0 L363.0,166.2\\n\\t\\tL363.7,165.4 L364.3,164.5 L364.9,163.7 L365.5,163.0 L366.2,162.2 L366.8,161.4 L367.4,160.6 L368.0,159.9\\n\\t\\tL368.7,159.2 L369.3,158.5 L369.9,157.8 L370.5,157.1 L371.2,156.4 L371.8,155.7 L372.4,155.1 L373.0,154.5\\n\\t\\tL373.7,153.9 L374.3,153.3 L374.9,152.8 L375.5,152.2 L376.2,151.7 L376.8,151.2 L377.4,150.8 L378.0,150.3\\n\\t\\tL378.7,149.9 L379.3,149.5 L379.9,149.1 L380.5,148.8 L381.2,148.4 L381.8,148.1 L382.4,147.8 L383.0,147.6\\n\\t\\tL383.7,147.4 L384.3,147.2 L384.9,147.0 L385.5,146.8 L386.2,146.7 L386.8,146.6 L387.4,146.6 L388.0,146.5\\n\\t\\tL388.7,146.5 L389.3,146.5 L389.9,146.6 L390.5,146.6 L391.2,146.7 L391.8,146.8 L392.4,147.0 L393.0,147.2\\n\\t\\tL393.7,147.4 L394.3,147.6 L394.9,147.8 L395.5,148.1 L396.2,148.4 L396.8,148.8 L397.4,149.1 L398.0,149.5\\n\\t\\tL398.7,149.9 L399.3,150.3 L399.9,150.8 L400.6,151.2 L401.2,151.7 L401.8,152.2 L402.4,152.8 L403.1,153.3\\n\\t\\tL403.7,153.9 L404.3,154.5 L404.9,155.1 L405.6,155.7 L406.2,156.4 L406.8,157.1 L407.4,157.8 L408.1,158.5\\n\\t\\tL408.7,159.2 L409.3,159.9 L409.9,160.6 L410.6,161.4 L411.2,162.2 L411.8,163.0 L412.4,163.7 L413.1,164.5\\n\\t\\tL413.7,165.4 L414.3,166.2 L414.9,167.0 L415.6,167.8 L416.2,168.7 L416.8,169.5 L417.4,170.4 L418.1,171.2\\n\\t\\tL418.7,172.1 L419.3,172.9 L419.9,173.8 L420.6,174.6 L421.2,175.5 L421.8,176.3 L422.4,177.2 L423.1,178.0\\n\\t\\tL423.7,178.9 L424.3,179.7 L424.9,180.6 L425.6,181.4 L426.2,182.2 L426.8,183.0 L427.4,183.8 L428.1,184.6\\n\\t\\tL428.7,185.4 L429.3,186.2 L429.9,186.9 L430.6,187.7 L431.2,188.4 L431.8,189.1 L432.4,189.8 L433.1,190.5\\n\\t\\tL433.7,191.2 L434.3,191.8 L434.9,192.4 L435.6,193.1 L436.2,193.7 L436.8,194.2 L437.4,194.8 L438.1,195.3\\n\\t\\tL438.7,195.8 L439.3,196.3 L439.9,196.8 L440.6,197.3 L441.2,197.7 L441.8,198.1 L442.4,198.5 L443.1,198.8\\n\\t\\tL443.7,199.1 L444.3,199.4 L444.9,199.7 L445.6,200.0 L446.2,200.2 L446.8,200.4 L447.4,200.6 L448.1,200.7\\n\\t\\tL448.7,200.8 L449.3,200.9 L449.9,201.0 L450.6,201.0 L451.2,201.0 L451.8,201.0 L452.4,201.0 L453.1,201.0\\n\\t\\tL453.7,201.0 L454.3,201.0 L454.9,201.0 L455.6,201.0 L456.2,201.0 L456.8,201.0 L457.4,201.0 L458.1,201.0\\n\\t\\tL458.7,201.0 L459.3,201.0 L459.9,201.0 L460.6,201.0 L461.2,201.0 L461.8,201.0 L462.4,201.0 L463.1,201.0\\n\\t\\tL463.7,201.0 L464.3,201.0 L464.9,201.0 L465.6,201.0 L466.2,201.0 L466.8,201.0 L467.4,201.0 L468.1,201.0\\n\\t\\tL468.7,201.0 L469.3,201.0 L469.9,201.0 L470.6,201.0 L471.2,201.0 L471.8,201.0 L472.5,201.0 L473.1,201.0\\n\\t\\tL473.7,201.0 L474.3,201.0 L475.0,201.0 L475.6,201.0 L476.2,201.0 L476.8,201.0 L477.5,201.0 L478.1,201.0\\n\\t\\tL478.7,201.0 L479.3,201.0 L480.0,201.0 L480.6,201.0 L481.2,201.0 L481.8,201.0 L482.5,201.0 L483.1,201.0\\n\\t\\tL483.7,201.0 L484.3,201.0 L485.0,201.0 L485.6,201.0 L486.2,201.0 L486.8,201.0 L487.5,201.0 L488.1,201.0\\n\\t\\tL488.7,201.0 L489.3,201.0 L490.0,201.0 L490.6,201.0 L491.2,201.0 L491.8,201.0 L492.5,201.0 L493.1,201.0\\n\\t\\tL493.7,201.0 L494.3,201.0 L495.0,201.0 L495.6,201.0 L496.2,201.0 L496.8,201.0 L497.5,201.0 L498.1,201.0\\n\\t\\tL498.7,201.0 L499.3,201.0 L500.0,201.0 L500.6,201.0 L501.2,201.0 L501.8,201.0 L502.5,201.0 L503.1,201.0\\n\\t\\tL503.7,201.0 L504.3,201.0 L505.0,201.0 L505.6,201.0 L506.2,201.0 L506.8,201.0 L507.5,201.0 L508.1,201.0\\n\\t\\tL508.7,201.0 L509.3,201.0 L510.0,201.0 L510.6,201.0 L511.2,201.0 L511.8,201.0 L512.5,201.0 L513.1,201.0\\n\\t\\tL513.7,201.0 L514.3,201.0 L515.0,201.0 L515.6,201.0 L516.2,201.0 L516.8,201.0 L517.5,201.0 L518.1,201.0\\n\\t\\tL518.7,201.0 L519.3,201.0 L520.0,201.0 L520.6,201.0 L521.2,201.0 L521.8,201.0 L522.5,201.0 L523.1,201.0\\n\\t\\tL523.7,201.0 L524.3,201.0 L525.0,201.0 L525.6,201.0 L526.2,201.0 L526.8,201.0 L527.5,201.0 L528.1,201.0\\n\\t\\tL528.7,201.0 L529.3,201.0 L530.0,201.0 L530.6,201.0 L531.2,201.0 L531.8,201.0 L532.5,201.0 L533.1,201.0\\n\\t\\tL533.7,201.0 L534.3,201.0 L535.0,201.0 L535.6,201.0 L536.2,201.0 L536.8,201.0 L537.5,201.0 L538.1,201.0\\n\\t\\tL538.7,201.0 L539.3,201.0 L540.0,201.0 L540.6,201.0 L541.2,201.0 L541.8,201.0 L542.5,201.0 L543.1,201.0\\n\\t\\tL543.7,201.0 L544.4,201.0 L545.0,201.0 L545.6,201.0 L546.2,201.0 L546.9,201.0 L547.5,201.0 L548.1,201.0\\n\\t\\tL548.7,201.0 L549.4,201.0 L550.0,201.0 L550.6,201.0 L551.2,201.0 L551.9,201.0 L552.5,201.0 L553.1,201.0\\n\\t\\tL553.7,201.0 L554.4,201.0 L555.0,201.0 L555.6,201.0 L556.2,201.0 L556.9,201.0 L557.5,201.0 L558.1,201.0\\n\\t\\tL558.7,201.0 L559.4,201.0 L560.0,201.0 L560.6,201.0 L561.2,201.0 L561.9,201.0 L562.5,201.0 L563.1,201.0\\n\\t\\tL563.7,201.0 L564.4,201.0 L565.0,201.0 L565.6,201.0 L566.2,201.0 L566.9,201.0 L567.5,201.0 L568.1,201.0\\n\\t\\tL568.7,201.0 L569.4,201.0 L570.0,201.0 L570.6,201.0 L571.2,201.0 L571.9,201.0 L572.5,201.0 L573.1,201.0\\n\\t\\tL573.7,201.0 L574.4,201.0 L575.0,201.0 L575.6,201.0 L576.2,201.0 L576.9,201.0 L577.5,201.0 L578.1,201.0\\n\\t\\tL578.7,201.0 L579.4,201.0 L580.0,201.0 L580.6,201.0 L581.2,201.0 L581.9,201.0 L582.5,201.0 L583.1,201.0\\n\\t\\tL583.7,201.0 L584.4,201.0 L585.0,201.0 L585.6,201.0 L586.2,201.0 L586.9,201.0 L587.5,201.0 L588.1,201.0\\n\\t\\tL588.7,201.0  '\\/><\\/g>\\n\\t<\\/g>\\n\\t<g id=\\\"gnuplot_plot_2\\\" ><title>gnuplot_plot_2<\\/title>\\n<g fill=\\\"none\\\" color=\\\"black\\\" stroke=\\\"currentColor\\\" stroke-width=\\\"1.00\\\" stroke-linecap=\\\"butt\\\" stroke-linejoin=\\\"miter\\\">\\n\\t<path stroke='rgb(139,  26,  14)'  d='M63.6,191.9 L64.2,315.1 L64.8,183.4 L65.4,273.1 L66.1,68.0 L66.7,173.9 L67.3,98.6 L67.9,229.0\\n\\t\\tL68.6,220.7 L69.2,142.1 L69.8,294.8 L70.4,184.8 L71.1,213.6 L71.7,242.7 L72.3,195.0 L72.9,292.1\\n\\t\\tL73.6,180.5 L74.2,184.2 L74.8,204.6 L75.4,167.6 L76.1,200.8 L76.7,170.3 L77.3,207.7 L77.9,193.6\\n\\t\\tL78.6,257.9 L79.2,242.4 L79.8,262.8 L80.4,215.7 L81.1,197.9 L81.7,151.2 L82.3,183.0 L82.9,222.9\\n\\t\\tL83.6,179.0 L84.2,198.3 L84.8,229.3 L85.4,210.1 L86.1,155.2 L86.7,222.6 L87.3,125.5 L87.9,244.6\\n\\t\\tL88.6,174.6 L89.2,195.5 L89.8,201.4 L90.4,129.8 L91.1,202.4 L91.7,201.4 L92.3,174.0 L92.9,207.0\\n\\t\\tL93.6,174.5 L94.2,195.5 L94.8,199.9 L95.4,226.2 L96.1,119.9 L96.7,139.3 L97.3,140.6 L97.9,156.5\\n\\t\\tL98.6,122.5 L99.2,196.5 L99.8,182.9 L100.4,141.3 L101.1,171.8 L101.7,144.5 L102.3,169.0 L102.9,172.8\\n\\t\\tL103.6,189.0 L104.2,231.6 L104.8,146.0 L105.4,230.1 L106.1,165.2 L106.7,244.8 L107.3,211.9 L107.9,251.5\\n\\t\\tL108.6,169.3 L109.2,253.4 L109.8,221.8 L110.5,118.6 L111.1,122.9 L111.7,140.8 L112.3,168.8 L113.0,266.3\\n\\t\\tL113.6,169.5 L114.2,170.9 L114.8,200.9 L115.5,177.8 L116.1,125.6 L116.7,180.4 L117.3,100.4 L118.0,216.8\\n\\t\\tL118.6,243.0 L119.2,204.8 L119.8,147.4 L120.5,151.7 L121.1,111.5 L121.7,240.6 L122.3,215.9 L123.0,130.4\\n\\t\\tL123.6,180.2 L124.2,132.3 L124.8,227.3 L125.5,170.9 L126.1,217.3 L126.7,77.2 L127.3,84.8 L128.0,198.0\\n\\t\\tL128.6,68.1 L129.2,233.5 L129.8,156.3 L130.5,196.7 L131.1,179.9 L131.7,242.5 L132.3,197.1 L133.0,147.3\\n\\t\\tL133.6,123.4 L134.2,106.8 L134.8,113.0 L135.5,144.8 L136.1,194.2 L136.7,150.8 L137.3,192.4 L138.0,185.2\\n\\t\\tL138.6,150.1 L139.2,142.9 L139.8,206.7 L140.5,139.2 L141.1,166.0 L141.7,170.5 L142.3,210.1 L143.0,268.2\\n\\t\\tL143.6,183.2 L144.2,186.9 L144.8,175.6 L145.5,134.5 L146.1,156.9 L146.7,204.1 L147.3,175.6 L148.0,155.5\\n\\t\\tL148.6,201.7 L149.2,181.7 L149.8,243.1 L150.5,160.6 L151.1,136.8 L151.7,193.5 L152.3,147.5 L153.0,261.8\\n\\t\\tL153.6,73.2 L154.2,274.7 L154.8,164.8 L155.5,143.3 L156.1,162.4 L156.7,244.3 L157.3,154.3 L158.0,222.0\\n\\t\\tL158.6,189.5 L159.2,74.9 L159.8,311.8 L160.5,160.4 L161.1,114.3 L161.7,138.6 L162.3,204.7 L163.0,240.0\\n\\t\\tL163.6,216.3 L164.2,212.6 L164.8,199.9 L165.5,155.3 L166.1,213.7 L166.7,114.0 L167.3,239.5 L168.0,132.2\\n\\t\\tL168.6,175.8 L169.2,186.9 L169.8,111.0 L170.5,207.4 L171.1,195.9 L171.5,54.1 M171.8,54.1 L172.3,171.0\\n\\t\\tL173.0,208.7 L173.6,175.0 L174.2,227.7 L174.8,193.5 L175.5,137.1 L176.1,155.1 L176.7,185.0 L177.3,137.1\\n\\t\\tL178.0,96.8 L178.6,214.1 L179.2,285.1 L179.8,233.7 L180.5,235.6 L181.1,144.6 L181.7,200.8 L182.4,188.6\\n\\t\\tL183.0,87.5 L183.6,191.6 L184.2,205.1 L184.9,139.3 L185.5,283.1 L186.1,289.0 L186.7,209.5 L187.4,134.0\\n\\t\\tL188.0,287.2 L188.6,241.7 L189.2,213.1 L189.9,211.4 L190.5,222.1 L191.1,189.2 L191.7,142.2 L192.4,189.6\\n\\t\\tL193.0,279.6 L193.6,240.5 L194.2,267.6 L194.9,189.0 L195.5,323.1 L196.1,137.4 L196.7,160.3 L197.4,231.4\\n\\t\\tL198.0,233.7 L198.6,229.8 L199.2,262.8 L199.9,178.7 L200.5,158.9 L201.1,149.5 L201.7,206.9 L202.4,194.9\\n\\t\\tL203.0,267.1 L203.6,225.6 L204.2,259.4 L204.9,244.9 L205.5,135.1 L206.1,231.7 L206.7,181.0 L207.4,186.1\\n\\t\\tL208.0,178.4 L208.6,196.3 L209.2,59.7 L209.9,173.2 L210.5,144.5 L211.1,256.9 L211.7,214.6 L212.4,154.6\\n\\t\\tL213.0,231.7 L213.6,190.7 L214.2,213.4 L214.9,140.9 L215.5,209.8 L216.1,142.0 L216.7,184.0 L217.4,183.6\\n\\t\\tL218.0,213.2 L218.6,234.5 L219.2,225.1 L219.9,138.6 L220.5,240.9 L221.1,235.2 L221.7,223.0 L222.4,182.1\\n\\t\\tL223.0,192.2 L223.6,107.7 L224.2,242.1 L224.9,239.3 L225.5,202.6 L226.1,213.1 L226.7,225.3 L227.4,269.3\\n\\t\\tL228.0,176.5 L228.6,133.8 L229.2,205.7 L229.9,197.0 L230.5,228.8 L231.1,229.5 L231.7,125.8 L232.4,199.1\\n\\t\\tL233.0,240.1 L233.6,196.3 L234.2,170.3 L234.9,193.9 L235.5,161.0 L236.1,215.6 L236.7,250.0 L237.4,152.0\\n\\t\\tL238.0,216.0 L238.6,209.5 L239.2,212.2 L239.9,128.2 L240.5,202.7 L241.1,241.4 L241.7,203.1 L242.4,293.9\\n\\t\\tL243.0,129.9 L243.6,233.9 L244.2,171.1 L244.9,158.1 L245.5,100.8 L246.1,168.6 L246.7,183.3 L247.4,124.2\\n\\t\\tL248.0,177.2 L248.6,216.9 L249.2,145.2 L249.9,108.2 L250.5,90.9 L251.1,192.7 L251.7,187.2 L252.4,169.5\\n\\t\\tL253.0,206.4 L253.6,169.7 L254.3,97.9 L254.9,214.8 L255.5,171.3 L256.1,214.2 L256.8,248.8 L257.4,163.4\\n\\t\\tL258.0,236.7 L258.6,185.4 L259.3,94.4 L259.9,155.0 L260.5,243.3 L261.1,255.0 L261.8,101.9 L262.4,191.5\\n\\t\\tL263.0,241.7 L263.6,192.1 L264.3,109.3 L264.9,170.1 L265.5,130.8 L266.1,161.0 L266.8,169.6 L267.4,209.8\\n\\t\\tL268.0,148.5 L268.6,106.8 L269.3,287.8 L269.9,162.8 L270.5,209.0 L271.1,132.9 L271.8,156.8 L272.4,218.5\\n\\t\\tL273.0,122.0 L273.6,230.5 L274.3,166.5 L274.9,184.4 L275.5,209.4 L276.1,201.3 L276.8,144.8 L277.4,138.4\\n\\t\\tL278.0,166.6 L278.6,170.0 L279.3,211.8 L279.9,209.5 L280.5,131.2 L281.1,207.8 L281.8,247.3 L282.4,220.0\\n\\t\\tL283.0,180.4 L283.6,169.3 L284.3,195.9 L284.9,329.6 L285.5,121.1 L286.1,117.0 L286.8,223.6 L287.4,156.3\\n\\t\\tL288.0,128.3 L288.6,149.6 L289.3,147.5 L289.9,158.0 L290.5,223.0 L291.1,219.9 L291.8,209.8 L292.4,215.9\\n\\t\\tL293.0,282.2 L293.6,147.1 L294.3,139.6 L294.9,265.3 L295.5,175.3 L296.1,150.1 L296.8,144.9 L297.4,191.9\\n\\t\\tL298.0,253.5 L298.6,140.2 L299.3,187.8 L299.9,114.2 L300.5,175.3 L301.1,165.5 L301.8,154.8 L302.4,180.9\\n\\t\\tL303.0,152.8 L303.6,196.4 L304.3,157.2 L304.9,219.2 L305.5,235.4 L306.1,190.5 L306.8,215.5 L307.4,123.6\\n\\t\\tL308.0,167.9 L308.6,161.4 L309.3,311.5 L309.9,127.4 L310.5,150.2 L311.1,251.9 L311.8,153.2 L312.4,164.5\\n\\t\\tL313.0,193.4 L313.6,182.8 L314.3,270.8 L314.9,213.1 L315.5,201.0 L316.1,179.3 L316.8,193.0 L317.4,163.6\\n\\t\\tL318.0,265.3 L318.6,171.1 L319.3,202.8 L319.9,155.2 L320.4,348.0 M320.5,348.0 L321.1,150.7 L321.8,187.1\\n\\t\\tL322.4,211.0 L323.0,236.4 L323.6,236.5 L324.3,146.9 L324.9,206.2 L325.5,213.8 L326.2,162.1 L326.8,255.1\\n\\t\\tL327.4,218.1 L328.0,189.7 L328.7,147.1 L329.3,279.6 L329.9,230.0 L330.5,152.7 L331.2,169.4 L331.8,177.3\\n\\t\\tL332.4,168.3 L333.0,215.4 L333.7,133.7 L334.3,234.8 L334.9,155.0 L335.5,166.6 L336.2,286.8 L336.8,249.3\\n\\t\\tL337.4,221.7 L338.0,213.5 L338.7,164.4 L339.3,294.9 L339.9,203.4 L340.5,172.5 L341.2,158.1 L341.8,210.4\\n\\t\\tL342.4,166.9 L343.0,132.5 L343.7,155.7 L344.3,190.6 L344.9,232.3 L345.5,327.0 L346.2,224.1 L346.8,187.8\\n\\t\\tL347.4,180.4 L348.0,223.5 L348.7,122.7 L349.3,210.6 L349.9,245.1 L350.5,188.5 L351.2,121.6 L351.8,120.9\\n\\t\\tL352.4,241.1 L353.0,205.3 L353.7,157.0 L354.3,198.7 L354.9,217.5 L355.5,213.4 L356.2,279.6 L356.8,84.2\\n\\t\\tL357.4,264.5 L358.0,286.4 L358.7,144.1 L359.3,119.3 L359.9,280.1 L360.5,150.7 L361.2,199.7 L361.8,188.0\\n\\t\\tL362.4,210.5 L363.0,199.4 L363.7,263.7 L364.3,163.6 L364.9,157.9 L365.5,213.1 L366.2,279.4 L366.8,208.9\\n\\t\\tL367.4,231.3 L368.0,239.6 L368.7,266.6 L369.3,283.2 L369.9,345.0 L370.5,171.4 L371.2,182.6 L371.8,234.3\\n\\t\\tL372.4,276.7 L373.0,210.8 L373.7,155.5 L374.3,266.0 L374.9,236.1 L375.5,268.1 L376.2,238.5 L376.8,240.7\\n\\t\\tL377.4,263.3 L378.0,148.2 L378.7,196.9 L379.3,188.0 L379.9,255.9 L380.5,285.4 L381.2,227.6 L381.8,224.0\\n\\t\\tL382.4,291.2 L383.0,313.3 L383.7,250.6 L384.3,156.8 L384.9,237.8 L385.3,348.0  '\\/>\\t<path stroke='rgb(139,  26,  14)'  d='M385.6,348.0 L386.2,216.5 L386.8,237.6 L387.4,197.4 L388.0,213.0 L388.7,310.6 L389.3,212.1 L389.9,252.1\\n\\t\\tL390.5,219.7 L391.2,261.3 L391.8,239.2 L392.4,228.2 L393.0,262.2 L393.7,115.1 L394.3,244.4 L394.9,255.5\\n\\t\\tL395.5,252.4 L396.2,237.8 L396.8,277.3 L397.4,263.0 L398.0,187.1 L398.7,131.6 L399.3,268.1 L399.9,156.1\\n\\t\\tL400.6,262.1 L401.2,252.4 L401.8,183.9 L402.4,175.8 L403.1,288.0 L403.7,256.5 L404.3,268.2 L404.9,192.5\\n\\t\\tL405.5,348.0 M405.6,348.0 L406.2,200.6 L406.8,263.8 L407.4,296.2 L408.1,189.9 L408.7,242.9 L409.3,266.5\\n\\t\\tL409.9,210.4 L410.6,297.7 L411.2,298.6 L411.8,202.0 L412.4,120.7 L413.1,200.0 L413.7,163.6 L414.3,212.5\\n\\t\\tL414.9,229.5 L415.6,247.2 L416.2,182.0 L416.8,186.3 L417.4,161.9 L418.1,334.2 L418.7,220.6 L419.3,228.5\\n\\t\\tL419.9,196.2 L420.6,179.6 L421.2,172.5 L421.8,110.7 L422.4,165.7 L423.1,274.6 L423.7,147.8 L424.3,289.9\\n\\t\\tL424.9,101.5 L425.6,253.6 L426.2,266.2 L426.8,185.3 L427.4,181.0 L428.1,147.6 L428.7,203.5 L429.3,211.4\\n\\t\\tL429.9,213.7 L430.6,144.4 L431.2,274.9 L431.8,266.2 L432.4,259.3 L433.1,261.4 L433.7,211.8 L434.3,154.6\\n\\t\\tL434.9,201.4 L435.6,247.5 L436.2,202.1 L436.8,281.1 L437.4,269.9 L438.1,183.9 L438.7,241.1 L439.3,171.7\\n\\t\\tL439.9,205.8 L440.6,157.2 L441.2,262.2 L441.8,146.7 L442.4,166.8 L443.1,168.1 L443.7,162.0 L444.3,286.4\\n\\t\\tL444.9,173.6 L445.6,238.5 L446.2,197.7 L446.8,222.5 L447.4,261.6 L448.1,209.1 L448.7,219.4 L449.3,104.8\\n\\t\\tL449.9,287.5 L450.6,270.4 L451.2,226.1 L451.8,211.4 L452.4,215.9 L453.1,204.5 L453.7,284.5 L454.3,204.9\\n\\t\\tL454.9,123.3 L455.6,111.5 L456.2,281.7 L456.8,286.7 L457.4,136.0 L458.1,260.7 L458.7,270.6 L459.3,80.7\\n\\t\\tL459.9,181.5 L460.6,214.0 L461.2,207.3 L461.8,220.5 L462.4,214.6 L463.1,220.7 L463.7,268.6 L464.3,269.1\\n\\t\\tL464.9,260.3 L465.6,170.3 L466.2,219.3 L466.8,127.2 L467.4,226.3 L468.1,192.3 L468.7,228.4 L469.3,156.5\\n\\t\\tL469.9,129.8 L470.6,188.1 L471.2,228.1 L471.8,257.6 L472.5,242.0 L473.1,240.4 L473.7,215.7 L474.3,189.4\\n\\t\\tL475.0,215.9 L475.6,217.0 L476.2,232.3 L476.8,230.5 L477.5,227.0 L478.1,198.9 L478.7,202.9 L479.3,163.9\\n\\t\\tL480.0,143.9 L480.6,179.7 L481.2,159.6 L481.8,162.8 L482.5,233.8 L483.1,185.2 L483.7,210.2 L484.3,232.2\\n\\t\\tL485.0,169.6 L485.6,147.7 L486.2,165.0 L486.8,160.8 L487.5,169.8 L488.1,233.2 L488.7,206.9 L489.3,263.5\\n\\t\\tL490.0,172.9 L490.6,201.4 L491.2,314.0 L491.8,177.8 L492.5,149.5 L493.1,236.4 L493.7,182.7 L494.3,218.0\\n\\t\\tL495.0,172.3 L495.6,198.5 L496.2,215.3 L496.8,202.2 L497.5,178.6 L498.1,133.9 L498.7,163.7 L499.3,264.1\\n\\t\\tL500.0,247.3 L500.6,128.4 L501.2,185.4 L501.8,165.1 L502.5,146.7 L503.1,197.2 L503.7,165.9 L504.3,207.5\\n\\t\\tL505.0,148.0 L505.6,266.8 L506.2,143.9 L506.8,128.8 L507.5,158.0 L508.1,162.6 L508.7,183.0 L509.3,186.9\\n\\t\\tL510.0,151.2 L510.6,191.8 L511.2,111.4 L511.8,267.1 L512.5,287.4 L513.1,199.2 L513.7,150.7 L514.3,148.3\\n\\t\\tL515.0,157.4 L515.6,221.5 L516.2,63.1 L516.8,162.3 L517.5,228.8 L518.1,113.2 L518.7,161.4 L519.3,181.7\\n\\t\\tL520.0,99.6 L520.6,225.1 L521.2,228.0 L521.8,165.5 L522.5,149.3 L523.1,158.4 L523.7,160.3 L524.3,213.9\\n\\t\\tL525.0,71.4 L525.6,208.1 L526.2,255.4 L526.8,166.0 L527.5,156.5 L528.1,169.8 L528.7,189.3 L529.3,200.0\\n\\t\\tL530.0,179.6 L530.6,127.1 L531.2,212.7 L531.8,200.3 L532.4,54.1 M532.5,54.1 L533.1,141.9 L533.7,167.7\\n\\t\\tL534.3,157.5 L535.0,162.3 L535.6,228.2 L536.2,186.3 L536.8,168.4 L537.5,216.8 L538.1,141.1 L538.7,201.0\\n\\t\\tL539.3,206.9 L540.0,278.4 L540.6,193.0 L541.2,187.7 L541.8,295.8 L542.4,54.1 M542.5,54.1 L543.1,205.4\\n\\t\\tL543.7,165.3 L544.4,176.5 L545.0,216.6 L545.6,171.9 L546.2,159.3 L546.9,260.5 L547.5,217.5 L548.1,198.8\\n\\t\\tL548.7,149.1 L549.4,147.6 L550.0,196.2 L550.6,181.4 L551.2,292.3 L551.9,143.9 L552.5,188.3 L553.1,216.7\\n\\t\\tL553.7,215.0 L554.4,203.5 L555.0,179.6 L555.6,193.7 L556.2,171.0 L556.9,201.7 L557.5,155.2 L558.1,154.3\\n\\t\\tL558.7,179.8 L559.4,180.1 L560.0,256.2 L560.6,127.5 L561.1,348.0 M561.2,348.0 L561.9,151.5 L562.5,229.0\\n\\t\\tL563.1,222.8 L563.7,187.0 L564.4,98.2 L565.0,303.9 L565.6,252.4 L566.2,189.0 L566.9,209.0 L567.5,167.6\\n\\t\\tL568.1,235.4 L568.7,274.7 L569.4,254.8 L570.0,175.7 L570.6,118.8 L571.2,168.7 L571.9,186.1 L572.5,214.3\\n\\t\\tL573.1,299.3 L573.7,180.0 L574.4,142.6 L575.0,263.8 L575.6,199.4 L576.2,256.1 L576.9,244.8 L577.5,295.5\\n\\t\\tL578.1,192.4 L578.7,221.2 L579.4,155.4 L580.0,189.0 L580.6,102.6 L581.2,158.2 L581.9,183.7 L582.5,198.4\\n\\t\\tL583.1,205.9 L583.7,231.0 L584.4,197.6 L585.0,87.9 L585.6,122.2 L586.2,228.3 L586.9,218.8 L587.5,167.2\\n\\t\\tL588.1,253.1 L588.7,193.3  '\\/><\\/g>\\n\\t<\\/g>\\n\\t<g id=\\\"gnuplot_plot_3\\\" ><title>gnuplot_plot_3<\\/title>\\n<g fill=\\\"none\\\" color=\\\"black\\\" stroke=\\\"currentColor\\\" stroke-width=\\\"1.00\\\" stroke-linecap=\\\"butt\\\" stroke-linejoin=\\\"miter\\\">\\n\\t<path stroke='rgb( 94, 156,  54)'  d='M63.6,201.0 L64.2,201.0 L64.8,201.0 L65.4,201.0 L66.1,201.0 L66.7,201.0 L67.3,201.0 L67.9,201.0\\n\\t\\tL68.6,201.0 L69.2,201.0 L69.8,201.0 L70.4,201.0 L71.1,201.0 L71.7,201.0 L72.3,201.0 L72.9,201.0\\n\\t\\tL73.6,201.0 L74.2,201.0 L74.8,201.0 L75.4,201.0 L76.1,201.0 L76.7,201.0 L77.3,201.0 L77.9,201.0\\n\\t\\tL78.6,201.0 L79.2,201.0 L79.8,201.0 L80.4,201.0 L81.1,201.0 L81.7,201.0 L82.3,201.0 L82.9,201.0\\n\\t\\tL83.6,201.0 L84.2,201.0 L84.8,201.0 L85.4,201.0 L86.1,201.0 L86.7,201.0 L87.3,201.0 L87.9,201.0\\n\\t\\tL88.6,201.0 L89.2,201.0 L89.8,201.0 L90.4,201.0 L91.1,201.0 L91.7,201.0 L92.3,201.0 L92.9,201.0\\n\\t\\tL93.6,201.0 L94.2,201.0 L94.8,201.0 L95.4,201.0 L96.1,201.0 L96.7,201.0 L97.3,201.0 L97.9,201.0\\n\\t\\tL98.6,201.0 L99.2,201.0 L99.8,201.0 L100.4,201.0 L101.1,201.0 L101.7,201.0 L102.3,201.0 L102.9,201.0\\n\\t\\tL103.6,201.0 L104.2,201.0 L104.8,201.0 L105.4,201.0 L106.1,201.0 L106.7,201.0 L107.3,201.0 L107.9,201.0\\n\\t\\tL108.6,201.0 L109.2,201.0 L109.8,201.0 L110.5,201.0 L111.1,201.0 L111.7,201.0 L112.3,201.0 L113.0,201.0\\n\\t\\tL113.6,201.0 L114.2,201.0 L114.8,201.0 L115.5,201.0 L116.1,201.0 L116.7,201.0 L117.3,201.0 L118.0,201.0\\n\\t\\tL118.6,201.0 L119.2,201.0 L119.8,201.0 L120.5,201.0 L121.1,201.0 L121.7,201.0 L122.3,201.0 L123.0,201.0\\n\\t\\tL123.6,201.0 L124.2,201.0 L124.8,201.0 L125.5,201.0 L126.1,201.0 L126.7,201.0 L127.3,201.0 L128.0,201.0\\n\\t\\tL128.6,201.0 L129.2,201.0 L129.8,201.0 L130.5,201.0 L131.1,201.0 L131.7,201.0 L132.3,201.0 L133.0,201.0\\n\\t\\tL133.6,201.0 L134.2,201.0 L134.8,201.0 L135.5,201.0 L136.1,201.0 L136.7,201.0 L137.3,201.0 L138.0,201.0\\n\\t\\tL138.6,201.0 L139.2,201.0 L139.8,201.0 L140.5,201.0 L141.1,201.0 L141.7,201.0 L142.3,201.0 L143.0,201.0\\n\\t\\tL143.6,201.0 L144.2,201.0 L144.8,201.0 L145.5,201.0 L146.1,201.0 L146.7,201.0 L147.3,201.0 L148.0,201.0\\n\\t\\tL148.6,201.0 L149.2,201.0 L149.8,201.0 L150.5,201.0 L151.1,201.0 L151.7,201.0 L152.3,201.0 L153.0,201.0\\n\\t\\tL153.6,201.0 L154.2,201.0 L154.8,201.0 L155.5,201.0 L156.1,201.0 L156.7,201.0 L157.3,201.0 L158.0,201.0\\n\\t\\tL158.6,201.0 L159.2,201.0 L159.8,201.0 L160.5,201.0 L161.1,201.0 L161.7,201.0 L162.3,201.0 L163.0,201.0\\n\\t\\tL163.6,201.0 L164.2,201.0 L164.8,201.0 L165.5,201.0 L166.1,201.0 L166.7,201.0 L167.3,201.0 L168.0,201.0\\n\\t\\tL168.6,201.0 L169.2,201.0 L169.8,201.0 L170.5,201.0 L171.1,201.0 L171.7,201.0 L172.3,201.0 L173.0,201.0\\n\\t\\tL173.6,201.0 L174.2,201.0 L174.8,201.0 L175.5,201.0 L176.1,201.0 L176.7,201.0 L177.3,201.0 L178.0,201.0\\n\\t\\tL178.6,201.0 L179.2,201.0 L179.8,201.0 L180.5,201.0 L181.1,201.0 L181.7,201.0 L182.4,201.0 L183.0,201.0\\n\\t\\tL183.6,201.0 L184.2,201.0 L184.9,201.0 L185.5,201.0 L186.1,201.0 L186.7,201.0 L187.4,201.0 L188.0,201.0\\n\\t\\tL188.6,201.0 L189.2,201.0 L189.9,201.0 L190.5,201.0 L191.1,201.0 L191.7,201.0 L192.4,201.0 L193.0,201.0\\n\\t\\tL193.6,201.0 L194.2,201.0 L194.9,201.0 L195.5,201.0 L196.1,201.0 L196.7,201.0 L197.4,201.0 L198.0,201.0\\n\\t\\tL198.6,201.0 L199.2,201.0 L199.9,201.0 L200.5,201.0 L201.1,201.0 L201.7,201.0 L202.4,201.0 L203.0,201.0\\n\\t\\tL203.6,201.0 L204.2,201.0 L204.9,201.0 L205.5,201.0 L206.1,201.0 L206.7,201.0 L207.4,201.0 L208.0,201.0\\n\\t\\tL208.6,201.0 L209.2,201.0 L209.9,201.0 L210.5,201.0 L211.1,201.0 L211.7,201.0 L212.4,201.0 L213.0,201.0\\n\\t\\tL213.6,201.0 L214.2,201.0 L214.9,201.0 L215.5,201.0 L216.1,201.0 L216.7,201.0 L217.4,201.0 L218.0,201.0\\n\\t\\tL218.6,201.0 L219.2,201.0 L219.9,201.0 L220.5,201.0 L221.1,201.0 L221.7,201.0 L222.4,201.0 L223.0,201.0\\n\\t\\tL223.6,201.0 L224.2,201.0 L224.9,201.0 L225.5,201.0 L226.1,201.0 L226.7,201.0 L227.4,201.0 L228.0,201.0\\n\\t\\tL228.6,201.0 L229.2,201.0 L229.9,201.0 L230.5,201.0 L231.1,201.0 L231.7,201.0 L232.4,201.0 L233.0,201.0\\n\\t\\tL233.6,201.0 L234.2,201.0 L234.9,201.0 L235.5,201.0 L236.1,201.0 L236.7,201.0 L237.4,201.0 L238.0,201.0\\n\\t\\tL238.6,201.0 L239.2,201.0 L239.9,201.0 L240.5,201.0 L241.1,201.0 L241.7,201.0 L242.4,201.0 L243.0,201.0\\n\\t\\tL243.6,201.0 L244.2,201.0 L244.9,201.0 L245.5,201.0 L246.1,201.0 L246.7,201.0 L247.4,201.0 L248.0,201.0\\n\\t\\tL248.6,201.0 L249.2,201.0 L249.9,201.0 L250.5,201.0 L251.1,201.0 L251.7,201.0 L252.4,201.0 L253.0,201.0\\n\\t\\tL253.6,201.0 L254.3,201.0 L254.9,201.0 L255.5,201.0 L256.1,201.0 L256.8,201.0 L257.4,201.0 L258.0,201.0\\n\\t\\tL258.6,201.0 L259.3,201.0 L259.9,201.0 L260.5,201.0 L261.1,201.0 L261.8,201.0 L262.4,201.0 L263.0,201.0\\n\\t\\tL263.6,201.0 L264.3,201.0 L264.9,201.0 L265.5,201.0 L266.1,201.0 L266.8,201.0 L267.4,201.0 L268.0,201.0\\n\\t\\tL268.6,201.0 L269.3,201.0 L269.9,201.0 L270.5,201.0 L271.1,201.0 L271.8,201.0 L272.4,201.0 L273.0,201.0\\n\\t\\tL273.6,201.0 L274.3,201.0 L274.9,201.0 L275.5,201.0 L276.1,201.0 L276.8,201.0 L277.4,201.0 L278.0,201.0\\n\\t\\tL278.6,201.0 L279.3,201.0 L279.9,201.0 L280.5,201.0 L281.1,201.0 L281.8,201.0 L282.4,201.0 L283.0,201.0\\n\\t\\tL283.6,201.0 L284.3,201.0 L284.9,201.0 L285.5,201.0 L286.1,201.0 L286.8,201.0 L287.4,201.0 L288.0,201.0\\n\\t\\tL288.6,201.0 L289.3,201.0 L289.9,201.0 L290.5,201.0 L291.1,201.0 L291.8,201.0 L292.4,201.0 L293.0,201.0\\n\\t\\tL293.6,201.0 L294.3,201.0 L294.9,201.0 L295.5,201.0 L296.1,201.0 L296.8,201.0 L297.4,201.0 L298.0,201.0\\n\\t\\tL298.6,201.0 L299.3,201.0 L299.9,201.0 L300.5,201.0 L301.1,201.0 L301.8,201.0 L302.4,201.0 L303.0,201.0\\n\\t\\tL303.6,201.0 L304.3,201.0 L304.9,201.0 L305.5,201.0 L306.1,201.0 L306.8,201.0 L307.4,201.0 L308.0,201.0\\n\\t\\tL308.6,201.0 L309.3,201.0 L309.9,201.0 L310.5,201.0 L311.1,201.0 L311.8,201.0 L312.4,201.0 L313.0,201.0\\n\\t\\tL313.6,201.0 L314.3,201.0 L314.9,201.0 L315.5,201.0 L316.1,201.0 L316.8,201.0 L317.4,201.0 L318.0,201.0\\n\\t\\tL318.6,201.0 L319.3,201.0 L319.9,201.0 L320.5,201.0 L321.1,201.0 L321.8,201.0 L322.4,201.0 L323.0,201.0\\n\\t\\tL323.6,201.0 L324.3,201.0 L324.9,201.0 L325.5,201.0 L326.2,201.0 L326.8,201.1 L327.4,201.1 L328.0,201.0\\n\\t\\tL328.7,200.7 L329.3,201.8 L329.9,201.5 L330.5,200.1 L331.2,200.2 L331.8,200.3 L332.4,199.7 L333.0,201.7\\n\\t\\tL333.7,197.2 L334.3,203.3 L334.9,197.5 L335.5,198.0 L336.2,209.7 L336.8,206.5 L337.4,203.7 L338.0,202.8\\n\\t\\tL338.7,195.3 L339.3,217.1 L339.9,201.5 L340.5,195.2 L341.2,191.6 L341.8,203.3 L342.4,192.3 L343.0,182.1\\n\\t\\tL343.7,187.6 L344.3,197.7 L344.9,211.6 L345.5,246.1 L346.2,209.8 L346.8,195.7 L347.4,192.3 L348.0,211.1\\n\\t\\tL348.7,164.3 L349.3,205.8 L349.9,223.8 L350.5,194.3 L351.2,156.2 L351.8,153.9 L352.4,225.6 L353.0,203.8\\n\\t\\tL353.7,171.8 L354.3,199.4 L354.9,212.8 L355.5,210.2 L356.2,261.2 L356.8,108.6 L357.4,252.9 L358.0,272.9\\n\\t\\tL358.7,151.6 L359.3,128.0 L359.9,273.7 L360.5,153.5 L361.2,199.8 L361.8,188.0 L362.4,210.7 L363.0,199.3\\n\\t\\tL363.7,268.1 L364.3,160.1 L364.9,152.9 L365.5,214.8 L366.2,292.3 L366.8,210.3 L367.4,237.6 L368.0,248.6\\n\\t\\tL368.7,283.3 L369.3,305.9 L369.6,348.0 M370.0,348.0 L370.5,162.0 L371.2,176.4 L371.8,246.2 L372.4,305.0\\n\\t\\tL373.0,214.6 L373.7,136.8 L374.3,293.9 L374.9,251.8 L375.5,299.0 L376.2,256.3 L376.8,260.2 L377.4,294.7\\n\\t\\tL378.0,120.7 L378.7,194.7 L379.3,180.9 L379.9,286.4 L380.5,333.2 L381.2,242.9 L381.8,237.4 L382.4,344.6\\n\\t\\tM383.2,348.0 L383.7,280.7 L384.3,129.7 L384.9,260.6 L385.1,348.0  '\\/>\\t<path stroke='rgb( 94, 156,  54)'  d='M385.8,348.0 L386.2,226.2 L386.8,260.5 L387.4,195.1 L388.0,220.5 L388.5,348.0 M388.8,348.0 L389.3,219.1\\n\\t\\tL389.9,284.3 L390.5,231.4 L391.2,299.1 L391.8,262.9 L392.4,244.9 L393.0,299.8 L393.7,62.8 L394.3,270.4\\n\\t\\tL394.9,287.8 L395.5,282.5 L396.2,258.9 L396.8,320.4 L397.4,297.4 L398.0,179.5 L398.7,94.7 L399.3,302.9\\n\\t\\tL399.9,133.3 L400.6,292.1 L401.2,276.9 L401.8,175.9 L402.4,164.6 L403.1,325.3 L403.7,279.3 L404.3,294.6\\n\\t\\tL404.9,189.3 L405.3,348.0 M405.7,348.0 L406.2,200.4 L406.8,283.7 L407.4,324.4 L408.1,186.8 L408.7,253.6\\n\\t\\tL409.3,281.7 L409.9,212.4 L410.6,315.7 L411.2,314.6 L411.8,202.1 L412.4,111.3 L413.1,199.9 L413.7,161.0\\n\\t\\tL414.3,213.1 L414.9,230.1 L415.6,246.9 L416.2,182.6 L416.8,187.1 L417.4,165.0 L418.1,320.0 L418.7,218.0\\n\\t\\tL419.3,224.2 L419.9,197.1 L420.6,184.1 L421.2,179.2 L421.8,134.3 L422.4,175.8 L423.1,251.7 L423.7,165.7\\n\\t\\tL424.3,257.7 L424.9,140.0 L425.6,232.0 L426.2,237.8 L426.8,192.5 L427.4,190.7 L428.1,174.7 L428.7,202.2\\n\\t\\tL429.3,205.7 L429.9,206.4 L430.6,178.3 L431.2,229.0 L431.8,224.4 L432.4,220.6 L433.1,220.1 L433.7,204.2\\n\\t\\tL434.3,188.2 L434.9,201.1 L435.6,212.2 L436.2,201.3 L436.8,217.4 L437.4,214.0 L438.1,198.1 L438.7,207.3\\n\\t\\tL439.3,196.9 L439.9,201.7 L440.6,196.1 L441.2,207.2 L441.8,196.2 L442.4,198.4 L443.1,198.8 L443.7,198.8\\n\\t\\tL444.3,205.2 L444.9,200.0 L445.6,202.3 L446.2,201.0 L446.8,201.5 L447.4,201.9 L448.1,201.1 L448.7,201.2\\n\\t\\tL449.3,200.7 L449.9,201.2 L450.6,201.1 L451.2,201.0 L451.8,201.0 L452.4,201.0 L453.1,201.0 L453.7,201.0\\n\\t\\tL454.3,201.0 L454.9,201.0 L455.6,201.0 L456.2,201.0 L456.8,201.0 L457.4,201.0 L458.1,201.0 L458.7,201.0\\n\\t\\tL459.3,201.0 L459.9,201.0 L460.6,201.0 L461.2,201.0 L461.8,201.0 L462.4,201.0 L463.1,201.0 L463.7,201.0\\n\\t\\tL464.3,201.0 L464.9,201.0 L465.6,201.0 L466.2,201.0 L466.8,201.0 L467.4,201.0 L468.1,201.0 L468.7,201.0\\n\\t\\tL469.3,201.0 L469.9,201.0 L470.6,201.0 L471.2,201.0 L471.8,201.0 L472.5,201.0 L473.1,201.0 L473.7,201.0\\n\\t\\tL474.3,201.0 L475.0,201.0 L475.6,201.0 L476.2,201.0 L476.8,201.0 L477.5,201.0 L478.1,201.0 L478.7,201.0\\n\\t\\tL479.3,201.0 L480.0,201.0 L480.6,201.0 L481.2,201.0 L481.8,201.0 L482.5,201.0 L483.1,201.0 L483.7,201.0\\n\\t\\tL484.3,201.0 L485.0,201.0 L485.6,201.0 L486.2,201.0 L486.8,201.0 L487.5,201.0 L488.1,201.0 L488.7,201.0\\n\\t\\tL489.3,201.0 L490.0,201.0 L490.6,201.0 L491.2,201.0 L491.8,201.0 L492.5,201.0 L493.1,201.0 L493.7,201.0\\n\\t\\tL494.3,201.0 L495.0,201.0 L495.6,201.0 L496.2,201.0 L496.8,201.0 L497.5,201.0 L498.1,201.0 L498.7,201.0\\n\\t\\tL499.3,201.0 L500.0,201.0 L500.6,201.0 L501.2,201.0 L501.8,201.0 L502.5,201.0 L503.1,201.0 L503.7,201.0\\n\\t\\tL504.3,201.0 L505.0,201.0 L505.6,201.0 L506.2,201.0 L506.8,201.0 L507.5,201.0 L508.1,201.0 L508.7,201.0\\n\\t\\tL509.3,201.0 L510.0,201.0 L510.6,201.0 L511.2,201.0 L511.8,201.0 L512.5,201.0 L513.1,201.0 L513.7,201.0\\n\\t\\tL514.3,201.0 L515.0,201.0 L515.6,201.0 L516.2,201.0 L516.8,201.0 L517.5,201.0 L518.1,201.0 L518.7,201.0\\n\\t\\tL519.3,201.0 L520.0,201.0 L520.6,201.0 L521.2,201.0 L521.8,201.0 L522.5,201.0 L523.1,201.0 L523.7,201.0\\n\\t\\tL524.3,201.0 L525.0,201.0 L525.6,201.0 L526.2,201.0 L526.8,201.0 L527.5,201.0 L528.1,201.0 L528.7,201.0\\n\\t\\tL529.3,201.0 L530.0,201.0 L530.6,201.0 L531.2,201.0 L531.8,201.0 L532.5,201.0 L533.1,201.0 L533.7,201.0\\n\\t\\tL534.3,201.0 L535.0,201.0 L535.6,201.0 L536.2,201.0 L536.8,201.0 L537.5,201.0 L538.1,201.0 L538.7,201.0\\n\\t\\tL539.3,201.0 L540.0,201.0 L540.6,201.0 L541.2,201.0 L541.8,201.0 L542.5,201.0 L543.1,201.0 L543.7,201.0\\n\\t\\tL544.4,201.0 L545.0,201.0 L545.6,201.0 L546.2,201.0 L546.9,201.0 L547.5,201.0 L548.1,201.0 L548.7,201.0\\n\\t\\tL549.4,201.0 L550.0,201.0 L550.6,201.0 L551.2,201.0 L551.9,201.0 L552.5,201.0 L553.1,201.0 L553.7,201.0\\n\\t\\tL554.4,201.0 L555.0,201.0 L555.6,201.0 L556.2,201.0 L556.9,201.0 L557.5,201.0 L558.1,201.0 L558.7,201.0\\n\\t\\tL559.4,201.0 L560.0,201.0 L560.6,201.0 L561.2,201.0 L561.9,201.0 L562.5,201.0 L563.1,201.0 L563.7,201.0\\n\\t\\tL564.4,201.0 L565.0,201.0 L565.6,201.0 L566.2,201.0 L566.9,201.0 L567.5,201.0 L568.1,201.0 L568.7,201.0\\n\\t\\tL569.4,201.0 L570.0,201.0 L570.6,201.0 L571.2,201.0 L571.9,201.0 L572.5,201.0 L573.1,201.0 L573.7,201.0\\n\\t\\tL574.4,201.0 L575.0,201.0 L575.6,201.0 L576.2,201.0 L576.9,201.0 L577.5,201.0 L578.1,201.0 L578.7,201.0\\n\\t\\tL579.4,201.0 L580.0,201.0 L580.6,201.0 L581.2,201.0 L581.9,201.0 L582.5,201.0 L583.1,201.0 L583.7,201.0\\n\\t\\tL584.4,201.0 L585.0,201.0 L585.6,201.0 L586.2,201.0 L586.9,201.0 L587.5,201.0 L588.1,201.0 L588.7,201.0\\n\\t\\t '\\/><\\/g>\\n\\t<\\/g>\\n<g fill=\\\"none\\\" color=\\\"#FFFFFF\\\" stroke=\\\"rgb( 94, 156,  54)\\\" stroke-width=\\\"2.00\\\" stroke-linecap=\\\"butt\\\" stroke-linejoin=\\\"miter\\\">\\n<\\/g>\\n<g fill=\\\"none\\\" color=\\\"black\\\" stroke=\\\"currentColor\\\" stroke-width=\\\"2.00\\\" stroke-linecap=\\\"butt\\\" stroke-linejoin=\\\"miter\\\">\\n<\\/g>\\n<g fill=\\\"none\\\" color=\\\"black\\\" stroke=\\\"black\\\" stroke-width=\\\"1.00\\\" stroke-linecap=\\\"butt\\\" stroke-linejoin=\\\"miter\\\">\\n<\\/g>\\n<g fill=\\\"none\\\" color=\\\"black\\\" stroke=\\\"currentColor\\\" stroke-width=\\\"1.00\\\" stroke-linecap=\\\"butt\\\" stroke-linejoin=\\\"miter\\\">\\n\\t<path stroke='black'  d='M37.3,54.1 L37.3,348.0 L615.0,348.0 L615.0,54.1 L37.3,54.1 Z  '\\/><\\/g>\\n<g fill=\\\"none\\\" color=\\\"black\\\" stroke=\\\"currentColor\\\" stroke-width=\\\"1.00\\\" stroke-linecap=\\\"butt\\\" stroke-linejoin=\\\"miter\\\">\\n<\\/g>\\n<\\/g>\\n<\\/svg>\\n\\n\"},\"nodeType\":\"DOM\",\"type\":\"node\",\"instanceArgs\":{\"namespace\":\"html\",\"tag\":\"div\"},\"children\":[]}]}}}},\"children\":[{\"props\":{},\"nodeType\":\"ObservableNode\",\"type\":\"node\",\"instanceArgs\":{\"id\":\"ob_31\",\"name\":\"obs-node\"},\"children\":[]}]}]},\n",
       "            window,\n",
       "        );\n",
       "    } else {\n",
       "        document\n",
       "            .querySelector('[data-webio-mountpoint=\"2565572724652532785\"]')\n",
       "            .innerHTML = (\n",
       "                '<div style=\"padding: 1em; background-color: #f8d6da; border: 1px solid #f5c6cb\">' +\n",
       "                '<p><strong>WebIO not detected.</strong></p>' +\n",
       "                '<p>Please read ' +\n",
       "                '<a href=\"https://juliagizmos.github.io/WebIO.jl/latest/troubleshooting/not-detected/\" target=\"_blank\">the troubleshooting guide</a> ' +\n",
       "                'for more information on how to resolve this issue.</p>' +\n",
       "                '<p><a href=\"https://juliagizmos.github.io/WebIO.jl/latest/troubleshooting/not-detected/\" target=\"_blank\">https://juliagizmos.github.io/WebIO.jl/latest/troubleshooting/not-detected/</a></p>' +\n",
       "                '</div>'\n",
       "            );\n",
       "    }\n",
       "    </script>\n",
       "</div>\n"
      ],
      "text/plain": [
       "Node{WebIO.DOM}(WebIO.DOM(:html, :div), Any[Node{WebIO.DOM}(WebIO.DOM(:html, :div), Any[Scope(Node{WebIO.DOM}(WebIO.DOM(:html, :div), Any[Node{WebIO.DOM}(WebIO.DOM(:html, :div), Any[Node{WebIO.DOM}(WebIO.DOM(:html, :label), Any[\"delay\"], Dict{Symbol,Any}(:className => \"interact \",:style => Dict{Any,Any}(:padding => \"5px 10px 0px 10px\")))], Dict{Symbol,Any}(:className => \"interact-flex-row-left\")), Node{WebIO.DOM}(WebIO.DOM(:html, :div), Any[Node{WebIO.DOM}(WebIO.DOM(:html, :input), Any[], Dict{Symbol,Any}(:max => 61,:min => 1,:attributes => Dict{Any,Any}(:type => \"range\",Symbol(\"data-bind\") => \"numericValue: index, valueUpdate: 'input', event: {change: function (){this.changes(this.changes()+1)}}\",\"orient\" => \"horizontal\"),:step => 1,:className => \"slider slider is-fullwidth\",:style => Dict{Any,Any}()))], Dict{Symbol,Any}(:className => \"interact-flex-row-center\")), Node{WebIO.DOM}(WebIO.DOM(:html, :div), Any[Node{WebIO.DOM}(WebIO.DOM(:html, :p), Any[], Dict{Symbol,Any}(:attributes => Dict(\"data-bind\" => \"text: formatted_val\")))], Dict{Symbol,Any}(:className => \"interact-flex-row-right\"))], Dict{Symbol,Any}(:className => \"interact-flex-row interact-widget\")), Dict{String,Tuple{Observables.AbstractObservable,Union{Nothing, Bool}}}(\"changes\" => (Observable{Int64} with 1 listeners. Value:\n",
       "0, nothing),\"index\" => (Observable{Any} with 2 listeners. Value:\n",
       "31, nothing)), Set(String[]), nothing, Asset[Asset(\"js\", \"knockout\", \"/home/miguel/.julia/packages/Knockout/1sDlc/src/../assets/knockout.js\"), Asset(\"js\", \"knockout_punches\", \"/home/miguel/.julia/packages/Knockout/1sDlc/src/../assets/knockout_punches.js\"), Asset(\"js\", nothing, \"/home/miguel/.julia/packages/InteractBase/9mFwe/src/../assets/all.js\"), Asset(\"css\", nothing, \"/home/miguel/.julia/packages/InteractBase/9mFwe/src/../assets/style.css\"), Asset(\"css\", nothing, \"/home/miguel/.julia/packages/Interact/SbgIk/src/../assets/bulma_confined.min.css\")], Dict{Any,Any}(\"changes\" => Any[WebIO.JSString(\"(function (val){return (val!=this.model[\\\"changes\\\"]()) ? (this.valueFromJulia[\\\"changes\\\"]=true, this.model[\\\"changes\\\"](val)) : undefined})\")],\"index\" => Any[WebIO.JSString(\"(function (val){return (val!=this.model[\\\"index\\\"]()) ? (this.valueFromJulia[\\\"index\\\"]=true, this.model[\\\"index\\\"](val)) : undefined})\")]), WebIO.ConnectionPool(Channel{Any}(sz_max:32,sz_curr:0), Set(AbstractConnection[]), Base.GenericCondition{Base.AlwaysLockedST}(Base.InvasiveLinkedList{Task}(Task (runnable) @0x00007fd5cfe5dfc0, Task (runnable) @0x00007fd5cfe5dfc0), Base.AlwaysLockedST(1))), WebIO.JSString[WebIO.JSString(\"function () {\\n    var handler = (function (ko, koPunches) {\\n    ko.punches.enableAll();\\n    ko.bindingHandlers.numericValue = {\\n        init: function(element, valueAccessor, allBindings, data, context) {\\n            var stringified = ko.observable(ko.unwrap(valueAccessor()));\\n            stringified.subscribe(function(value) {\\n                var val = parseFloat(value);\\n                if (!isNaN(val)) {\\n                    valueAccessor()(val);\\n                }\\n            });\\n            valueAccessor().subscribe(function(value) {\\n                var str = JSON.stringify(value);\\n                if ((str == \\\"0\\\") && ([\\\"-0\\\", \\\"-0.\\\"].indexOf(stringified()) >= 0))\\n                     return;\\n                 if ([\\\"null\\\", \\\"\\\"].indexOf(str) >= 0)\\n                     return;\\n                stringified(str);\\n            });\\n            ko.applyBindingsToNode(\\n                element,\\n                {\\n                    value: stringified,\\n                    valueUpdate: allBindings.get('valueUpdate'),\\n                },\\n                context,\\n            );\\n        }\\n    };\\n    var json_data = {\\\"formatted_vals\\\":[\\\"-1.0\\\",\\\"-0.9\\\",\\\"-0.8\\\",\\\"-0.7\\\",\\\"-0.6\\\",\\\"-0.5\\\",\\\"-0.4\\\",\\\"-0.3\\\",\\\"-0.2\\\",\\\"-0.1\\\",\\\"0.0\\\",\\\"0.1\\\",\\\"0.2\\\",\\\"0.3\\\",\\\"0.4\\\",\\\"0.5\\\",\\\"0.6\\\",\\\"0.7\\\",\\\"0.8\\\",\\\"0.9\\\",\\\"1.0\\\",\\\"1.1\\\",\\\"1.2\\\",\\\"1.3\\\",\\\"1.4\\\",\\\"1.5\\\",\\\"1.6\\\",\\\"1.7\\\",\\\"1.8\\\",\\\"1.9\\\",\\\"2.0\\\",\\\"2.1\\\",\\\"2.2\\\",\\\"2.3\\\",\\\"2.4\\\",\\\"2.5\\\",\\\"2.6\\\",\\\"2.7\\\",\\\"2.8\\\",\\\"2.9\\\",\\\"3.0\\\",\\\"3.1\\\",\\\"3.2\\\",\\\"3.3\\\",\\\"3.4\\\",\\\"3.5\\\",\\\"3.6\\\",\\\"3.7\\\",\\\"3.8\\\",\\\"3.9\\\",\\\"4.0\\\",\\\"4.1\\\",\\\"4.2\\\",\\\"4.3\\\",\\\"4.4\\\",\\\"4.5\\\",\\\"4.6\\\",\\\"4.7\\\",\\\"4.8\\\",\\\"4.9\\\",\\\"5.0\\\"],\\\"changes\\\":WebIO.getval({\\\"name\\\":\\\"changes\\\",\\\"scope\\\":\\\"15268149055875444646\\\",\\\"id\\\":\\\"ob_24\\\",\\\"type\\\":\\\"observable\\\"}),\\\"index\\\":WebIO.getval({\\\"name\\\":\\\"index\\\",\\\"scope\\\":\\\"15268149055875444646\\\",\\\"id\\\":\\\"ob_23\\\",\\\"type\\\":\\\"observable\\\"})};\\n    var self = this;\\n    function AppViewModel() {\\n        for (var key in json_data) {\\n            var el = json_data[key];\\n            this[key] = Array.isArray(el) ? ko.observableArray(el) : ko.observable(el);\\n        }\\n        \\n        [this[\\\"formatted_val\\\"]=ko.computed(    function(){\\n        return this.formatted_vals()[parseInt(this.index())-(1)];\\n    }\\n,this)]\\n        [this[\\\"changes\\\"].subscribe((function (val){!(this.valueFromJulia[\\\"changes\\\"]) ? (WebIO.setval({\\\"name\\\":\\\"changes\\\",\\\"scope\\\":\\\"15268149055875444646\\\",\\\"id\\\":\\\"ob_24\\\",\\\"type\\\":\\\"observable\\\"},val)) : undefined; return this.valueFromJulia[\\\"changes\\\"]=false}),self),this[\\\"index\\\"].subscribe((function (val){!(this.valueFromJulia[\\\"index\\\"]) ? (WebIO.setval({\\\"name\\\":\\\"index\\\",\\\"scope\\\":\\\"15268149055875444646\\\",\\\"id\\\":\\\"ob_23\\\",\\\"type\\\":\\\"observable\\\"},val)) : undefined; return this.valueFromJulia[\\\"index\\\"]=false}),self)]\\n        \\n    }\\n    self.model = new AppViewModel();\\n    self.valueFromJulia = {};\\n    for (var key in json_data) {\\n        self.valueFromJulia[key] = false;\\n    }\\n    ko.applyBindings(self.model, self.dom);\\n}\\n);\\n    (WebIO.importBlock({\\\"data\\\":[{\\\"name\\\":\\\"knockout\\\",\\\"type\\\":\\\"js\\\",\\\"url\\\":\\\"/assetserver/5bbdbbb0b09c5b1b887ee10da5f86cd1febbf135-knockout.js\\\"},{\\\"name\\\":\\\"knockout_punches\\\",\\\"type\\\":\\\"js\\\",\\\"url\\\":\\\"/assetserver/15065e2dd05fe2b7d23387469481615adcbf22a9-knockout_punches.js\\\"}],\\\"type\\\":\\\"async_block\\\"})).then((imports) => handler.apply(this, imports));\\n}\\n\")])], Dict{Symbol,Any}(:className => \"field interact-widget\")), Node{WebIO.DOM}(WebIO.DOM(:html, :div), Any[Scope(Node{WebIO.DOM}(WebIO.DOM(:html, :div), Any[Node{WebIO.DOM}(WebIO.DOM(:html, :div), Any[Node{WebIO.DOM}(WebIO.DOM(:html, :label), Any[\"noise\"], Dict{Symbol,Any}(:className => \"interact \",:style => Dict{Any,Any}(:padding => \"5px 10px 0px 10px\")))], Dict{Symbol,Any}(:className => \"interact-flex-row-left\")), Node{WebIO.DOM}(WebIO.DOM(:html, :div), Any[Node{WebIO.DOM}(WebIO.DOM(:html, :input), Any[], Dict{Symbol,Any}(:max => 31,:min => 1,:attributes => Dict{Any,Any}(:type => \"range\",Symbol(\"data-bind\") => \"numericValue: index, valueUpdate: 'input', event: {change: function (){this.changes(this.changes()+1)}}\",\"orient\" => \"horizontal\"),:step => 1,:className => \"slider slider is-fullwidth\",:style => Dict{Any,Any}()))], Dict{Symbol,Any}(:className => \"interact-flex-row-center\")), Node{WebIO.DOM}(WebIO.DOM(:html, :div), Any[Node{WebIO.DOM}(WebIO.DOM(:html, :p), Any[], Dict{Symbol,Any}(:attributes => Dict(\"data-bind\" => \"text: formatted_val\")))], Dict{Symbol,Any}(:className => \"interact-flex-row-right\"))], Dict{Symbol,Any}(:className => \"interact-flex-row interact-widget\")), Dict{String,Tuple{Observables.AbstractObservable,Union{Nothing, Bool}}}(\"changes\" => (Observable{Int64} with 1 listeners. Value:\n",
       "0, nothing),\"index\" => (Observable{Any} with 2 listeners. Value:\n",
       "16, nothing)), Set(String[]), nothing, Asset[Asset(\"js\", \"knockout\", \"/home/miguel/.julia/packages/Knockout/1sDlc/src/../assets/knockout.js\"), Asset(\"js\", \"knockout_punches\", \"/home/miguel/.julia/packages/Knockout/1sDlc/src/../assets/knockout_punches.js\"), Asset(\"js\", nothing, \"/home/miguel/.julia/packages/InteractBase/9mFwe/src/../assets/all.js\"), Asset(\"css\", nothing, \"/home/miguel/.julia/packages/InteractBase/9mFwe/src/../assets/style.css\"), Asset(\"css\", nothing, \"/home/miguel/.julia/packages/Interact/SbgIk/src/../assets/bulma_confined.min.css\")], Dict{Any,Any}(\"changes\" => Any[WebIO.JSString(\"(function (val){return (val!=this.model[\\\"changes\\\"]()) ? (this.valueFromJulia[\\\"changes\\\"]=true, this.model[\\\"changes\\\"](val)) : undefined})\")],\"index\" => Any[WebIO.JSString(\"(function (val){return (val!=this.model[\\\"index\\\"]()) ? (this.valueFromJulia[\\\"index\\\"]=true, this.model[\\\"index\\\"](val)) : undefined})\")]), WebIO.ConnectionPool(Channel{Any}(sz_max:32,sz_curr:0), Set(AbstractConnection[]), Base.GenericCondition{Base.AlwaysLockedST}(Base.InvasiveLinkedList{Task}(Task (runnable) @0x00007fd5cfe5e710, Task (runnable) @0x00007fd5cfe5e710), Base.AlwaysLockedST(1))), WebIO.JSString[WebIO.JSString(\"function () {\\n    var handler = (function (ko, koPunches) {\\n    ko.punches.enableAll();\\n    ko.bindingHandlers.numericValue = {\\n        init: function(element, valueAccessor, allBindings, data, context) {\\n            var stringified = ko.observable(ko.unwrap(valueAccessor()));\\n            stringified.subscribe(function(value) {\\n                var val = parseFloat(value);\\n                if (!isNaN(val)) {\\n                    valueAccessor()(val);\\n                }\\n            });\\n            valueAccessor().subscribe(function(value) {\\n                var str = JSON.stringify(value);\\n                if ((str == \\\"0\\\") && ([\\\"-0\\\", \\\"-0.\\\"].indexOf(stringified()) >= 0))\\n                     return;\\n                 if ([\\\"null\\\", \\\"\\\"].indexOf(str) >= 0)\\n                     return;\\n                stringified(str);\\n            });\\n            ko.applyBindingsToNode(\\n                element,\\n                {\\n                    value: stringified,\\n                    valueUpdate: allBindings.get('valueUpdate'),\\n                },\\n                context,\\n            );\\n        }\\n    };\\n    var json_data = {\\\"formatted_vals\\\":[\\\"0.0\\\",\\\"0.1\\\",\\\"0.2\\\",\\\"0.3\\\",\\\"0.4\\\",\\\"0.5\\\",\\\"0.6\\\",\\\"0.7\\\",\\\"0.8\\\",\\\"0.9\\\",\\\"1.0\\\",\\\"1.1\\\",\\\"1.2\\\",\\\"1.3\\\",\\\"1.4\\\",\\\"1.5\\\",\\\"1.6\\\",\\\"1.7\\\",\\\"1.8\\\",\\\"1.9\\\",\\\"2.0\\\",\\\"2.1\\\",\\\"2.2\\\",\\\"2.3\\\",\\\"2.4\\\",\\\"2.5\\\",\\\"2.6\\\",\\\"2.7\\\",\\\"2.8\\\",\\\"2.9\\\",\\\"3.0\\\"],\\\"changes\\\":WebIO.getval({\\\"name\\\":\\\"changes\\\",\\\"scope\\\":\\\"5110547382442089181\\\",\\\"id\\\":\\\"ob_27\\\",\\\"type\\\":\\\"observable\\\"}),\\\"index\\\":WebIO.getval({\\\"name\\\":\\\"index\\\",\\\"scope\\\":\\\"5110547382442089181\\\",\\\"id\\\":\\\"ob_26\\\",\\\"type\\\":\\\"observable\\\"})};\\n    var self = this;\\n    function AppViewModel() {\\n        for (var key in json_data) {\\n            var el = json_data[key];\\n            this[key] = Array.isArray(el) ? ko.observableArray(el) : ko.observable(el);\\n        }\\n        \\n        [this[\\\"formatted_val\\\"]=ko.computed(    function(){\\n        return this.formatted_vals()[parseInt(this.index())-(1)];\\n    }\\n,this)]\\n        [this[\\\"changes\\\"].subscribe((function (val){!(this.valueFromJulia[\\\"changes\\\"]) ? (WebIO.setval({\\\"name\\\":\\\"changes\\\",\\\"scope\\\":\\\"5110547382442089181\\\",\\\"id\\\":\\\"ob_27\\\",\\\"type\\\":\\\"observable\\\"},val)) : undefined; return this.valueFromJulia[\\\"changes\\\"]=false}),self),this[\\\"index\\\"].subscribe((function (val){!(this.valueFromJulia[\\\"index\\\"]) ? (WebIO.setval({\\\"name\\\":\\\"index\\\",\\\"scope\\\":\\\"5110547382442089181\\\",\\\"id\\\":\\\"ob_26\\\",\\\"type\\\":\\\"observable\\\"},val)) : undefined; return this.valueFromJulia[\\\"index\\\"]=false}),self)]\\n        \\n    }\\n    self.model = new AppViewModel();\\n    self.valueFromJulia = {};\\n    for (var key in json_data) {\\n        self.valueFromJulia[key] = false;\\n    }\\n    ko.applyBindings(self.model, self.dom);\\n}\\n);\\n    (WebIO.importBlock({\\\"data\\\":[{\\\"name\\\":\\\"knockout\\\",\\\"type\\\":\\\"js\\\",\\\"url\\\":\\\"/assetserver/5bbdbbb0b09c5b1b887ee10da5f86cd1febbf135-knockout.js\\\"},{\\\"name\\\":\\\"knockout_punches\\\",\\\"type\\\":\\\"js\\\",\\\"url\\\":\\\"/assetserver/15065e2dd05fe2b7d23387469481615adcbf22a9-knockout_punches.js\\\"}],\\\"type\\\":\\\"async_block\\\"})).then((imports) => handler.apply(this, imports));\\n}\\n\")])], Dict{Symbol,Any}(:className => \"field interact-widget\")), Observable{Any} with 0 listeners. Value:\n",
       "Node{WebIO.DOM}(WebIO.DOM(:html, :div), Any[Gaston.Figure(1, Gaston.TermConf(\"Arial,12\", \"640,384\", \"1\", \"white\"), Gaston.PrintConf(\"\", \"\", \"\", \"\", \"\", \"\"), Gaston.AxesConf(\"Correlator output = -0.6046163923196948\", \"\", \"\", \"\", \"\", \"\", \"\", \"\", \"\", \"\", \"[-4:4]\", \"\", \"\", \"\", \"\", \"\"), Gaston.Curve[Gaston.Curve(-0.1:0.005:4.1, [0.0, 0.0, 0.0, 0.0, 0.0, 0.0, 0.0, 0.0, 0.0, 0.0  …  0.0, 0.0, 0.0, 0.0, 0.0, 0.0, 0.0, 0.0, 0.0, 0.0], Real[], Gaston.FinancialCoords(false, Real[], Real[], Real[], Real[]), Gaston.ErrorCoords(false, Real[], Real[]), Gaston.CurveConf(\"\", \"\", \"\", \"1\", \"\", \"\", \"\", \"\", \"\")), Gaston.Curve(-0.1:0.005:4.1, [0.2743743628787208, -3.4159874421828853, 0.5288268801865232, -2.1576357275555558, 3.984095150082647, 0.8117519549486741, 3.066136431296249, -0.8369345036734832, -0.5877139518779892, 1.7664999606893632  …  -0.14521365717391285, -0.8954364268288355, 0.10473584907323687, 3.3884109732489422, 2.3613837651822775, -0.8150687642984252, -0.5309356107956626, 1.012381150529911, -1.5582118676041696, 0.23253614883026497], Real[], Gaston.FinancialCoords(false, Real[], Real[], Real[], Real[]), Gaston.ErrorCoords(false, Real[], Real[]), Gaston.CurveConf(\"\", \"\", \"\", \"1\", \"\", \"\", \"\", \"\", \"\")), Gaston.Curve(-0.1:0.005:4.1, [0.0, -0.0, 0.0, -0.0, 0.0, 0.0, 0.0, -0.0, -0.0, 0.0  …  -0.0, -0.0, 0.0, 0.0, 0.0, -0.0, -0.0, 0.0, -0.0, 0.0], Real[], Gaston.FinancialCoords(false, Real[], Real[], Real[], Real[]), Gaston.ErrorCoords(false, Real[], Real[]), Gaston.CurveConf(\"\", \"\", \"\", \"1\", \"\", \"\", \"\", \"\", \"\"))], \"\", \"\")], Dict{Symbol,Any}(:className => \"interact-flex-row interact-widget\"))], Dict{Symbol,Any}())"
      ]
     },
     "execution_count": 10,
     "metadata": {
      "application/vnd.webio.node+json": {
       "kernelId": "c5be8486-01f0-4809-9ce2-821169f05046"
      }
     },
     "output_type": "execute_result"
    }
   ],
   "source": [
    "noise = randn(length(s))\n",
    "mp = @manipulate for delay in slider(-1.0:0.1:5.0,label=\"delay\"), np in slider(0:0.1:3,label=\"noise\")\n",
    "    global sn = s .+ np*noise\n",
    "    dbp = p.(t.-delay)\n",
    "    xc = dbp.*sn\n",
    "    co = sum(xc)*Δt\n",
    "    plot(t,dbp,title = \"Correlator output = $co\", yrange=\"[-4:4]\")\n",
    "    plot!(t,sn)\n",
    "    plot!(t,xc)\n",
    "end"
   ]
  },
  {
   "cell_type": "markdown",
   "metadata": {},
   "source": [
    "The following plot shows the output of the correlator as the base pulse slides over it (which corresponds to the output of a matched filter). Notice the apparent absence of noise, which is filtered out by the correlator. As long as the noise is not too large, you should be able to see four peaks with amplitudes close to $+0.5$ or $-0.5$, which correspond to the transmitted data. This, despite the fact that the pulses might be completely obscured by the noise and undetectable to the naked eye."
   ]
  },
  {
   "cell_type": "code",
   "execution_count": 11,
   "metadata": {},
   "outputs": [
    {
     "data": {
      "image/svg+xml": [
       "<?xml version=\"1.0\" encoding=\"utf-8\"  standalone=\"no\"?>\n",
       "<svg \n",
       " width=\"640\" height=\"384\"\n",
       " viewBox=\"0 0 640 384\"\n",
       " xmlns=\"http://www.w3.org/2000/svg\"\n",
       " xmlns:xlink=\"http://www.w3.org/1999/xlink\"\n",
       ">\n",
       "\n",
       "<title>Gnuplot</title>\n",
       "<desc>Produced by GNUPLOT 5.2 patchlevel 8 </desc>\n",
       "\n",
       "<g id=\"gnuplot_canvas\">\n",
       "\n",
       "<rect x=\"0\" y=\"0\" width=\"640\" height=\"384\" fill=\"#ffffff\"/>\n",
       "<defs>\n",
       "\n",
       "\t<circle id='gpDot' r='0.5' stroke-width='0.5' stroke='currentColor'/>\n",
       "\t<path id='gpPt0' stroke-width='0.222' stroke='currentColor' d='M-1,0 h2 M0,-1 v2'/>\n",
       "\t<path id='gpPt1' stroke-width='0.222' stroke='currentColor' d='M-1,-1 L1,1 M1,-1 L-1,1'/>\n",
       "\t<path id='gpPt2' stroke-width='0.222' stroke='currentColor' d='M-1,0 L1,0 M0,-1 L0,1 M-1,-1 L1,1 M-1,1 L1,-1'/>\n",
       "\t<rect id='gpPt3' stroke-width='0.222' stroke='currentColor' x='-1' y='-1' width='2' height='2'/>\n",
       "\t<rect id='gpPt4' stroke-width='0.222' stroke='currentColor' fill='currentColor' x='-1' y='-1' width='2' height='2'/>\n",
       "\t<circle id='gpPt5' stroke-width='0.222' stroke='currentColor' cx='0' cy='0' r='1'/>\n",
       "\t<use xlink:href='#gpPt5' id='gpPt6' fill='currentColor' stroke='none'/>\n",
       "\t<path id='gpPt7' stroke-width='0.222' stroke='currentColor' d='M0,-1.33 L-1.33,0.67 L1.33,0.67 z'/>\n",
       "\t<use xlink:href='#gpPt7' id='gpPt8' fill='currentColor' stroke='none'/>\n",
       "\t<use xlink:href='#gpPt7' id='gpPt9' stroke='currentColor' transform='rotate(180)'/>\n",
       "\t<use xlink:href='#gpPt9' id='gpPt10' fill='currentColor' stroke='none'/>\n",
       "\t<use xlink:href='#gpPt3' id='gpPt11' stroke='currentColor' transform='rotate(45)'/>\n",
       "\t<use xlink:href='#gpPt11' id='gpPt12' fill='currentColor' stroke='none'/>\n",
       "\t<path id='gpPt13' stroke-width='0.222' stroke='currentColor' d='M0,1.330 L1.265,0.411 L0.782,-1.067 L-0.782,-1.076 L-1.265,0.411 z'/>\n",
       "\t<use xlink:href='#gpPt13' id='gpPt14' fill='currentColor' stroke='none'/>\n",
       "\t<filter id='textbox' filterUnits='objectBoundingBox' x='0' y='0' height='1' width='1'>\n",
       "\t  <feFlood flood-color='#FFFFFF' flood-opacity='1' result='bgnd'/>\n",
       "\t  <feComposite in='SourceGraphic' in2='bgnd' operator='atop'/>\n",
       "\t</filter>\n",
       "\t<filter id='greybox' filterUnits='objectBoundingBox' x='0' y='0' height='1' width='1'>\n",
       "\t  <feFlood flood-color='lightgrey' flood-opacity='1' result='grey'/>\n",
       "\t  <feComposite in='SourceGraphic' in2='grey' operator='atop'/>\n",
       "\t</filter>\n",
       "</defs>\n",
       "<g fill=\"none\" color=\"#FFFFFF\" stroke=\"black\" stroke-width=\"1.00\" stroke-linecap=\"butt\" stroke-linejoin=\"miter\">\n",
       "</g>\n",
       "<g fill=\"none\" color=\"black\" stroke=\"currentColor\" stroke-width=\"1.00\" stroke-linecap=\"butt\" stroke-linejoin=\"miter\">\n",
       "\t<path stroke='black'  d='M53.9,325.0 L62.9,325.0 M615.0,325.0 L606.0,325.0  '/>\t<g transform=\"translate(45.6,328.9)\" stroke=\"none\" fill=\"black\" font-family=\"Arial\" font-size=\"12.00\"  text-anchor=\"end\">\n",
       "\t\t<text><tspan font-family=\"Arial\" >-0.6</tspan></text>\n",
       "\t</g>\n",
       "</g>\n",
       "<g fill=\"none\" color=\"black\" stroke=\"currentColor\" stroke-width=\"1.00\" stroke-linecap=\"butt\" stroke-linejoin=\"miter\">\n",
       "\t<path stroke='black'  d='M53.9,283.4 L62.9,283.4 M615.0,283.4 L606.0,283.4  '/>\t<g transform=\"translate(45.6,287.3)\" stroke=\"none\" fill=\"black\" font-family=\"Arial\" font-size=\"12.00\"  text-anchor=\"end\">\n",
       "\t\t<text><tspan font-family=\"Arial\" >-0.4</tspan></text>\n",
       "\t</g>\n",
       "</g>\n",
       "<g fill=\"none\" color=\"black\" stroke=\"currentColor\" stroke-width=\"1.00\" stroke-linecap=\"butt\" stroke-linejoin=\"miter\">\n",
       "\t<path stroke='black'  d='M53.9,241.9 L62.9,241.9 M615.0,241.9 L606.0,241.9  '/>\t<g transform=\"translate(45.6,245.8)\" stroke=\"none\" fill=\"black\" font-family=\"Arial\" font-size=\"12.00\"  text-anchor=\"end\">\n",
       "\t\t<text><tspan font-family=\"Arial\" >-0.2</tspan></text>\n",
       "\t</g>\n",
       "</g>\n",
       "<g fill=\"none\" color=\"black\" stroke=\"currentColor\" stroke-width=\"1.00\" stroke-linecap=\"butt\" stroke-linejoin=\"miter\">\n",
       "\t<path stroke='black'  d='M53.9,200.3 L62.9,200.3 M615.0,200.3 L606.0,200.3  '/>\t<g transform=\"translate(45.6,204.2)\" stroke=\"none\" fill=\"black\" font-family=\"Arial\" font-size=\"12.00\"  text-anchor=\"end\">\n",
       "\t\t<text><tspan font-family=\"Arial\" > 0</tspan></text>\n",
       "\t</g>\n",
       "</g>\n",
       "<g fill=\"none\" color=\"black\" stroke=\"currentColor\" stroke-width=\"1.00\" stroke-linecap=\"butt\" stroke-linejoin=\"miter\">\n",
       "\t<path stroke='black'  d='M53.9,158.8 L62.9,158.8 M615.0,158.8 L606.0,158.8  '/>\t<g transform=\"translate(45.6,162.7)\" stroke=\"none\" fill=\"black\" font-family=\"Arial\" font-size=\"12.00\"  text-anchor=\"end\">\n",
       "\t\t<text><tspan font-family=\"Arial\" > 0.2</tspan></text>\n",
       "\t</g>\n",
       "</g>\n",
       "<g fill=\"none\" color=\"black\" stroke=\"currentColor\" stroke-width=\"1.00\" stroke-linecap=\"butt\" stroke-linejoin=\"miter\">\n",
       "\t<path stroke='black'  d='M53.9,117.2 L62.9,117.2 M615.0,117.2 L606.0,117.2  '/>\t<g transform=\"translate(45.6,121.1)\" stroke=\"none\" fill=\"black\" font-family=\"Arial\" font-size=\"12.00\"  text-anchor=\"end\">\n",
       "\t\t<text><tspan font-family=\"Arial\" > 0.4</tspan></text>\n",
       "\t</g>\n",
       "</g>\n",
       "<g fill=\"none\" color=\"black\" stroke=\"currentColor\" stroke-width=\"1.00\" stroke-linecap=\"butt\" stroke-linejoin=\"miter\">\n",
       "\t<path stroke='black'  d='M53.9,75.7 L62.9,75.7 M615.0,75.7 L606.0,75.7  '/>\t<g transform=\"translate(45.6,79.6)\" stroke=\"none\" fill=\"black\" font-family=\"Arial\" font-size=\"12.00\"  text-anchor=\"end\">\n",
       "\t\t<text><tspan font-family=\"Arial\" > 0.6</tspan></text>\n",
       "\t</g>\n",
       "</g>\n",
       "<g fill=\"none\" color=\"black\" stroke=\"currentColor\" stroke-width=\"1.00\" stroke-linecap=\"butt\" stroke-linejoin=\"miter\">\n",
       "\t<path stroke='black'  d='M70.9,348.0 L70.9,339.0 M70.9,54.1 L70.9,63.1  '/>\t<g transform=\"translate(70.9,369.9)\" stroke=\"none\" fill=\"black\" font-family=\"Arial\" font-size=\"12.00\"  text-anchor=\"middle\">\n",
       "\t\t<text><tspan font-family=\"Arial\" > 0</tspan></text>\n",
       "\t</g>\n",
       "</g>\n",
       "<g fill=\"none\" color=\"black\" stroke=\"currentColor\" stroke-width=\"1.00\" stroke-linecap=\"butt\" stroke-linejoin=\"miter\">\n",
       "\t<path stroke='black'  d='M155.9,348.0 L155.9,339.0 M155.9,54.1 L155.9,63.1  '/>\t<g transform=\"translate(155.9,369.9)\" stroke=\"none\" fill=\"black\" font-family=\"Arial\" font-size=\"12.00\"  text-anchor=\"middle\">\n",
       "\t\t<text><tspan font-family=\"Arial\" > 10</tspan></text>\n",
       "\t</g>\n",
       "</g>\n",
       "<g fill=\"none\" color=\"black\" stroke=\"currentColor\" stroke-width=\"1.00\" stroke-linecap=\"butt\" stroke-linejoin=\"miter\">\n",
       "\t<path stroke='black'  d='M240.9,348.0 L240.9,339.0 M240.9,54.1 L240.9,63.1  '/>\t<g transform=\"translate(240.9,369.9)\" stroke=\"none\" fill=\"black\" font-family=\"Arial\" font-size=\"12.00\"  text-anchor=\"middle\">\n",
       "\t\t<text><tspan font-family=\"Arial\" > 20</tspan></text>\n",
       "\t</g>\n",
       "</g>\n",
       "<g fill=\"none\" color=\"black\" stroke=\"currentColor\" stroke-width=\"1.00\" stroke-linecap=\"butt\" stroke-linejoin=\"miter\">\n",
       "\t<path stroke='black'  d='M325.9,348.0 L325.9,339.0 M325.9,54.1 L325.9,63.1  '/>\t<g transform=\"translate(325.9,369.9)\" stroke=\"none\" fill=\"black\" font-family=\"Arial\" font-size=\"12.00\"  text-anchor=\"middle\">\n",
       "\t\t<text><tspan font-family=\"Arial\" > 30</tspan></text>\n",
       "\t</g>\n",
       "</g>\n",
       "<g fill=\"none\" color=\"black\" stroke=\"currentColor\" stroke-width=\"1.00\" stroke-linecap=\"butt\" stroke-linejoin=\"miter\">\n",
       "\t<path stroke='black'  d='M411.0,348.0 L411.0,339.0 M411.0,54.1 L411.0,63.1  '/>\t<g transform=\"translate(411.0,369.9)\" stroke=\"none\" fill=\"black\" font-family=\"Arial\" font-size=\"12.00\"  text-anchor=\"middle\">\n",
       "\t\t<text><tspan font-family=\"Arial\" > 40</tspan></text>\n",
       "\t</g>\n",
       "</g>\n",
       "<g fill=\"none\" color=\"black\" stroke=\"currentColor\" stroke-width=\"1.00\" stroke-linecap=\"butt\" stroke-linejoin=\"miter\">\n",
       "\t<path stroke='black'  d='M496.0,348.0 L496.0,339.0 M496.0,54.1 L496.0,63.1  '/>\t<g transform=\"translate(496.0,369.9)\" stroke=\"none\" fill=\"black\" font-family=\"Arial\" font-size=\"12.00\"  text-anchor=\"middle\">\n",
       "\t\t<text><tspan font-family=\"Arial\" > 50</tspan></text>\n",
       "\t</g>\n",
       "</g>\n",
       "<g fill=\"none\" color=\"black\" stroke=\"currentColor\" stroke-width=\"1.00\" stroke-linecap=\"butt\" stroke-linejoin=\"miter\">\n",
       "\t<path stroke='black'  d='M581.0,348.0 L581.0,339.0 M581.0,54.1 L581.0,63.1  '/>\t<g transform=\"translate(581.0,369.9)\" stroke=\"none\" fill=\"black\" font-family=\"Arial\" font-size=\"12.00\"  text-anchor=\"middle\">\n",
       "\t\t<text><tspan font-family=\"Arial\" > 60</tspan></text>\n",
       "\t</g>\n",
       "</g>\n",
       "<g fill=\"none\" color=\"black\" stroke=\"currentColor\" stroke-width=\"1.00\" stroke-linecap=\"butt\" stroke-linejoin=\"miter\">\n",
       "</g>\n",
       "<g fill=\"none\" color=\"black\" stroke=\"currentColor\" stroke-width=\"1.00\" stroke-linecap=\"butt\" stroke-linejoin=\"miter\">\n",
       "\t<path stroke='black'  d='M53.9,54.1 L53.9,348.0 L615.0,348.0 L615.0,54.1 L53.9,54.1 Z  '/></g>\n",
       "<g fill=\"none\" color=\"black\" stroke=\"currentColor\" stroke-width=\"1.00\" stroke-linecap=\"butt\" stroke-linejoin=\"miter\">\n",
       "\t<g transform=\"translate(334.4,31.0)\" stroke=\"none\" fill=\"black\" font-family=\"Arial\" font-size=\"12.00\"  text-anchor=\"middle\">\n",
       "\t\t<text><tspan font-family=\"Arial\" >Matched filter output</tspan></text>\n",
       "\t</g>\n",
       "</g>\n",
       "<g fill=\"none\" color=\"black\" stroke=\"currentColor\" stroke-width=\"1.00\" stroke-linecap=\"butt\" stroke-linejoin=\"miter\">\n",
       "</g>\n",
       "\t<g id=\"gnuplot_plot_1\" ><title>gnuplot_plot_1</title>\n",
       "<g fill=\"none\" color=\"black\" stroke=\"currentColor\" stroke-width=\"1.00\" stroke-linecap=\"butt\" stroke-linejoin=\"miter\">\n",
       "\t<path stroke='rgb( 55,  60, 255)'  d='M79.4,200.4 L87.9,201.2 L96.4,202.1 L104.9,197.5 L113.4,185.4 L121.9,164.6 L130.4,135.6 L138.9,105.1\n",
       "\t\tL147.4,81.3 L155.9,67.5 L164.4,67.7 L172.9,84.6 L181.4,110.5 L189.9,140.4 L198.4,167.2 L206.9,182.2\n",
       "\t\tL215.4,182.9 L223.9,169.1 L232.4,146.9 L240.9,126.9 L249.4,114.7 L257.9,112.0 L266.4,121.0 L274.9,137.5\n",
       "\t\tL283.4,154.0 L291.9,173.7 L300.4,202.2 L308.9,239.8 L317.4,281.3 L325.9,315.3 L334.5,334.6 L343.0,334.1\n",
       "\t\tL351.5,316.9 L360.0,293.3 L368.5,272.9 L377.0,257.5 L385.5,240.6 L394.0,215.8 L402.5,180.9 L411.0,146.9\n",
       "\t\tL419.5,123.8 L428.0,119.5 L436.5,131.6 L445.0,152.5 L453.5,174.3 L462.0,189.1 L470.5,195.2 L479.0,196.1\n",
       "\t\tL487.5,196.3 L496.0,197.6 L504.5,199.8 L513.0,200.3 L521.5,200.3 L530.0,200.3 L538.5,200.3 L547.0,200.3\n",
       "\t\tL555.5,200.3 L564.0,200.3 L572.5,200.3 L581.0,200.3 L589.5,200.3  '/></g>\n",
       "\t</g>\n",
       "<g fill=\"none\" color=\"#FFFFFF\" stroke=\"rgb( 55,  60, 255)\" stroke-width=\"2.00\" stroke-linecap=\"butt\" stroke-linejoin=\"miter\">\n",
       "</g>\n",
       "<g fill=\"none\" color=\"black\" stroke=\"currentColor\" stroke-width=\"2.00\" stroke-linecap=\"butt\" stroke-linejoin=\"miter\">\n",
       "</g>\n",
       "<g fill=\"none\" color=\"black\" stroke=\"black\" stroke-width=\"1.00\" stroke-linecap=\"butt\" stroke-linejoin=\"miter\">\n",
       "</g>\n",
       "<g fill=\"none\" color=\"black\" stroke=\"currentColor\" stroke-width=\"1.00\" stroke-linecap=\"butt\" stroke-linejoin=\"miter\">\n",
       "\t<path stroke='black'  d='M53.9,54.1 L53.9,348.0 L615.0,348.0 L615.0,54.1 L53.9,54.1 Z  '/></g>\n",
       "<g fill=\"none\" color=\"black\" stroke=\"currentColor\" stroke-width=\"1.00\" stroke-linecap=\"butt\" stroke-linejoin=\"miter\">\n",
       "</g>\n",
       "</g>\n",
       "</svg>\n",
       "\n"
      ],
      "text/plain": []
     },
     "execution_count": 11,
     "metadata": {},
     "output_type": "execute_result"
    }
   ],
   "source": [
    "delay = -1.0:0.1:5.0\n",
    "mf = similar(delay)\n",
    "for (i,d) in enumerate(delay)\n",
    "    mf[i] = sum(p.(t.-d).*sn)*Δt\n",
    "end\n",
    "plot(mf,title=\"Matched filter output\")"
   ]
  },
  {
   "cell_type": "markdown",
   "metadata": {},
   "source": [
    "That's all, folks!"
   ]
  }
 ],
 "metadata": {
  "@webio": {
   "lastCommId": "f3c4dafda1d4445f82f63a88971b6713",
   "lastKernelId": "c5be8486-01f0-4809-9ce2-821169f05046"
  },
  "kernelspec": {
   "display_name": "Julia 1.3.1",
   "language": "julia",
   "name": "julia-1.3"
  },
  "language_info": {
   "file_extension": ".jl",
   "mimetype": "application/julia",
   "name": "julia",
   "version": "1.3.1"
  }
 },
 "nbformat": 4,
 "nbformat_minor": 2
}
